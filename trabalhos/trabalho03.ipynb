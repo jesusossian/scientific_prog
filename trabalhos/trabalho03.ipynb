{
 "cells": [
  {
   "cell_type": "markdown",
   "metadata": {},
   "source": [
    "# Trabalho 3 - Networkx"
   ]
  },
  {
   "cell_type": "markdown",
   "metadata": {},
   "source": [
    "Calcule as seguinte informações para a rede atribuida a você.\n",
    "\n",
    "1. Calcule o número de nós e arestas da rede.\n",
    "2. Gere o gráfico da rede\n",
    "3. Calcule a densidade da rede.\n",
    "4. Calcule o diametro da rede.\n",
    "5. Calcule a frequência de ocorrência de graus na rede.\n",
    "6. Calcule o coeficiente de agrupamento total da rede.\n",
    "7. Calcule o grau de centralidade de cada nó da rede e gere um gráfico mostrando essas informações.\n",
    "8. Calcule a excentricidade de cada nó da rede e gere um gráfico mostrando essas informações.\n",
    "9. Calcule a centralidade de proximidade de cada nó da rede e gere um gráfico mostrando essas informações.\n",
    "10. Quais suas observações de acordo com os cálculos da medidas?"
   ]
  },
  {
   "cell_type": "markdown",
   "metadata": {},
   "source": [
    "Execute experimentos computacionais utilizando redes de acordo com o emparelhamento aluno-instâncias a seguir:\n",
    "\n",
    "- ALISON DOS SANTOS LIMA: \n",
    "- GEOVANI MESSIAS DA SILVA: \n",
    "- JOÃO MÁRIO BERNARDO DE ALMEIDA: \n",
    "- MARCELO GOMES FOSSILE: \n",
    "- MARCIO JERLISON DA SILVA SALES: \n",
    "- MARIA MAILANE VIEIRA DA SILVA: \n",
    "- MATHEUS LOPES DO NASCIMENTO: "
   ]
  },
  {
   "cell_type": "markdown",
   "metadata": {},
   "source": [
    "\n"
   ]
  }
 ],
 "metadata": {
  "language_info": {
   "name": "python"
  }
 },
 "nbformat": 4,
 "nbformat_minor": 2
}
