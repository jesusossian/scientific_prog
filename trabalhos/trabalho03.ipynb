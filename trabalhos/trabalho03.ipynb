{
 "cells": [
  {
   "cell_type": "markdown",
   "metadata": {},
   "source": [
    "# Trabalho 3 - Networkx"
   ]
  },
  {
   "cell_type": "markdown",
   "metadata": {},
   "source": [
    "**Questão 1:** Calcule as seguinte informações para a rede atribuida a você.\n",
    "\n",
    "1. Calcule o número de nós e arestas da rede.\n",
    "2. Gere o gráfico da rede\n",
    "3. Calcule a densidade da rede.\n",
    "4. Calcule o diametro da rede.\n",
    "5. Calcule a frequência de ocorrência de graus na rede.\n",
    "6. Calcule o coeficiente de agrupamento total da rede.\n",
    "7. Calcule o grau de centralidade de cada nó da rede e gere um gráfico mostrando essas informações.\n",
    "8. Calcule a excentricidade de cada nó da rede e gere um gráfico mostrando essas informações.\n",
    "9. Calcule a centralidade de proximidade de cada nó da rede e gere um gráfico mostrando essas informações.\n",
    "10. Quais suas observações de acordo com os cálculos da medidas?"
   ]
  },
  {
   "cell_type": "markdown",
   "metadata": {},
   "source": [
    "Utilize a rede de acordo com o emparelhamento aluno-instâncias a seguir para executar os experimentos da questão 1:\n",
    "\n",
    "- ALISON DOS SANTOS LIMA: internet_500_1.gml.gz\n",
    "- GEOVANI MESSIAS DA SILVA: internet_500_2.gml.gz\n",
    "- JOÃO MÁRIO BERNARDO DE ALMEIDA: internet_500_3.gml.gz\n",
    "- MARCELO GOMES FOSSILE: internet_500_4.gml.gz\n",
    "- MARCIO JERLISON DA SILVA SALES: internet_500_5.gml.gz\n",
    "- MARIA MAILANE VIEIRA DA SILVA: internet_500_6.gml.gz\n",
    "- MATHEUS LOPES DO NASCIMENTO: internet_500_7.gml.gz\n",
    "\n",
    "Link dos arquivos das instâncias: https://github.com/jesusossian/scientific_prog/tree/main/data/internet"
   ]
  },
  {
   "cell_type": "markdown",
   "metadata": {},
   "source": [
    "Utilize a função do networkx **read_gml()** para ler os arquivos da rede."
   ]
  },
  {
   "cell_type": "code",
   "execution_count": null,
   "metadata": {},
   "outputs": [],
   "source": []
  }
 ],
 "metadata": {
  "kernelspec": {
   "display_name": "Python 3",
   "language": "python",
   "name": "python3"
  },
  "language_info": {
   "codemirror_mode": {
    "name": "ipython",
    "version": 3
   },
   "file_extension": ".py",
   "mimetype": "text/x-python",
   "name": "python",
   "nbconvert_exporter": "python",
   "pygments_lexer": "ipython3",
   "version": "3.10.12"
  }
 },
 "nbformat": 4,
 "nbformat_minor": 2
}
