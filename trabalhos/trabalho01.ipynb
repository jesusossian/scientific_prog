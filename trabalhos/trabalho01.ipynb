{
 "cells": [
  {
   "cell_type": "markdown",
   "metadata": {},
   "source": [
    "## Trabalho 01"
   ]
  },
  {
   "cell_type": "markdown",
   "metadata": {},
   "source": [
    "**Questão 01**\n",
    "\n",
    "No pregão de bolsas de valores, o fechamento dos negócios pode ser representado através de uma tabela com 4 colunas, onde a primeira coluna representa o valor do índice de abertura dos negócios do dia, a segunda o índice mais alto, a terceira o índice mais baixo e a quarta o fechamento ao final dia.\n",
    "\n",
    "Considere a base de dados `Ibov.xlsx` armazenada em `/data/Ibov.xlsx` e faça o que se pede:\n",
    "\n",
    "1. Amazene o dados desse arquivo em um dataframe **df**.\n",
    "\n",
    "2. Implemente uma função que receba o **df**, calcule e retorne: média, desvio padrão (populacional e amostral), máximo e minimo de cada coluna.\n",
    "\n",
    "3. Implemente uma função que gere um **Boxplot** representando os dados do dataframe **df**.\n",
    "\n",
    "4. Implemente uma funçao **__main__** que chame funções implementandas em 2 e 3.\n",
    "\n",
    "Use as bibliotecas: **numpy, matplotlib, pandas**."
   ]
  },
  {
   "cell_type": "markdown",
   "metadata": {},
   "source": [
    "**Questão 02**\n",
    "\n",
    "Considere a base de dados `flags.csv` armazenado em `/data/` e faça o que se pede:\n",
    "\n",
    "1. Importe a bases de dados `flags` para um dataframe do pandas.\n",
    "2. Selecione e imprima as linhas países onde onde a coluna `landmas` é igual a 6.\n",
    "3. Selecione e imprima as linhas dos países onde a coluna`landmas` é diferente de 6.\n",
    "4. Selecione e imprima as linhas dos países onde a coluna `colors` é menor ou igual a 2.\n",
    "5. Selecione e imprima as linhas dos países a coluna `language`é igual a 1 ou a 4.\n",
    "6. Selecione e imprima as linhas dos países onde a coluna `landmass` igual a 6 e a coluna `area` é maior que 200.\n",
    "7. Crie um novo dataframe contendo as colunas `name`,`colours`,`language`,`landmass`,`area` e armazene nele as linhas obtidas no item 6.\n",
    "8. Adicione uma nova linha ao dataframe criado no item 8, onde, `name`: `East Timor`; `landmass`: 5; `area`: 15; `language`: 10"
   ]
  },
  {
   "cell_type": "markdown",
   "metadata": {},
   "source": []
  }
 ],
 "metadata": {
  "language_info": {
   "name": "python"
  }
 },
 "nbformat": 4,
 "nbformat_minor": 2
}
