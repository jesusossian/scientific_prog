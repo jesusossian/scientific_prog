{
 "cells": [
  {
   "cell_type": "markdown",
   "metadata": {},
   "source": [
    "## Trabalho 01"
   ]
  },
  {
   "cell_type": "markdown",
   "metadata": {},
   "source": [
    "**Questão 01**\n",
    "\n",
    "No pregão de bolsas de valores, o fechamento dos negócios pode ser representado através de uma tabela com 4 colunas, onde a primeira coluna representa o valor do índice de abertura dos negócios do dia, a segunda o índice mais alto, a terceira o índice mais baixo e a quarta o fechamento ao final dia.\n",
    "\n",
    "Considere a `Ibov` do arquivo `/data/Ibov.xlsx` e faça o que se pede:\n",
    "\n",
    "1. Amazene o dados desse arquivo em um dataframe **df**.\n",
    "\n",
    "2. Implemente uma função que receba o **df**, calcule e retorne: média, desvio padrão (populacional e amostral), máximo e minimo de cada coluna.\n",
    "\n",
    "3. Implemente uma função que gere um **Boxplot** representando os dados do dataframe **df**.\n",
    "\n",
    "4. Implemente uma funçao **__main__** que chame funções implementandas em 2 e 3.\n",
    "\n",
    "Use as bibliotecas: **numpy, matplotlib, pandas**."
   ]
  },
  {
   "cell_type": "markdown",
   "metadata": {},
   "source": [
    "**Questão 02**"
   ]
  },
  {
   "cell_type": "markdown",
   "metadata": {},
   "source": []
  }
 ],
 "metadata": {
  "language_info": {
   "name": "python"
  }
 },
 "nbformat": 4,
 "nbformat_minor": 2
}
