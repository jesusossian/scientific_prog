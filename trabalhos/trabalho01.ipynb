{
 "cells": [
  {
   "cell_type": "markdown",
   "metadata": {},
   "source": [
    "## Trabalho 01"
   ]
  },
  {
   "cell_type": "markdown",
   "metadata": {},
   "source": [
    "**Orientações:**\n",
    "\n",
    "Implemente computacionalmente usando python o que é solicitado nas questões 01 a 08.\n",
    "\n",
    "Os códigos devem ser enviados por email ou compartilhado através do github, até 16/12/2024.\n",
    "\n",
    "No dia 17/12/2024 acontecerão as apresentações. \n",
    "Cada aluno apresentará em sala uma das questões. \n",
    "A escolha/definição das questões se dará através de sorteio."
   ]
  },
  {
   "cell_type": "markdown",
   "metadata": {},
   "source": [
    "**Questão 01**\n",
    "\n",
    "No pregão de bolsas de valores, o fechamento dos negócios pode ser representado através de uma tabela com 4 colunas, onde a primeira coluna representa o valor do índice de abertura dos negócios do dia, a segunda o índice mais alto, a terceira o índice mais baixo e a quarta o fechamento ao final dia.\n",
    "\n",
    "Considere a base de dados `Ibov.xlsx` armazenada em `/data/Ibov.xlsx` e faça o que se pede:\n",
    "\n",
    "1. Amazene o dados desse arquivo em um dataframe **df**.\n",
    "\n",
    "2. Implemente uma função que receba o **df**, calcule e retorne: média, desvio padrão (populacional e amostral), máximo e minimo de cada coluna.\n",
    "\n",
    "3. Implemente uma função que gere um **Boxplot** representando os dados do dataframe **df**.\n",
    "\n",
    "4. Implemente uma funçao **__main__** que chame funções implementandas em 2 e 3.\n",
    "\n",
    "Use as bibliotecas: **numpy, matplotlib, pandas**."
   ]
  },
  {
   "cell_type": "markdown",
   "metadata": {},
   "source": [
    "**Questão 02**\n",
    "\n",
    "Considere a base de dados `flags.csv` armazenado em `/data/` e faça o que se pede:\n",
    "Veja: (https://www.kaggle.com/datasets/edoardoba/world-flags)\n",
    "\n",
    "1. Importe a bases de dados `flags` para um dataframe do pandas.\n",
    "2. Selecione e imprima as linhas países onde onde a coluna `landmas` é igual a 6.\n",
    "3. Selecione e imprima as linhas dos países onde a coluna`landmas` é diferente de 6.\n",
    "4. Selecione e imprima as linhas dos países onde a coluna `colors` é menor ou igual a 2.\n",
    "5. Selecione e imprima as linhas dos países a coluna `language`é igual a 1 ou a 4.\n",
    "6. Selecione e imprima as linhas dos países onde a coluna `landmass` igual a 6 e a coluna `area` é maior que 200.\n",
    "7. Crie um novo dataframe contendo as colunas `name`,`colours`,`language`,`landmass`,`area` e armazene nele as linhas obtidas no item 6.\n",
    "8. Adicione uma nova linha ao dataframe criado no item 8, onde, `name`: `East Timor`; `landmass`: 5; `area`: 15; `language`: 10"
   ]
  },
  {
   "cell_type": "markdown",
   "metadata": {},
   "source": [
    "**Questão 3**\n",
    "\n",
    "Implemente um programa que calcule a raiz quadrada de um número. \n",
    "\n",
    "Utilize o método de Newton para obter um resultado aproximado. \n",
    "\n",
    "Sendo $n$ o número a obter a raiz quadrada, considere a base $b=2$. \n",
    "\n",
    "Siga as etapas:\n",
    "1. Calcule $p$ usando a fórmula $p=(b+(n/b))/2$. \n",
    "2. Calcule o quadrado de $p$. \n",
    "3. A cada passo, faça $b=p$ e recalcule $p$ usando a fórmula apresentada. \n",
    "4. Pare quando a diferença absoluta entre $n$ e o quadrado de $p$ for menor que 0,0001."
   ]
  },
  {
   "cell_type": "markdown",
   "metadata": {},
   "source": [
    "**Questão 4**\n",
    "\n",
    "Importe a base de dados armazenada em (https://www.kaggle.com/datasets/mozattt/worldcupdata19302018) e implemente os seguintes itens:\n",
    "\n",
    "1. Armazene essa base de dados em um dataframe denominando **df**.\n",
    "2. Imprima a informações(descrição) do dataframe **df**.\n",
    "3. Imprima as 10 primeiras linhas do dataframe **df**.\n",
    "4. Imprima as 10 últimas linhas do dataframe **df**.\n",
    "5. Imprima uma lista com os nomes das colunas do dataframe **df**.\n",
    "6. Crie um novo dataframe denominando df1 contendo as colunas \n",
    "`['ear, Home Team Name,Home Team Goals, Away Team Goals, Away Team Name]`\n",
    "do dataframe **df**.\n",
    "7. Verifique se o dataframe **df1** possui dados **null** e delete os dados **null** caso existam.\n",
    "8. Imprima as informações(descrição) do dataframe **df1** após o item 7.\n",
    "9. Gere e imprima uma lista com os nomes de paises que constam nas coluna `Home Team Name` e `Away Team Name`.\n",
    "Cada nome deve aparecer apenas uma vez nessa lista.\n",
    "10. Calcule e imprima o número de gols que o Brasil marcou em jogos na Argentina em todos os jogos entre Brasil e Argentina."
   ]
  },
  {
   "cell_type": "markdown",
   "metadata": {},
   "source": [
    "**Questão 5**\n",
    "\n",
    "Implementar um programa que crie o eixo horizontal com **linspace**, começando em zero, terminando em cem e contendo cinquenta pontos.\n",
    "\n",
    "Em seguida o programa deve criar listas com $y$ e $z$, em que\n",
    "$$\n",
    "y = \\sqrt{2x+1}\n",
    "$$\n",
    "e \n",
    "$$\n",
    "z = \\sin(x) + \\sqrt{x^2 + 1}\n",
    "$$\n",
    "\n",
    "Plotar um gráfico das duas listas em relação a $x$, sendo $y$ com marcador `*` unindo os pontos da linha contínua e $z$ com marcador `o` e linhas tracejadas.\n",
    "\n",
    "Ambos os marcadores devem ter tamanho 6.\n",
    "Colocar nomes nos eixos, títulos e grades."
   ]
  },
  {
   "cell_type": "markdown",
   "metadata": {},
   "source": [
    "**Quesão 6**\n",
    "\n",
    "Os títulos da dívida pública brasileira, IPCA+Selic, foram negociados com as seguintes taxas de juros em um determinado período,\n",
    "\n",
    "IPCAS = [0.0398, 0.0409, 0.0401, 0.0405, 0.0406, 0.0405, 0.0405, 0.0402, 0.0401, 0.0402, 0.0403, 0.0401, 0.0394, 0.0401, 0.0389, 0.0389, 0.0388, 0.0385, 0.0384, 0.0374, 0.0367, 0.0368, 0.0376, 0.0370, 0.0377, 0.0373, 0.0374, 0.0371, 0.0371, 0.0371, 0.0373, 0.0375, 0.0379, 0.0380, 0.0382, 0.0380, 0.0376, 0.0372, 0.0369, 0.0374, 0.0370, 0.0370, 0.0372, 0.0370, 0.0377]\n",
    "\n",
    "Crie um gráfico de setores que crie três faixas sobre a tabela de juros anteriores, sendo elas \n",
    "- alto: taxa > 0.0400\n",
    "- médio: 0.0370 <= taxa < 0.0370\n",
    "- baixo: taxa < 0.0370\n",
    "\n",
    "No gráfico de setores devem aparecer as porcentagens da ocorrência dessas três faixas."
   ]
  },
  {
   "cell_type": "markdown",
   "metadata": {},
   "source": [
    "**Questão 7**\n",
    "\n",
    "Considere a base de dados flags(`data/flags.csv`) que mantém informações sobre nações e suas bandeiras.\n",
    "\n",
    "1. Importe essa base de dados para um dataframe.\n",
    "2. Obter e imprimir as propriedades de todos os atributos da base flags.\n",
    "3. Gere uma tabela(dataframe) de frequência a partir do atributo das cores das bandeiras.\n",
    "- red : 1, caso a bandeira possua a cor vermelha ou 0, caso não possua.\n",
    "- green : idem para a cor verde.\n",
    "- blue : idem para a cor azul.\n",
    "- gold : idem para as cores dourada ou amarela.\n",
    "- white : idem para a cor branca.\n",
    "- black : idem para a cor preta.\n",
    "- orange : idem para as cores laranja ou marrom.\n",
    "4. Gere um gráfico de barras horizontais para a frequência das cores."
   ]
  },
  {
   "cell_type": "markdown",
   "metadata": {},
   "source": [
    "**Questão 8**\n",
    "\n",
    "Considere a planilha Plan1 no arquivo `vale_gerdau.xlsx` salvo na pasta `data/` que representam os preços diários de fechamento no pregão da Bovespa durante um periodo. \n",
    "A coluna A se refere a VALE3(Vale do Rio Doce) e a coluna B se refere a GGBR4(Gerdau). \n",
    "Implemente um programa que execute as seguintes tarefas.\n",
    "1. Importe os dados da planilha para um dataframe.\n",
    "2. Elebore uma figura com dois gráficos, um referente aos preços da VALE3 e o outro referente aos preços da GGBR4.\n",
    "3. Considere o retorno financeiro definido pela expressão $ret = \\frac{preco(i) - preco(i-1)}{preco(i-1)}$. \n",
    "Calcule o retorne financeiro das ações da VALE3 e da GGBR4. \n",
    "Elabore 4 gráficos no formato $2 \\times 2$ elementos com os preços e os retornos."
   ]
  },
  {
   "cell_type": "markdown",
   "metadata": {},
   "source": []
  }
 ],
 "metadata": {
  "language_info": {
   "name": "python"
  }
 },
 "nbformat": 4,
 "nbformat_minor": 2
}
