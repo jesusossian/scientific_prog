{
 "cells": [
  {
   "cell_type": "markdown",
   "metadata": {},
   "source": [
    "### Trabalho 01"
   ]
  },
  {
   "cell_type": "markdown",
   "metadata": {},
   "source": [
    "**Questão 01**\n",
    "\n",
    "No pregão de bolsas de valores, o fechamento dos negócios pode ser representado através de uma tabela com 4 colunas, onde a primeira coluna representa o valor do índice de abertura dos negócios do dia, a segunda o índice mais alto, a terceira o índice mais baixo e a quarta o fechamento ao final dia.\n",
    "\n",
    "Considere a `Ibov` do arquivo `/data/Ibov.xlsx`\n",
    "\n",
    "Implemente um programa que represente esses dados usando um **Boxplot** e gere uma figura do **Boxplot**.\n",
    "\n",
    "Use as seguinte bibliotecas: **numpy, matplotlib, pandas.**"
   ]
  },
  {
   "cell_type": "markdown",
   "metadata": {},
   "source": [
    "**Questão 02**"
   ]
  },
  {
   "cell_type": "markdown",
   "metadata": {},
   "source": []
  }
 ],
 "metadata": {
  "language_info": {
   "name": "python"
  }
 },
 "nbformat": 4,
 "nbformat_minor": 2
}
