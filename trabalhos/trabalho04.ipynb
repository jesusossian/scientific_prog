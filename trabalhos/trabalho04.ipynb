{
 "cells": [
  {
   "cell_type": "markdown",
   "metadata": {},
   "source": [
    "## Trabalho 04"
   ]
  },
  {
   "cell_type": "markdown",
   "metadata": {},
   "source": [
    "Implemente um sistema contendo classes e métodos como descrito a seguir.\n",
    "\n",
    "1. Crie a **classe** abstrata Veiculo contendo os atributos: \n",
    "    - marca\n",
    "    - modelo\n",
    "    - numero_rodas \n",
    "    - velocidade_media \n",
    "    \n",
    "    A classe Veiculo não poderá ser instanciada.\n",
    "\n",
    "2. Crie a classe Carro, filha da classe Veiculo, contendo os atribuitos: motor, numero_portas\n",
    "\n",
    "3. Crie a classe Bike, filha da classe Veiculo, contendo o atributo: macha\n",
    "\n",
    "4. Crie a classe Moto, filha da classe Veiculo, contendo o atributo: cilindrada\n",
    "\n",
    "5. Proteja os atributos das classes criadas usando um undescore (\"_\").\n",
    "\n",
    "7. Implemente um método que imprima os atributos dos objetos instanciados.\n",
    "\n",
    "6. Implemente um método que receba como parâmetros uma distância(em km) e retorno o tempo da viagem.\n",
    "\n",
    "8. Crie um atributo de classe '_total_veiculos' para controlar o número objetos instanciados pelo sistema.\n",
    "\n",
    "9. Implemente um método estático(@staticmethod:) ou método de classe(@classmethod) para retornar o número de objetos instanciados pelo sistema.\n",
    "\n",
    "10. Instancie no mínimo um objeto para cada classe e aplique os métodos implementados aos objetos instanciados."
   ]
  },
  {
   "cell_type": "markdown",
   "metadata": {},
   "source": []
  }
 ],
 "metadata": {
  "language_info": {
   "name": "python"
  }
 },
 "nbformat": 4,
 "nbformat_minor": 2
}
