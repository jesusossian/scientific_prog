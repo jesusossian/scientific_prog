{
 "cells": [
  {
   "cell_type": "markdown",
   "metadata": {},
   "source": [
    "# Redes Complexas: uma introdução (parte 2)"
   ]
  },
  {
   "cell_type": "code",
   "execution_count": null,
   "metadata": {},
   "outputs": [],
   "source": [
    "# import da biblioteca networkx\n",
    "import networkx as nx\n",
    "\n",
    "# import matplotlib\n",
    "import matplotlib as mpl\n",
    "import matplotlib.pyplot as plt\n",
    "\n",
    "# import numpy\n",
    "import numpy as np\n",
    "\n",
    "# import pandas\n",
    "import pandas as pd"
   ]
  },
  {
   "cell_type": "markdown",
   "metadata": {},
   "source": [
    "## Medidas de centralidade\n",
    "\n",
    "As **métricas de centralidade** fazem parte de um grupo de métricas de redes chamadas métricas locais, que descrevem características individuais dos nós."
   ]
  },
  {
   "cell_type": "markdown",
   "metadata": {},
   "source": [
    "Considere um grafo $G =(V, E)$ onde $|V| = n$, $|E| = m$."
   ]
  },
  {
   "cell_type": "code",
   "execution_count": null,
   "metadata": {},
   "outputs": [],
   "source": [
    "# grafo karate club\n",
    "KCG = nx.karate_club_graph()"
   ]
  },
  {
   "cell_type": "code",
   "execution_count": null,
   "metadata": {},
   "outputs": [],
   "source": [
    "# imprime uma lista com os nós de g (karate club)\n",
    "nodes_ = KCG.nodes()\n",
    "print(f'nodes: {nodes_}')\n",
    "\n",
    "# imprime uma lista com as arestas de g (karate club)\n",
    "edges_ = KCG.edges()\n",
    "print(f'arestas: {edges_}')"
   ]
  },
  {
   "cell_type": "code",
   "execution_count": null,
   "metadata": {},
   "outputs": [],
   "source": [
    "n = nx.number_of_nodes(KCG) # número de nos\n",
    "m = nx.number_of_edges(KCG) # número de arestas\n",
    "\n",
    "print(f\"numero de nos: {n}\")\n",
    "print(f\"numero de arestas: {m}\")"
   ]
  },
  {
   "cell_type": "code",
   "execution_count": null,
   "metadata": {},
   "outputs": [],
   "source": [
    "# grafico da grafo\n",
    "\n",
    "fig, ax = plt.subplots(figsize=(12,8))\n",
    "\n",
    "# imprime o grafo\n",
    "nx.draw(KCG, node_size=500, with_labels = True)\n",
    "\n",
    "plt.show()"
   ]
  },
  {
   "cell_type": "code",
   "execution_count": null,
   "metadata": {},
   "outputs": [],
   "source": [
    "# verifica se o grafo é conexo\n",
    "print(nx.is_connected(KCG))"
   ]
  },
  {
   "cell_type": "markdown",
   "metadata": {},
   "source": [
    "### Grau de centralidade"
   ]
  },
  {
   "cell_type": "markdown",
   "metadata": {},
   "source": [
    "- A métrica de **grau** refere-se ao número de links de cada nó da rede. \n",
    "\n",
    "- **nx.degree()**: função do networkx que retorna o grau cada nó da rede."
   ]
  },
  {
   "cell_type": "markdown",
   "metadata": {},
   "source": [
    "- A métrica de **grau de centralidade** atribui uma pontuação(fração) de importância com base no número de links mantido por cada nó.\n",
    "\n",
    "- A métrica **grau de centralidade** do nó $i$ é dado pela fórmula $\\dfrac{grau(i)}{|V|}$ para cada $i \\in V$.\n",
    "\n",
    "- Essa métrica nos fala o quanto direto é a conexão de um nó com os outros nós da rede.\n",
    "\n",
    "- **nx.degree_centrality()**: função do networkx que retorna o grau de centralidade de cada nó da rede."
   ]
  },
  {
   "cell_type": "code",
   "execution_count": null,
   "metadata": {},
   "outputs": [],
   "source": [
    "# calcula o graus de cada no\n",
    "dic_grau = dict(nx.degree(KCG))\n",
    "val_grau = dic_grau.values()"
   ]
  },
  {
   "cell_type": "code",
   "execution_count": null,
   "metadata": {},
   "outputs": [],
   "source": [
    "set_grau = set(dic_grau.values())\n",
    "print(f\"Grau = {set_grau}\")\n",
    "\n",
    "for i in set_grau:\n",
    "    print(i, end= \" : \")\n",
    "    for key, value in dic_grau.items():\n",
    "        if i == dic_grau[key]:\n",
    "            print(key, end=\", \")\n",
    "    print()\n",
    "\n",
    "# imprime o grau dos nodes\n",
    "#for key, value in dic_grau.items():\n",
    "#    print(f\"grau do no{key} : {value}\")"
   ]
  },
  {
   "cell_type": "code",
   "execution_count": null,
   "metadata": {},
   "outputs": [],
   "source": [
    "# rank em relacao ao grau\n",
    "\n",
    "ranks = [(k, v) for k, v in sorted(dic_grau.items(), key=lambda item: -item[1])]\n",
    "\n",
    "# os k melhores\n",
    "k = 5\n",
    "ranks[0:k]"
   ]
  },
  {
   "cell_type": "code",
   "execution_count": null,
   "metadata": {},
   "outputs": [],
   "source": [
    "# grafico com graus\n",
    "\n",
    "fig, ax = plt.subplots(1,1,figsize=(12,8))\n",
    "\n",
    "G = KCG\n",
    "\n",
    "# layout position\n",
    "pos = nx.kamada_kawai_layout(G)\n",
    "\n",
    "# define a cor do nos\n",
    "color = list(dic_grau.values())\n",
    "\n",
    "# draw edges\n",
    "nx.draw_networkx_edges(G, \n",
    "                       pos=pos, \n",
    "                       alpha=0.4, \n",
    "                       ax=ax)\n",
    "\n",
    "# draw nodes\n",
    "nodes = nx.draw_networkx_nodes(G,\n",
    "                               node_size=800,\n",
    "                               pos=pos,\n",
    "                               node_color=color,\n",
    "                               cmap=plt.cm.jet,\n",
    "                               ax=ax)\n",
    "\n",
    "# draw labels\n",
    "nx.draw_networkx_labels(G, \n",
    "                        pos=pos, \n",
    "                        font_color='white', \n",
    "                        ax=ax)\n",
    "\n",
    "plt.axis(\"off\")\n",
    "plt.colorbar(nodes)\n",
    "plt.show()"
   ]
  },
  {
   "cell_type": "code",
   "execution_count": null,
   "metadata": {},
   "outputs": [],
   "source": [
    "# grau de centralidade dos nodes da rede\n",
    "\n",
    "dic_grau_center = nx.degree_centrality(KCG)\n",
    "val_grau_center = dic_grau_center.values()\n",
    "\n",
    "#set_grau_center = set(dic_grau_center.values())\n",
    "\n",
    "#print(f\"Grau_center: {set_grau_center}\")\n",
    "\n",
    "#for i in set_grau_center:\n",
    "#    print(i, end= \" : \")\n",
    "#    for key, value in dic_grau_center.items():\n",
    "#        if i == dic_grau_center[key]:\n",
    "#            print(key, end=\", \")\n",
    "#    print()"
   ]
  },
  {
   "cell_type": "code",
   "execution_count": null,
   "metadata": {},
   "outputs": [],
   "source": [
    "# rank em relacao a centralidade de grau\n",
    "\n",
    "ranks = [(k, v) for k, v in sorted(dic_grau_center.items(), key=lambda item: -item[1])]\n",
    "\n",
    "# os k melhores\n",
    "k = 5\n",
    "ranks[0:k]"
   ]
  },
  {
   "cell_type": "code",
   "execution_count": null,
   "metadata": {},
   "outputs": [],
   "source": [
    "# imprime grau de centralidade de cada node\n",
    "\n",
    "#for key, value in grau_center.items():\n",
    "#    print(f\"grau de centralidade do no {key} : {value}\")"
   ]
  },
  {
   "cell_type": "code",
   "execution_count": null,
   "metadata": {},
   "outputs": [],
   "source": [
    "# grau de centralidade\n",
    "\n",
    "fig, ax = plt.subplots(1,1,figsize=(12,8))\n",
    "\n",
    "G = KCG\n",
    "\n",
    "# layout position\n",
    "pos = nx.kamada_kawai_layout(G)\n",
    "\n",
    "# color of nodes\n",
    "color = list(val_grau_center)\n",
    "\n",
    "# draw edges\n",
    "nx.draw_networkx_edges(G, \n",
    "                       pos=pos, \n",
    "                       alpha=0.4, \n",
    "                       ax=ax)\n",
    "\n",
    "# draw nodes\n",
    "nodes = nx.draw_networkx_nodes(G, \n",
    "                               pos=pos, \n",
    "                               node_size=800,\n",
    "                               node_color=color,\n",
    "                               cmap=plt.cm.jet,\n",
    "                               ax=ax)\n",
    "\n",
    "# draw labels\n",
    "nx.draw_networkx_labels(G, \n",
    "                        pos=pos,\n",
    "                        font_color='white', \n",
    "                        ax=ax)\n",
    "\n",
    "plt.axis(\"off\")\n",
    "plt.colorbar(nodes)\n",
    "plt.show()"
   ]
  },
  {
   "cell_type": "markdown",
   "metadata": {},
   "source": [
    "## Métricas geométricas\n",
    "\n",
    "- Seja $G_i = (V_i,E_i)$ uma componente conexa de $G$ que contém o nó $i \\in V$\n",
    "\n",
    "- A **excentricidade** do nó $i \\in G_i$ é a maior distância geodésica de um $i$ aos demais nós de $G_i$.\n",
    "$$\n",
    "ec(i) = \\max_{j \\in V_i} sp(i,j) \\; \\forall \\; i \\in V_i\n",
    "$$\n",
    "onde $sp(i,j)$ é o tamanho da distância geodésica do nó $i$ para o nó $j \\in V_i$.\n",
    "\n",
    "- A **centralidade de excentricidade** do nó $i$ é dado pela reciproca da sua excentricidade\n",
    "$$\n",
    "cec(i) = \\frac{1}{ec(i)} \\; \\forall \\; i \\in V_i\n",
    "$$\n",
    "\n"
   ]
  },
  {
   "cell_type": "code",
   "execution_count": null,
   "metadata": {},
   "outputs": [],
   "source": [
    "# calculo da excentricidade\n",
    "\n",
    "dic_ec  = nx.eccentricity(KCG)\n",
    "val_ec  = list(dic_ec.values())\n",
    "\n",
    "set_ec = set(dic_ec.values())\n",
    "print(f\"EC = {set_ec}\")\n",
    "\n",
    "for i in set_ec:\n",
    "    print(i, end= \" : \")\n",
    "    for key, value in dic_ec.items():\n",
    "        if i == dic_ec[key]:\n",
    "            print(key, end=\", \")\n",
    "    print()"
   ]
  },
  {
   "cell_type": "code",
   "execution_count": null,
   "metadata": {},
   "outputs": [],
   "source": [
    "#dic_cec = {}\n",
    "#for key, value in dic_ec.items():\n",
    "#    print(f\"excentricidade do no {key} : {value}\")"
   ]
  },
  {
   "cell_type": "code",
   "execution_count": null,
   "metadata": {},
   "outputs": [],
   "source": [
    "# rank em relacao a excentricidade\n",
    "\n",
    "ranks = [(k, v) for k, v in sorted(dic_ec.items(), key=lambda item: -item[1])]\n",
    "\n",
    "# os k melhores\n",
    "k = 5\n",
    "ranks[0:k]"
   ]
  },
  {
   "cell_type": "code",
   "execution_count": null,
   "metadata": {},
   "outputs": [],
   "source": [
    "# grafico da excentricidade\n",
    "\n",
    "fig, ax = plt.subplots(1,1,figsize=(12,8))\n",
    "\n",
    "G = KCG\n",
    "\n",
    "# layout position\n",
    "pos = nx.kamada_kawai_layout(G)\n",
    "\n",
    "# color of nodes\n",
    "color = list(val_ec)\n",
    "\n",
    "# draw edges\n",
    "nx.draw_networkx_edges(G, \n",
    "                       pos=pos, \n",
    "                       alpha=0.4, \n",
    "                       ax=ax)\n",
    "\n",
    "# draw nodes\n",
    "nodes = nx.draw_networkx_nodes(G,\n",
    "                               node_size=800,\n",
    "                               pos=pos,\n",
    "                               node_color=color,\n",
    "                               cmap=plt.cm.jet,\n",
    "                               ax=ax)\n",
    "\n",
    "# draw labels\n",
    "nx.draw_networkx_labels(G, \n",
    "                        pos=pos, \n",
    "                        font_color='white', \n",
    "                        ax=ax)\n",
    "\n",
    "plt.axis(\"off\")\n",
    "plt.colorbar(nodes)\n",
    "plt.show()"
   ]
  },
  {
   "cell_type": "code",
   "execution_count": null,
   "metadata": {},
   "outputs": [],
   "source": [
    "# calculo da centralidade de excentricidade\n",
    "\n",
    "dic_cec = {}\n",
    "for key, value in dic_ec.items():\n",
    "    dic_cec[key] = 1.0/value\n",
    "\n",
    "val_cec = list(dic_cec.values())"
   ]
  },
  {
   "cell_type": "code",
   "execution_count": null,
   "metadata": {},
   "outputs": [],
   "source": [
    "set_cec = set(dic_cec.values())\n",
    "print(f\"CEC = {set_cec}\")\n",
    "\n",
    "for i in set_cec:\n",
    "    print(i, end= \" : \")\n",
    "    for key, value in dic_cec.items():\n",
    "        if i == dic_cec[key]:\n",
    "            print(key, end=\", \")\n",
    "    print()"
   ]
  },
  {
   "cell_type": "code",
   "execution_count": null,
   "metadata": {},
   "outputs": [],
   "source": [
    "# rank em relacao a centralidade de excentricidade\n",
    "\n",
    "ranks = [(k, v) for k, v in sorted(dic_cec.items(), key=lambda item: -item[1])]\n",
    "\n",
    "# os k melhores\n",
    "k = 5\n",
    "ranks[0:k]"
   ]
  },
  {
   "cell_type": "code",
   "execution_count": null,
   "metadata": {},
   "outputs": [],
   "source": [
    "# imprime a centralidade de excentricidade\n",
    "\n",
    "#for key, value in dic_cec.items():\n",
    "#    print(f\"centralidade de excentricidade do no {key} : {value}\")"
   ]
  },
  {
   "cell_type": "code",
   "execution_count": null,
   "metadata": {},
   "outputs": [],
   "source": [
    "# grafico da centralidade de excentricidade\n",
    "\n",
    "G = KCG\n",
    "\n",
    "fig, ax = plt.subplots(1,1,figsize=(12,8))\n",
    "\n",
    "# layout position\n",
    "pos = nx.kamada_kawai_layout(G)\n",
    "\n",
    "# color of nodes\n",
    "color = list(val_cec)\n",
    "\n",
    "# draw edges\n",
    "nx.draw_networkx_edges(G, \n",
    "                       pos=pos, \n",
    "                       alpha=0.4, \n",
    "                       ax=ax)\n",
    "\n",
    "# draw nodes\n",
    "nodes = nx.draw_networkx_nodes(G,\n",
    "                               node_size=800,\n",
    "                               pos=pos,\n",
    "                               node_color=color,\n",
    "                               cmap=plt.cm.jet,\n",
    "                               ax=ax)\n",
    "\n",
    "# draw labels\n",
    "nx.draw_networkx_labels(G, \n",
    "                        pos=pos, \n",
    "                        font_color='white', \n",
    "                        ax=ax)\n",
    "\n",
    "plt.axis(\"off\")\n",
    "plt.colorbar(nodes)\n",
    "plt.show()"
   ]
  },
  {
   "cell_type": "code",
   "execution_count": null,
   "metadata": {},
   "outputs": [],
   "source": [
    "# grau x centralidade de excentricidade\n",
    "\n",
    "fig, ax = plt.subplots(1,1,figsize=(15,10))\n",
    "plt.plot(val_grau, val_cec, 'o')\n",
    "plt.xlabel('grau')\n",
    "plt.ylabel('centralidade de excentricidade')\n",
    "plt.show()"
   ]
  },
  {
   "cell_type": "markdown",
   "metadata": {},
   "source": [
    "### Centralidade de proximidade\n",
    "\n",
    "- A **centralidade de proximidade** pontua cada nó com base em sua **proximidade** com todos os outros nós da rede.\n",
    "\n",
    "- Esta medida calcula os caminhos mais curtos entre todos os nós e, em seguida, atribui a cada nó uma pontuação com base na soma dos caminhos mais curtos.\n",
    "\n",
    "- Podemos usar essa medida para encontrar os nós que estão em melhor posição para influenciar toda a rede mais rapidamente.\n",
    "\n",
    "- A **centralidade de proximidade** do nó $i$ é igual ao reciproco da média aritmética das distâncias geodésicas do nó $i$ para os demais nós $j$ da mesma componente do nó $i$, ou seja\n",
    "$$\n",
    "C_{c}(i) = \\dfrac{|V_i| - 1}{\\sum_{j \\in {V_i - \\{i\\}}} sp(i,j)} \\; \\forall \\; i \\in V_i\n",
    "$$\n",
    "\n",
    "- **nx.closeness_centrality()**: função do networkx que retorna a centralidade de proximidade de cada nó da rede."
   ]
  },
  {
   "cell_type": "code",
   "execution_count": null,
   "metadata": {},
   "outputs": [],
   "source": [
    "# calculo da centralidade de proximidade\n",
    "\n",
    "dic_cc  = nx.closeness_centrality(KCG)\n",
    "val_cc  = list(dic_cc.values())\n",
    "\n",
    "#set_cc = set(val_cc)\n",
    "#print(f\"CEC = {set_cc}\")\n",
    "\n",
    "#for i in set_cc:\n",
    "#    print(i, end= \" : \")\n",
    "#    for key, value in dic_cc.items():\n",
    "#        if i == dic_cc[key]:\n",
    "#            print(key, end=\", \")\n",
    "#    print()"
   ]
  },
  {
   "cell_type": "code",
   "execution_count": null,
   "metadata": {},
   "outputs": [],
   "source": [
    "# rank em relacao a centralidade de proximidade\n",
    "\n",
    "ranks = [(k, v) for k, v in sorted(dic_cc.items(), key=lambda item: -item[1])]\n",
    "\n",
    "# os k melhores\n",
    "k = 5\n",
    "ranks[0:k]"
   ]
  },
  {
   "cell_type": "code",
   "execution_count": null,
   "metadata": {},
   "outputs": [],
   "source": [
    "# imprime a centralidade de proximidade\n",
    "\n",
    "#for key, value in dic_cc.items():\n",
    "#    print(f\"centralidade de proximidade do v{key} : {value}\")"
   ]
  },
  {
   "cell_type": "code",
   "execution_count": null,
   "metadata": {},
   "outputs": [],
   "source": [
    "# grafico da centralidade de proximidade\n",
    "\n",
    "G = KCG\n",
    "\n",
    "fig, ax = plt.subplots(1,1,figsize=(12,8))\n",
    "\n",
    "# layout position\n",
    "pos = nx.kamada_kawai_layout(G)\n",
    "\n",
    "# color of nodes\n",
    "color = list(val_cc)\n",
    "\n",
    "# draw edges\n",
    "nx.draw_networkx_edges(G, \n",
    "                       pos=pos, \n",
    "                       alpha=0.4, \n",
    "                       ax=ax)\n",
    "\n",
    "# draw nodes\n",
    "nodes = nx.draw_networkx_nodes(G,\n",
    "                               node_size=800,\n",
    "                               pos=pos,\n",
    "                               node_color=color,\n",
    "                               cmap=plt.cm.jet,\n",
    "                               ax=ax)\n",
    "\n",
    "# draw labels\n",
    "nx.draw_networkx_labels(G, \n",
    "                        pos=pos, \n",
    "                        font_color='white', \n",
    "                        ax=ax)\n",
    "\n",
    "plt.axis(\"off\")\n",
    "plt.colorbar(nodes)\n",
    "plt.show()"
   ]
  },
  {
   "cell_type": "code",
   "execution_count": null,
   "metadata": {},
   "outputs": [],
   "source": [
    "# grau x centralidade de proximidade\n",
    "\n",
    "fig, ax = plt.subplots(1,1,figsize=(15,10))\n",
    "plt.plot(nodes_, val_cc, 'o')\n",
    "plt.xlabel('grau')\n",
    "plt.ylabel('centralidade de proximidade')\n",
    "plt.show()"
   ]
  },
  {
   "cell_type": "markdown",
   "metadata": {},
   "source": [
    "### Centralidade harmônica\n",
    "\n",
    "- Na **centralidade harmônica** a média aritmética das distâncias presente na **centralidade de proximidade** é substituida pela **média harmônica** das mesmas em que nós pertencentes a componentes distintas possuem distâncias infinitas entre si, ou seja,\n",
    "$$\n",
    "C_h(i) = \\dfrac{1}{n-1} \\left[ \\sum_{j\\not=i} \\dfrac{1}{sp(i,j)} \\right] \\; \\forall \\; i \\in V\n",
    "$$\n",
    "\n",
    "- **nx.harmonic_centrality()**: função do networkx que retorna o centralidade harmônica de cada nó da rede, sem normalizar(sem dividor por $n-1$).\n",
    "\n",
    "- A **centralidade harmônica** contorna o problema de redes com mais de uma componente conexas, onde temos distâncias geodésicas infinitas."
   ]
  },
  {
   "cell_type": "code",
   "execution_count": null,
   "metadata": {},
   "outputs": [],
   "source": [
    "# calculo da centralidade harmonica\n",
    "\n",
    "dic_chu = nx.harmonic_centrality(KCG)\n",
    "val_chu = list(nx.harmonic_centrality(KCG).values())\n",
    "\n",
    "set_chu = set(val_chu)\n",
    "print(f\"CHU = {len(set_chu)}\")\n",
    "\n",
    "for i in set_chu:\n",
    "    print(i, end= \" : \")\n",
    "    for key, value in dic_chu.items():\n",
    "        if i == dic_chu[key]:\n",
    "            print(key, end=\", \")\n",
    "    print()\n",
    "\n",
    "\n",
    "# imprime a centralidade harmonica\n",
    "#for key, value in dic_chu.items():\n",
    "#    print(f\"centralidade harmonica do v{key} : {value}\")"
   ]
  },
  {
   "cell_type": "code",
   "execution_count": null,
   "metadata": {},
   "outputs": [],
   "source": [
    "# rank em relacao a centralidade harmonica\n",
    "\n",
    "ranks = [(k, v) for k, v in sorted(dic_chu.items(), key=lambda item: -item[1])]\n",
    "\n",
    "# os k melhores\n",
    "k = 14\n",
    "ranks[0:k]"
   ]
  },
  {
   "cell_type": "code",
   "execution_count": null,
   "metadata": {},
   "outputs": [],
   "source": [
    "# centraliade harmonica normalizada\n",
    "\n",
    "#chn = [x/(len(val_chu)-1) for x in val_chu]  # normalização\n",
    "\n",
    "# normalizacao\n",
    "dic_chn = {}\n",
    "for key, value in dic_chu.items():\n",
    "    dic_chn[key] = value/(n-1)\n",
    "    #dic_chn[key] = chn[key]\n",
    "\n",
    "val_chn = list(dic_chn.values())\n",
    "\n",
    "#set_chn = set(val_chn)\n",
    "#print(f\"CHN = {len(set_chn)}\")\n",
    "\n",
    "#for i in set_chn:\n",
    "#    print(i, end= \" : \")\n",
    "#    for key, value in dic_chn.items():\n",
    "#        if i == dic_chn[key]:\n",
    "#            print(key, end=\", \")\n",
    "#    print()\n",
    "\n",
    "#for key, value in dic_chn.items():\n",
    "#    print(f\"centralidade harmonica normalizada do v{key} : {value}\")"
   ]
  },
  {
   "cell_type": "code",
   "execution_count": null,
   "metadata": {},
   "outputs": [],
   "source": [
    "# rank em relacao a centralidade harmonica normalizada\n",
    "\n",
    "ranks = [(k, v) for k, v in sorted(dic_chn.items(), key=lambda item: -item[1])]\n",
    "\n",
    "# os k melhores\n",
    "k = 10\n",
    "ranks[0:k]"
   ]
  },
  {
   "cell_type": "code",
   "execution_count": null,
   "metadata": {},
   "outputs": [],
   "source": [
    "# gráfico da centralidade harmonica\n",
    "\n",
    "G = KCG\n",
    "\n",
    "fig, ax = plt.subplots(1,1,figsize=(12,8))\n",
    "\n",
    "# layout position\n",
    "pos = nx.kamada_kawai_layout(G)\n",
    "\n",
    "# color of nodes\n",
    "color = val_chn\n",
    "\n",
    "# draw edges\n",
    "nx.draw_networkx_edges(G, \n",
    "                       pos=pos, \n",
    "                       alpha=0.4, \n",
    "                       ax=ax)\n",
    "\n",
    "# draw nodes\n",
    "nodes = nx.draw_networkx_nodes(G,\n",
    "                               node_size=800,\n",
    "                               pos=pos,\n",
    "                               node_color=color,\n",
    "                               cmap=plt.cm.jet,\n",
    "                               ax=ax)\n",
    "\n",
    "# draw labels\n",
    "nx.draw_networkx_labels(G, \n",
    "                        pos=pos, \n",
    "                        font_color='white', \n",
    "                        ax=ax)\n",
    "\n",
    "plt.axis(\"off\")\n",
    "plt.colorbar(nodes)\n",
    "plt.show()"
   ]
  },
  {
   "cell_type": "code",
   "execution_count": null,
   "metadata": {},
   "outputs": [],
   "source": [
    "# grau x centralidade harmonica normalizada\n",
    "\n",
    "fig, ax = plt.subplots(1,1,figsize=(18,10))\n",
    "plt.plot(val_grau, val_chn , 'o')\n",
    "plt.xlabel('grau')\n",
    "plt.ylabel('centralidade harmonica normalizada')\n",
    "plt.show()\n"
   ]
  },
  {
   "cell_type": "markdown",
   "metadata": {},
   "source": [
    "### Centralidade de intermediação\n",
    "\n",
    "- A **centralidade de intermediação** quantifica o quanto os vértices são capazes de atuar como intermediários entre outros dois vértices, podendo portanto controlar o fluxo de informação entre eles.\n",
    "\n",
    "- $Q_{j,k}$: número de caminhos geodésicos iniciando no vértice $j$ e terminando no vértice $k$.\n",
    "\n",
    "- $Q_{j,k}(i)$: número de caminhos geodésicos que iniciam em $j$, terminam em $k$ e passam pelo vértice $i$.\n",
    "\n",
    "- $\\dfrac{Q_{j,k}(i)}{Q_{j,k}}$: determina a importância do vértice $i$ para a conexão entre $j$ e $k$. Quanto maior valor, maior é a importância do vértice $i$ para a conexão entre $j$ e $k$.\n",
    "\n",
    "- Fórmula da centralidade por intermediação\n",
    "\n",
    "$$\n",
    "C_{b}(i) = \\dfrac{1}{(n-1)(n-2)} \\left[ \\sum_{(j,k):j\\not=k, i \\not\\in \\{ j,k\\}} \\dfrac{Q_{j,k}(i)}{Q_{j,k}} \\right] \\; \\forall \\; i \\in V\n",
    "$$\n",
    "\n",
    "- Função do networkx: **nx.betweenness_centrality()**"
   ]
  },
  {
   "cell_type": "code",
   "execution_count": null,
   "metadata": {},
   "outputs": [],
   "source": [
    "# calculo da centralidade de intermediação \n",
    "\n",
    "dic_cb = nx.betweenness_centrality(KCG, normalized=True)\n",
    "val_cb = list(dic_cb.values())\n",
    "\n",
    "#set_cb = set(dic_cb.values())\n",
    "#print(\"set_cb: \", set_cb)\n",
    "\n",
    "#for i in set_cb:\n",
    "#    print(i, end= \" : \")\n",
    "#    for key, value in dic_cb.items():\n",
    "#        if i == dic_cb[key]:\n",
    "#            print(key, end=\", \")\n",
    "#    print()\n",
    "\n",
    "#for key, value in dic_cb.items():\n",
    "#    print(f\"centralidade de intermediação do v{key} : {value}\")"
   ]
  },
  {
   "cell_type": "code",
   "execution_count": null,
   "metadata": {},
   "outputs": [],
   "source": [
    "# rank em relacao a centralidade de autovetor\n",
    "\n",
    "ranks = [(k, v) for k, v in sorted(dic_cb.items(), key=lambda item: -item[1])]\n",
    "\n",
    "# os k melhores\n",
    "k = 10\n",
    "ranks[0:k]"
   ]
  },
  {
   "cell_type": "code",
   "execution_count": null,
   "metadata": {},
   "outputs": [],
   "source": [
    "# grau x centralidade de intermediacao\n",
    "\n",
    "fig, ax = plt.subplots(1,1,figsize=(18,10))\n",
    "plt.plot(val_grau, val_cb, 'o')\n",
    "plt.xlabel('grau')\n",
    "plt.ylabel('centralidade de intermediação')\n",
    "plt.show()"
   ]
  },
  {
   "cell_type": "code",
   "execution_count": null,
   "metadata": {},
   "outputs": [],
   "source": [
    "# gráfico da centralidade de intermediação \n",
    "\n",
    "G = KCG\n",
    "\n",
    "fig, ax = plt.subplots(1,1,figsize=(18,10))\n",
    "\n",
    "# layout position\n",
    "pos = nx.kamada_kawai_layout(G)\n",
    "\n",
    "# color of nodes\n",
    "color = list(val_cb)\n",
    "\n",
    "# draw edges\n",
    "nx.draw_networkx_edges(G, \n",
    "                       pos=pos, \n",
    "                       alpha=0.4, \n",
    "                       ax=ax)\n",
    "\n",
    "# draw nodes\n",
    "nodes = nx.draw_networkx_nodes(G,\n",
    "                               node_size=800,\n",
    "                               pos=pos,\n",
    "                               node_color=color,\n",
    "                               cmap=plt.cm.jet,\n",
    "                               ax=ax)\n",
    "\n",
    "# draw labels\n",
    "nx.draw_networkx_labels(G, \n",
    "                        pos=pos, \n",
    "                        font_color='white', \n",
    "                        ax=ax)\n",
    "\n",
    "plt.axis(\"off\")\n",
    "plt.colorbar(nodes)\n",
    "plt.show()"
   ]
  },
  {
   "cell_type": "code",
   "execution_count": null,
   "metadata": {},
   "outputs": [],
   "source": []
  },
  {
   "cell_type": "code",
   "execution_count": null,
   "metadata": {},
   "outputs": [],
   "source": []
  }
 ],
 "metadata": {
  "kernelspec": {
   "display_name": "Python 3",
   "language": "python",
   "name": "python3"
  },
  "language_info": {
   "codemirror_mode": {
    "name": "ipython",
    "version": 3
   },
   "file_extension": ".py",
   "mimetype": "text/x-python",
   "name": "python",
   "nbconvert_exporter": "python",
   "pygments_lexer": "ipython3",
   "version": "3.10.12"
  }
 },
 "nbformat": 4,
 "nbformat_minor": 2
}
