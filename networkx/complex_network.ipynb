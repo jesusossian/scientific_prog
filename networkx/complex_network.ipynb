{
 "cells": [
  {
   "cell_type": "markdown",
   "metadata": {},
   "source": [
    "# Redes Complexas: uma introdução"
   ]
  },
  {
   "cell_type": "markdown",
   "metadata": {},
   "source": [
    "## NetworkX"
   ]
  },
  {
   "cell_type": "markdown",
   "metadata": {},
   "source": [
    "**NetworkX** é uma biblioteca Python para a criação, manipulação, e estudo de redes complexas.\n",
    "\n",
    "Com o **NetworkX** você pode carregar e guardar redes em arquivos com diferentes formatos, gerar redes classicas e aleatórias, analisar a estrutura de uma rede, construir modelos de rede, elaborar algoritmos para redes, elaborar gráficos de redes, e muito mais.\n",
    "\n",
    "Fonte: https://networkx.org/documentation/networkx-1.9/index.html"
   ]
  },
  {
   "cell_type": "code",
   "execution_count": null,
   "metadata": {},
   "outputs": [],
   "source": [
    "# import da biblioteca networkx\n",
    "import networkx as nx\n",
    "\n",
    "# import matplotlib\n",
    "import matplotlib as mpl\n",
    "import matplotlib.pyplot as plt"
   ]
  },
  {
   "cell_type": "markdown",
   "metadata": {},
   "source": [
    "## Grafos"
   ]
  },
  {
   "cell_type": "code",
   "execution_count": null,
   "metadata": {},
   "outputs": [],
   "source": [
    "# gera o grafo karate club e armazena ele em g\n",
    "g = nx.karate_club_graph()"
   ]
  },
  {
   "cell_type": "code",
   "execution_count": null,
   "metadata": {},
   "outputs": [],
   "source": [
    "# imprime uma lista com os nós de g (karate club)\n",
    "print(f'nós: {g.nodes()}')"
   ]
  },
  {
   "cell_type": "code",
   "execution_count": null,
   "metadata": {},
   "outputs": [],
   "source": [
    "# imprime uma lista com as arestas de g (karate club)\n",
    "print(f'arestas: {g.edges()}')"
   ]
  },
  {
   "cell_type": "code",
   "execution_count": null,
   "metadata": {},
   "outputs": [],
   "source": [
    "# cria uma figura e um conjunto de subplots\n",
    "fig, ax = plt.subplots(figsize=(12,8))\n",
    "\n",
    "# imprime o grafo g (karate club)\n",
    "nx.draw(g, node_size=500, with_labels = True)\n",
    "\n",
    "# mostra as figuras \n",
    "plt.show()"
   ]
  },
  {
   "cell_type": "code",
   "execution_count": null,
   "metadata": {},
   "outputs": [],
   "source": [
    "# cria uma figura e um conjunto de subplots\n",
    "fig, ax = plt.subplots(1,1,figsize=(12,8))\n",
    "\n",
    "# imprime o grafo g (karate club) no estilo circular \n",
    "nx.draw_circular(g, node_size=500, with_labels = True)\n",
    "\n",
    "# mostra as figuras\n",
    "plt.show()"
   ]
  },
  {
   "cell_type": "code",
   "execution_count": null,
   "metadata": {},
   "outputs": [],
   "source": [
    "fig, ax = plt.subplots(1,1,figsize=(12,8))\n",
    "\n",
    "# imprime o grafo g (karate club) no estilo kamada_kawai\n",
    "nx.draw_kamada_kawai(g, node_size=500, with_labels = True)\n",
    "\n",
    "plt.show()"
   ]
  },
  {
   "cell_type": "code",
   "execution_count": null,
   "metadata": {},
   "outputs": [],
   "source": [
    "# imprime os vizinhos do nó 12 do grafo g (karate club)\n",
    "print(f\"vizinhos do nó 12 em g: {list(g.neighbors(12))}\")"
   ]
  },
  {
   "cell_type": "code",
   "execution_count": null,
   "metadata": {},
   "outputs": [],
   "source": [
    "fig, ax = plt.subplots(1,1,figsize=(12,8))\n",
    "\n",
    "# gera uma árvore binomial\n",
    "gab = nx.binomial_tree(4)\n",
    "\n",
    "# grafico do grafo gab\n",
    "nx.draw(gab, node_size=800, with_labels = True)\n",
    "\n",
    "plt.show()"
   ]
  },
  {
   "cell_type": "code",
   "execution_count": null,
   "metadata": {},
   "outputs": [],
   "source": [
    "fig, ax = plt.subplots(1,1,figsize=(12,8))\n",
    "\n",
    "# gera um grafo círculo com 6 nós\n",
    "gci = nx.circulant_graph(6,[1])\n",
    "\n",
    "# grafico do grafo gci\n",
    "nx.draw(gci, node_size=800, with_labels = True)\n",
    "\n",
    "plt.show()"
   ]
  },
  {
   "cell_type": "code",
   "execution_count": null,
   "metadata": {},
   "outputs": [],
   "source": [
    "fig, ax = plt.subplots(1,1,figsize=(12,8))\n",
    "\n",
    "# gera um grafo regular com 6 nós e 3 arestas por nó\n",
    "gre = nx.random_regular_graph(3, 6)\n",
    "\n",
    "# grafico do grafo gre\n",
    "nx.draw(gre, node_size=800, with_labels = True)\n",
    "\n",
    "plt.show()"
   ]
  },
  {
   "cell_type": "code",
   "execution_count": null,
   "metadata": {},
   "outputs": [],
   "source": [
    "# creates a figure and a grid of subplots\n",
    "fig, ax = plt.subplots(1,1,figsize=(12,8))\n",
    "\n",
    "# gera um grafo completo com 6 nós\n",
    "gco = nx.complete_graph(6)\n",
    "\n",
    "# grafico do grafo gco\n",
    "nx.draw(gco, node_size=800, with_labels = True)\n",
    "\n",
    "plt.show()"
   ]
  },
  {
   "cell_type": "code",
   "execution_count": null,
   "metadata": {},
   "outputs": [],
   "source": [
    "fig, ax = plt.subplots(1,1,figsize=(12,8))\n",
    "\n",
    "# gera o grafo aleatório de Erdös-Rényi com 6 nós e probabilidade 0.25\n",
    "ger = nx.gnp_random_graph(6, 0.25)\n",
    "\n",
    "# grafico do grafo ger\n",
    "nx.draw(ger, node_size=800, with_labels = True)\n",
    "\n",
    "\n",
    "plt.show()"
   ]
  },
  {
   "cell_type": "code",
   "execution_count": null,
   "metadata": {},
   "outputs": [],
   "source": [
    "fig, ax = plt.subplots(1,1,figsize=(12,8))\n",
    "\n",
    "# gera um grafo direcionado gfa\n",
    "gfa = nx.DiGraph()\n",
    "\n",
    "# adcionar nós ao grafo gfa\n",
    "gfa.add_nodes_from(['Avó','Avô','Pai','Mãe','Filho','Filha'])\n",
    "\n",
    "# adicionar arestas ao grafo gfa\n",
    "gfa.add_edge('Avó','Pai')    #Avó -> Pai\n",
    "gfa.add_edge('Avô','Pai')    #Avô -> Pai\n",
    "gfa.add_edge('Pai','Filho')  #Pai -> Filho\n",
    "gfa.add_edge('Pai','Filha')  #Pai -> Filha\n",
    "gfa.add_edge('Mãe','Filho')  #Mãe -> Filho\n",
    "gfa.add_edge('Mãe','Filha')  #Mãe -> Filha\n",
    "\n",
    "# definindo a posição dos nos\n",
    "pos = nx.circular_layout(gfa)\n",
    "pos['Avó'] = [-1 ,0]\n",
    "pos['Avô'] = [+0 ,0]\n",
    "pos['Pai'] = [-0.5,-0.5]\n",
    "pos['Mãe'] = [+1.5,-0.5]\n",
    "pos['Filho'] = [+0.0,-1.0]\n",
    "pos['Filha'] = [+1.0,-1.0]\n",
    "\n",
    "# grafico do grafo gfa\n",
    "#nx.draw(gfa, with_labels = True)\n",
    "nx.draw(gfa, pos=pos, node_size=2000, with_labels=True, arrows=True)\n",
    "\n",
    "plt.show()"
   ]
  },
  {
   "cell_type": "code",
   "execution_count": null,
   "metadata": {},
   "outputs": [],
   "source": [
    "# Random Graphs in networkx\n",
    "\n",
    "fig, ax = plt.subplots(1,1,figsize=(12,8))\n",
    "\n",
    "# Parameters:\n",
    "# n int The number of nodes.\n",
    "# p float Probability for edge creation.\n",
    "# seed integer, random_state, or None (default) Indicator of random number generation state.\n",
    "# directed bool, optional (default=False) If True, this function returns a directed graph.\n",
    "\n",
    "# gera grafo aleatório de Erdos Renyi\n",
    "er = nx.erdos_renyi_graph(100, 0.15)\n",
    "\n",
    "# grafico do grafo er\n",
    "nx.draw(er, node_size=500, with_labels = \"True\")\n",
    "\n",
    "plt.show()"
   ]
  },
  {
   "cell_type": "markdown",
   "metadata": {},
   "source": [
    "## Metricas globais"
   ]
  },
  {
   "cell_type": "markdown",
   "metadata": {},
   "source": [
    "### Densidade"
   ]
  },
  {
   "cell_type": "code",
   "execution_count": null,
   "metadata": {},
   "outputs": [],
   "source": [
    "# imprime a densidade do grafo g (karate club)\n",
    "print(f\"dens(g) = {nx.density(g)}\")"
   ]
  },
  {
   "cell_type": "code",
   "execution_count": null,
   "metadata": {},
   "outputs": [],
   "source": [
    "# imprime a densidade do grafo gre (grafo regular com 6 nós e 3 arestas por nó)\n",
    "print(f\"dens(gre) = {nx.density(gre)}\")"
   ]
  },
  {
   "cell_type": "code",
   "execution_count": null,
   "metadata": {},
   "outputs": [],
   "source": [
    "# imprime a densidade do grafo gco (grafo completo com 6 nós)\n",
    "print(f\"dens(gco) = {nx.density(gco)}\")"
   ]
  },
  {
   "cell_type": "markdown",
   "metadata": {},
   "source": [
    "### Cumprimento de caminhos\n",
    "\n",
    "**Diâmetro**: maior distância geodésica(shortest path) entre dois nós em uma mesma componente.\n",
    "\n",
    "**Comprimento médio dos caminhos**: média de todas as distâncias geodésicas entre dois nós que são conectados na rede.\n"
   ]
  },
  {
   "cell_type": "code",
   "execution_count": null,
   "metadata": {},
   "outputs": [],
   "source": [
    "# imprime o shortest path de 3 a 20 do grafo g(karate club)\n",
    "print(f\"caminho de 3 a 20 = {nx.shortest_path(g, 3, 20)}\")"
   ]
  },
  {
   "cell_type": "code",
   "execution_count": null,
   "metadata": {},
   "outputs": [],
   "source": [
    "# imprime o tamanho do shortest path de 3 a 20 do grafo g(karate club)\n",
    "print(f\"tamanho do caminho de 3 a 20 = {nx.shortest_path_length(g,3,20)}\")"
   ]
  },
  {
   "cell_type": "code",
   "execution_count": null,
   "metadata": {},
   "outputs": [],
   "source": [
    "# calcula o comprimento médio dos caminhos geodesicos de g (karate club)\n",
    "print(f\"comprimento médio de g = {nx.average_shortest_path_length(g)}\")"
   ]
  },
  {
   "cell_type": "code",
   "execution_count": null,
   "metadata": {},
   "outputs": [],
   "source": [
    "# imprime o diâmetro de g (karate club)\n",
    "print(f\"diâmetro de g = {nx.diameter(g)}\")"
   ]
  },
  {
   "cell_type": "markdown",
   "metadata": {},
   "source": [
    "### Graus"
   ]
  },
  {
   "cell_type": "code",
   "execution_count": null,
   "metadata": {},
   "outputs": [],
   "source": [
    "# imprime o grau do nó 0 do grafo g (karate club)\n",
    "print(f\"grau do nó 0: {g.degree(0)}\")"
   ]
  },
  {
   "cell_type": "code",
   "execution_count": null,
   "metadata": {},
   "outputs": [],
   "source": [
    "# imprime lista com o grau dos nós 0, 1 e 2 do grafo g(karate club)\n",
    "print(f\"graus dos nós 0, 1 e 2: {list(g.degree([0,1,2]))}\")"
   ]
  },
  {
   "cell_type": "code",
   "execution_count": null,
   "metadata": {},
   "outputs": [],
   "source": [
    "# imprime lista com as frequências de ocorrência de graus: #grau0, #grau1, etc\n",
    "print(f\"frequências de ocorrência dos graus: {nx.degree_histogram(g)}\")\n"
   ]
  },
  {
   "cell_type": "markdown",
   "metadata": {},
   "source": [
    "### Agrupamento\n",
    "\n",
    "O **coeficiente de agrupamento total** é dado pela proporção de vezes que dois vértices j e k que são vizinhos de um mesmo vértice i também são vizinhos entre si"
   ]
  },
  {
   "cell_type": "code",
   "execution_count": null,
   "metadata": {},
   "outputs": [],
   "source": [
    "# imprime o coeficiente de agrupamento total(cl) do grafo g (karate club) \n",
    "print(f\"cl(g) = {nx.transitivity(g)}\")"
   ]
  },
  {
   "cell_type": "code",
   "execution_count": null,
   "metadata": {},
   "outputs": [],
   "source": [
    "# imprime o cl do grafo gci () \n",
    "print(f\"cl(gci) = {nx.transitivity(gci)}\")"
   ]
  },
  {
   "cell_type": "code",
   "execution_count": null,
   "metadata": {},
   "outputs": [],
   "source": [
    "# imprime o cl do grafo gre () \n",
    "print(f\"cl(gre) = {nx.transitivity(gre)}\")"
   ]
  },
  {
   "cell_type": "code",
   "execution_count": null,
   "metadata": {},
   "outputs": [],
   "source": [
    "# imprime o cl do grafo gco () \n",
    "print(f\"cl(gco) = {nx.transitivity(gco)}\")"
   ]
  },
  {
   "cell_type": "markdown",
   "metadata": {},
   "source": [
    "### Reciprocidade\n",
    "\n",
    "**Reciprocidade**: fração de arestas que ocorrem em ambas as direções."
   ]
  },
  {
   "cell_type": "code",
   "execution_count": null,
   "metadata": {},
   "outputs": [],
   "source": [
    "# cria um grafo direcionado gdi\n",
    "gdi = nx.DiGraph()\n",
    "\n",
    "# adiciona lista de nós a gdi\n",
    "gdi.add_nodes_from(['A','B','C'])\n",
    "\n",
    "# adiciona arestas a gdi\n",
    "gdi.add_edge('A','B')  #A -> B\n",
    "gdi.add_edge('B','A')  #B -> A\n",
    "gdi.add_edge('B','C')  #B -> C\n",
    "gdi.add_edge('C','A')  #C -> A"
   ]
  },
  {
   "cell_type": "code",
   "execution_count": null,
   "metadata": {},
   "outputs": [],
   "source": [
    "fig, ax = plt.subplots(1,1,figsize=(10,8))\n",
    "\n",
    "# grafico do grafo gdi\n",
    "nx.draw(gdi, node_size=800, with_labels = True)"
   ]
  },
  {
   "cell_type": "code",
   "execution_count": null,
   "metadata": {},
   "outputs": [],
   "source": [
    "# imprime a reciprocidade de gdi\n",
    "print(f\"re(gdi) = {nx.reciprocity(gdi)}\")"
   ]
  },
  {
   "cell_type": "markdown",
   "metadata": {},
   "source": []
  }
 ],
 "metadata": {
  "kernelspec": {
   "display_name": "Python 3",
   "language": "python",
   "name": "python3"
  },
  "language_info": {
   "codemirror_mode": {
    "name": "ipython",
    "version": 3
   },
   "file_extension": ".py",
   "mimetype": "text/x-python",
   "name": "python",
   "nbconvert_exporter": "python",
   "pygments_lexer": "ipython3",
   "version": "3.10.12"
  }
 },
 "nbformat": 4,
 "nbformat_minor": 2
}
