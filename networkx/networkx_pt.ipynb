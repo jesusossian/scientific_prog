{
 "cells": [
  {
   "cell_type": "markdown",
   "metadata": {},
   "source": [
    "# Biblioteca networkx\n",
    "\n",
    "NetworkX é uma biblioteca Python para a criação, manipulação, e estudo de redes complexas.\n",
    "\n",
    "Com o NetworkX você pode carregar e guardar redes em arquivos com diferentes formatos, gerar redes classicas e aleatórias, analisar a estrutura de uma rede, construir modelos de rede, elaborar algoritmos para redes, elaborar gráficos de redes, e muito mais."
   ]
  },
  {
   "cell_type": "markdown",
   "metadata": {},
   "source": [
    "## Importando a biblioteca do networkx"
   ]
  },
  {
   "cell_type": "code",
   "execution_count": null,
   "metadata": {},
   "outputs": [],
   "source": [
    "# importando networkx\n",
    "import networkx as nx"
   ]
  },
  {
   "cell_type": "markdown",
   "metadata": {},
   "source": [
    "## Criando um grafo\n",
    "\n",
    "Um **grafo** é uma coleção de nodes (vértices) e ligações entre pares de nodes (arestas, links, etc).\n",
    "\n",
    "O grafo **G** pode ser criado de vários modos."
   ]
  },
  {
   "cell_type": "code",
   "execution_count": null,
   "metadata": {},
   "outputs": [],
   "source": [
    "# Criando um grafo vazio.\n",
    "G = nx.Graph()"
   ]
  },
  {
   "cell_type": "code",
   "execution_count": null,
   "metadata": {},
   "outputs": [],
   "source": [
    "# verificando o tipo do objeto G\n",
    "type(G)"
   ]
  },
  {
   "cell_type": "code",
   "execution_count": null,
   "metadata": {},
   "outputs": [],
   "source": [
    "# plotando o grafo G\n",
    "nx.draw(G, with_labels = \"True\")"
   ]
  },
  {
   "cell_type": "markdown",
   "metadata": {},
   "source": [
    "## Vértices\n",
    "\n"
   ]
  },
  {
   "cell_type": "code",
   "execution_count": null,
   "metadata": {},
   "outputs": [],
   "source": [
    "# adicionando o vértice 1 ao grafo G\n",
    "G.add_node(1)"
   ]
  },
  {
   "cell_type": "code",
   "execution_count": null,
   "metadata": {},
   "outputs": [],
   "source": [
    "# plotando o grafo G\n",
    "nx.draw(G, with_labels = \"True\")"
   ]
  },
  {
   "cell_type": "code",
   "execution_count": null,
   "metadata": {},
   "outputs": [],
   "source": [
    "# adicionando vértices de uma lista (iterable container)\n",
    "G.add_nodes_from([2, 3])\n",
    "nx.draw(G, with_labels = \"True\")"
   ]
  },
  {
   "cell_type": "code",
   "execution_count": null,
   "metadata": {},
   "outputs": [],
   "source": [
    "# Gerando um grafo de caminho com 10 vértices\n",
    "H = nx.path_graph(10)\n",
    "nx.draw(H, with_labels = \"True\")"
   ]
  },
  {
   "cell_type": "code",
   "execution_count": null,
   "metadata": {},
   "outputs": [],
   "source": [
    "# adicionando em um grafo G vértices do grafo H\n",
    "G.add_nodes_from(H)\n",
    "nx.draw(G, with_labels = \"True\")"
   ]
  },
  {
   "cell_type": "code",
   "execution_count": null,
   "metadata": {},
   "outputs": [],
   "source": [
    "# Remove todos os vértices e arestas de um grafo\n",
    "G.clear()\n",
    "nx.draw(G)"
   ]
  },
  {
   "cell_type": "markdown",
   "metadata": {},
   "source": [
    "## Arestas"
   ]
  },
  {
   "cell_type": "code",
   "execution_count": null,
   "metadata": {},
   "outputs": [],
   "source": [
    "# adicionando os vértices 1 e 2 e a aresta (1,2)\n",
    "G.add_edge(1, 2)\n",
    "nx.draw(G, with_labels = \"True\")"
   ]
  },
  {
   "cell_type": "code",
   "execution_count": null,
   "metadata": {},
   "outputs": [],
   "source": [
    "# Adiciona o vértice 3 e a aresta (2,3) ao grafo G\n",
    "e = (2, 3)\n",
    "G.add_edge(*e)  # unpack edge tuple*\n",
    "nx.draw(G, with_labels = \"True\")\n"
   ]
  },
  {
   "cell_type": "code",
   "execution_count": null,
   "metadata": {},
   "outputs": [],
   "source": [
    "# limpando o grafo G\n",
    "G.clear()\n",
    "nx.draw(G)"
   ]
  },
  {
   "cell_type": "code",
   "execution_count": null,
   "metadata": {},
   "outputs": [],
   "source": [
    "# adiciona a G os vértices 1, 2 e 3, e as arestas (1,2) e (2,3) \n",
    "G.add_edges_from([(1, 2), (1, 3)])\n",
    "nx.draw(G, with_labels = \"True\")"
   ]
  },
  {
   "cell_type": "code",
   "execution_count": null,
   "metadata": {},
   "outputs": [],
   "source": [
    "# Criando um grafo G\n",
    "\n",
    "G.add_edges_from([(1, 2), (1, 3)])\n",
    "#G.add_node(1)\n",
    "#G.add_edge(1, 2)\n",
    "G.add_node(\"spam\")        # adiciona o vértice \"spam\"\n",
    "G.add_nodes_from(\"spam\")  # adiciona 4 vértices: 's', 'p', 'a', 'm'\n",
    "G.add_edge(3, 'm')\n",
    "nx.draw(G, with_labels = \"True\")"
   ]
  },
  {
   "cell_type": "code",
   "execution_count": null,
   "metadata": {},
   "outputs": [],
   "source": [
    "# número de vértices\n",
    "n = G.number_of_nodes()\n",
    "print(\"número de véritices de G:\", n)"
   ]
  },
  {
   "cell_type": "code",
   "execution_count": null,
   "metadata": {},
   "outputs": [],
   "source": [
    "# número de arests\n",
    "m = G.number_of_edges()\n",
    "print(\"número de arestas de G:\", m)"
   ]
  },
  {
   "cell_type": "code",
   "execution_count": null,
   "metadata": {},
   "outputs": [],
   "source": [
    "# retorna uma lista com os vértices\n",
    "print(G.nodes())"
   ]
  },
  {
   "cell_type": "code",
   "execution_count": null,
   "metadata": {},
   "outputs": [],
   "source": [
    "# retorna uma lista com as arestas\n",
    "print(G.edges())"
   ]
  },
  {
   "cell_type": "code",
   "execution_count": null,
   "metadata": {},
   "outputs": [],
   "source": [
    "# retorna uma lista com os vizinhos do vértice 1\n",
    "list(G.neighbors(1))"
   ]
  },
  {
   "cell_type": "code",
   "execution_count": null,
   "metadata": {},
   "outputs": [],
   "source": [
    "# remove os vértices s, p, a, m e as arestas que ligadas a eles\n",
    "G.remove_nodes_from(\"spam\")\n",
    "nx.draw(G, with_labels = \"True\")"
   ]
  },
  {
   "cell_type": "code",
   "execution_count": null,
   "metadata": {},
   "outputs": [],
   "source": [
    "G.clear()\n",
    "nx.draw(G)"
   ]
  },
  {
   "cell_type": "code",
   "execution_count": null,
   "metadata": {},
   "outputs": [],
   "source": [
    "list(H.edges())"
   ]
  },
  {
   "cell_type": "code",
   "execution_count": null,
   "metadata": {},
   "outputs": [],
   "source": [
    "# limpando H\n",
    "H.clear()"
   ]
  },
  {
   "cell_type": "code",
   "execution_count": null,
   "metadata": {},
   "outputs": [],
   "source": [
    "# Criando um digrafo\n",
    "DG = nx.DiGraph()\n",
    "DG.add_edge(2, 1)\n",
    "DG.add_edge(1, 3)\n",
    "DG.add_edge(2, 4)\n",
    "DG.add_edge(1, 2)\n",
    "nx.draw(DG, with_labels = \"True\")"
   ]
  },
  {
   "cell_type": "code",
   "execution_count": null,
   "metadata": {},
   "outputs": [],
   "source": [
    "type(DG)"
   ]
  },
  {
   "cell_type": "code",
   "execution_count": null,
   "metadata": {},
   "outputs": [],
   "source": [
    "list(DG.successors(2))"
   ]
  },
  {
   "cell_type": "code",
   "execution_count": null,
   "metadata": {},
   "outputs": [],
   "source": [
    "list(DG.edges)"
   ]
  },
  {
   "cell_type": "code",
   "execution_count": null,
   "metadata": {},
   "outputs": [],
   "source": [
    "# definindo uma lista de arestas\n",
    "edgelist = [(0, 1), (1, 2), (2, 3)]"
   ]
  },
  {
   "cell_type": "code",
   "execution_count": null,
   "metadata": {},
   "outputs": [],
   "source": [
    "G = nx.Graph(edgelist)\n",
    "nx.draw(G, with_labels = \"True\")"
   ]
  },
  {
   "cell_type": "code",
   "execution_count": null,
   "metadata": {},
   "outputs": [],
   "source": [
    "list(G.edges())"
   ]
  },
  {
   "cell_type": "code",
   "execution_count": null,
   "metadata": {},
   "outputs": [],
   "source": [
    "DG.clear()\n",
    "nx.draw(DG)"
   ]
  },
  {
   "cell_type": "code",
   "execution_count": null,
   "metadata": {},
   "outputs": [],
   "source": [
    "# criando um grafo com pesos nas arestas\n",
    "FG = nx.Graph()\n",
    "edgelist1 = [(1,2,0.125), (1,3,0.75), (2,4,1.2), (3,4,0.375)]\n",
    "FG.add_weighted_edges_from(edgelist1)"
   ]
  },
  {
   "cell_type": "code",
   "execution_count": null,
   "metadata": {},
   "outputs": [],
   "source": [
    "list(FG.adjacency())"
   ]
  },
  {
   "cell_type": "code",
   "execution_count": null,
   "metadata": {},
   "outputs": [],
   "source": [
    "for n,nbrs in FG.adjacency():\n",
    "    for nbr,eattr in nbrs.items():\n",
    "        data = eattr['weight']\n",
    "        if data < 0.5:\n",
    "            print('(%d, %d, %.3f)' % (n, nbr, data))"
   ]
  },
  {
   "cell_type": "code",
   "execution_count": null,
   "metadata": {},
   "outputs": [],
   "source": [
    "list(FG.edges())"
   ]
  },
  {
   "cell_type": "code",
   "execution_count": null,
   "metadata": {},
   "outputs": [],
   "source": [
    "list(FG.edges(data='weight'))"
   ]
  },
  {
   "cell_type": "code",
   "execution_count": null,
   "metadata": {},
   "outputs": [],
   "source": [
    "for (u, v, d) in FG.edges(data='weight'):\n",
    "    if d < 0.5:\n",
    "        print('(%d, %d, %.3f)'%(u, v, d))"
   ]
  },
  {
   "cell_type": "markdown",
   "metadata": {},
   "source": [
    "## MultiGraphs"
   ]
  },
  {
   "cell_type": "markdown",
   "metadata": {},
   "source": [
    "NetworkX provides classes for graphs which allow multiple edges between any pair of nodes. \n",
    "\n",
    "The **MultiGraph** and **MultiDiGraph** classes allow you to add the same edge twice, possibly with different edge data. "
   ]
  },
  {
   "cell_type": "code",
   "execution_count": null,
   "metadata": {},
   "outputs": [],
   "source": [
    "MG = nx.MultiGraph()"
   ]
  },
  {
   "cell_type": "code",
   "execution_count": null,
   "metadata": {},
   "outputs": [],
   "source": [
    "listedge2 = [(1, 2, .5), (1, 2, .75), (2, 3, .5)]\n",
    "MG.add_weighted_edges_from(listedge2)"
   ]
  },
  {
   "cell_type": "code",
   "execution_count": null,
   "metadata": {},
   "outputs": [],
   "source": [
    "nx.draw(MG, with_labels = \"True\")"
   ]
  },
  {
   "cell_type": "code",
   "execution_count": null,
   "metadata": {},
   "outputs": [],
   "source": [
    "list(MG.degree(weight='weight'))"
   ]
  },
  {
   "cell_type": "code",
   "execution_count": null,
   "metadata": {},
   "outputs": [],
   "source": [
    "GG = nx.Graph()"
   ]
  },
  {
   "cell_type": "code",
   "execution_count": null,
   "metadata": {},
   "outputs": [],
   "source": [
    "for n,nbrs in MG.adjacency():\n",
    "    for nbr,edict in nbrs.items():\n",
    "        minvalue = min([d['weight'] for d in edict.values()])\n",
    "        GG.add_edge(n,nbr, weight = minvalue)"
   ]
  },
  {
   "cell_type": "code",
   "execution_count": null,
   "metadata": {},
   "outputs": [],
   "source": [
    "nx.draw(GG, with_labels = \"True\")"
   ]
  },
  {
   "cell_type": "code",
   "execution_count": null,
   "metadata": {},
   "outputs": [],
   "source": [
    "nx.shortest_path(GG, 1, 3)"
   ]
  },
  {
   "cell_type": "markdown",
   "metadata": {},
   "source": [
    "## Gerando grafos"
   ]
  },
  {
   "cell_type": "markdown",
   "metadata": {},
   "source": [
    "### Grafos clássicos"
   ]
  },
  {
   "cell_type": "code",
   "execution_count": null,
   "metadata": {},
   "outputs": [],
   "source": [
    "petersen = nx.petersen_graph()\n",
    "nx.draw(petersen, with_labels = \"True\")"
   ]
  },
  {
   "cell_type": "code",
   "execution_count": null,
   "metadata": {},
   "outputs": [],
   "source": [
    "tutte = nx.tutte_graph()\n",
    "nx.draw(tutte, with_labels = \"True\")"
   ]
  },
  {
   "cell_type": "code",
   "execution_count": null,
   "metadata": {},
   "outputs": [],
   "source": [
    "maze = nx.sedgewick_maze_graph()\n",
    "nx.draw(maze, with_labels = \"True\")"
   ]
  },
  {
   "cell_type": "code",
   "execution_count": null,
   "metadata": {},
   "outputs": [],
   "source": [
    "tet = nx.tetrahedral_graph()\n",
    "nx.draw(tet, with_labels = \"True\")"
   ]
  },
  {
   "cell_type": "code",
   "execution_count": null,
   "metadata": {},
   "outputs": [],
   "source": [
    "K_5 = nx.complete_graph(5)\n",
    "nx.draw(K_5)"
   ]
  },
  {
   "cell_type": "markdown",
   "metadata": {},
   "source": [
    "### Gerador de grafos stochasticos"
   ]
  },
  {
   "cell_type": "code",
   "execution_count": null,
   "metadata": {},
   "outputs": [],
   "source": [
    "# Random Graphs in networkx\n",
    "# https://networkx.org/documentation/stable/reference/generated/networkx.generators.random_graphs.erdos_renyi_graph.html#networkx.generators.random_graphs.erdos_renyi_graph\n",
    "\n",
    "# Parameters:\n",
    "# n int The number of nodes.\n",
    "# p float Probability for edge creation.\n",
    "# seed integer, random_state, or None (default) Indicator of random number generation state.\n",
    "# directed bool, optional (default=False) If True, this function returns a directed graph.\n",
    "\n",
    "er = nx.erdos_renyi_graph(100, 0.15)\n",
    "nx.draw(er,with_labels = \"True\")"
   ]
  },
  {
   "cell_type": "code",
   "execution_count": null,
   "metadata": {},
   "outputs": [],
   "source": [
    "# G = nx.watts_strogatz_graph(n, k, p, seed=None)\n",
    "# Parameters\n",
    "# n int The number of nodes\n",
    "# k int Each node is joined with its k nearest neighbors in a ring topology.\n",
    "# p float The probability of rewiring each edge\n",
    "# seed integer, random_state, or None (default)Indicator of random number generation state.\n",
    "\n",
    "ws = nx.watts_strogatz_graph(30, 3, 0.1)\n",
    "nx.draw(ws, with_labels = \"True\")"
   ]
  },
  {
   "cell_type": "code",
   "execution_count": null,
   "metadata": {},
   "outputs": [],
   "source": [
    "ba = nx.barabasi_albert_graph(100, 5)\n",
    "nx.draw(ba, with_labels = \"True\")"
   ]
  },
  {
   "cell_type": "code",
   "execution_count": null,
   "metadata": {},
   "outputs": [],
   "source": [
    "red = nx.random_lobster(100, 0.9, 0.9)\n",
    "nx.draw(red, with_labels = \"True\")"
   ]
  },
  {
   "cell_type": "markdown",
   "metadata": {},
   "source": [
    "### Escrevendo e lendo grafos em arquivos: GML,GraphML, pickle, LEDA and others."
   ]
  },
  {
   "cell_type": "code",
   "execution_count": null,
   "metadata": {},
   "outputs": [],
   "source": [
    "nx.write_gml(red, \"lobster.gml\")"
   ]
  },
  {
   "cell_type": "code",
   "execution_count": null,
   "metadata": {},
   "outputs": [],
   "source": [
    "mygraph = nx.read_gml(\"lobster.gml\")\n",
    "nx.draw(mygraph)"
   ]
  },
  {
   "cell_type": "markdown",
   "metadata": {},
   "source": [
    "### Analise de grafos\n",
    "\n",
    "The structure of G can be analyzed using various graph-theoretic functions"
   ]
  },
  {
   "cell_type": "code",
   "execution_count": null,
   "metadata": {},
   "outputs": [],
   "source": [
    "karate = nx.read_gml(\"karate.gml.gz\")# plota o grafo G\n",
    "nx.draw(G, with_labels = \"True\")\n",
    "nx.draw(karate, with_labels = \"True\")\n",
    "\n",
    "n = karate.number_of_nodes()"
   ]
  },
  {
   "cell_type": "code",
   "execution_count": null,
   "metadata": {},
   "outputs": [],
   "source": [
    "#sorted(d for n, d in nx.degree(karate))\n",
    "list(nx.degree(karate))"
   ]
  },
  {
   "cell_type": "code",
   "execution_count": null,
   "metadata": {},
   "outputs": [],
   "source": [
    "status_connected = nx.is_connected(karate)\n",
    "print(\"connected = \", status_connected)"
   ]
  },
  {
   "cell_type": "code",
   "execution_count": null,
   "metadata": {},
   "outputs": [],
   "source": [
    "import numpy as np\n",
    "\n",
    "#inst_=\"karate\"\n",
    "#instance_=f\"{inst_}\"\n",
    "karate = nx.read_gml(\"karate.gml.gz\",destringizer=int)\n",
    "\n",
    "M = karate.number_of_edges()\n",
    "N = karate.number_of_nodes()\n",
    "\n",
    "lstNodes = []\n",
    "nodes = karate.nodes()\n",
    "for v in nodes:\n",
    "    lstNodes.append(v)\n",
    "\n",
    "lstEdges = []\n",
    "edges = karate.edges()\n",
    "for e in edges:\n",
    "    lstEdges.append(e)\n",
    "\n",
    "dm = np.zeros((N,N), dtype=int)\n",
    "p = nx.shortest_path(karate)\n",
    "for i in karate:\n",
    "    for j in karate:\n",
    "        dm[i][j] = len(p[i][j])-1\n",
    "        print(\"dist %d-%d = %d\" %(i, j, dm[i,j]))"
   ]
  },
  {
   "cell_type": "markdown",
   "metadata": {},
   "source": [
    "## Desenhando grafos"
   ]
  },
  {
   "cell_type": "code",
   "execution_count": null,
   "metadata": {},
   "outputs": [],
   "source": [
    "nx.draw(karate, with_labels = \"True\")"
   ]
  },
  {
   "cell_type": "code",
   "execution_count": null,
   "metadata": {},
   "outputs": [],
   "source": [
    "nx.draw_random(karate, with_labels = \"True\")"
   ]
  },
  {
   "cell_type": "code",
   "execution_count": null,
   "metadata": {},
   "outputs": [],
   "source": [
    "nx.draw_circular(karate,with_labels=True)"
   ]
  },
  {
   "cell_type": "code",
   "execution_count": null,
   "metadata": {},
   "outputs": [],
   "source": [
    "nx.draw_spectral(karate, with_labels = \"True\")"
   ]
  },
  {
   "cell_type": "markdown",
   "metadata": {},
   "source": [
    "## Social Networks\n",
    "## Famous social networks.\n",
    "## https://networkx.org/documentation/stable/reference/generators.html"
   ]
  },
  {
   "cell_type": "code",
   "execution_count": null,
   "metadata": {},
   "outputs": [],
   "source": [
    "\n",
    "\n",
    "#G = nx.karate_club_graph()\n",
    "#Returns Zachary's Karate Club graph.\n",
    "\n",
    "#G = nx.davis_southern_women_graph()\n",
    "#Returns Davis Southern women social network.\n",
    "\n",
    "#G = nx.florentine_families_graph()\n",
    "#Returns Florentine families graph.\n",
    "\n",
    "#G= nx.les_miserables_graph()\n",
    "#Returns coappearance network of characters in the novel Les Miserables.\n"
   ]
  },
  {
   "cell_type": "markdown",
   "metadata": {},
   "source": [
    "### TUDataset: A collection of benchmark datasets for learning with graphs\n",
    "https://chrsmrrs.github.io/datasets/docs/datasets/"
   ]
  }
 ],
 "metadata": {
  "kernelspec": {
   "display_name": "Python 3",
   "language": "python",
   "name": "python3"
  },
  "language_info": {
   "codemirror_mode": {
    "name": "ipython",
    "version": 3
   },
   "file_extension": ".py",
   "mimetype": "text/x-python",
   "name": "python",
   "nbconvert_exporter": "python",
   "pygments_lexer": "ipython3",
   "version": "3.10.12"
  }
 },
 "nbformat": 4,
 "nbformat_minor": 2
}
