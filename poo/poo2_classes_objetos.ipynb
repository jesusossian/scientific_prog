{
 "cells": [
  {
   "cell_type": "markdown",
   "metadata": {},
   "source": [
    "## Classes e objetos"
   ]
  },
  {
   "cell_type": "markdown",
   "metadata": {},
   "source": [
    "### Uma analogia:\n",
    "\n",
    "- Suponha o projeto de uma casa (a planta da casa) e a casa em si. \n",
    "\n",
    "- O projeto é a **classe** e a casa, construída a partir desta planta, é o **objeto**. "
   ]
  },
  {
   "cell_type": "markdown",
   "metadata": {},
   "source": [
    "### Classes e objetos\n",
    "\n",
    "- A programação orientada a objetos facilita a escrita e a manutenção de programas, utilizando **classes** e **objetos**.\n",
    "\n",
    "- **Classes** são a definição de um novo tipo de dados que associa dados e operações em uma só estrutura.\n",
    "\n",
    "- **Objeto** é uma variável(instância) cujo tipo é uma **classe**.\n",
    "\n",
    "- A programação orientada a objetos é uma técnica de programação que organiza nossos programas em **classes** e **objetos**."
   ]
  },
  {
   "cell_type": "markdown",
   "metadata": {},
   "source": [
    "- Quando criamos uma classe, estamos criando um novo tipo de dados.\n",
    "Esse novo tipo define seus próprios **métodos** e **atributos**. \n",
    "- Quando criamos um **objeto** associado a uma **classe** estamos criando uma instância dessa **classe**."
   ]
  },
  {
   "cell_type": "markdown",
   "metadata": {},
   "source": [
    "### Exemplo 1: Um conta bancária"
   ]
  },
  {
   "cell_type": "markdown",
   "metadata": {},
   "source": [
    "- Criando uma classe vazia."
   ]
  },
  {
   "cell_type": "code",
   "execution_count": 1,
   "metadata": {},
   "outputs": [],
   "source": [
    "class Conta:\n",
    "    pass"
   ]
  },
  {
   "cell_type": "markdown",
   "metadata": {},
   "source": [
    "- Criando uma instância da classe Conta."
   ]
  },
  {
   "cell_type": "code",
   "execution_count": 2,
   "metadata": {},
   "outputs": [],
   "source": [
    "conta = Conta()"
   ]
  },
  {
   "cell_type": "code",
   "execution_count": 3,
   "metadata": {},
   "outputs": [
    {
     "data": {
      "text/plain": [
       "__main__.Conta"
      ]
     },
     "execution_count": 3,
     "metadata": {},
     "output_type": "execute_result"
    }
   ],
   "source": [
    "type(conta)"
   ]
  },
  {
   "cell_type": "markdown",
   "metadata": {},
   "source": [
    "- Podemos modificar o objeto **conta** em tempo de execução, acrescentando atributos a ele:"
   ]
  },
  {
   "cell_type": "code",
   "execution_count": 4,
   "metadata": {},
   "outputs": [
    {
     "name": "stdout",
     "output_type": "stream",
     "text": [
      "titular da conta: João\n"
     ]
    }
   ],
   "source": [
    "conta.titular = \"João\"\n",
    "print(f\"titular da conta: {conta.titular}\")"
   ]
  },
  {
   "cell_type": "code",
   "execution_count": 5,
   "metadata": {},
   "outputs": [
    {
     "name": "stdout",
     "output_type": "stream",
     "text": [
      "saldo da conta: 120.0\n"
     ]
    }
   ],
   "source": [
    "conta.saldo = 120.0\n",
    "print(f\"saldo da conta: {conta.saldo}\")"
   ]
  },
  {
   "cell_type": "markdown",
   "metadata": {},
   "source": [
    "- Da forma acima não garantimos que toda instância de `Conta` tenha um atributo `titular` ou `saldo`. \n",
    "- Em linguagens orientadas a objetos existe uma maneira padronizada de criar atributos de um objeto, através de uma função construtora (método `__init__`)."
   ]
  },
  {
   "cell_type": "markdown",
   "metadata": {},
   "source": [
    "### Construtor\n",
    "\n",
    "- O método `__init__` é chamado sempre que um objeto de classe é criado, ele é chamado de construtor(constructor).  \n",
    "- É o construtor que inicializa nosso novo objeto com seus valores-padrão.\n",
    "- O método `__init__` recebe um parâmetro chamado `self` que representa o objeto em si.\n",
    "- Quando uma classe é criada, todos os seus atributos serão inicializados pelo método `__init__()`."
   ]
  },
  {
   "cell_type": "markdown",
   "metadata": {},
   "source": [
    "- Apesar de muitos programadores chamarem este método de construtor, ele não cria um objeto. \n",
    "- Existe outro método, chamado antes do `__init_()` pelo interpretador do Python, o método `__new()__`. \n",
    "- O método `__new__()` é realmente o construtor e é quem realmente cria uma nova instância. \n",
    "- O método `__init__()` é responsável por inicializar o objeto, tanto é que já recebe a própria instância (`self`) criada pelo construtor como argumento."
   ]
  },
  {
   "cell_type": "markdown",
   "metadata": {},
   "source": [
    "### Exemplo 1: Uma TV\n",
    "\n",
    "- Considere uma TV que possui marca e um tamanho de tela. \n",
    "Esse aparelho pode ser ligado e desligado, e pode ter seus canais alterados."
   ]
  },
  {
   "cell_type": "code",
   "execution_count": 6,
   "metadata": {},
   "outputs": [],
   "source": [
    "# definicao da classe Televisao\n",
    "class Televisao:\n",
    "    def __init__(self):\n",
    "        self.ligada = False\n",
    "        self.canal = 2"
   ]
  },
  {
   "cell_type": "code",
   "execution_count": 7,
   "metadata": {},
   "outputs": [],
   "source": [
    "# instanciando o objeto tv\n",
    "tv = Televisao()"
   ]
  },
  {
   "cell_type": "markdown",
   "metadata": {},
   "source": [
    "- Ao se criar um um objeto `tv` é criado uma nova instância de `Televisao` na memória. \n",
    "- O método `__new__()`, devolve uma referência, uma seta que aponta para o objeto em memória e é guardada na variável `tv`.\n",
    "- Para manipularmos o objeto conta e acessar seus atributos utilizamos o operador `.` (ponto)."
   ]
  },
  {
   "cell_type": "code",
   "execution_count": 8,
   "metadata": {},
   "outputs": [
    {
     "name": "stdout",
     "output_type": "stream",
     "text": [
      "A TV estah ligada: False\n"
     ]
    }
   ],
   "source": [
    "print(f\"A TV estah ligada: {tv.ligada}\")"
   ]
  },
  {
   "cell_type": "code",
   "execution_count": 9,
   "metadata": {},
   "outputs": [
    {
     "name": "stdout",
     "output_type": "stream",
     "text": [
      "Qual o canal atual da tv: 2\n"
     ]
    }
   ],
   "source": [
    "print(f\"Qual o canal atual da tv: {tv.canal}\")"
   ]
  },
  {
   "cell_type": "code",
   "execution_count": 10,
   "metadata": {},
   "outputs": [],
   "source": [
    "tv_sala = Televisao()"
   ]
  },
  {
   "cell_type": "code",
   "execution_count": 11,
   "metadata": {},
   "outputs": [
    {
     "name": "stdout",
     "output_type": "stream",
     "text": [
      "False, 2\n"
     ]
    }
   ],
   "source": [
    "print(f\"{tv_sala.ligada}, {tv_sala.canal}\")"
   ]
  },
  {
   "cell_type": "code",
   "execution_count": 12,
   "metadata": {},
   "outputs": [],
   "source": [
    "tv_sala.ligada = True\n",
    "tv_sala.canal = 4"
   ]
  },
  {
   "cell_type": "code",
   "execution_count": 13,
   "metadata": {},
   "outputs": [
    {
     "name": "stdout",
     "output_type": "stream",
     "text": [
      "True, 4\n"
     ]
    }
   ],
   "source": [
    "print(f\"{tv_sala.ligada}, {tv_sala.canal}\")"
   ]
  }
 ],
 "metadata": {
  "kernelspec": {
   "display_name": "Python 3",
   "language": "python",
   "name": "python3"
  },
  "language_info": {
   "codemirror_mode": {
    "name": "ipython",
    "version": 3
   },
   "file_extension": ".py",
   "mimetype": "text/x-python",
   "name": "python",
   "nbconvert_exporter": "python",
   "pygments_lexer": "ipython3",
   "version": "3.10.12"
  }
 },
 "nbformat": 4,
 "nbformat_minor": 2
}
