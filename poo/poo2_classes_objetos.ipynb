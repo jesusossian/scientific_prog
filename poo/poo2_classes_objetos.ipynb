{
 "cells": [
  {
   "cell_type": "markdown",
   "metadata": {},
   "source": [
    "## Classes e objetos"
   ]
  },
  {
   "cell_type": "markdown",
   "metadata": {},
   "source": [
    "### Uma analogia:\n",
    "\n",
    "- Suponha o projeto de uma casa (a planta da casa) e a casa em si. \n",
    "\n",
    "- O projeto é a **classe** e a casa, construída a partir desta planta, é o **objeto**. \n",
    "\n",
    "- O projeto da conta, isto é, a definição da conta, é a **classe**. \n",
    "\n",
    "- O que podemos construir(instanciar) a partir dessa **classe**, as contas de verdade, damos o nome de **objetos**."
   ]
  },
  {
   "cell_type": "markdown",
   "metadata": {},
   "source": [
    "### Classes e objetos\n",
    "\n",
    "- A programação orientada a objetos facilita a escrita e a manutenção de programas, utilizando **classes** e **objetos**.\n",
    "\n",
    "- **Classes** são a definição de um novo tipo de dados que associa dados e operações em uma só estrutura.\n",
    "\n",
    "- **Objeto** é uma variável cujo tipo é uma **classe**. Um **objeto** é uma instância de uma **classe**.\n",
    "\n",
    "- A programação orientada a objetos é uma técnica de programação que organiza nossos programas em **classes** e **objetos**."
   ]
  },
  {
   "cell_type": "markdown",
   "metadata": {},
   "source": [
    "- Quando criamos uma classe, estamos criando um novo tipo de dados. \n",
    "Esse novo tipo define seus próprios **métodos** e **atributos**. \n",
    "Quando criamos um **objeto** associado a uma **classe** estamos instanciando ou criando uma instância dessa **classe**.\n",
    "\n",
    "- Podemos entender um **objeto** como uma representação de um **objeto** do mundo real, escrito em uma linguagem de programação."
   ]
  },
  {
   "cell_type": "markdown",
   "metadata": {},
   "source": [
    "### Exemplo 1: Um conta bancária"
   ]
  },
  {
   "cell_type": "markdown",
   "metadata": {},
   "source": [
    "- Criando um classe vazia."
   ]
  },
  {
   "cell_type": "code",
   "execution_count": null,
   "metadata": {},
   "outputs": [],
   "source": [
    "class Conta:\n",
    "    pass"
   ]
  },
  {
   "cell_type": "markdown",
   "metadata": {},
   "source": [
    "- Criando uma instância dessa classe."
   ]
  },
  {
   "cell_type": "code",
   "execution_count": null,
   "metadata": {},
   "outputs": [],
   "source": [
    "conta = Conta()"
   ]
  },
  {
   "cell_type": "markdown",
   "metadata": {},
   "source": [
    "- Podemos modificar esse objeto conta em tempo de execução, acrescentando atributos a ele:"
   ]
  },
  {
   "cell_type": "code",
   "execution_count": null,
   "metadata": {},
   "outputs": [],
   "source": [
    "conta.titular = \"João\"\n",
    "print(f\"titular da conta: {conta.titular}\")"
   ]
  },
  {
   "cell_type": "code",
   "execution_count": null,
   "metadata": {},
   "outputs": [],
   "source": [
    "conta.saldo = 120.0\n",
    "print(f\"saldo da conta: {conta.saldo}\")"
   ]
  },
  {
   "cell_type": "markdown",
   "metadata": {},
   "source": [
    "- Ainda não garantimos que toda instância de `Conta` tenha um atributo `titular` ou `saldo`. \n",
    "- Queremos uma forma padronizada da conta de maneira que possamos criar objetos com determinadas configurações iniciais.\n",
    "- Em linguagens orientadas a objetos existe uma maneira padronizada de criar atributos de um objeto. \n",
    "- Geralmente fazemos isso através de uma função construtora (método `__init__`)."
   ]
  },
  {
   "cell_type": "markdown",
   "metadata": {},
   "source": [
    "### Construtor\n",
    "\n",
    "- O método `__init__` é chamado sempre que um objeto de classe é criado, ele é chamado de construtor(constructor) ou inicializador. \n",
    "- Um método construtor é chamado sempre que um objeto de uma classe é instanciado. \n",
    "- É o construtor que inicializa nosso novo objeto com seus valores-padrão.\n",
    "- O método `__init__` recebe um parâmetro chamado `self` que representa o objeto em si.\n",
    "- Quando uma classe é criada, todos os seus atributos serão inicializados pelo método `__init__()`."
   ]
  },
  {
   "cell_type": "markdown",
   "metadata": {},
   "source": [
    "- Apesar de muitos programadores chamarem este método de construtor, ele não cria um objeto conta. \n",
    "- Existe outro método, o que é chamado antes do `__init_()` pelo interpretador do Python, o método `__new()__`. \n",
    "- O método `__new__()` é realmente o construtor e é quem realmente cria uma nova instância de Conta. \n",
    "- O método `__init__()` é responsável por inicializar o objeto, tanto é que já recebe a própria instância (`self`) criada pelo construtor como argumento.\n",
    "- E dessa maneira garantimos que toda instância de uma classe tenha os atributos que definimos."
   ]
  },
  {
   "cell_type": "markdown",
   "metadata": {},
   "source": [
    "- Ao se criar uma `TV` é criado uma nova instância de `Televisao` na memória, ou seja, é alocado memória suficiente para guardar todas as informações da `Televisao` dentro da memória do programa. \n",
    "- O método `__new__()`, devolve uma referência, uma seta que aponta para o objeto em memória e é guardada na variável `tv`.\n",
    "- Para manipularmos o objeto conta e acessar seus atributos utilizamos o operador `.` (ponto)."
   ]
  },
  {
   "cell_type": "markdown",
   "metadata": {},
   "source": [
    "### Exemplo 1: Uma TV\n",
    "\n",
    "- Considere uma TV que possui marca e um tamanho de tela. \n",
    "Esse aparelho pode ser ligado e desligado, e pode ter seus canais alterados."
   ]
  },
  {
   "cell_type": "code",
   "execution_count": null,
   "metadata": {},
   "outputs": [],
   "source": [
    "# definicao da classe Televisao\n",
    "class Televisao:\n",
    "    def __init__(self):\n",
    "        self.ligada = False\n",
    "        self.canal = 2"
   ]
  },
  {
   "cell_type": "code",
   "execution_count": null,
   "metadata": {},
   "outputs": [],
   "source": [
    "# instanciando o objeto tv\n",
    "tv = Televisao()"
   ]
  },
  {
   "cell_type": "code",
   "execution_count": null,
   "metadata": {},
   "outputs": [],
   "source": [
    "print(f\"A TV estah ligada: {tv.ligada}\")"
   ]
  },
  {
   "cell_type": "code",
   "execution_count": null,
   "metadata": {},
   "outputs": [],
   "source": [
    "print(f\"Qual o canal atual da tv: {tv.canal}\")"
   ]
  },
  {
   "cell_type": "code",
   "execution_count": null,
   "metadata": {},
   "outputs": [],
   "source": [
    "tv_sala = Televisao()"
   ]
  },
  {
   "cell_type": "code",
   "execution_count": null,
   "metadata": {},
   "outputs": [],
   "source": [
    "tv_sala.ligada = True\n",
    "tv_sala.canal = 4"
   ]
  },
  {
   "cell_type": "code",
   "execution_count": null,
   "metadata": {},
   "outputs": [],
   "source": [
    "print(f\"{tv.canal}\")"
   ]
  },
  {
   "cell_type": "code",
   "execution_count": null,
   "metadata": {},
   "outputs": [],
   "source": [
    "print(f\"{tv_sala.canal}\")"
   ]
  },
  {
   "cell_type": "markdown",
   "metadata": {},
   "source": [
    "### Métodos"
   ]
  },
  {
   "cell_type": "markdown",
   "metadata": {},
   "source": [
    "- No paradigma orientado a objetos as funcionalidades de um objeto são chamados de **métodos**(funções dentro de uma classe).\n",
    "- Quando criamos um objeto de uma classe, ele tem todos os **atributos** e **métodos** que especificamos ao declarar a classe e que foram inicializados em seu construtor. \n",
    "- Essa caracteristica simplifica o desenvolvimento dos programas, pois podemos definir o comportamento de todos os objetos de uma classe(**métodos**), preservando os valores individuais de cada um (**atributos**)."
   ]
  },
  {
   "cell_type": "markdown",
   "metadata": {},
   "source": [
    "- Podemos associar um comportamento a uma classe, por exemplo, vamos definir dois métodos para mudar o canais na classe `Televisao`."
   ]
  },
  {
   "cell_type": "code",
   "execution_count": null,
   "metadata": {},
   "outputs": [],
   "source": [
    "class Televisao:\n",
    "    \n",
    "    def __init__(self):\n",
    "        self.ligada = False\n",
    "        self.canal = 2\n",
    "    \n",
    "    def muda_canal_para_baixo(self):\n",
    "        self.canal -= 1\n",
    "    \n",
    "    def muda_canal_para_cima(self):\n",
    "        self.canal += 1"
   ]
  },
  {
   "cell_type": "code",
   "execution_count": null,
   "metadata": {},
   "outputs": [],
   "source": [
    "tv = Televisao()"
   ]
  },
  {
   "cell_type": "code",
   "execution_count": null,
   "metadata": {},
   "outputs": [],
   "source": [
    "print(f\"TV ligada: {tv.ligada}, Canal da TV: {tv.canal}\" )"
   ]
  },
  {
   "cell_type": "markdown",
   "metadata": {},
   "source": [
    "- Como o `self` é a referência do objeto, ele chama `self.ligada` e `self.canal` da classe `Televisao`."
   ]
  },
  {
   "cell_type": "code",
   "execution_count": null,
   "metadata": {},
   "outputs": [],
   "source": [
    "tv.muda_canal_para_baixo()\n",
    "tv.muda_canal_para_baixo()"
   ]
  },
  {
   "cell_type": "code",
   "execution_count": null,
   "metadata": {},
   "outputs": [],
   "source": [
    "print(f\"{tv.canal}\")"
   ]
  },
  {
   "cell_type": "code",
   "execution_count": null,
   "metadata": {},
   "outputs": [],
   "source": [
    "tv.muda_canal_para_cima()"
   ]
  },
  {
   "cell_type": "code",
   "execution_count": null,
   "metadata": {},
   "outputs": [],
   "source": [
    "print(f\"{tv.canal}\")"
   ]
  },
  {
   "cell_type": "markdown",
   "metadata": {},
   "source": [
    "- Altere o construtor da classe `Televisao` de forma a receber o canal mínimo e máximo suportado pelo objeto da classe."
   ]
  },
  {
   "cell_type": "code",
   "execution_count": null,
   "metadata": {},
   "outputs": [],
   "source": [
    "class Televisao:\n",
    "    def __init__(self, min, max):\n",
    "        self.ligada = False\n",
    "        self.canal = 2\n",
    "        self.cmin = min\n",
    "        self.cmax = max\n",
    "    \n",
    "    def muda_canal_para_baixo(self):\n",
    "        if(self.canal-1>=self.cmin):\n",
    "            self.canal-=1\n",
    "\n",
    "    def muda_canal_para_cima(self):\n",
    "        if(self.canal+1<=self.cmax):\n",
    "            self.canal+=1"
   ]
  },
  {
   "cell_type": "code",
   "execution_count": null,
   "metadata": {},
   "outputs": [],
   "source": [
    "# criando instancia Televisao com canal min=1 e max=99\n",
    "tv = Televisao(1,99)"
   ]
  },
  {
   "cell_type": "code",
   "execution_count": null,
   "metadata": {},
   "outputs": [],
   "source": [
    "for x in range(0,120):\n",
    "    tv.muda_canal_para_cima()\n",
    "\n",
    "print(f\"{tv.canal}\")"
   ]
  },
  {
   "cell_type": "code",
   "execution_count": null,
   "metadata": {},
   "outputs": [],
   "source": [
    "for x in range(0,120):\n",
    "    tv.muda_canal_para_baixo()\n",
    "\n",
    "print(f\"{tv.canal}\")"
   ]
  },
  {
   "cell_type": "markdown",
   "metadata": {},
   "source": [
    "**Exercício 1:** Modifique a classe `Televisao` de forma que ela receba o canal inicial em seu construtor."
   ]
  },
  {
   "cell_type": "markdown",
   "metadata": {},
   "source": [
    "**Exercício 2:**  Modifique a classe `Televisao` de forma que, se pedirmos para mudar o canal para baixo, além do mínimo, ela vá para o canal máximo. \n",
    "Se mudarmos para cima, além do canal máximo, que volte ao canal mínimo."
   ]
  },
  {
   "cell_type": "markdown",
   "metadata": {},
   "source": [
    "- Tudo que aprendemos com funções é também válido para métodos. A principal diferença é que um método é associado a uma classe e atua sobre um objeto. \n",
    "- O primeiro parâmetro do método é chamado `self` e representa a instância sobre a qual o método atuará. \n",
    "- Por meio de `self` que temos acesso aos outros métodos de uma classe, preservando todos os atributos de nossos objetos. \n",
    "- Você não precisa passar o objeto como primeiro parâmetro ao invocar (chamar) um método: o interpretador Python faz isso automaticamente para você."
   ]
  },
  {
   "cell_type": "markdown",
   "metadata": {},
   "source": [
    "**Exercício 3:** Modifique o construtor da classe `Televisao` de forma que `min` e `max` sejam parâmetros opcionais, onde `min=2` e `max=14`, caso outro valor não seja passado."
   ]
  },
  {
   "cell_type": "markdown",
   "metadata": {},
   "source": [
    "**Exercício 4:** Utilizando a classe `Televisao` modificada no exercício 3, crie duas instâncias (objetos), especificando o valor de `min` e `max` por nome."
   ]
  },
  {
   "cell_type": "markdown",
   "metadata": {},
   "source": [
    "### Exemplo 2: Um banco financeiro\n",
    "\n",
    "- Suponha um banco onde cada conta corrente pode ter um ou mais clientes como titular. \n",
    "- O banco controla apenas o nome e telefone de cada cliente. \n",
    "- A conta corrente apresenta um saldo e uma lista de operações de saques e depósitos. \n",
    "- Quando o cliente fizer um saque, diminuiremos o saldo da conta corrente. \n",
    "- Quando ele fizer um depósito, aumentaremos o saldo.\n",
    "- O cliente não pode sacar mais dinheiro que seu saldo permite.\n",
    "- A classe Cliente é simples, tendo apenas dois atributos: nome e telefone."
   ]
  },
  {
   "cell_type": "code",
   "execution_count": null,
   "metadata": {},
   "outputs": [],
   "source": [
    "# definição da classe cliente\n",
    "class Cliente:\n",
    "    def __init__(self, nome, telefone):\n",
    "        self.nome = nome\n",
    "        self.telefone = telefone"
   ]
  },
  {
   "cell_type": "code",
   "execution_count": null,
   "metadata": {},
   "outputs": [],
   "source": [
    "joao = Cliente(\"João da Silva\", \"777-1234\")\n",
    "maria = Cliente(\"Maria Silva\", \"555-4321\")"
   ]
  },
  {
   "cell_type": "code",
   "execution_count": null,
   "metadata": {},
   "outputs": [],
   "source": [
    "print(f\"{joao.nome}, {joao.telefone}\")\n",
    "print(f\"{maria.nome}, {maria.telefone}\")"
   ]
  },
  {
   "cell_type": "markdown",
   "metadata": {},
   "source": [
    "- Criaremos a classe `Conta`, para representar uma conta do banco com seus clientes e seu saldo. \n",
    "- A classe `Conta` é definida recebendo `clientes`, `numero` e `saldo` em seu construtor (`__init__`), onde em `clientes` esperamos uma lista de objetos da classe `Cliente`, `numero` é uma string com o número da conta, e `saldo` é um parâmetro opcional, tendo zero (0) como padrão. \n",
    "\n",
    "- A classe `Conta` apresenta os métodos `resumo`, `saque` e `deposito`. \n",
    "    - `resumo`, exibe na tela o número da conta corrente e seu saldo, \n",
    "    - `saque`, permite retirar dinheiro da conta corrente, verificando se essa operação é possível. \n",
    "    - `deposito`, simplesmente adiciona o valor solicitado ao saldo da conta corrente."
   ]
  },
  {
   "cell_type": "code",
   "execution_count": null,
   "metadata": {},
   "outputs": [],
   "source": [
    "class Conta:\n",
    "    def __init__(self, clientes, numero, saldo = 0):\n",
    "        self.saldo = saldo\n",
    "        self.clientes = clientes\n",
    "        self.numero = numero\n",
    "\n",
    "    def resumo(self):\n",
    "        print(f\"Extrato\")\n",
    "        print(f\"CC Numero: {self.numero} Saldo: {self.saldo}\")\n",
    "\n",
    "    def saque(self, valor):\n",
    "        if self.saldo >= valor:\n",
    "            self.saldo -=valor\n",
    "\n",
    "    def deposito(self, valor):\n",
    "        self.saldo += valor"
   ]
  },
  {
   "cell_type": "markdown",
   "metadata": {},
   "source": [
    "- O método `resumo()` deve receber a instância do objeto (`self`).\n",
    "- O método `deposita()` deve receber a instância do objeto (`self`) além do valor a ser depositado.\n",
    "- O método `saque()` deve receber a instância do objeto (`self`) além do valor a ser retirado."
   ]
  },
  {
   "cell_type": "code",
   "execution_count": null,
   "metadata": {},
   "outputs": [],
   "source": [
    "conta = Conta(joao, 1, 1000)\n",
    "conta.resumo()"
   ]
  },
  {
   "cell_type": "code",
   "execution_count": null,
   "metadata": {},
   "outputs": [],
   "source": [
    "conta.saque(1000)\n",
    "conta.resumo()"
   ]
  },
  {
   "cell_type": "code",
   "execution_count": null,
   "metadata": {},
   "outputs": [],
   "source": [
    "conta.saque(50)\n",
    "conta.resumo()"
   ]
  },
  {
   "cell_type": "code",
   "execution_count": null,
   "metadata": {},
   "outputs": [],
   "source": [
    "conta.deposito(200)\n",
    "conta.resumo()"
   ]
  },
  {
   "cell_type": "code",
   "execution_count": null,
   "metadata": {},
   "outputs": [],
   "source": [
    "conta = Conta(maria, 2, 100)\n",
    "conta.resumo()"
   ]
  },
  {
   "cell_type": "code",
   "execution_count": null,
   "metadata": {},
   "outputs": [],
   "source": [
    "conta.saque(1000)\n",
    "conta.resumo()"
   ]
  },
  {
   "cell_type": "code",
   "execution_count": null,
   "metadata": {},
   "outputs": [],
   "source": [
    "conta.saque(50)\n",
    "conta.resumo()"
   ]
  },
  {
   "cell_type": "code",
   "execution_count": null,
   "metadata": {},
   "outputs": [],
   "source": [
    "conta.deposito(200)\n",
    "conta.resumo()"
   ]
  },
  {
   "cell_type": "markdown",
   "metadata": {},
   "source": [
    "- Altere a classe `Conta` de forma a adicionar um atributo que é a lista de operações realizadas. \n",
    "- Considere o saldo inicial como um depósito. \n",
    "- Adicione um método `extrato` para imprimir todas as operações realizadas."
   ]
  },
  {
   "cell_type": "code",
   "execution_count": null,
   "metadata": {},
   "outputs": [],
   "source": [
    "class Conta:\n",
    "    def __init__(self, clientes, numero, saldo = 0):\n",
    "        self.saldo = 0\n",
    "        self.clientes = clientes\n",
    "        self.numero = numero\n",
    "        self.operacoes = []\n",
    "        self.deposito(saldo)\n",
    "    \n",
    "    def resumo(self):\n",
    "        print(f\"CC N {self.numero} Saldo: {self.saldo}\")\n",
    "\n",
    "    def saque(self, valor):\n",
    "        if self.saldo >= valor:\n",
    "            self.saldo -=valor\n",
    "        self.operacoes.append([\"SAQUE\", valor])\n",
    "\n",
    "    def deposito(self, valor):\n",
    "        self.saldo += valor\n",
    "        self.operacoes.append([\"DEPOSITO\", valor])\n",
    "\n",
    "    def extrato(self):\n",
    "        print(f\"Extrato CC N {self.numero}\\n\")\n",
    "        for o in self.operacoes:\n",
    "            print(f\"({o[0]},{o[1]})\")\n",
    "        print(f\"\\n Saldo: {self.saldo} \\n\")"
   ]
  },
  {
   "cell_type": "code",
   "execution_count": null,
   "metadata": {},
   "outputs": [],
   "source": [
    "joao = Cliente(\"João da Silva\", \"777-1234\")\n",
    "maria = Cliente(\"Maria da Silva\", \"555-4321\")\n",
    "conta1 = Conta([joao], 1, 1000)\n",
    "conta2 = Conta([maria, joao], 2, 500)\n",
    "\n",
    "conta1.saque(50)\n",
    "conta2.deposito(300)\n",
    "conta1.saque(190)\n",
    "conta2.deposito(95.15)\n",
    "conta2.saque(250)\n",
    "conta1.extrato()\n",
    "conta2.extrato()"
   ]
  },
  {
   "cell_type": "markdown",
   "metadata": {},
   "source": [
    "**Exercicio 5:**\n",
    "Altere o programa de forma que a mensagem saldo insuficiente seja exibida caso haja tentativa de sacar mais dinheiro que o saldo disponível."
   ]
  },
  {
   "cell_type": "markdown",
   "metadata": {},
   "source": [
    "**Exercício 6:**\n",
    "Modifique o método resumo da classe Conta para exibir o nome e o telefone de cada cliente."
   ]
  },
  {
   "cell_type": "markdown",
   "metadata": {},
   "source": [
    "**Exercício 7:**\n",
    "Crie uma nova conta, agora tendo João e José como clientes e saldo igual a 500."
   ]
  },
  {
   "cell_type": "markdown",
   "metadata": {},
   "source": [
    "- Em seguida vamos implementar uma classe, `Banco`, para armazenar todas as nossas contas. \n",
    "- Como atributos do banco teríamos seu nome e a lista de contas. \n",
    "- Como operações, considere a abertura de uma conta corrente e a listagem de todas as contas do banco."
   ]
  },
  {
   "cell_type": "code",
   "execution_count": null,
   "metadata": {},
   "outputs": [],
   "source": [
    "class Banco:\n",
    "    def __init__(self, nome):\n",
    "        self.nome=nome\n",
    "        self.clientes=[]\n",
    "        self.contas=[]\n",
    "\n",
    "    def abre_conta(self, conta):\n",
    "        self.contas.append(conta)\n",
    "\n",
    "    def lista_contas(self):\n",
    "        for c in self.contas:\n",
    "            c.resumo()"
   ]
  },
  {
   "cell_type": "code",
   "execution_count": null,
   "metadata": {},
   "outputs": [],
   "source": [
    "joao = Cliente(\"João da Silva\", \"3241-5599\")\n",
    "maria = Cliente(\"Maria Silva\", \"7231-9955\")\n",
    "josé = Cliente(\"José Vargas\",\"9721-3040\")\n",
    "contaJM = Conta( [joao, maria], 100)\n",
    "contaJ = Conta( [josé], 10)\n",
    "dema = Banco(\"DEMA\")\n",
    "dema.abre_conta(contaJM)\n",
    "dema.abre_conta(contaJ)\n",
    "dema.lista_contas()"
   ]
  },
  {
   "cell_type": "markdown",
   "metadata": {},
   "source": [
    "**Exercício 8:**\n",
    "- Crie classes para representar estados e cidades. \n",
    "- Cada estado tem um nome, sigla e cidades. \n",
    "- Cada cidade tem nome e população. \n",
    "- Escreva um programa que crie três estados com algumas cidades em cada um. \n",
    "- Exiba a população de cada estado como a soma da população de suas cidades."
   ]
  },
  {
   "cell_type": "code",
   "execution_count": null,
   "metadata": {},
   "outputs": [],
   "source": []
  }
 ],
 "metadata": {
  "kernelspec": {
   "display_name": "Python 3",
   "language": "python",
   "name": "python3"
  },
  "language_info": {
   "codemirror_mode": {
    "name": "ipython",
    "version": 3
   },
   "file_extension": ".py",
   "mimetype": "text/x-python",
   "name": "python",
   "nbconvert_exporter": "python",
   "pygments_lexer": "ipython3",
   "version": "3.10.12"
  }
 },
 "nbformat": 4,
 "nbformat_minor": 2
}
