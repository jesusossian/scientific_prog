{
 "cells": [
  {
   "cell_type": "markdown",
   "metadata": {},
   "source": [
    "## Classes e objetos"
   ]
  },
  {
   "cell_type": "markdown",
   "metadata": {},
   "source": [
    "### Uma analogia:\n",
    "\n",
    "- Suponha o projeto de uma casa (a planta da casa) e a casa em si. \n",
    "\n",
    "- O projeto é a **classe** e a casa, construída a partir desta planta, é o **objeto**. "
   ]
  },
  {
   "cell_type": "markdown",
   "metadata": {},
   "source": [
    "### Classes e objetos\n",
    "\n",
    "- A programação orientada a objetos facilita a escrita e a manutenção de programas, utilizando **classes** e **objetos**.\n",
    "\n",
    "- **Classes** são a definição de um novo tipo de dados que associa dados e operações em uma só estrutura.\n",
    "\n",
    "- **Objeto** é uma variável(instância) cujo tipo é uma **classe**.\n",
    "\n",
    "- A programação orientada a objetos é uma técnica de programação que organiza nossos programas em **classes** e **objetos**."
   ]
  },
  {
   "cell_type": "markdown",
   "metadata": {},
   "source": [
    "- Quando criamos uma classe, estamos criando um novo tipo de dados.\n",
    "Esse novo tipo define seus próprios **métodos** e **atributos**. \n",
    "- Quando criamos um **objeto** associado a uma **classe** estamos criando uma instância dessa **classe**."
   ]
  },
  {
   "cell_type": "markdown",
   "metadata": {},
   "source": [
    "### Exemplo 1: Um conta bancária"
   ]
  },
  {
   "cell_type": "markdown",
   "metadata": {},
   "source": [
    "- Criando uma classe vazia."
   ]
  },
  {
   "cell_type": "code",
   "execution_count": 2,
   "metadata": {},
   "outputs": [],
   "source": [
    "class Conta:\n",
    "    pass"
   ]
  },
  {
   "cell_type": "markdown",
   "metadata": {},
   "source": [
    "- Criando uma instância da classe Conta."
   ]
  },
  {
   "cell_type": "code",
   "execution_count": 3,
   "metadata": {},
   "outputs": [],
   "source": [
    "conta = Conta()"
   ]
  },
  {
   "cell_type": "code",
   "execution_count": 4,
   "metadata": {},
   "outputs": [
    {
     "data": {
      "text/plain": [
       "__main__.Conta"
      ]
     },
     "execution_count": 4,
     "metadata": {},
     "output_type": "execute_result"
    }
   ],
   "source": [
    "type(conta)"
   ]
  },
  {
   "cell_type": "markdown",
   "metadata": {},
   "source": [
    "- Podemos modificar o objeto **conta** em tempo de execução, acrescentando atributos a ele:"
   ]
  },
  {
   "cell_type": "code",
   "execution_count": 5,
   "metadata": {},
   "outputs": [
    {
     "name": "stdout",
     "output_type": "stream",
     "text": [
      "titular da conta: João\n"
     ]
    }
   ],
   "source": [
    "conta.titular = \"João\"\n",
    "print(f\"titular da conta: {conta.titular}\")"
   ]
  },
  {
   "cell_type": "code",
   "execution_count": 6,
   "metadata": {},
   "outputs": [
    {
     "name": "stdout",
     "output_type": "stream",
     "text": [
      "saldo da conta: 120.0\n"
     ]
    }
   ],
   "source": [
    "conta.saldo = 120.0\n",
    "print(f\"saldo da conta: {conta.saldo}\")"
   ]
  },
  {
   "cell_type": "markdown",
   "metadata": {},
   "source": [
    "- Da forma acima não garantimos que toda instância de `Conta` tenha um atributo `titular` ou `saldo`. \n",
    "- Em linguagens orientadas a objetos existe uma maneira padronizada de criar atributos de um objeto, através de uma função construtora (método `__init__`)."
   ]
  },
  {
   "cell_type": "markdown",
   "metadata": {},
   "source": [
    "### Construtor\n",
    "\n",
    "- O método `__init__` é chamado sempre que um objeto de classe é criado, ele é chamado de construtor(constructor).  \n",
    "- É o construtor que inicializa nosso novo objeto com seus valores-padrão.\n",
    "- O método `__init__` recebe um parâmetro chamado `self` que representa o objeto em si.\n",
    "- Quando uma classe é criada, todos os seus atributos serão inicializados pelo método `__init__()`."
   ]
  },
  {
   "cell_type": "markdown",
   "metadata": {},
   "source": [
    "- Apesar de muitos programadores chamarem este método de construtor, ele não cria um objeto. \n",
    "- Existe outro método, chamado antes do `__init_()` pelo interpretador do Python, o método `__new()__`. \n",
    "- O método `__new__()` é realmente o construtor e é quem realmente cria uma nova instância. \n",
    "- O método `__init__()` é responsável por inicializar o objeto, tanto é que já recebe a própria instância (`self`) criada pelo construtor como argumento."
   ]
  },
  {
   "cell_type": "markdown",
   "metadata": {},
   "source": [
    "### Exemplo 1: Uma TV\n",
    "\n",
    "- Considere uma TV que possui marca e um tamanho de tela. \n",
    "Esse aparelho pode ser ligado e desligado, e pode ter seus canais alterados."
   ]
  },
  {
   "cell_type": "code",
   "execution_count": 9,
   "metadata": {},
   "outputs": [],
   "source": [
    "# definicao da classe Televisao\n",
    "class Televisao:\n",
    "    def __init__(self):\n",
    "        self.ligada = False\n",
    "        self.canal = 2"
   ]
  },
  {
   "cell_type": "markdown",
   "metadata": {},
   "source": []
  },
  {
   "cell_type": "code",
   "execution_count": 10,
   "metadata": {},
   "outputs": [],
   "source": [
    "# instanciando o objeto tv\n",
    "tv = Televisao()"
   ]
  },
  {
   "cell_type": "markdown",
   "metadata": {},
   "source": [
    "- Ao se criar um um objeto `tv` é criado uma nova instância de `Televisao` na memória. \n",
    "- O método `__new__()`, devolve uma referência, uma seta que aponta para o objeto em memória e é guardada na variável `tv`.\n",
    "- Para manipularmos o objeto conta e acessar seus atributos utilizamos o operador `.` (ponto)."
   ]
  },
  {
   "cell_type": "code",
   "execution_count": 11,
   "metadata": {},
   "outputs": [
    {
     "name": "stdout",
     "output_type": "stream",
     "text": [
      "A TV estah ligada: False\n"
     ]
    }
   ],
   "source": [
    "print(f\"A TV estah ligada: {tv.ligada}\")"
   ]
  },
  {
   "cell_type": "code",
   "execution_count": 12,
   "metadata": {},
   "outputs": [
    {
     "name": "stdout",
     "output_type": "stream",
     "text": [
      "Qual o canal atual da tv: 2\n"
     ]
    }
   ],
   "source": [
    "print(f\"Qual o canal atual da tv: {tv.canal}\")"
   ]
  },
  {
   "cell_type": "code",
   "execution_count": 13,
   "metadata": {},
   "outputs": [],
   "source": [
    "tv_sala = Televisao()"
   ]
  },
  {
   "cell_type": "code",
   "execution_count": 14,
   "metadata": {},
   "outputs": [
    {
     "name": "stdout",
     "output_type": "stream",
     "text": [
      "False, 2\n"
     ]
    }
   ],
   "source": [
    "print(f\"{tv_sala.ligada}, {tv_sala.canal}\")"
   ]
  },
  {
   "cell_type": "code",
   "execution_count": 15,
   "metadata": {},
   "outputs": [],
   "source": [
    "tv_sala.ligada = True\n",
    "tv_sala.canal = 4"
   ]
  },
  {
   "cell_type": "code",
   "execution_count": 16,
   "metadata": {},
   "outputs": [
    {
     "name": "stdout",
     "output_type": "stream",
     "text": [
      "True, 4\n"
     ]
    }
   ],
   "source": [
    "print(f\"{tv_sala.ligada}, {tv_sala.canal}\")"
   ]
  },
  {
   "cell_type": "markdown",
   "metadata": {},
   "source": [
    "### Métodos"
   ]
  },
  {
   "cell_type": "markdown",
   "metadata": {},
   "source": [
    "- No paradigma orientado a objetos as funcionalidades de um objeto são chamados de **métodos**(funções dentro de uma classe).\n",
    "- Quando criamos um objeto, ele tem todos os **atributos** e **métodos** que especificamos ao declarar a classe e que foram inicializados em seu construtor. \n",
    "- Essa caracteristica simplifica o desenvolvimento dos programas, pois podemos definir o comportamento de todos os objetos de uma classe(**métodos**), preservando os valores individuais de cada um (**atributos**)."
   ]
  },
  {
   "cell_type": "code",
   "execution_count": 7,
   "metadata": {},
   "outputs": [],
   "source": [
    "# definição de dois métodos para mudar o canais na classe Televisao\n",
    "\n",
    "class Televisao:\n",
    "    \n",
    "    def __init__(self):\n",
    "        self.ligada = False\n",
    "        self.canal = 2\n",
    "    \n",
    "    def muda_canal_para_baixo(self):\n",
    "        self.canal -= 1\n",
    "    \n",
    "    def muda_canal_para_cima(self):\n",
    "        self.canal += 1"
   ]
  },
  {
   "cell_type": "code",
   "execution_count": 8,
   "metadata": {},
   "outputs": [],
   "source": [
    "tv = Televisao()"
   ]
  },
  {
   "cell_type": "code",
   "execution_count": 9,
   "metadata": {},
   "outputs": [
    {
     "name": "stdout",
     "output_type": "stream",
     "text": [
      "TV ligada: False, Canal da TV: 2\n"
     ]
    }
   ],
   "source": [
    "print(f\"TV ligada: {tv.ligada}, Canal da TV: {tv.canal}\" )"
   ]
  },
  {
   "cell_type": "markdown",
   "metadata": {},
   "source": [
    "- Como o `self` é a referência do objeto, ele chama `self.ligada` e `self.canal` da classe `Televisao`."
   ]
  },
  {
   "cell_type": "code",
   "execution_count": 10,
   "metadata": {},
   "outputs": [],
   "source": [
    "tv.muda_canal_para_baixo()\n",
    "tv.muda_canal_para_baixo()"
   ]
  },
  {
   "cell_type": "code",
   "execution_count": 11,
   "metadata": {},
   "outputs": [
    {
     "name": "stdout",
     "output_type": "stream",
     "text": [
      "False, 0\n"
     ]
    }
   ],
   "source": [
    "print(f\"{tv.ligada}, {tv.canal}\")"
   ]
  },
  {
   "cell_type": "code",
   "execution_count": 12,
   "metadata": {},
   "outputs": [],
   "source": [
    "tv.muda_canal_para_cima()"
   ]
  },
  {
   "cell_type": "code",
   "execution_count": 13,
   "metadata": {},
   "outputs": [
    {
     "name": "stdout",
     "output_type": "stream",
     "text": [
      "1\n"
     ]
    }
   ],
   "source": [
    "print(f\"{tv.canal}\")"
   ]
  },
  {
   "cell_type": "code",
   "execution_count": 14,
   "metadata": {},
   "outputs": [],
   "source": [
    "# Alterando o construtor da classe Televisao de forma a receber o canal mínimo e máximo suportado pelo objeto da classe\n",
    "\n",
    "class Televisao:\n",
    "    def __init__(self, min, max):\n",
    "        self.ligada = False\n",
    "        self.canal = 2\n",
    "        self.cmin = min\n",
    "        self.cmax = max\n",
    "    \n",
    "    def muda_canal_para_baixo(self):\n",
    "        if(self.canal-1>=self.cmin):\n",
    "            self.canal-=1\n",
    "\n",
    "    def muda_canal_para_cima(self):\n",
    "        if(self.canal+1<=self.cmax):\n",
    "            self.canal+=1"
   ]
  },
  {
   "cell_type": "code",
   "execution_count": 15,
   "metadata": {},
   "outputs": [],
   "source": [
    "# criando instancia Televisao com canal min=1 e max=99\n",
    "tv = Televisao(1,99)"
   ]
  },
  {
   "cell_type": "code",
   "execution_count": 17,
   "metadata": {},
   "outputs": [
    {
     "name": "stdout",
     "output_type": "stream",
     "text": [
      "False, 2\n"
     ]
    }
   ],
   "source": [
    "print(f\"{tv.ligada}, {tv.canal}\")"
   ]
  },
  {
   "cell_type": "code",
   "execution_count": 18,
   "metadata": {},
   "outputs": [
    {
     "name": "stdout",
     "output_type": "stream",
     "text": [
      "99\n"
     ]
    }
   ],
   "source": [
    "for x in range(0,120):\n",
    "    tv.muda_canal_para_cima()\n",
    "\n",
    "print(f\"{tv.canal}\")"
   ]
  },
  {
   "cell_type": "code",
   "execution_count": 19,
   "metadata": {},
   "outputs": [
    {
     "name": "stdout",
     "output_type": "stream",
     "text": [
      "1\n"
     ]
    }
   ],
   "source": [
    "for x in range(0,120):\n",
    "    tv.muda_canal_para_baixo()\n",
    "\n",
    "print(f\"{tv.canal}\")"
   ]
  },
  {
   "cell_type": "markdown",
   "metadata": {},
   "source": [
    "**Exercício 1:** Modifique a classe `Televisao` de forma que ela receba o canal inicial em seu construtor."
   ]
  },
  {
   "cell_type": "markdown",
   "metadata": {},
   "source": [
    "**Exercício 2:**  Modifique a classe `Televisao` de forma que, se pedirmos para mudar o canal para baixo, além do mínimo, ela vá para o canal máximo. \n",
    "Se mudarmos para cima, além do canal máximo, que volte ao canal mínimo."
   ]
  },
  {
   "cell_type": "markdown",
   "metadata": {},
   "source": [
    "- Tudo que aprendemos com funções é também válido para métodos. \n",
    "- O primeiro parâmetro do método é chamado `self` e representa a instância sobre a qual o método atuará. \n",
    "- Por meio do parâmetro `self` temos acesso aos outros métodos de uma classe, preservando todos os atributos de nossos objetos."
   ]
  },
  {
   "cell_type": "markdown",
   "metadata": {},
   "source": [
    "**Exercício 3:** Modifique o construtor da classe `Televisao` de forma que `min` e `max` sejam parâmetros opcionais, onde `min=2` e `max=14`, caso outro valor não seja passado."
   ]
  },
  {
   "cell_type": "markdown",
   "metadata": {},
   "source": [
    "**Exercício 4:** Utilizando a classe `Televisao` modificada no exercício 3, crie duas instâncias (objetos), especificando o valor de `min` e `max` por nome."
   ]
  },
  {
   "cell_type": "markdown",
   "metadata": {},
   "source": [
    "### Exemplo 2: Um banco financeiro\n",
    "\n",
    "- Suponha um banco onde cada conta corrente pode ter um ou mais clientes como titular. \n",
    "- O banco controla apenas o nome e telefone de cada cliente. \n",
    "- A conta corrente apresenta um saldo e uma lista de operações de saques e depósitos. \n",
    "- O cliente não pode sacar mais dinheiro que seu saldo permite."
   ]
  },
  {
   "cell_type": "code",
   "execution_count": 20,
   "metadata": {},
   "outputs": [],
   "source": [
    "# definição da classe cliente dois atributos: nome e telefone\n",
    "class Cliente:\n",
    "    def __init__(self, nome, telefone):\n",
    "        self.nome = nome\n",
    "        self.telefone = telefone"
   ]
  },
  {
   "cell_type": "code",
   "execution_count": 21,
   "metadata": {},
   "outputs": [],
   "source": [
    "joao = Cliente(\"João da Silva\", \"777-1234\")\n",
    "maria = Cliente(\"Maria Silva\", \"555-4321\")"
   ]
  },
  {
   "cell_type": "code",
   "execution_count": 22,
   "metadata": {},
   "outputs": [
    {
     "name": "stdout",
     "output_type": "stream",
     "text": [
      "João da Silva, 777-1234\n",
      "Maria Silva, 555-4321\n"
     ]
    }
   ],
   "source": [
    "print(f\"{joao.nome}, {joao.telefone}\")\n",
    "print(f\"{maria.nome}, {maria.telefone}\")"
   ]
  },
  {
   "cell_type": "markdown",
   "metadata": {},
   "source": [
    "- Criaremos a classe `Conta` para representar uma conta do banco com seus clientes e seu saldo. \n",
    "- A classe `Conta` é definida recebendo `clientes`, `numero` e `saldo` em seu construtor, onde em `clientes` esperamos uma lista de objetos da classe `Cliente`, `numero` é uma string com o número da conta, e `saldo` é um parâmetro opcional, tendo zero (0) como padrão. \n",
    "- A classe `Conta` apresenta os métodos `resumo`, `saque` e `deposito`. \n",
    "    - `resumo`, exibe na tela o número da conta corrente e seu saldo, \n",
    "    - `saque`, permite retirar dinheiro da conta corrente, verificando se essa operação é possível. \n",
    "    - `deposito`, simplesmente adiciona o valor solicitado ao saldo da conta corrente."
   ]
  },
  {
   "cell_type": "code",
   "execution_count": 25,
   "metadata": {},
   "outputs": [],
   "source": [
    "class Conta:\n",
    "    def __init__(self, clientes, numero, saldo = 0):\n",
    "        self.saldo = saldo\n",
    "        self.clientes = clientes\n",
    "        self.numero = numero\n",
    "\n",
    "    def resumo(self):\n",
    "        print(f\"Extrato\")\n",
    "        print(f\"CC Numero: {self.numero} Saldo: {self.saldo}\")\n",
    "\n",
    "    def saque(self, valor):\n",
    "        if self.saldo >= valor:\n",
    "            self.saldo -=valor\n",
    "\n",
    "    def deposito(self, valor):\n",
    "        self.saldo += valor"
   ]
  },
  {
   "cell_type": "markdown",
   "metadata": {},
   "source": [
    "- O método `resumo()` recebe a instância do objeto (`self`).\n",
    "- O método `deposita()` recebe instância do objeto (`self`) além do valor a ser depositado.\n",
    "- O método `saque()` recebe instância do objeto (`self`) além do valor a ser retirado."
   ]
  },
  {
   "cell_type": "code",
   "execution_count": 26,
   "metadata": {},
   "outputs": [
    {
     "name": "stdout",
     "output_type": "stream",
     "text": [
      "Extrato\n",
      "CC Numero: 1 Saldo: 1000\n"
     ]
    }
   ],
   "source": [
    "conta = Conta(joao, 1, 1000)\n",
    "conta.resumo()"
   ]
  },
  {
   "cell_type": "code",
   "execution_count": 27,
   "metadata": {},
   "outputs": [
    {
     "name": "stdout",
     "output_type": "stream",
     "text": [
      "Extrato\n",
      "CC Numero: 1 Saldo: 0\n"
     ]
    }
   ],
   "source": [
    "conta.saque(1000)\n",
    "conta.resumo()"
   ]
  },
  {
   "cell_type": "code",
   "execution_count": 28,
   "metadata": {},
   "outputs": [
    {
     "name": "stdout",
     "output_type": "stream",
     "text": [
      "Extrato\n",
      "CC Numero: 1 Saldo: 0\n"
     ]
    }
   ],
   "source": [
    "conta.saque(50)\n",
    "conta.resumo()"
   ]
  },
  {
   "cell_type": "code",
   "execution_count": 29,
   "metadata": {},
   "outputs": [
    {
     "name": "stdout",
     "output_type": "stream",
     "text": [
      "Extrato\n",
      "CC Numero: 1 Saldo: 200\n"
     ]
    }
   ],
   "source": [
    "conta.deposito(200)\n",
    "conta.resumo()"
   ]
  },
  {
   "cell_type": "code",
   "execution_count": 30,
   "metadata": {},
   "outputs": [
    {
     "name": "stdout",
     "output_type": "stream",
     "text": [
      "Extrato\n",
      "CC Numero: 2 Saldo: 100\n"
     ]
    }
   ],
   "source": [
    "conta = Conta(maria, 2, 100)\n",
    "conta.resumo()"
   ]
  },
  {
   "cell_type": "code",
   "execution_count": 31,
   "metadata": {},
   "outputs": [
    {
     "name": "stdout",
     "output_type": "stream",
     "text": [
      "Extrato\n",
      "CC Numero: 2 Saldo: 100\n"
     ]
    }
   ],
   "source": [
    "conta.saque(1000)\n",
    "conta.resumo()"
   ]
  },
  {
   "cell_type": "code",
   "execution_count": 32,
   "metadata": {},
   "outputs": [
    {
     "name": "stdout",
     "output_type": "stream",
     "text": [
      "Extrato\n",
      "CC Numero: 2 Saldo: 50\n"
     ]
    }
   ],
   "source": [
    "conta.saque(50)\n",
    "conta.resumo()"
   ]
  },
  {
   "cell_type": "code",
   "execution_count": 33,
   "metadata": {},
   "outputs": [
    {
     "name": "stdout",
     "output_type": "stream",
     "text": [
      "Extrato\n",
      "CC Numero: 2 Saldo: 250\n"
     ]
    }
   ],
   "source": [
    "conta.deposito(200)\n",
    "conta.resumo()"
   ]
  },
  {
   "cell_type": "markdown",
   "metadata": {},
   "source": [
    "No código a seguir:\n",
    "- Foi adicionado um atributo que é a lista de operações realizadas. \n",
    "- Se considera o saldo inicial como um depósito. \n",
    "- Foi adicionado o método `extrato` para imprimir todas as operações realizadas."
   ]
  },
  {
   "cell_type": "code",
   "execution_count": 34,
   "metadata": {},
   "outputs": [],
   "source": [
    "class Conta:\n",
    "    def __init__(self, clientes, numero, saldo = 0):\n",
    "        self.saldo = 0\n",
    "        self.clientes = clientes\n",
    "        self.numero = numero\n",
    "        self.operacoes = []\n",
    "        self.deposito(saldo)\n",
    "    \n",
    "    def resumo(self):\n",
    "        print(f\"CC N {self.numero} Saldo: {self.saldo}\")\n",
    "\n",
    "    def saque(self, valor):\n",
    "        if self.saldo >= valor:\n",
    "            self.saldo -=valor\n",
    "        self.operacoes.append([\"SAQUE\", valor])\n",
    "\n",
    "    def deposito(self, valor):\n",
    "        self.saldo += valor\n",
    "        self.operacoes.append([\"DEPOSITO\", valor])\n",
    "\n",
    "    def extrato(self):\n",
    "        print(f\"Extrato CC N {self.numero}\\n\")\n",
    "        for o in self.operacoes:\n",
    "            print(f\"({o[0]},{o[1]})\")\n",
    "        print(f\"\\n Saldo: {self.saldo} \\n\")"
   ]
  },
  {
   "cell_type": "code",
   "execution_count": 35,
   "metadata": {},
   "outputs": [],
   "source": [
    "joao = Cliente(\"João da Silva\", \"777-1234\")\n",
    "maria = Cliente(\"Maria da Silva\", \"555-4321\")"
   ]
  },
  {
   "cell_type": "code",
   "execution_count": 36,
   "metadata": {},
   "outputs": [
    {
     "name": "stdout",
     "output_type": "stream",
     "text": [
      "João da Silva, 777-1234\n",
      "Maria da Silva, 555-4321\n"
     ]
    }
   ],
   "source": [
    "print(f\"{joao.nome}, {joao.telefone}\")\n",
    "print(f\"{maria.nome}, {maria.telefone}\")"
   ]
  },
  {
   "cell_type": "code",
   "execution_count": 37,
   "metadata": {},
   "outputs": [],
   "source": [
    "conta1 = Conta([joao], 1, 1000)\n",
    "conta2 = Conta([maria, joao], 2, 500)"
   ]
  },
  {
   "cell_type": "code",
   "execution_count": 38,
   "metadata": {},
   "outputs": [
    {
     "name": "stdout",
     "output_type": "stream",
     "text": [
      "[<__main__.Cliente object at 0x7f84cc63cf10>], 1, 1000\n"
     ]
    }
   ],
   "source": [
    "print(f\"{conta1.clientes}, {conta1.numero}, {conta1.saldo}\")\n"
   ]
  },
  {
   "cell_type": "code",
   "execution_count": 39,
   "metadata": {},
   "outputs": [],
   "source": [
    "conta1.saque(50)\n",
    "conta2.deposito(300)\n",
    "conta1.saque(190)\n",
    "conta2.deposito(95)\n",
    "conta2.saque(250)"
   ]
  },
  {
   "cell_type": "code",
   "execution_count": 40,
   "metadata": {},
   "outputs": [
    {
     "name": "stdout",
     "output_type": "stream",
     "text": [
      "Extrato CC N 1\n",
      "\n",
      "(DEPOSITO,1000)\n",
      "(SAQUE,50)\n",
      "(SAQUE,190)\n",
      "\n",
      " Saldo: 760 \n",
      "\n"
     ]
    }
   ],
   "source": [
    "conta1.extrato()"
   ]
  },
  {
   "cell_type": "code",
   "execution_count": 41,
   "metadata": {},
   "outputs": [
    {
     "name": "stdout",
     "output_type": "stream",
     "text": [
      "Extrato CC N 2\n",
      "\n",
      "(DEPOSITO,500)\n",
      "(DEPOSITO,300)\n",
      "(DEPOSITO,95)\n",
      "(SAQUE,250)\n",
      "\n",
      " Saldo: 645 \n",
      "\n"
     ]
    }
   ],
   "source": [
    "conta2.extrato()"
   ]
  },
  {
   "cell_type": "markdown",
   "metadata": {},
   "source": [
    "**Exercicio 5:**\n",
    "Altere o códigos anterior de forma que a mensagem saldo insuficiente seja exibida caso haja tentativa de sacar mais dinheiro que o saldo disponível."
   ]
  },
  {
   "cell_type": "markdown",
   "metadata": {},
   "source": [
    "**Exercício 6:**\n",
    "Modifique o método resumo da classe Conta para exibir o nome e o telefone de cada cliente."
   ]
  },
  {
   "cell_type": "markdown",
   "metadata": {},
   "source": [
    "**Exercício 7:**\n",
    "Crie uma nova conta, agora tendo João e José como clientes e saldo igual a 500."
   ]
  },
  {
   "cell_type": "markdown",
   "metadata": {},
   "source": [
    "- A seguir vamos implementar a classe `Banco` para armazenar todas as nossas contas. \n",
    "- Como atributos, considere nome e a lista de contas. \n",
    "- Como operações, considere a abertura de uma conta corrente e a listagem de todas as contas do banco."
   ]
  },
  {
   "cell_type": "code",
   "execution_count": 42,
   "metadata": {},
   "outputs": [],
   "source": [
    "class Banco:\n",
    "    def __init__(self, nome):\n",
    "        self.nome=nome\n",
    "        self.clientes=[]\n",
    "        self.contas=[]\n",
    "\n",
    "    def abre_conta(self, conta):\n",
    "        self.contas.append(conta)\n",
    "\n",
    "    def lista_contas(self):\n",
    "        for c in self.contas:\n",
    "            c.resumo()"
   ]
  },
  {
   "cell_type": "code",
   "execution_count": 43,
   "metadata": {},
   "outputs": [],
   "source": [
    "joao = Cliente(\"João da Silva\", \"3241-5599\")\n",
    "maria = Cliente(\"Maria Silva\", \"7231-9955\")\n",
    "josé = Cliente(\"José Vargas\",\"9721-3040\")"
   ]
  },
  {
   "cell_type": "code",
   "execution_count": 44,
   "metadata": {},
   "outputs": [],
   "source": [
    "contaJM = Conta( [joao, maria], 100)\n",
    "contaJ = Conta( [josé], 10)"
   ]
  },
  {
   "cell_type": "code",
   "execution_count": 45,
   "metadata": {},
   "outputs": [],
   "source": [
    "dema = Banco(\"DEMA\")"
   ]
  },
  {
   "cell_type": "code",
   "execution_count": 46,
   "metadata": {},
   "outputs": [],
   "source": [
    "dema.abre_conta(contaJM)\n",
    "dema.abre_conta(contaJ)"
   ]
  },
  {
   "cell_type": "code",
   "execution_count": 47,
   "metadata": {},
   "outputs": [
    {
     "name": "stdout",
     "output_type": "stream",
     "text": [
      "CC N 100 Saldo: 0\n",
      "CC N 10 Saldo: 0\n"
     ]
    }
   ],
   "source": [
    "dema.lista_contas()"
   ]
  },
  {
   "cell_type": "markdown",
   "metadata": {},
   "source": [
    "**Exercício 8:**\n",
    "1. Crie classes para representar estados e cidades. \n",
    "2. Cada estado tem como atributos, nome, sigla e cidades. \n",
    "3. Cada cidade tem como atributos, nome e população. \n",
    "4. Implemente um códigos que crie três estados com algumas cidades em cada um. \n",
    "5. Exiba a população de cada estado como a soma da população de suas cidades."
   ]
  },
  {
   "cell_type": "code",
   "execution_count": null,
   "metadata": {},
   "outputs": [],
   "source": []
  }
 ],
 "metadata": {
  "kernelspec": {
   "display_name": "Python 3",
   "language": "python",
   "name": "python3"
  },
  "language_info": {
   "codemirror_mode": {
    "name": "ipython",
    "version": 3
   },
   "file_extension": ".py",
   "mimetype": "text/x-python",
   "name": "python",
   "nbconvert_exporter": "python",
   "pygments_lexer": "ipython3",
   "version": "3.10.12"
  }
 },
 "nbformat": 4,
 "nbformat_minor": 2
}
