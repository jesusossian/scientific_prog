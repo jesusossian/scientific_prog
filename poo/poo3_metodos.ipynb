{
 "cells": [
  {
   "cell_type": "markdown",
   "metadata": {},
   "source": [
    "## Métodos"
   ]
  },
  {
   "cell_type": "markdown",
   "metadata": {},
   "source": [
    "- No paradigma orientado a objetos as funcionalidades de um objeto são chamados de **métodos**(funções dentro de uma classe).\n",
    "- Quando criamos um objeto, ele tem todos os **atributos** e **métodos** que especificamos ao declarar a classe e que foram inicializados em seu construtor. \n",
    "- Essa caracteristica simplifica o desenvolvimento dos programas, pois podemos definir o comportamento de todos os objetos de uma classe(**métodos**), preservando os valores individuais de cada um (**atributos**)."
   ]
  },
  {
   "cell_type": "code",
   "execution_count": 2,
   "metadata": {},
   "outputs": [],
   "source": [
    "# definição de dois métodos para mudar o canais na classe Televisao\n",
    "\n",
    "class Televisao:\n",
    "    \n",
    "    def __init__(self):\n",
    "        self.ligada = False\n",
    "        self.canal = 2\n",
    "    \n",
    "    def muda_canal_para_baixo(self):\n",
    "        self.canal -= 1\n",
    "    \n",
    "    def muda_canal_para_cima(self):\n",
    "        self.canal += 1"
   ]
  },
  {
   "cell_type": "code",
   "execution_count": 3,
   "metadata": {},
   "outputs": [],
   "source": [
    "tv = Televisao()"
   ]
  },
  {
   "cell_type": "code",
   "execution_count": 4,
   "metadata": {},
   "outputs": [
    {
     "name": "stdout",
     "output_type": "stream",
     "text": [
      "TV ligada: False, Canal da TV: 2\n"
     ]
    }
   ],
   "source": [
    "print(f\"TV ligada: {tv.ligada}, Canal da TV: {tv.canal}\" )"
   ]
  },
  {
   "cell_type": "markdown",
   "metadata": {},
   "source": [
    "- Como o `self` é a referência do objeto, ele chama `self.ligada` e `self.canal` da classe `Televisao`."
   ]
  },
  {
   "cell_type": "code",
   "execution_count": 5,
   "metadata": {},
   "outputs": [],
   "source": [
    "tv.muda_canal_para_baixo()\n",
    "tv.muda_canal_para_baixo()"
   ]
  },
  {
   "cell_type": "code",
   "execution_count": 6,
   "metadata": {},
   "outputs": [
    {
     "name": "stdout",
     "output_type": "stream",
     "text": [
      "False, 0\n"
     ]
    }
   ],
   "source": [
    "print(f\"{tv.ligada}, {tv.canal}\")"
   ]
  },
  {
   "cell_type": "code",
   "execution_count": 7,
   "metadata": {},
   "outputs": [],
   "source": [
    "tv.muda_canal_para_cima()"
   ]
  },
  {
   "cell_type": "code",
   "execution_count": 8,
   "metadata": {},
   "outputs": [
    {
     "name": "stdout",
     "output_type": "stream",
     "text": [
      "1\n"
     ]
    }
   ],
   "source": [
    "print(f\"{tv.canal}\")"
   ]
  },
  {
   "cell_type": "code",
   "execution_count": 9,
   "metadata": {},
   "outputs": [],
   "source": [
    "# Alterando o construtor da classe Televisao de forma a receber o canal mínimo e máximo suportado pelo objeto da classe\n",
    "\n",
    "class Televisao:\n",
    "    def __init__(self, min, max):\n",
    "        self.ligada = False\n",
    "        self.canal = 2\n",
    "        self.cmin = min\n",
    "        self.cmax = max\n",
    "    \n",
    "    def muda_canal_para_baixo(self):\n",
    "        if(self.canal-1>=self.cmin):\n",
    "            self.canal-=1\n",
    "\n",
    "    def muda_canal_para_cima(self):\n",
    "        if(self.canal+1<=self.cmax):\n",
    "            self.canal+=1"
   ]
  },
  {
   "cell_type": "code",
   "execution_count": 10,
   "metadata": {},
   "outputs": [],
   "source": [
    "# criando instancia Televisao com canal min=1 e max=99\n",
    "tv = Televisao(1,99)"
   ]
  },
  {
   "cell_type": "code",
   "execution_count": 11,
   "metadata": {},
   "outputs": [
    {
     "name": "stdout",
     "output_type": "stream",
     "text": [
      "False, 2\n"
     ]
    }
   ],
   "source": [
    "print(f\"{tv.ligada}, {tv.canal}\")"
   ]
  },
  {
   "cell_type": "code",
   "execution_count": 12,
   "metadata": {},
   "outputs": [
    {
     "name": "stdout",
     "output_type": "stream",
     "text": [
      "99\n"
     ]
    }
   ],
   "source": [
    "for x in range(0,120):\n",
    "    tv.muda_canal_para_cima()\n",
    "\n",
    "print(f\"{tv.canal}\")"
   ]
  },
  {
   "cell_type": "code",
   "execution_count": 13,
   "metadata": {},
   "outputs": [
    {
     "name": "stdout",
     "output_type": "stream",
     "text": [
      "1\n"
     ]
    }
   ],
   "source": [
    "for x in range(0,120):\n",
    "    tv.muda_canal_para_baixo()\n",
    "\n",
    "print(f\"{tv.canal}\")"
   ]
  },
  {
   "cell_type": "markdown",
   "metadata": {},
   "source": [
    "**Exercício 1:** Modifique a classe `Televisao` de forma que ela receba o canal inicial em seu construtor."
   ]
  },
  {
   "cell_type": "code",
   "execution_count": 14,
   "metadata": {},
   "outputs": [],
   "source": [
    "class Televisao:\n",
    "    def __init__(self, canal_inicial, min, max):\n",
    "        self.ligada = False\n",
    "        self.canal = canal_inicial\n",
    "        self.cmin = min\n",
    "        self.cmax = max\n",
    "\n",
    "    def muda_canal_para_baixo(self):\n",
    "        if self.canal - 1 >= self.cmin:\n",
    "            self.canal -= 1\n",
    "    \n",
    "    def muda_canal_para_cima(self):\n",
    "        if self.canal + 1 <= self.cmax:\n",
    "            self.canal += 1"
   ]
  },
  {
   "cell_type": "code",
   "execution_count": 15,
   "metadata": {},
   "outputs": [],
   "source": [
    "tv = Televisao(8, 1, 99)"
   ]
  },
  {
   "cell_type": "code",
   "execution_count": 16,
   "metadata": {},
   "outputs": [
    {
     "data": {
      "text/plain": [
       "8"
      ]
     },
     "execution_count": 16,
     "metadata": {},
     "output_type": "execute_result"
    }
   ],
   "source": [
    "tv.canal"
   ]
  },
  {
   "cell_type": "markdown",
   "metadata": {},
   "source": [
    "**Exercício 2:**  Modifique a classe `Televisao` de forma que, se pedirmos para mudar o canal para baixo, além do mínimo, ela vá para o canal máximo. \n",
    "Se mudarmos para cima, além do canal máximo, que volte ao canal mínimo."
   ]
  },
  {
   "cell_type": "code",
   "execution_count": 17,
   "metadata": {},
   "outputs": [],
   "source": [
    "class Televisao:\n",
    "    def __init__(self, canal_inicial, min, max):\n",
    "        self.ligada = False\n",
    "        self.canal = canal_inicial\n",
    "        self.cmin = min\n",
    "        self.cmax = max\n",
    "\n",
    "    def muda_canal_para_baixo(self):\n",
    "        if self.canal - 1 >= self.cmin:\n",
    "            self.canal -= 1\n",
    "        else:\n",
    "            self.canal = self.cmax\n",
    "    \n",
    "    def muda_canal_para_cima(self):\n",
    "        if self.canal + 1 <= self.cmax:\n",
    "            self.canal += 1\n",
    "        else:\n",
    "            self.canal = self.cmin"
   ]
  },
  {
   "cell_type": "code",
   "execution_count": 18,
   "metadata": {},
   "outputs": [
    {
     "data": {
      "text/plain": [
       "10"
      ]
     },
     "execution_count": 18,
     "metadata": {},
     "output_type": "execute_result"
    }
   ],
   "source": [
    "tv = Televisao(1, 1, 10)\n",
    "tv.muda_canal_para_baixo()\n",
    "tv.canal"
   ]
  },
  {
   "cell_type": "code",
   "execution_count": 19,
   "metadata": {},
   "outputs": [
    {
     "data": {
      "text/plain": [
       "1"
      ]
     },
     "execution_count": 19,
     "metadata": {},
     "output_type": "execute_result"
    }
   ],
   "source": [
    "tv.muda_canal_para_cima()\n",
    "tv.canal"
   ]
  },
  {
   "cell_type": "markdown",
   "metadata": {},
   "source": [
    "- Tudo que aprendemos com funções é também válido para métodos. \n",
    "- O primeiro parâmetro do método é chamado `self` e representa a instância sobre a qual o método atuará. \n",
    "- Por meio do parâmetro `self` temos acesso aos outros métodos de uma classe, preservando todos os atributos de nossos objetos."
   ]
  },
  {
   "cell_type": "markdown",
   "metadata": {},
   "source": [
    "**Exercício 3:** Modifique o construtor da classe `Televisao` de forma que `min` e `max` sejam parâmetros opcionais, onde `min=2` e `max=14`, caso outro valor não seja passado."
   ]
  },
  {
   "cell_type": "code",
   "execution_count": 20,
   "metadata": {},
   "outputs": [],
   "source": [
    "class Televisao:\n",
    "    def __init__(self, canal_inicial, min=2, max=12):\n",
    "        self.ligada = False\n",
    "        self.canal = canal_inicial\n",
    "        self.cmin = min\n",
    "        self.cmax = max\n",
    "\n",
    "    def muda_canal_para_baixo(self):\n",
    "        if self.canal - 1 >= self.cmin:\n",
    "            self.canal -= 1\n",
    "        else:\n",
    "            self.canal = self.cmax\n",
    "    \n",
    "    def muda_canal_para_cima(self):\n",
    "        if self.canal + 1 <= self.cmax:\n",
    "            self.canal += 1\n",
    "        else:\n",
    "            self.canal = self.cmin"
   ]
  },
  {
   "cell_type": "code",
   "execution_count": 21,
   "metadata": {},
   "outputs": [
    {
     "data": {
      "text/plain": [
       "1"
      ]
     },
     "execution_count": 21,
     "metadata": {},
     "output_type": "execute_result"
    }
   ],
   "source": [
    "tv = Televisao(1)\n",
    "tv.canal"
   ]
  },
  {
   "cell_type": "code",
   "execution_count": 22,
   "metadata": {},
   "outputs": [
    {
     "data": {
      "text/plain": [
       "12"
      ]
     },
     "execution_count": 22,
     "metadata": {},
     "output_type": "execute_result"
    }
   ],
   "source": [
    "tv.muda_canal_para_baixo()\n",
    "tv.canal"
   ]
  },
  {
   "cell_type": "code",
   "execution_count": 23,
   "metadata": {},
   "outputs": [
    {
     "data": {
      "text/plain": [
       "2"
      ]
     },
     "execution_count": 23,
     "metadata": {},
     "output_type": "execute_result"
    }
   ],
   "source": [
    "tv.muda_canal_para_cima()\n",
    "tv.canal"
   ]
  },
  {
   "cell_type": "markdown",
   "metadata": {},
   "source": [
    "**Exercício 4:** Utilizando a classe `Televisao` modificada no exercício 3, crie duas instâncias (objetos), especificando o valor de `min` e `max` por nome."
   ]
  },
  {
   "cell_type": "code",
   "execution_count": 24,
   "metadata": {},
   "outputs": [
    {
     "data": {
      "text/plain": [
       "1"
      ]
     },
     "execution_count": 24,
     "metadata": {},
     "output_type": "execute_result"
    }
   ],
   "source": [
    "tv = Televisao(2, min=1, max=22)\n",
    "tv.muda_canal_para_baixo()\n",
    "tv.canal"
   ]
  },
  {
   "cell_type": "code",
   "execution_count": 25,
   "metadata": {},
   "outputs": [
    {
     "data": {
      "text/plain": [
       "2"
      ]
     },
     "execution_count": 25,
     "metadata": {},
     "output_type": "execute_result"
    }
   ],
   "source": [
    "tv.muda_canal_para_cima()\n",
    "tv.canal"
   ]
  },
  {
   "cell_type": "code",
   "execution_count": 26,
   "metadata": {},
   "outputs": [
    {
     "data": {
      "text/plain": [
       "64"
      ]
     },
     "execution_count": 26,
     "metadata": {},
     "output_type": "execute_result"
    }
   ],
   "source": [
    "tv2 = Televisao(2, min=2, max=64)\n",
    "tv2.muda_canal_para_baixo()\n",
    "tv2.canal"
   ]
  },
  {
   "cell_type": "code",
   "execution_count": 27,
   "metadata": {},
   "outputs": [
    {
     "data": {
      "text/plain": [
       "2"
      ]
     },
     "execution_count": 27,
     "metadata": {},
     "output_type": "execute_result"
    }
   ],
   "source": [
    "tv2.muda_canal_para_cima()\n",
    "tv2.canal"
   ]
  },
  {
   "cell_type": "markdown",
   "metadata": {},
   "source": [
    "### Exemplo 2: Um banco financeiro\n",
    "\n",
    "- Suponha um banco onde cada conta corrente pode ter um ou mais clientes como titular. \n",
    "- O banco controla apenas o nome e telefone de cada cliente. \n",
    "- A conta corrente apresenta um saldo e uma lista de operações de saques e depósitos. \n",
    "- O cliente não pode sacar mais dinheiro que seu saldo permite."
   ]
  },
  {
   "cell_type": "code",
   "execution_count": 28,
   "metadata": {},
   "outputs": [],
   "source": [
    "# definição da classe cliente dois atributos: nome e telefone\n",
    "class Cliente:\n",
    "    def __init__(self, nome, telefone):\n",
    "        self.nome = nome\n",
    "        self.telefone = telefone"
   ]
  },
  {
   "cell_type": "code",
   "execution_count": 29,
   "metadata": {},
   "outputs": [],
   "source": [
    "joao = Cliente(\"João da Silva\", \"777-1234\")\n",
    "maria = Cliente(\"Maria Silva\", \"555-4321\")"
   ]
  },
  {
   "cell_type": "code",
   "execution_count": 30,
   "metadata": {},
   "outputs": [
    {
     "name": "stdout",
     "output_type": "stream",
     "text": [
      "João da Silva, 777-1234\n",
      "Maria Silva, 555-4321\n"
     ]
    }
   ],
   "source": [
    "print(f\"{joao.nome}, {joao.telefone}\")\n",
    "print(f\"{maria.nome}, {maria.telefone}\")"
   ]
  },
  {
   "cell_type": "markdown",
   "metadata": {},
   "source": [
    "- Criaremos a classe `Conta` para representar uma conta do banco com seus clientes e seu saldo. \n",
    "- A classe `Conta` é definida recebendo `clientes`, `numero` e `saldo` em seu construtor, onde em `clientes` esperamos uma lista de objetos da classe `Cliente`, `numero` é uma string com o número da conta, e `saldo` é um parâmetro opcional, tendo zero (0) como padrão. \n",
    "- A classe `Conta` apresenta os métodos `resumo`, `saque` e `deposito`. \n",
    "    - `resumo`, exibe na tela o número da conta corrente e seu saldo, \n",
    "    - `saque`, permite retirar dinheiro da conta corrente, verificando se essa operação é possível. \n",
    "    - `deposito`, simplesmente adiciona o valor solicitado ao saldo da conta corrente."
   ]
  },
  {
   "cell_type": "code",
   "execution_count": 31,
   "metadata": {},
   "outputs": [],
   "source": [
    "class Conta:\n",
    "    def __init__(self, clientes, numero, saldo = 0):\n",
    "        self.saldo = saldo\n",
    "        self.clientes = clientes\n",
    "        self.numero = numero\n",
    "\n",
    "    def resumo(self):\n",
    "        print(f\"extrato\")\n",
    "        print(f\"cc {self.numero} saldo: {self.saldo}\")\n",
    "\n",
    "    def saque(self, valor):\n",
    "        if self.saldo >= valor:\n",
    "            self.saldo -=valor\n",
    "\n",
    "    def deposito(self, valor):\n",
    "        self.saldo += valor"
   ]
  },
  {
   "cell_type": "markdown",
   "metadata": {},
   "source": [
    "- O método `resumo()` recebe a instância do objeto (`self`).\n",
    "- O método `deposita()` recebe instância do objeto (`self`) além do valor a ser depositado.\n",
    "- O método `saque()` recebe instância do objeto (`self`) além do valor a ser retirado."
   ]
  },
  {
   "cell_type": "code",
   "execution_count": 32,
   "metadata": {},
   "outputs": [
    {
     "name": "stdout",
     "output_type": "stream",
     "text": [
      "extrato\n",
      "cc 1 saldo: 1000\n"
     ]
    }
   ],
   "source": [
    "conta = Conta(joao, 1, 1000)\n",
    "conta.resumo()"
   ]
  },
  {
   "cell_type": "code",
   "execution_count": 33,
   "metadata": {},
   "outputs": [
    {
     "name": "stdout",
     "output_type": "stream",
     "text": [
      "extrato\n",
      "cc 1 saldo: 0\n"
     ]
    }
   ],
   "source": [
    "conta.saque(1000)\n",
    "conta.resumo()"
   ]
  },
  {
   "cell_type": "code",
   "execution_count": 34,
   "metadata": {},
   "outputs": [
    {
     "name": "stdout",
     "output_type": "stream",
     "text": [
      "extrato\n",
      "cc 1 saldo: 0\n"
     ]
    }
   ],
   "source": [
    "conta.saque(50)\n",
    "conta.resumo()"
   ]
  },
  {
   "cell_type": "code",
   "execution_count": 35,
   "metadata": {},
   "outputs": [
    {
     "name": "stdout",
     "output_type": "stream",
     "text": [
      "extrato\n",
      "cc 1 saldo: 200\n"
     ]
    }
   ],
   "source": [
    "conta.deposito(200)\n",
    "conta.resumo()"
   ]
  },
  {
   "cell_type": "code",
   "execution_count": 36,
   "metadata": {},
   "outputs": [
    {
     "name": "stdout",
     "output_type": "stream",
     "text": [
      "extrato\n",
      "cc 2 saldo: 100\n"
     ]
    }
   ],
   "source": [
    "conta = Conta(maria, 2, 100)\n",
    "conta.resumo()"
   ]
  },
  {
   "cell_type": "code",
   "execution_count": 37,
   "metadata": {},
   "outputs": [
    {
     "name": "stdout",
     "output_type": "stream",
     "text": [
      "extrato\n",
      "cc 2 saldo: 100\n"
     ]
    }
   ],
   "source": [
    "conta.saque(1000)\n",
    "conta.resumo()"
   ]
  },
  {
   "cell_type": "code",
   "execution_count": 38,
   "metadata": {},
   "outputs": [
    {
     "name": "stdout",
     "output_type": "stream",
     "text": [
      "extrato\n",
      "cc 2 saldo: 50\n"
     ]
    }
   ],
   "source": [
    "conta.saque(50)\n",
    "conta.resumo()"
   ]
  },
  {
   "cell_type": "code",
   "execution_count": 39,
   "metadata": {},
   "outputs": [
    {
     "name": "stdout",
     "output_type": "stream",
     "text": [
      "extrato\n",
      "cc 2 saldo: 250\n"
     ]
    }
   ],
   "source": [
    "conta.deposito(200)\n",
    "conta.resumo()"
   ]
  },
  {
   "cell_type": "markdown",
   "metadata": {},
   "source": [
    "No código a seguir:\n",
    "- Foi adicionado um atributo que é a lista de operações realizadas. \n",
    "- Se considera o saldo inicial como um depósito. \n",
    "- Foi adicionado o método `extrato` para imprimir todas as operações realizadas."
   ]
  },
  {
   "cell_type": "code",
   "execution_count": 40,
   "metadata": {},
   "outputs": [],
   "source": [
    "class Conta:\n",
    "    def __init__(self, clientes, numero, saldo = 0):\n",
    "        self.saldo = 0\n",
    "        self.clientes = clientes\n",
    "        self.numero = numero\n",
    "        self.operacoes = []\n",
    "        self.deposito(saldo)\n",
    "    \n",
    "    def resumo(self):\n",
    "        print(f\"cc {self.numero} saldo: {self.saldo}\")\n",
    "\n",
    "    def saque(self, valor):\n",
    "        if self.saldo >= valor:\n",
    "            self.saldo -=valor\n",
    "        self.operacoes.append([\"saque\", valor])\n",
    "\n",
    "    def deposito(self, valor):\n",
    "        self.saldo += valor\n",
    "        self.operacoes.append([\"deposito\", valor])\n",
    "\n",
    "    def extrato(self):\n",
    "        print(f\"extrato cc {self.numero}\\n\")\n",
    "        for o in self.operacoes:\n",
    "            print(f\"({o[0]},{o[1]})\")\n",
    "        print(f\"\\n saldo: {self.saldo} \\n\")"
   ]
  },
  {
   "cell_type": "code",
   "execution_count": 41,
   "metadata": {},
   "outputs": [],
   "source": [
    "joao = Cliente(\"João da Silva\", \"777-1234\")\n",
    "maria = Cliente(\"Maria da Silva\", \"555-4321\")"
   ]
  },
  {
   "cell_type": "code",
   "execution_count": 42,
   "metadata": {},
   "outputs": [
    {
     "name": "stdout",
     "output_type": "stream",
     "text": [
      "João da Silva, 777-1234\n",
      "Maria da Silva, 555-4321\n"
     ]
    }
   ],
   "source": [
    "print(f\"{joao.nome}, {joao.telefone}\")\n",
    "print(f\"{maria.nome}, {maria.telefone}\")"
   ]
  },
  {
   "cell_type": "code",
   "execution_count": 43,
   "metadata": {},
   "outputs": [],
   "source": [
    "conta1 = Conta([joao], 1, 1000)\n",
    "conta2 = Conta([maria, joao], 2, 500)"
   ]
  },
  {
   "cell_type": "code",
   "execution_count": 44,
   "metadata": {},
   "outputs": [
    {
     "name": "stdout",
     "output_type": "stream",
     "text": [
      "[<__main__.Cliente object at 0x7f9280202860>], 1, 1000\n"
     ]
    }
   ],
   "source": [
    "print(f\"{conta1.clientes}, {conta1.numero}, {conta1.saldo}\")\n"
   ]
  },
  {
   "cell_type": "code",
   "execution_count": 45,
   "metadata": {},
   "outputs": [],
   "source": [
    "conta1.saque(50)\n",
    "conta2.deposito(300)\n",
    "conta1.saque(190)\n",
    "conta2.deposito(95)\n",
    "conta2.saque(250)"
   ]
  },
  {
   "cell_type": "code",
   "execution_count": 46,
   "metadata": {},
   "outputs": [
    {
     "name": "stdout",
     "output_type": "stream",
     "text": [
      "extrato cc 1\n",
      "\n",
      "(deposito,1000)\n",
      "(saque,50)\n",
      "(saque,190)\n",
      "\n",
      " saldo: 760 \n",
      "\n"
     ]
    }
   ],
   "source": [
    "conta1.extrato()"
   ]
  },
  {
   "cell_type": "code",
   "execution_count": 47,
   "metadata": {},
   "outputs": [
    {
     "name": "stdout",
     "output_type": "stream",
     "text": [
      "extrato cc 2\n",
      "\n",
      "(deposito,500)\n",
      "(deposito,300)\n",
      "(deposito,95)\n",
      "(saque,250)\n",
      "\n",
      " saldo: 645 \n",
      "\n"
     ]
    }
   ],
   "source": [
    "conta2.extrato()"
   ]
  },
  {
   "cell_type": "markdown",
   "metadata": {},
   "source": [
    "**Exercicio 5:**\n",
    "Altere o códigos anterior de forma que a mensagem saldo insuficiente seja exibida caso haja tentativa de sacar mais dinheiro que o saldo disponível."
   ]
  },
  {
   "cell_type": "code",
   "execution_count": 48,
   "metadata": {},
   "outputs": [],
   "source": [
    "class Conta:\n",
    "    def __init__(self, clientes, numero, saldo = 0):\n",
    "        self.saldo = 0\n",
    "        self.clientes = clientes\n",
    "        self.numero = numero\n",
    "        self.operacoes = []\n",
    "        self.deposito(saldo)\n",
    "    \n",
    "    def resumo(self):\n",
    "        print(f\"cc {self.numero} saldo: {self.saldo}\")\n",
    "\n",
    "    def saque(self, valor):\n",
    "        if self.saldo >= valor:\n",
    "            self.saldo -=valor\n",
    "            self.operacoes.append([\"saque\", valor])\n",
    "        else:\n",
    "            print(\"saldo insuficiente\")\n",
    "\n",
    "    def deposito(self, valor):\n",
    "        self.saldo += valor\n",
    "        self.operacoes.append([\"deposito\", valor])\n",
    "\n",
    "    def extrato(self):\n",
    "        print(f\"extrato cc {self.numero}\\n\")\n",
    "        for o in self.operacoes:\n",
    "            print(f\"({o[0]},{o[1]})\")\n",
    "        print(f\"\\n saldo: {self.saldo} \\n\")"
   ]
  },
  {
   "cell_type": "code",
   "execution_count": 49,
   "metadata": {},
   "outputs": [],
   "source": [
    "conta1 = Conta([joao], 1, 1000)\n",
    "conta2 = Conta([maria, joao], 2, 500)"
   ]
  },
  {
   "cell_type": "code",
   "execution_count": 50,
   "metadata": {},
   "outputs": [
    {
     "name": "stdout",
     "output_type": "stream",
     "text": [
      "saldo insuficiente\n"
     ]
    }
   ],
   "source": [
    "conta1.saque(5000)"
   ]
  },
  {
   "cell_type": "markdown",
   "metadata": {},
   "source": [
    "**Exercício 6:**\n",
    "Modifique o método resumo da classe Conta para exibir o nome e o telefone de cada cliente."
   ]
  },
  {
   "cell_type": "code",
   "execution_count": 51,
   "metadata": {},
   "outputs": [],
   "source": [
    "class Conta:\n",
    "    def __init__(self, clientes, numero, saldo = 0):\n",
    "        self.saldo = 0\n",
    "        self.clientes = clientes\n",
    "        self.numero = numero\n",
    "        self.operacoes = []\n",
    "        self.deposito(saldo)\n",
    "    \n",
    "    def resumo(self):\n",
    "        for item in self.clientes:\n",
    "            print(f\"nome: {item.nome}\\ntelefone: {item.telefone}\\n\")\n",
    "        print(f\"cc {self.numero} saldo: {self.saldo}\")\n",
    "\n",
    "    def saque(self, valor):\n",
    "        if self.saldo >= valor:\n",
    "            self.saldo -=valor\n",
    "            self.operacoes.append([\"saque\", valor])\n",
    "        else:\n",
    "            print(\"saldo insuficiente\")\n",
    "\n",
    "    def deposito(self, valor):\n",
    "        self.saldo += valor\n",
    "        self.operacoes.append([\"deposito\", valor])\n",
    "\n",
    "    def extrato(self):\n",
    "        print(f\"extrato cc {self.numero}\\n\")\n",
    "        for o in self.operacoes:\n",
    "            print(f\"({o[0]},{o[1]})\")\n",
    "        print(f\"\\n saldo: {self.saldo} \\n\")"
   ]
  },
  {
   "cell_type": "code",
   "execution_count": 52,
   "metadata": {},
   "outputs": [
    {
     "name": "stdout",
     "output_type": "stream",
     "text": [
      "nome: Maria\n",
      "telefone: 1243-3321\n",
      "\n",
      "nome: João\n",
      "telefone: 5554-3322\n",
      "\n",
      "cc 1234 saldo: 5000\n"
     ]
    }
   ],
   "source": [
    "maria = Cliente(\"Maria\", \"1243-3321\")\n",
    "joão = Cliente(\"João\", \"5554-3322\")\n",
    "conta = Conta([maria, joão], 1234, 5000)\n",
    "conta.resumo()"
   ]
  },
  {
   "cell_type": "markdown",
   "metadata": {},
   "source": [
    "**Exercício 7:**\n",
    "Crie uma nova conta, agora tendo João e José como clientes e saldo igual a 500."
   ]
  },
  {
   "cell_type": "code",
   "execution_count": 53,
   "metadata": {},
   "outputs": [
    {
     "name": "stdout",
     "output_type": "stream",
     "text": [
      "nome: João\n",
      "telefone: 5554-3322\n",
      "\n",
      "nome: José\n",
      "telefone: 1243-3321\n",
      "\n",
      "cc 2341 saldo: 500\n"
     ]
    }
   ],
   "source": [
    "jose = Cliente(\"José\", \"1243-3321\")\n",
    "conta = Conta([joão, jose], 2341, 500)\n",
    "conta.resumo()"
   ]
  },
  {
   "cell_type": "markdown",
   "metadata": {},
   "source": [
    "- A seguir vamos implementar a classe `Banco` para armazenar todas as nossas contas. \n",
    "- Como atributos, considere nome e a lista de contas. \n",
    "- Como operações, considere a abertura de uma conta corrente e a listagem de todas as contas do banco."
   ]
  },
  {
   "cell_type": "code",
   "execution_count": 54,
   "metadata": {},
   "outputs": [],
   "source": [
    "class Banco:\n",
    "    def __init__(self, nome):\n",
    "        self.nome=nome\n",
    "        self.clientes=[]\n",
    "        self.contas=[]\n",
    "\n",
    "    def abre_conta(self, conta):\n",
    "        self.contas.append(conta)\n",
    "\n",
    "    def lista_contas(self):\n",
    "        for c in self.contas:\n",
    "            c.resumo()"
   ]
  },
  {
   "cell_type": "code",
   "execution_count": 55,
   "metadata": {},
   "outputs": [],
   "source": [
    "joao = Cliente(\"João da Silva\", \"3241-5599\")\n",
    "maria = Cliente(\"Maria Silva\", \"7231-9955\")\n",
    "jose = Cliente(\"José Vargas\",\"9721-3040\")"
   ]
  },
  {
   "cell_type": "code",
   "execution_count": 56,
   "metadata": {},
   "outputs": [],
   "source": [
    "contaJM = Conta([joao, maria], 100)\n",
    "contaJ = Conta([jose], 10)"
   ]
  },
  {
   "cell_type": "code",
   "execution_count": 57,
   "metadata": {},
   "outputs": [],
   "source": [
    "dema = Banco(\"DEMA\")"
   ]
  },
  {
   "cell_type": "code",
   "execution_count": 58,
   "metadata": {},
   "outputs": [],
   "source": [
    "dema.abre_conta(contaJM)\n",
    "dema.abre_conta(contaJ)"
   ]
  },
  {
   "cell_type": "code",
   "execution_count": 59,
   "metadata": {},
   "outputs": [
    {
     "name": "stdout",
     "output_type": "stream",
     "text": [
      "nome: João da Silva\n",
      "telefone: 3241-5599\n",
      "\n",
      "nome: Maria Silva\n",
      "telefone: 7231-9955\n",
      "\n",
      "cc 100 saldo: 0\n",
      "nome: José Vargas\n",
      "telefone: 9721-3040\n",
      "\n",
      "cc 10 saldo: 0\n"
     ]
    }
   ],
   "source": [
    "dema.lista_contas()"
   ]
  },
  {
   "cell_type": "markdown",
   "metadata": {},
   "source": [
    "**Exercício 8:**\n",
    "1. Crie classes para representar estados e cidades. \n",
    "2. Cada estado tem como atributos, nome, sigla e cidades. \n",
    "3. Cada cidade tem como atributos, nome e população. \n",
    "4. Implemente um códigos que crie três estados com algumas cidades em cada um. \n",
    "5. Exiba a população de cada estado como a soma da população de suas cidades."
   ]
  },
  {
   "cell_type": "code",
   "execution_count": 60,
   "metadata": {},
   "outputs": [],
   "source": [
    "class Estado:\n",
    "    def __init__(self, nome, sigla):\n",
    "        self.nome = nome\n",
    "        self.sigla = sigla\n",
    "        self.cidades = []\n",
    "\n",
    "    def adiciona_cidade(self, cidade):\n",
    "        cidade.estado = self\n",
    "        self.cidades.append(cidade)\n",
    "\n",
    "    def populacao(self):\n",
    "        return sum([c.populacao for c in self.cidades])"
   ]
  },
  {
   "cell_type": "code",
   "execution_count": 61,
   "metadata": {},
   "outputs": [],
   "source": [
    "class Cidade:\n",
    "    def __init__(self, nome, populacao):\n",
    "        self.nome = nome\n",
    "        self.populacao = populacao\n",
    "        self.estado = None\n",
    "\n",
    "    def __str__(self):\n",
    "        return f\"cidade (nome={self.nome}, população={self.populacao}, estado={self.estado})\""
   ]
  },
  {
   "cell_type": "code",
   "execution_count": 62,
   "metadata": {},
   "outputs": [],
   "source": [
    "# https://www.ibge.gov.br/cidades-e-estados\n",
    "# IBGE estimativa 2022\n",
    "\n",
    "ba = Estado(\"Bahia\", \"BA\")\n",
    "ba.adiciona_cidade(Cidade(\"Salvador\", 2417678))\n",
    "ba.adiciona_cidade(Cidade(\"Porto Seguro\", 168326))\n",
    "ba.adiciona_cidade(Cidade(\"Ilheus\", 178649))"
   ]
  },
  {
   "cell_type": "code",
   "execution_count": 63,
   "metadata": {},
   "outputs": [],
   "source": [
    "# https://www.ibge.gov.br/cidades-e-estados\n",
    "# IBGE estimativa 2022\n",
    "\n",
    "ce = Estado(\"Ceará\", \"CE\")\n",
    "ce.adiciona_cidade(Cidade(\"Fortaleza\", 2428708))\n",
    "ce.adiciona_cidade(Cidade(\"Caucaia\", 355679))\n",
    "ce.adiciona_cidade(Cidade(\"Juazeiro do Norte\", 286120))"
   ]
  },
  {
   "cell_type": "code",
   "execution_count": 64,
   "metadata": {},
   "outputs": [],
   "source": [
    "# https://www.ibge.gov.br/cidades-e-estados\n",
    "# IBGE estimativa 2022\n",
    "\n",
    "pi = Estado(\"Piauí\", \"PI\")\n",
    "pi.adiciona_cidade(Cidade(\"Teresina\", 866300))\n",
    "pi.adiciona_cidade(Cidade(\"Parnaiba\", 162159))\n",
    "pi.adiciona_cidade(Cidade(\"Beneditinos\", 9929))"
   ]
  },
  {
   "cell_type": "code",
   "execution_count": 65,
   "metadata": {},
   "outputs": [
    {
     "name": "stdout",
     "output_type": "stream",
     "text": [
      "População de Salvador-BA: 2417678\n",
      "População de Porto Seguro-BA: 168326\n",
      "População de Ilheus-BA: 178649\n",
      "Soma da população de 3 cidades da(o) BA: 2764653\n",
      "\n",
      "População de Fortaleza-CE: 2428708\n",
      "População de Caucaia-CE: 355679\n",
      "População de Juazeiro do Norte-CE: 286120\n",
      "Soma da população de 3 cidades da(o) CE: 3070507\n",
      "\n",
      "População de Teresina-PI: 866300\n",
      "População de Parnaiba-PI: 162159\n",
      "População de Beneditinos-PI: 9929\n",
      "Soma da população de 3 cidades da(o) PI: 1038388\n",
      "\n"
     ]
    }
   ],
   "source": [
    "for estado in [ba, ce, pi]:\n",
    "    #print(f\"Estado: {estado.nome} Sigla: {estado.sigla}\")\n",
    "    for cidade in estado.cidades:\n",
    "        print(f\"População de {cidade.nome}-{estado.sigla}: {cidade.populacao}\") \n",
    "    print(f\"Soma da população de 3 cidades da(o) {estado.sigla}: {estado.populacao()}\\n\")"
   ]
  },
  {
   "cell_type": "markdown",
   "metadata": {},
   "source": [
    "- Retornemos ao programa do banco financeiro. Suponha que se deseja verificar se o método `saque()` foi ou não bem sucedido."
   ]
  },
  {
   "cell_type": "code",
   "execution_count": 66,
   "metadata": {},
   "outputs": [],
   "source": [
    "def saque(self, valor):\n",
    "    if (self.saldo < valor):\n",
    "        return False\n",
    "    else:\n",
    "        self.saldo -= valor\n",
    "    return True"
   ]
  },
  {
   "cell_type": "code",
   "execution_count": 67,
   "metadata": {},
   "outputs": [],
   "source": [
    "conta_carlos = Conta(['carlos'],1000)"
   ]
  },
  {
   "cell_type": "code",
   "execution_count": 68,
   "metadata": {},
   "outputs": [
    {
     "name": "stdout",
     "output_type": "stream",
     "text": [
      "saldo insuficiente\n",
      "não consegui sacar\n"
     ]
    }
   ],
   "source": [
    "if(conta_carlos.saque(2000)):\n",
    "    print(\"consegui sacar\")\n",
    "else:\n",
    "    print(\"não consegui sacar\")"
   ]
  },
  {
   "cell_type": "markdown",
   "metadata": {},
   "source": [
    "- Quando criamos uma variável para associar a um objeto, na verdade, essa variável não guarda o objeto, e sim uma maneira de acessá-lo, chamada de referência (o `self`)."
   ]
  },
  {
   "cell_type": "code",
   "execution_count": 69,
   "metadata": {},
   "outputs": [],
   "source": [
    "c1 = Conta('123-4', 'João', 1000.0)\n",
    "c2 = c1"
   ]
  },
  {
   "cell_type": "code",
   "execution_count": 70,
   "metadata": {},
   "outputs": [
    {
     "data": {
      "text/plain": [
       "1000.0"
      ]
     },
     "execution_count": 70,
     "metadata": {},
     "output_type": "execute_result"
    }
   ],
   "source": [
    "c2.saldo"
   ]
  },
  {
   "cell_type": "code",
   "execution_count": 71,
   "metadata": {},
   "outputs": [
    {
     "data": {
      "text/plain": [
       "1100.0"
      ]
     },
     "execution_count": 71,
     "metadata": {},
     "output_type": "execute_result"
    }
   ],
   "source": [
    "c1.deposito(100.0)\n",
    "c1.saldo"
   ]
  },
  {
   "cell_type": "code",
   "execution_count": 72,
   "metadata": {},
   "outputs": [
    {
     "data": {
      "text/plain": [
       "1130.0"
      ]
     },
     "execution_count": 72,
     "metadata": {},
     "output_type": "execute_result"
    }
   ],
   "source": [
    "c2.deposito(30.0)\n",
    "c2.saldo"
   ]
  },
  {
   "cell_type": "code",
   "execution_count": 73,
   "metadata": {},
   "outputs": [
    {
     "data": {
      "text/plain": [
       "1130.0"
      ]
     },
     "execution_count": 73,
     "metadata": {},
     "output_type": "execute_result"
    }
   ],
   "source": [
    "c1.saldo"
   ]
  },
  {
   "cell_type": "markdown",
   "metadata": {},
   "source": [
    "- Retornando a referência de um objeto."
   ]
  },
  {
   "cell_type": "code",
   "execution_count": 74,
   "metadata": {},
   "outputs": [
    {
     "data": {
      "text/plain": [
       "140267191542752"
      ]
     },
     "execution_count": 74,
     "metadata": {},
     "output_type": "execute_result"
    }
   ],
   "source": [
    "id(c1)"
   ]
  },
  {
   "cell_type": "code",
   "execution_count": 75,
   "metadata": {},
   "outputs": [
    {
     "data": {
      "text/plain": [
       "140267191542752"
      ]
     },
     "execution_count": 75,
     "metadata": {},
     "output_type": "execute_result"
    }
   ],
   "source": [
    "id(c2)"
   ]
  },
  {
   "cell_type": "code",
   "execution_count": 76,
   "metadata": {},
   "outputs": [
    {
     "data": {
      "text/plain": [
       "True"
      ]
     },
     "execution_count": 76,
     "metadata": {},
     "output_type": "execute_result"
    }
   ],
   "source": [
    "c1 == c2"
   ]
  },
  {
   "cell_type": "code",
   "execution_count": 77,
   "metadata": {},
   "outputs": [
    {
     "name": "stdout",
     "output_type": "stream",
     "text": [
      "contas diferentes\n"
     ]
    }
   ],
   "source": [
    "c1 = Conta(\"123-4\", \"Python\", 500.0)\n",
    "c2 = Conta(\"123-4\", \"Python\", 500.0)\n",
    "if(c1 == c2):\n",
    "    print(\"contas iguais\")\n",
    "else:\n",
    "    print(\"contas diferentes\")"
   ]
  },
  {
   "cell_type": "markdown",
   "metadata": {},
   "source": [
    "- Suponha que se deseja implementar um método que faça a transferência entre duas contas"
   ]
  },
  {
   "cell_type": "code",
   "execution_count": 106,
   "metadata": {},
   "outputs": [],
   "source": [
    "class Conta:\n",
    "    def __init__(self, clientes, numero, saldo = 0):\n",
    "        self.saldo = 0\n",
    "        self.clientes = clientes\n",
    "        self.numero = numero\n",
    "        self.operacoes = []\n",
    "        self.deposito(saldo)\n",
    "    \n",
    "    def resumo(self):\n",
    "        print(f\"cc {self.numero} saldo: {self.saldo}\")\n",
    "\n",
    "    def saque(self, valor):\n",
    "        if self.saldo >= valor:\n",
    "            self.saldo -=valor\n",
    "        self.operacoes.append([\"saque\", valor])\n",
    "\n",
    "    def deposito(self, valor):\n",
    "        self.saldo += valor\n",
    "        self.operacoes.append([\"deposito\", valor])\n",
    "\n",
    "    def extrato(self):\n",
    "        print(f\"extrato cc {self.numero}\\n\")\n",
    "        for o in self.operacoes:\n",
    "            print(f\"({o[0]},{o[1]})\")\n",
    "        print(f\"\\nsaldo: {self.saldo} \\n\")\n",
    "    \n",
    "    def transfere(self, destino, valor):\n",
    "        tmp = self.saque(valor)\n",
    "        if (tmp == False):\n",
    "            return False\n",
    "        else:\n",
    "            destino.deposito(valor)\n",
    "            return True"
   ]
  },
  {
   "cell_type": "code",
   "execution_count": 111,
   "metadata": {},
   "outputs": [],
   "source": [
    "conta1 = Conta([joao, maria], 1, 100)\n",
    "conta2 = Conta([jose], 2, 10)"
   ]
  },
  {
   "cell_type": "code",
   "execution_count": 112,
   "metadata": {},
   "outputs": [
    {
     "data": {
      "text/plain": [
       "1410"
      ]
     },
     "execution_count": 112,
     "metadata": {},
     "output_type": "execute_result"
    }
   ],
   "source": [
    "conta2.deposito(1400)\n",
    "conta2.saldo"
   ]
  },
  {
   "cell_type": "code",
   "execution_count": 113,
   "metadata": {},
   "outputs": [
    {
     "data": {
      "text/plain": [
       "100"
      ]
     },
     "execution_count": 113,
     "metadata": {},
     "output_type": "execute_result"
    }
   ],
   "source": [
    "conta1.saldo"
   ]
  },
  {
   "cell_type": "code",
   "execution_count": 115,
   "metadata": {},
   "outputs": [
    {
     "data": {
      "text/plain": [
       "600"
      ]
     },
     "execution_count": 115,
     "metadata": {},
     "output_type": "execute_result"
    }
   ],
   "source": [
    "conta2.transfere(conta1,500)\n",
    "conta1.saldo"
   ]
  },
  {
   "cell_type": "code",
   "execution_count": null,
   "metadata": {},
   "outputs": [],
   "source": []
  },
  {
   "cell_type": "code",
   "execution_count": null,
   "metadata": {},
   "outputs": [],
   "source": []
  }
 ],
 "metadata": {
  "kernelspec": {
   "display_name": "Python 3",
   "language": "python",
   "name": "python3"
  },
  "language_info": {
   "codemirror_mode": {
    "name": "ipython",
    "version": 3
   },
   "file_extension": ".py",
   "mimetype": "text/x-python",
   "name": "python",
   "nbconvert_exporter": "python",
   "pygments_lexer": "ipython3",
   "version": "3.10.12"
  }
 },
 "nbformat": 4,
 "nbformat_minor": 2
}
