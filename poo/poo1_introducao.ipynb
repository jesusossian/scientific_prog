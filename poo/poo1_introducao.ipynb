{
 "cells": [
  {
   "cell_type": "markdown",
   "metadata": {},
   "source": [
    "## Orientação a objetos"
   ]
  },
  {
   "cell_type": "markdown",
   "metadata": {},
   "source": [
    "- Suponha que queremos implementar um programa para um banco financeiro.\n",
    "- Uma conta desse banco tem as seguintes características: titular, numero, saldo e limite."
   ]
  },
  {
   "cell_type": "code",
   "execution_count": null,
   "metadata": {},
   "outputs": [],
   "source": [
    "numero1 = '123-4'\n",
    "titular1 = \"João\"\n",
    "saldo1 = 120.0\n",
    "limite1 = 1000.0"
   ]
  },
  {
   "cell_type": "code",
   "execution_count": null,
   "metadata": {},
   "outputs": [],
   "source": [
    "numero2 = '123-5'\n",
    "titular2 = \"José\"\n",
    "saldo2 = 200.0\n",
    "limite2 = 1000.0"
   ]
  },
  {
   "cell_type": "markdown",
   "metadata": {},
   "source": [
    "- O banco pode vir a crescer e ter milhares de contas e, da maneira que está o programa, seria\n",
    "muito trabalhoso dar manutenção."
   ]
  },
  {
   "cell_type": "markdown",
   "metadata": {},
   "source": [
    "- Podemos utilizar a estrutura do dicionário para agrupar essas características. \n",
    "Isso vai ajudar a acessar os dados de uma conta específica:"
   ]
  },
  {
   "cell_type": "code",
   "execution_count": null,
   "metadata": {},
   "outputs": [],
   "source": [
    "conta1 = {\"numero\": '123-4', \"titular\": \"João\", \"saldo\": 120.0, \"limite\": 1000.0}\n",
    "conta2 = {\"numero\": '123-5', \"titular\": \"José\", \"saldo\": 200.0, \"limite\": 1000.0}"
   ]
  },
  {
   "cell_type": "markdown",
   "metadata": {},
   "source": [
    "- Agora é possível acessar os dados de uma conta pelo nome da chave:"
   ]
  },
  {
   "cell_type": "code",
   "execution_count": null,
   "metadata": {},
   "outputs": [],
   "source": [
    "print(f\"{conta1['numero']},{conta1['titular']}\")"
   ]
  },
  {
   "cell_type": "markdown",
   "metadata": {},
   "source": [
    "- Podemos isolar o código em uma função responsável por criar uma conta:"
   ]
  },
  {
   "cell_type": "code",
   "execution_count": null,
   "metadata": {},
   "outputs": [],
   "source": [
    "def cria_conta():\n",
    "    conta = {\"numero\": '123-4', \"titular\": \"João\", \"saldo\": 120.0, \"limite\": 1000.0}\n",
    "    return conta"
   ]
  },
  {
   "cell_type": "markdown",
   "metadata": {},
   "source": [
    "- Suponha que queremos criar contas com outros valores e tornar a criação dinâmica. \n",
    "Por exemplo, receber esse valores como parâmetros da função e por fim retornamos a conta:"
   ]
  },
  {
   "cell_type": "code",
   "execution_count": null,
   "metadata": {},
   "outputs": [],
   "source": [
    "def cria_conta(numero, titular, saldo, limite):\n",
    "    conta = {\"numero\": numero, \"titular\": titular, \"saldo\": saldo, \"limite\": limite}\n",
    "    return conta"
   ]
  },
  {
   "cell_type": "code",
   "execution_count": null,
   "metadata": {},
   "outputs": [],
   "source": [
    "conta1 = cria_conta('123-4', 'João', 120.0, 1000.0)\n",
    "conta2 = cria_conta('123-5', 'José', 200.0, 1000.0)"
   ]
  },
  {
   "cell_type": "markdown",
   "metadata": {},
   "source": [
    "- Para acessar o número de cada uma delas, fazemos:"
   ]
  },
  {
   "cell_type": "code",
   "execution_count": null,
   "metadata": {},
   "outputs": [],
   "source": [
    "print(f\"{conta1['numero']}\")\n",
    "print(f\"{conta2['numero']}\")"
   ]
  },
  {
   "cell_type": "markdown",
   "metadata": {},
   "source": [
    "- Já descrevemos as características de uma conta e nosso próximo passo será descrever suas funcionalidades. \n",
    "- Vamos criar funções para representar as funcionalidades: deposito, saque e extrato."
   ]
  },
  {
   "cell_type": "code",
   "execution_count": null,
   "metadata": {},
   "outputs": [],
   "source": [
    "def deposita(conta, valor):\n",
    "    conta['saldo'] += valor"
   ]
  },
  {
   "cell_type": "code",
   "execution_count": null,
   "metadata": {},
   "outputs": [],
   "source": [
    "def saca(conta, valor):\n",
    "    conta['saldo'] -= valor"
   ]
  },
  {
   "cell_type": "code",
   "execution_count": null,
   "metadata": {},
   "outputs": [],
   "source": [
    "def extrato(conta):\n",
    "    print(f\"numero: {conta['numero']} \\nsaldo: {conta['saldo']}\")"
   ]
  },
  {
   "cell_type": "code",
   "execution_count": null,
   "metadata": {},
   "outputs": [],
   "source": [
    "conta3 = cria_conta('123-4', 'João', 120.0, 1000.0)\n",
    "deposita(conta3, 15.0)\n",
    "extrato(conta3)"
   ]
  },
  {
   "cell_type": "code",
   "execution_count": null,
   "metadata": {},
   "outputs": [],
   "source": [
    "saca(conta3, 20.0)\n",
    "extrato(conta3)"
   ]
  },
  {
   "cell_type": "markdown",
   "metadata": {},
   "source": [
    "- Por mais que tenhamos agrupado os dados de uma conta, essa ligação é frágil no mundo procedural e se mostra limitada. \n",
    "- Precisamos pensar sobre o que escrevemos para não errar. \n",
    "- O paradigma orientado a objetos vem para sanar essa e outras fragilidades do paradigma procedural."
   ]
  },
  {
   "cell_type": "markdown",
   "metadata": {},
   "source": [
    "- Ninguém deveria ter acesso ao saldo diretamente. \n",
    "Além disso, nada nos obriga a validar esse valor e podemos esquecer disso cada vez que utilizá-lo. \n",
    "Nosso programa deveria obrigar o uso das funções `saca()` e `deposita()` para alterar o saldo e não permitir alterar o valor diretamente:"
   ]
  },
  {
   "cell_type": "code",
   "execution_count": null,
   "metadata": {},
   "outputs": [],
   "source": [
    "conta3['saldo'] = 100000000.0 "
   ]
  },
  {
   "cell_type": "code",
   "execution_count": null,
   "metadata": {},
   "outputs": [],
   "source": [
    "extrato(conta3)"
   ]
  },
  {
   "cell_type": "markdown",
   "metadata": {},
   "source": [
    "- Devemos manipular os dados através das funcionalidades `saca()` e `deposita()` e proteger os dados da conta. \n",
    "- Não se pode modificar o saldo da conta quando quiser, a não ser quando se fazer um saque ou um depósito.\n",
    "- vamos primeiro entender o que é **classe** e **objeto**, conceitos importantes do paradigma orientado a objetos e depois veremos como isso funciona na prática. "
   ]
  }
 ],
 "metadata": {
  "kernelspec": {
   "display_name": "Python 3",
   "language": "python",
   "name": "python3"
  },
  "language_info": {
   "codemirror_mode": {
    "name": "ipython",
    "version": 3
   },
   "file_extension": ".py",
   "mimetype": "text/x-python",
   "name": "python",
   "nbconvert_exporter": "python",
   "pygments_lexer": "ipython3",
   "version": "3.10.12"
  }
 },
 "nbformat": 4,
 "nbformat_minor": 2
}
