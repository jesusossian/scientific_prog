{
 "cells": [
  {
   "cell_type": "markdown",
   "metadata": {},
   "source": [
    "## Paradigma procedural "
   ]
  },
  {
   "cell_type": "markdown",
   "metadata": {},
   "source": [
    "- Suponha que queremos implementar um programa para um banco financeiro.\n",
    "- Uma conta desse banco tem as seguintes características: titular, numero, saldo e limite."
   ]
  },
  {
   "cell_type": "code",
   "execution_count": null,
   "metadata": {},
   "outputs": [],
   "source": [
    "numero1 = '123-4'\n",
    "titular1 = \"João\"\n",
    "saldo1 = 120.0\n",
    "limite1 = 1000.0"
   ]
  },
  {
   "cell_type": "code",
   "execution_count": null,
   "metadata": {},
   "outputs": [],
   "source": [
    "print(f\"{numero1}, {titular1}, {saldo1}, {limite1}\")"
   ]
  },
  {
   "cell_type": "code",
   "execution_count": null,
   "metadata": {},
   "outputs": [],
   "source": [
    "numero2 = '123-5'\n",
    "titular2 = \"José\"\n",
    "saldo2 = 200.0\n",
    "limite2 = 1000.0"
   ]
  },
  {
   "cell_type": "code",
   "execution_count": null,
   "metadata": {},
   "outputs": [],
   "source": [
    "print(f\"{numero2}, {titular2}, {saldo2}, {limite2}\")"
   ]
  },
  {
   "cell_type": "markdown",
   "metadata": {},
   "source": [
    "- O banco pode vir a crescer e ter milhares de contas e, da maneira que está o programa, seria\n",
    "muito trabalhoso dar manutenção.\n",
    "- Podemos utilizar a estrutura do dicionário para agrupar essas características. \n",
    "Isso vai ajudar a acessar os dados de uma conta específica:"
   ]
  },
  {
   "cell_type": "code",
   "execution_count": null,
   "metadata": {},
   "outputs": [],
   "source": [
    "conta1 = {\"numero\": '123-4', \"titular\": \"João\", \"saldo\": 120.0, \"limite\": 1000.0}\n",
    "conta2 = {\"numero\": '123-5', \"titular\": \"José\", \"saldo\": 200.0, \"limite\": 1000.0}"
   ]
  },
  {
   "cell_type": "code",
   "execution_count": null,
   "metadata": {},
   "outputs": [],
   "source": [
    "print(f\"conta1: {conta1}\")\n",
    "print(f\"conta2: {conta2}\")"
   ]
  },
  {
   "cell_type": "markdown",
   "metadata": {},
   "source": [
    "- Agora é possível acessar os dados de uma conta pelo nome da chave:"
   ]
  },
  {
   "cell_type": "code",
   "execution_count": null,
   "metadata": {},
   "outputs": [],
   "source": [
    "print(f\"{conta1['numero']},{conta1['titular']}\")"
   ]
  },
  {
   "cell_type": "markdown",
   "metadata": {},
   "source": [
    "- Podemos isolar o código em uma função responsável por criar uma conta:"
   ]
  },
  {
   "cell_type": "code",
   "execution_count": null,
   "metadata": {},
   "outputs": [],
   "source": [
    "numero = '123-4'\n",
    "titular = \"João\"\n",
    "saldo = 120.0\n",
    "limite = 1000.0\n",
    "def cria_conta(numero, titular, saldo, limite):\n",
    "    conta = {\"numero\": numero, \"titular\": titular, \"saldo\": saldo, \"limite\": limite}\n",
    "    return conta"
   ]
  },
  {
   "cell_type": "markdown",
   "metadata": {},
   "source": [
    "- Suponha que queremos criar contas com outros valores e tornar a criação dinâmica. \n",
    "- Por exemplo, receber esse valores como parâmetros da função e por fim retornamos a conta:"
   ]
  },
  {
   "cell_type": "code",
   "execution_count": null,
   "metadata": {},
   "outputs": [],
   "source": [
    "def cria_conta(numero, titular, saldo, limite):\n",
    "    conta = {\"numero\": numero, \"titular\": titular, \"saldo\": saldo, \"limite\": limite}\n",
    "    return conta"
   ]
  },
  {
   "cell_type": "code",
   "execution_count": null,
   "metadata": {},
   "outputs": [],
   "source": [
    "conta1 = cria_conta('123-4', 'João', 120.0, 1000.0)\n",
    "conta2 = cria_conta('123-5', 'José', 200.0, 1000.0)"
   ]
  },
  {
   "cell_type": "markdown",
   "metadata": {},
   "source": [
    "- Para acessar o número de cada uma delas, fazemos:"
   ]
  },
  {
   "cell_type": "code",
   "execution_count": null,
   "metadata": {},
   "outputs": [],
   "source": [
    "print(f\"{conta1['numero']}\")\n",
    "print(f\"{conta2['numero']}\")"
   ]
  },
  {
   "cell_type": "markdown",
   "metadata": {},
   "source": [
    "- Agora vamos criar funções para representar as funcionalidades: deposito, saque e extrato."
   ]
  },
  {
   "cell_type": "code",
   "execution_count": null,
   "metadata": {},
   "outputs": [],
   "source": [
    "def deposita(conta, valor):\n",
    "    conta['saldo'] += valor"
   ]
  },
  {
   "cell_type": "code",
   "execution_count": null,
   "metadata": {},
   "outputs": [],
   "source": [
    "def saca(conta, valor):\n",
    "    conta['saldo'] -= valor"
   ]
  },
  {
   "cell_type": "code",
   "execution_count": null,
   "metadata": {},
   "outputs": [],
   "source": [
    "def extrato(conta):\n",
    "    print(f\"numero: {conta['numero']} \\nsaldo: {conta['saldo']}\")"
   ]
  },
  {
   "cell_type": "code",
   "execution_count": null,
   "metadata": {},
   "outputs": [],
   "source": [
    "conta3 = cria_conta('123-4', 'João', 120.0, 1000.0)\n",
    "deposita(conta3, 15.0)\n",
    "extrato(conta3)"
   ]
  },
  {
   "cell_type": "code",
   "execution_count": null,
   "metadata": {},
   "outputs": [],
   "source": [
    "saca(conta3, 20.0)\n",
    "extrato(conta3)"
   ]
  },
  {
   "cell_type": "markdown",
   "metadata": {},
   "source": [
    "- Por mais que tenhamos agrupado os dados de uma conta, essa ligação é frágil no mundo procedural e se mostra limitada. \n",
    "- Precisamos pensar sobre o que escrevemos para não errar. \n",
    "- O paradigma orientado a objetos vem para sanar essa e outras fragilidades do paradigma procedural.\n",
    "- Ninguém deveria ter acesso ao saldo diretamente. \n",
    "- O programa deveria obrigar o uso das funções `saca()` e `deposita()` para alterar o saldo."
   ]
  },
  {
   "cell_type": "code",
   "execution_count": null,
   "metadata": {},
   "outputs": [],
   "source": [
    "conta3['saldo'] = 100000000.0 "
   ]
  },
  {
   "cell_type": "code",
   "execution_count": null,
   "metadata": {},
   "outputs": [],
   "source": [
    "extrato(conta3)"
   ]
  }
 ],
 "metadata": {
  "kernelspec": {
   "display_name": "Python 3",
   "language": "python",
   "name": "python3"
  },
  "language_info": {
   "codemirror_mode": {
    "name": "ipython",
    "version": 3
   },
   "file_extension": ".py",
   "mimetype": "text/x-python",
   "name": "python",
   "nbconvert_exporter": "python",
   "pygments_lexer": "ipython3",
   "version": "3.10.12"
  }
 },
 "nbformat": 4,
 "nbformat_minor": 2
}
