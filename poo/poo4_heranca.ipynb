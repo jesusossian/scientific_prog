{
 "cells": [
  {
   "cell_type": "markdown",
   "metadata": {},
   "source": [
    "## Herança"
   ]
  },
  {
   "cell_type": "markdown",
   "metadata": {},
   "source": [
    "- A orientação a objetos permite modificar nossas classes, adicionando ou modificando atributos e métodos, tendo como base outra classe.\n",
    "- Considere o programa do banco financeiro e suponha que se deseja oferecer contas especiais aos clientes, onde se possa sacar mais dinheiro do que o disponível no saldo da conta, até um determinado limite. As outras operações continuaram sendo as mesmas de uma conta normal.\n",
    "- Solução: Criação da classe `ContaEspecial` herdando o comportamento da classe `Conta`.\n"
   ]
  },
  {
   "cell_type": "code",
   "execution_count": 1,
   "metadata": {},
   "outputs": [],
   "source": [
    "class Cliente:\n",
    "    def __init__(self, nome, telefone):\n",
    "        self.nome = nome\n",
    "        self.telefone = telefone"
   ]
  },
  {
   "cell_type": "code",
   "execution_count": 2,
   "metadata": {},
   "outputs": [],
   "source": [
    "class Conta:\n",
    "    def __init__(self, clientes, numero, saldo = 0):\n",
    "        self.saldo = 0\n",
    "        self.clientes = clientes\n",
    "        self.numero = numero\n",
    "        self.operacoes = []\n",
    "        self.deposito(saldo)\n",
    "    \n",
    "    def resumo(self):\n",
    "        print(f\"cc {self.numero} saldo: {self.saldo}\")\n",
    "\n",
    "    def saque(self, valor):\n",
    "        if self.saldo >= valor:\n",
    "            self.saldo -=valor\n",
    "        self.operacoes.append([\"saque\", valor])\n",
    "\n",
    "    def deposito(self, valor):\n",
    "        self.saldo += valor\n",
    "        self.operacoes.append([\"deposito\", valor])\n",
    "\n",
    "    def extrato(self):\n",
    "        print(f\"extrato cc {self.numero}\\n\")\n",
    "        for o in self.operacoes:\n",
    "            print(f\"({o[0]},{o[1]})\")\n",
    "        print(f\"\\nsaldo: {self.saldo} \\n\")"
   ]
  },
  {
   "cell_type": "code",
   "execution_count": 6,
   "metadata": {},
   "outputs": [],
   "source": [
    "class Banco:\n",
    "    def __init__(self, nome):\n",
    "        self.nome=nome\n",
    "        self.clientes=[]\n",
    "        self.contas=[]\n",
    "\n",
    "    def abre_conta(self, conta):\n",
    "        self.contas.append(conta)\n",
    "\n",
    "    def lista_contas(self):\n",
    "        for c in self.contas:\n",
    "            c.resumo()"
   ]
  },
  {
   "cell_type": "code",
   "execution_count": 7,
   "metadata": {},
   "outputs": [],
   "source": [
    "class ContaEspecial(Conta):\n",
    "    def __init__(self, clientes, numero, saldo = 0, limite=0):\n",
    "        Conta.__init__(self, clientes, numero, saldo)\n",
    "        self.limite = limite\n",
    "\n",
    "    def saque(self, valor):\n",
    "        if self.saldo + self.limite >=valor:\n",
    "            self.saldo -= valor\n",
    "            self.operacoes.append([\"saque\", valor])"
   ]
  },
  {
   "cell_type": "markdown",
   "metadata": {},
   "source": [
    "- No código acima definimos a classe `ContaEspecial` onde passamos `Conta` como argumento.\n",
    "- Nesse formato de declaração de classe é usando herança. \n",
    "- Ao se chamar `ContaEspecial` é criado nova classe chamada `ContaEspecial` herdando todos os métodos e atributos da classe `Conta`. \n",
    "- `ContaEspecial` é uma subclasse de Conta, e `Conta` é a superclasse de `ContaEspecial`."
   ]
  },
  {
   "cell_type": "markdown",
   "metadata": {},
   "source": [
    "- O método `__init__` de `Conta` é chamado através de `Conta.__init__` seguido dos parâmetros que normalmente passaríamos. \n",
    "- Quando se utiliza herança, o método construtor da superclasse deve ser chamado, onde passamos `self` para `Conta.__init__`. Dessa forma reutilizamos as definições da superclasse. \n",
    "- Chamando a inicialização da superclasse também garante que modificações no construtor da superclasse não tenham que ser duplicadas em todas as subclasses.\n",
    "- Uma das grandes vantagens de utilizar herança de classes é poder se substituir ou complementar métodos já definidos."
   ]
  },
  {
   "cell_type": "code",
   "execution_count": 8,
   "metadata": {},
   "outputs": [],
   "source": [
    "joão=Cliente(\"João da Silva\", \"777-1234\")\n",
    "maria=Cliente(\"Maria da Silva\", \"555-4321\")"
   ]
  },
  {
   "cell_type": "code",
   "execution_count": 9,
   "metadata": {},
   "outputs": [],
   "source": [
    "conta1=Conta([joão], 1, 1000)\n",
    "conta2=ContaEspecial([maria, joão], 2, 500, 1000)"
   ]
  },
  {
   "cell_type": "code",
   "execution_count": 8,
   "metadata": {},
   "outputs": [
    {
     "name": "stdout",
     "output_type": "stream",
     "text": [
      "extrato cc 1\n",
      "\n",
      "(deposito,1000)\n",
      "(saque,50)\n",
      "(saque,190)\n",
      "\n",
      "saldo: 760 \n",
      "\n"
     ]
    }
   ],
   "source": [
    "conta1.saque(50)\n",
    "conta1.saque(190)\n",
    "conta1.extrato()"
   ]
  },
  {
   "cell_type": "code",
   "execution_count": 9,
   "metadata": {},
   "outputs": [
    {
     "name": "stdout",
     "output_type": "stream",
     "text": [
      "extrato cc 2\n",
      "\n",
      "(deposito,500)\n",
      "(deposito,300)\n",
      "(deposito,95)\n",
      "(saque,1500)\n",
      "\n",
      "saldo: -605 \n",
      "\n"
     ]
    }
   ],
   "source": [
    "conta2.deposito(300)\n",
    "conta2.deposito(95)\n",
    "conta2.saque(1500)\n",
    "conta2.extrato()"
   ]
  },
  {
   "cell_type": "markdown",
   "metadata": {},
   "source": [
    "- Utilizando herança, modificamos muito pouco nosso programa, mantendo a funcionalidade anterior e adicionando novos recursos. \n",
    "- Quando você utilizar herança, tente criar classes nas quais o comportamento e características comuns fiquem na superclasse. Dessa forma, você poderá definir subclasses enxutas.\n",
    "- Utilizando herança, quando mudarmos algo na superclasse, essas mudanças serão também usadas pelas subclasses.\n",
    "- Ao utilizarmos herança, as subclasses devem poder substituir suas superclasses, sem perda de funcionalidade e sem gerar erros nos programas."
   ]
  },
  {
   "cell_type": "markdown",
   "metadata": {},
   "source": [
    "### Exercício 1: \n",
    "Modifique as classes `Conta` e `ContaEspecial` para que a operação de saque retorne verdadeiro se o saque foi efetuado e falso em caso contrário."
   ]
  },
  {
   "cell_type": "markdown",
   "metadata": {},
   "source": [
    "### Exercício 2:\n",
    "Altere a classe `ContaEspecial` de forma que seu extrato exiba o limite e o total disponível para saque."
   ]
  },
  {
   "cell_type": "markdown",
   "metadata": {},
   "source": [
    "### Exercício 3:\n",
    "\n",
    "Observe o método `saque` das classes `Conta` e `ContaEspecial`. \n",
    "Modifique o método `saque` da classe `Conta`de forma que a verificação da possibilidade de saque seja feita por um novo método, substituindo a condição atual. \n",
    "Esse novo método retornará verdadeiro se o saque puder ser efetuado, e falso, caso contrário. \n",
    "Modifique a classe `ContaEspecial` de forma a trabalhar com esse novo método. \n",
    "Verifique se você ainda precisa trocar o método `saque` de `ContaEspecial` ou apenas o novo método criado para verificar a possibilidade de saque."
   ]
  },
  {
   "cell_type": "markdown",
   "metadata": {},
   "source": []
  }
 ],
 "metadata": {
  "kernelspec": {
   "display_name": "Python 3",
   "language": "python",
   "name": "python3"
  },
  "language_info": {
   "codemirror_mode": {
    "name": "ipython",
    "version": 3
   },
   "file_extension": ".py",
   "mimetype": "text/x-python",
   "name": "python",
   "nbconvert_exporter": "python",
   "pygments_lexer": "ipython3",
   "version": "3.10.12"
  }
 },
 "nbformat": 4,
 "nbformat_minor": 2
}
