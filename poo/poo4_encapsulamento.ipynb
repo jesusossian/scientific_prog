{
 "cells": [
  {
   "cell_type": "markdown",
   "metadata": {},
   "source": [
    "### Modificadores de acesso"
   ]
  },
  {
   "cell_type": "markdown",
   "metadata": {},
   "source": [
    "Um dos problemas mais simples que temos no nosso sistema de contas é que o método `saque()` permite sacar mesmo que o saldo seja insuficiente."
   ]
  },
  {
   "cell_type": "code",
   "execution_count": 92,
   "metadata": {},
   "outputs": [],
   "source": [
    "class Conta:\n",
    "    def __init__(self, numero, titular, saldo, limite=1000.0):\n",
    "        self.numero = numero\n",
    "        self.titular = titular  \n",
    "        self.saldo = saldo\n",
    "        self.limite = limite\n",
    "    \n",
    "    def resumo(self):\n",
    "        print(f\"extrato\")\n",
    "        print(f\"cc {self.numero} saldo: {self.saldo}\")\n",
    "\n",
    "    def saque(self, valor):\n",
    "        self.saldo -=valor\n",
    "\n",
    "    def deposito(self, valor):\n",
    "        self.saldo += valor"
   ]
  },
  {
   "cell_type": "code",
   "execution_count": 96,
   "metadata": {},
   "outputs": [],
   "source": [
    "conta1 = Conta('1', 'João', 1000.0, 2000.0)\n",
    "conta1.saque(500000)"
   ]
  },
  {
   "cell_type": "code",
   "execution_count": 97,
   "metadata": {},
   "outputs": [
    {
     "data": {
      "text/plain": [
       "-499000.0"
      ]
     },
     "execution_count": 97,
     "metadata": {},
     "output_type": "execute_result"
    }
   ],
   "source": [
    "conta1.saldo"
   ]
  },
  {
   "cell_type": "code",
   "execution_count": 98,
   "metadata": {},
   "outputs": [
    {
     "name": "stdout",
     "output_type": "stream",
     "text": [
      "-499000.0\n"
     ]
    }
   ],
   "source": [
    "print(conta1.saldo)"
   ]
  },
  {
   "cell_type": "markdown",
   "metadata": {},
   "source": [
    "Podemos incluir um `if` dentro do método `saque()` para evitar a situação que resultaria em uma conta em estado inconsistente, com seu saldo menor do que zero."
   ]
  },
  {
   "cell_type": "code",
   "execution_count": 99,
   "metadata": {},
   "outputs": [],
   "source": [
    "class Conta:\n",
    "    def __init__(self, numero, titular, saldo, limite=1000.0):\n",
    "        self.numero = numero\n",
    "        self.titular = titular  \n",
    "        self.saldo = saldo\n",
    "        self.limite = limite\n",
    "    \n",
    "    def resumo(self):\n",
    "        print(f\"extrato\")\n",
    "        print(f\"cc {self.numero} saldo: {self.saldo}\")\n",
    "\n",
    "    def saque(self, valor):\n",
    "        if valor <= self.saldo:\n",
    "            self.saldo -= valor\n",
    "        else:\n",
    "            print(\"saldo insuficiente!\")\n",
    "\n",
    "    def deposito(self, valor):\n",
    "        self.saldo += valor"
   ]
  },
  {
   "cell_type": "code",
   "execution_count": 102,
   "metadata": {},
   "outputs": [
    {
     "name": "stdout",
     "output_type": "stream",
     "text": [
      "saldo insuficiente!\n"
     ]
    }
   ],
   "source": [
    "conta1 = Conta('1', 'João', 1000.0)\n",
    "conta1.saque(500000)"
   ]
  },
  {
   "cell_type": "markdown",
   "metadata": {},
   "source": [
    "Mas ninguém garante que o usuário da classe vai sempre utilizar o método para alterar o saldo da conta"
   ]
  },
  {
   "cell_type": "code",
   "execution_count": 103,
   "metadata": {},
   "outputs": [],
   "source": [
    "conta1.saldo = -200"
   ]
  },
  {
   "cell_type": "code",
   "execution_count": 104,
   "metadata": {},
   "outputs": [
    {
     "name": "stdout",
     "output_type": "stream",
     "text": [
      "-200\n"
     ]
    }
   ],
   "source": [
    "print(conta1.saldo)"
   ]
  },
  {
   "cell_type": "markdown",
   "metadata": {},
   "source": [
    "A melhor forma de resolver isso seria forçar quem usa a classe `Conta` a invocar o método `saque()`, para assim não permitir o acesso direto ao atributo.\n",
    "\n",
    "Em orientação a objetos, é prática quase que obrigatória proteger seus atributos com `private`. \n",
    "\n",
    "Cada classe é responsável por controlar seus atributos, portanto ela deve julgar se aquele novo valor é válido ou não. \n",
    "\n",
    "E esta validação não deve ser controlada por quem está usando a classe, e sim por ela mesma, centralizando essa responsabilidade e facilitando futuras mudanças no sistema.\n",
    "\n",
    "O Python não utiliza o termo `private`, que é um modificador de acesso e também chamado de modificador de visibilidade. \n",
    "\n",
    "No Python, inserimos dois underscores (`__`) ao atributo para adicionarmos esta característica:"
   ]
  },
  {
   "cell_type": "code",
   "execution_count": 105,
   "metadata": {},
   "outputs": [],
   "source": [
    "class Pessoa:\n",
    "\n",
    "    def __init__(self, idade):\n",
    "        self.__idade = idade"
   ]
  },
  {
   "cell_type": "code",
   "execution_count": 106,
   "metadata": {},
   "outputs": [],
   "source": [
    "pessoa = Pessoa(20)"
   ]
  },
  {
   "cell_type": "code",
   "execution_count": 107,
   "metadata": {},
   "outputs": [
    {
     "ename": "AttributeError",
     "evalue": "'Pessoa' object has no attribute '__idade'",
     "output_type": "error",
     "traceback": [
      "\u001b[0;31m---------------------------------------------------------------------------\u001b[0m",
      "\u001b[0;31mAttributeError\u001b[0m                            Traceback (most recent call last)",
      "\u001b[0;32m/tmp/ipykernel_419914/840100050.py\u001b[0m in \u001b[0;36m<module>\u001b[0;34m\u001b[0m\n\u001b[0;32m----> 1\u001b[0;31m \u001b[0mpessoa\u001b[0m\u001b[0;34m.\u001b[0m\u001b[0m__idade\u001b[0m\u001b[0;34m\u001b[0m\u001b[0;34m\u001b[0m\u001b[0m\n\u001b[0m",
      "\u001b[0;31mAttributeError\u001b[0m: 'Pessoa' object has no attribute '__idade'"
     ]
    }
   ],
   "source": [
    "pessoa.__idade"
   ]
  },
  {
   "cell_type": "markdown",
   "metadata": {},
   "source": [
    "O interpretador acusa que o atributo idade não existe na classe `Pessoa`. \n",
    "Mas isso não garante que ninguém possa acessá-lo. \n",
    "\n",
    "No Python, não existem atributos realmente privados, ele apenas alerta que você não deveria tentar acessar este atributo, ou modificá-lo."
   ]
  },
  {
   "cell_type": "code",
   "execution_count": 108,
   "metadata": {},
   "outputs": [
    {
     "data": {
      "text/plain": [
       "20"
      ]
     },
     "execution_count": 108,
     "metadata": {},
     "output_type": "execute_result"
    }
   ],
   "source": [
    "pessoa._Pessoa__idade"
   ]
  },
  {
   "cell_type": "markdown",
   "metadata": {},
   "source": [
    "Podemos utilizar a função dir para ver que os atributos do objeto:"
   ]
  },
  {
   "cell_type": "code",
   "execution_count": 109,
   "metadata": {},
   "outputs": [
    {
     "data": {
      "text/plain": [
       "['_Pessoa__idade',\n",
       " '__class__',\n",
       " '__delattr__',\n",
       " '__dict__',\n",
       " '__dir__',\n",
       " '__doc__',\n",
       " '__eq__',\n",
       " '__format__',\n",
       " '__ge__',\n",
       " '__getattribute__',\n",
       " '__gt__',\n",
       " '__hash__',\n",
       " '__init__',\n",
       " '__init_subclass__',\n",
       " '__le__',\n",
       " '__lt__',\n",
       " '__module__',\n",
       " '__ne__',\n",
       " '__new__',\n",
       " '__reduce__',\n",
       " '__reduce_ex__',\n",
       " '__repr__',\n",
       " '__setattr__',\n",
       " '__sizeof__',\n",
       " '__str__',\n",
       " '__subclasshook__',\n",
       " '__weakref__']"
      ]
     },
     "execution_count": 109,
     "metadata": {},
     "output_type": "execute_result"
    }
   ],
   "source": [
    "dir(pessoa)"
   ]
  },
  {
   "cell_type": "markdown",
   "metadata": {},
   "source": [
    "Muitos programadores Python não gostam dessa sintaxe e preferem usar apenas um underscore `_` para indicar quando um atributo deve ser protegido.\n",
    "\n",
    "O prefixo com apenas um underscore não tem significado para o interpretador quando usado em nome de atributos, mas entre programadores Python é uma convenção que deve ser respeitada. \n",
    "\n",
    "O programador alerta que esse atributo não deve ser acessado diretamente.\n",
    "\n",
    "Um atributo com apenas um underscore é chamado de protegido, mas quando usado sinaliza que deve ser tratado como um atributo **privado**, fazendo com que acessá-lo diretamente possa ser perigoso."
   ]
  },
  {
   "cell_type": "code",
   "execution_count": 110,
   "metadata": {},
   "outputs": [],
   "source": [
    "class Conta:\n",
    "    def __init__(self, numero, titular, saldo, limite=1000.0):\n",
    "        self.numero = numero\n",
    "        self._titular = titular  \n",
    "        self._saldo = saldo\n",
    "        self.limite = limite\n",
    "\n",
    "    def resumo(self):\n",
    "        print(f\"cc {self.numero} saldo: {self.__saldo}\")\n",
    "\n",
    "    def saque(self, valor):\n",
    "        self._saldo -=valor\n",
    "\n",
    "    def deposito(self, valor):\n",
    "        self._saldo += valor\n",
    "\n",
    "    def get_saldo(self):\n",
    "        return self._saldo\n",
    "    \n",
    "    def set_saldo(self, saldo):\n",
    "        self._saldo = saldo     \n",
    "\n",
    "    def get_titular(self):\n",
    "        return self._titular\n",
    "\n",
    "    def set_titular(self, titular):\n",
    "        self._titular = titular"
   ]
  },
  {
   "cell_type": "code",
   "execution_count": 111,
   "metadata": {},
   "outputs": [],
   "source": [
    "conta1 = Conta('123-4', 'João', 1000.0)\n",
    "conta1.saque(500000)"
   ]
  },
  {
   "cell_type": "code",
   "execution_count": 112,
   "metadata": {},
   "outputs": [
    {
     "data": {
      "text/plain": [
       "'João'"
      ]
     },
     "execution_count": 112,
     "metadata": {},
     "output_type": "execute_result"
    }
   ],
   "source": [
    "conta1._titular"
   ]
  },
  {
   "cell_type": "markdown",
   "metadata": {},
   "source": [
    "### Encapsulamento"
   ]
  },
  {
   "cell_type": "code",
   "execution_count": 113,
   "metadata": {},
   "outputs": [],
   "source": [
    "conta1 = Conta('1', 'João', 1000.0)\n",
    "conta2 = Conta('2', 'Maria', 10.0)\n",
    "conta3 = Conta('3', 'Pedro', -50.0)"
   ]
  },
  {
   "cell_type": "code",
   "execution_count": 114,
   "metadata": {},
   "outputs": [
    {
     "data": {
      "text/plain": [
       "1000.0"
      ]
     },
     "execution_count": 114,
     "metadata": {},
     "output_type": "execute_result"
    }
   ],
   "source": [
    "conta1.get_saldo()"
   ]
  },
  {
   "cell_type": "code",
   "execution_count": 115,
   "metadata": {},
   "outputs": [
    {
     "data": {
      "text/plain": [
       "10.0"
      ]
     },
     "execution_count": 115,
     "metadata": {},
     "output_type": "execute_result"
    }
   ],
   "source": [
    "conta2.get_saldo()"
   ]
  },
  {
   "cell_type": "code",
   "execution_count": 116,
   "metadata": {},
   "outputs": [
    {
     "data": {
      "text/plain": [
       "-50.0"
      ]
     },
     "execution_count": 116,
     "metadata": {},
     "output_type": "execute_result"
    }
   ],
   "source": [
    "conta3.get_saldo()"
   ]
  },
  {
   "cell_type": "code",
   "execution_count": 117,
   "metadata": {},
   "outputs": [
    {
     "data": {
      "text/plain": [
       "1010.0"
      ]
     },
     "execution_count": 117,
     "metadata": {},
     "output_type": "execute_result"
    }
   ],
   "source": [
    "conta3.set_saldo(conta1.get_saldo() + conta2.get_saldo())\n",
    "conta3.get_saldo()"
   ]
  },
  {
   "cell_type": "code",
   "execution_count": 118,
   "metadata": {},
   "outputs": [],
   "source": [
    "class Conta:\n",
    "    def __init__(self, numero, titular, saldo, limite=1000.0):\n",
    "        self.numero = numero\n",
    "        self._titular = titular  \n",
    "        self._saldo = saldo\n",
    "        self._limite = limite\n",
    "\n",
    "    def resumo(self):\n",
    "        print(f\"cc {self.numero} saldo: {self._saldo}\")\n",
    "\n",
    "    def saque(self, valor):\n",
    "        self._saldo -= valor\n",
    "\n",
    "    def deposito(self, valor):\n",
    "        self._saldo += valor\n",
    "    \n",
    "    @property\n",
    "    def saldo(self):\n",
    "        return self._saldo      \n",
    "\n",
    "    @saldo.setter\n",
    "    def saldo(self, saldo):\n",
    "        if(saldo < 0):\n",
    "            print(\"saldo não pode ser negativo\")\n",
    "        else:\n",
    "            self._saldo = saldo\n",
    "    \n",
    "    def get_titular(self):\n",
    "        return self._titular\n",
    "\n",
    "    def set_titular(self, titular):\n",
    "        self._titular = titular"
   ]
  },
  {
   "cell_type": "code",
   "execution_count": 119,
   "metadata": {},
   "outputs": [],
   "source": [
    "conta1 = Conta('1', 'João', 1000)\n",
    "conta2 = Conta('2', 'Maria', 10)\n",
    "conta3 = Conta('3', 'Pedro', -50)"
   ]
  },
  {
   "cell_type": "code",
   "execution_count": 120,
   "metadata": {},
   "outputs": [
    {
     "name": "stdout",
     "output_type": "stream",
     "text": [
      "saldo não pode ser negativo\n"
     ]
    }
   ],
   "source": [
    "conta3.saldo = -100"
   ]
  },
  {
   "cell_type": "code",
   "execution_count": 121,
   "metadata": {},
   "outputs": [],
   "source": [
    "class Conta:\n",
    "    total_contas = 0\n",
    "    def __init__(self, numero, titular, saldo, limite=1000.0):\n",
    "        self.numero = numero\n",
    "        self._titular = titular  \n",
    "        self._saldo = saldo\n",
    "        self._limite = limite\n",
    "        Conta.total_contas += 1\n",
    "\n",
    "    def resumo(self):\n",
    "        print(f\"cc {self.numero} saldo: {self._saldo}\")\n",
    "\n",
    "    def saque(self, valor):\n",
    "        self._saldo -= valor\n",
    "\n",
    "    def deposito(self, valor):\n",
    "        self._saldo += valor\n",
    "    \n",
    "    @property\n",
    "    def saldo(self):\n",
    "        return self._saldo      \n",
    "\n",
    "    @saldo.setter\n",
    "    def saldo(self, saldo):\n",
    "        if(saldo < 0):\n",
    "            print(\"saldo não pode ser negativo\")\n",
    "        else:\n",
    "            self._saldo = saldo\n",
    "    \n",
    "    def get_titular(self):\n",
    "        return self._titular\n",
    "\n",
    "    def set_titular(self, titular):\n",
    "        self._titular = titular"
   ]
  },
  {
   "cell_type": "code",
   "execution_count": 122,
   "metadata": {},
   "outputs": [],
   "source": [
    "conta1 = Conta('1', 'João', 1000)\n",
    "conta2 = Conta('2', 'Maria', 10)\n",
    "conta3 = Conta('3', 'Pedro', -50)"
   ]
  },
  {
   "cell_type": "code",
   "execution_count": 123,
   "metadata": {},
   "outputs": [
    {
     "name": "stdout",
     "output_type": "stream",
     "text": [
      "3\n"
     ]
    }
   ],
   "source": [
    "print(conta1.total_contas)"
   ]
  },
  {
   "cell_type": "code",
   "execution_count": 124,
   "metadata": {},
   "outputs": [
    {
     "name": "stdout",
     "output_type": "stream",
     "text": [
      "3\n"
     ]
    }
   ],
   "source": [
    "print(conta2.total_contas)"
   ]
  },
  {
   "cell_type": "code",
   "execution_count": 125,
   "metadata": {},
   "outputs": [],
   "source": [
    "class Conta:\n",
    "    _total_contas = 0\n",
    "    def __init__(self, numero, titular, saldo, limite=1000.0):\n",
    "        self.numero = numero\n",
    "        self._titular = titular  \n",
    "        self._saldo = saldo\n",
    "        self._limite = limite\n",
    "        Conta._total_contas += 1\n",
    "\n",
    "    def resumo(self):\n",
    "        print(f\"cc {self.numero} saldo: {self._saldo}\")\n",
    "\n",
    "    def saque(self, valor):\n",
    "        self._saldo -= valor\n",
    "\n",
    "    def deposito(self, valor):\n",
    "        self._saldo += valor\n",
    "    \n",
    "    @property\n",
    "    def saldo(self):\n",
    "        return self._saldo      \n",
    "\n",
    "    @saldo.setter\n",
    "    def saldo(self, saldo):\n",
    "        if(saldo < 0):\n",
    "            print(\"saldo não pode ser negativo\")\n",
    "        else:\n",
    "            self._saldo = saldo\n",
    "    \n",
    "    def get_titular(self):\n",
    "        return self._titular\n",
    "\n",
    "    def set_titular(self, titular):\n",
    "        self._titular = titular\n",
    "    \n",
    "    def get_total_contas(self):\n",
    "        return Conta._total_contas"
   ]
  },
  {
   "cell_type": "code",
   "execution_count": 126,
   "metadata": {},
   "outputs": [],
   "source": [
    "conta1 = Conta('1', 'João', 1000)"
   ]
  },
  {
   "cell_type": "code",
   "execution_count": 127,
   "metadata": {},
   "outputs": [
    {
     "name": "stdout",
     "output_type": "stream",
     "text": [
      "1\n"
     ]
    }
   ],
   "source": [
    "print(conta1.get_total_contas())"
   ]
  },
  {
   "cell_type": "code",
   "execution_count": 128,
   "metadata": {},
   "outputs": [
    {
     "ename": "TypeError",
     "evalue": "Conta.get_total_contas() missing 1 required positional argument: 'self'",
     "output_type": "error",
     "traceback": [
      "\u001b[0;31m---------------------------------------------------------------------------\u001b[0m",
      "\u001b[0;31mTypeError\u001b[0m                                 Traceback (most recent call last)",
      "\u001b[0;32m/tmp/ipykernel_419914/812677533.py\u001b[0m in \u001b[0;36m<module>\u001b[0;34m\u001b[0m\n\u001b[0;32m----> 1\u001b[0;31m \u001b[0mConta\u001b[0m\u001b[0;34m.\u001b[0m\u001b[0mget_total_contas\u001b[0m\u001b[0;34m(\u001b[0m\u001b[0;34m)\u001b[0m\u001b[0;34m\u001b[0m\u001b[0;34m\u001b[0m\u001b[0m\n\u001b[0m",
      "\u001b[0;31mTypeError\u001b[0m: Conta.get_total_contas() missing 1 required positional argument: 'self'"
     ]
    }
   ],
   "source": [
    "Conta.get_total_contas()"
   ]
  },
  {
   "cell_type": "code",
   "execution_count": 129,
   "metadata": {},
   "outputs": [
    {
     "data": {
      "text/plain": [
       "1"
      ]
     },
     "execution_count": 129,
     "metadata": {},
     "output_type": "execute_result"
    }
   ],
   "source": [
    "Conta.get_total_contas(conta1)"
   ]
  },
  {
   "cell_type": "code",
   "execution_count": 130,
   "metadata": {},
   "outputs": [],
   "source": [
    "class Conta:\n",
    "    _total_contas = 0\n",
    "    def __init__(self, numero, titular, saldo, limite=1000.0):\n",
    "        self.numero = numero\n",
    "        self._titular = titular  \n",
    "        self._saldo = saldo\n",
    "        self._limite = limite\n",
    "        Conta._total_contas += 1\n",
    "\n",
    "    def resumo(self):\n",
    "        print(f\"cc {self.numero} saldo: {self._saldo}\")\n",
    "\n",
    "    def saque(self, valor):\n",
    "        self._saldo -= valor\n",
    "\n",
    "    def deposito(self, valor):\n",
    "        self._saldo += valor\n",
    "    \n",
    "    @property\n",
    "    def saldo(self):\n",
    "        return self._saldo      \n",
    "\n",
    "    @saldo.setter\n",
    "    def saldo(self, saldo):\n",
    "        if(saldo < 0):\n",
    "            print(\"saldo não pode ser negativo\")\n",
    "        else:\n",
    "            self._saldo = saldo\n",
    "    \n",
    "    def get_titular(self):\n",
    "        return self._titular\n",
    "\n",
    "    def set_titular(self, titular):\n",
    "        self._titular = titular\n",
    "    \n",
    "    def get_total_contas():\n",
    "        return Conta._total_contas"
   ]
  },
  {
   "cell_type": "code",
   "execution_count": 131,
   "metadata": {},
   "outputs": [],
   "source": [
    "conta1 = Conta('1', 'João', 1000)"
   ]
  },
  {
   "cell_type": "code",
   "execution_count": 132,
   "metadata": {},
   "outputs": [
    {
     "ename": "TypeError",
     "evalue": "Conta.get_total_contas() takes 0 positional arguments but 1 was given",
     "output_type": "error",
     "traceback": [
      "\u001b[0;31m---------------------------------------------------------------------------\u001b[0m",
      "\u001b[0;31mTypeError\u001b[0m                                 Traceback (most recent call last)",
      "\u001b[0;32m/tmp/ipykernel_419914/3741693802.py\u001b[0m in \u001b[0;36m<module>\u001b[0;34m\u001b[0m\n\u001b[0;32m----> 1\u001b[0;31m \u001b[0mconta1\u001b[0m\u001b[0;34m.\u001b[0m\u001b[0mget_total_contas\u001b[0m\u001b[0;34m(\u001b[0m\u001b[0;34m)\u001b[0m\u001b[0;34m\u001b[0m\u001b[0;34m\u001b[0m\u001b[0m\n\u001b[0m",
      "\u001b[0;31mTypeError\u001b[0m: Conta.get_total_contas() takes 0 positional arguments but 1 was given"
     ]
    }
   ],
   "source": [
    "conta1.get_total_contas()"
   ]
  },
  {
   "cell_type": "code",
   "execution_count": 133,
   "metadata": {},
   "outputs": [],
   "source": [
    "class Conta:\n",
    "    _total_contas = 0\n",
    "    def __init__(self, numero, titular, saldo, limite=1000.0):\n",
    "        self.numero = numero\n",
    "        self._titular = titular  \n",
    "        self._saldo = saldo\n",
    "        self._limite = limite\n",
    "        Conta._total_contas += 1\n",
    "\n",
    "    def resumo(self):\n",
    "        print(f\"cc {self.numero} saldo: {self._saldo}\")\n",
    "\n",
    "    def saque(self, valor):\n",
    "        self._saldo -= valor\n",
    "\n",
    "    def deposito(self, valor):\n",
    "        self._saldo += valor\n",
    "    \n",
    "    @property\n",
    "    def saldo(self):\n",
    "        return self._saldo      \n",
    "\n",
    "    @saldo.setter\n",
    "    def saldo(self, saldo):\n",
    "        if(saldo < 0):\n",
    "            print(\"saldo não pode ser negativo\")\n",
    "        else:\n",
    "            self._saldo = saldo\n",
    "    \n",
    "    def get_titular(self):\n",
    "        return self._titular\n",
    "\n",
    "    def set_titular(self, titular):\n",
    "        self._titular = titular\n",
    "\n",
    "    @staticmethod\n",
    "    def get_total_contas():\n",
    "        return Conta._total_contas"
   ]
  },
  {
   "cell_type": "code",
   "execution_count": 134,
   "metadata": {},
   "outputs": [],
   "source": [
    "conta1 = Conta('1', 'João', 1000)"
   ]
  },
  {
   "cell_type": "code",
   "execution_count": 135,
   "metadata": {},
   "outputs": [
    {
     "data": {
      "text/plain": [
       "1"
      ]
     },
     "execution_count": 135,
     "metadata": {},
     "output_type": "execute_result"
    }
   ],
   "source": [
    "conta1.get_total_contas()"
   ]
  },
  {
   "cell_type": "code",
   "execution_count": 136,
   "metadata": {},
   "outputs": [],
   "source": [
    "class Conta:\n",
    "\n",
    "    _total_contas = 0\n",
    "\n",
    "    def __init__(self):\n",
    "        type(self)._total_contas += 1\n",
    "\n",
    "    @classmethod\n",
    "    def get_total_contas(cls):\n",
    "        return cls._total_contas"
   ]
  },
  {
   "cell_type": "code",
   "execution_count": 137,
   "metadata": {},
   "outputs": [
    {
     "data": {
      "text/plain": [
       "1"
      ]
     },
     "execution_count": 137,
     "metadata": {},
     "output_type": "execute_result"
    }
   ],
   "source": [
    "conta1 = Conta()\n",
    "conta1.get_total_contas()"
   ]
  },
  {
   "cell_type": "code",
   "execution_count": 138,
   "metadata": {},
   "outputs": [
    {
     "data": {
      "text/plain": [
       "2"
      ]
     },
     "execution_count": 138,
     "metadata": {},
     "output_type": "execute_result"
    }
   ],
   "source": [
    "conta2 = Conta()\n",
    "conta2.get_total_contas()"
   ]
  },
  {
   "cell_type": "code",
   "execution_count": 139,
   "metadata": {},
   "outputs": [
    {
     "data": {
      "text/plain": [
       "2"
      ]
     },
     "execution_count": 139,
     "metadata": {},
     "output_type": "execute_result"
    }
   ],
   "source": [
    "Conta.get_total_contas()"
   ]
  },
  {
   "cell_type": "code",
   "execution_count": 140,
   "metadata": {},
   "outputs": [],
   "source": [
    "class Conta:\n",
    "\n",
    "    def __init__(self, numero, titular, saldo, limite=1000.0):\n",
    "        self._numero = numero\n",
    "        self._titular = titular  \n",
    "        self._saldo = saldo\n",
    "        self._limite = limite"
   ]
  },
  {
   "cell_type": "code",
   "execution_count": 141,
   "metadata": {},
   "outputs": [],
   "source": [
    "conta1 = Conta(1,\"Pedro\", 500)"
   ]
  },
  {
   "cell_type": "code",
   "execution_count": 142,
   "metadata": {},
   "outputs": [],
   "source": [
    "conta1.nome = \"Joao\""
   ]
  },
  {
   "cell_type": "code",
   "execution_count": 143,
   "metadata": {},
   "outputs": [],
   "source": [
    "class Conta:\n",
    "\n",
    "    __slots__ = ['_numero', '_titular', '_saldo', '_limite']\n",
    "    \n",
    "    def __init__(self, numero, titular, saldo, limite=1000.0):\n",
    "        self._numero = numero\n",
    "        self._titular = titular  \n",
    "        self._saldo = saldo\n",
    "        self._limite = limite"
   ]
  },
  {
   "cell_type": "code",
   "execution_count": 144,
   "metadata": {},
   "outputs": [],
   "source": [
    "conta1 = Conta(1,\"Pedro\", 500)"
   ]
  },
  {
   "cell_type": "code",
   "execution_count": 145,
   "metadata": {},
   "outputs": [
    {
     "ename": "AttributeError",
     "evalue": "'Conta' object has no attribute 'nome'",
     "output_type": "error",
     "traceback": [
      "\u001b[0;31m---------------------------------------------------------------------------\u001b[0m",
      "\u001b[0;31mAttributeError\u001b[0m                            Traceback (most recent call last)",
      "\u001b[0;32m/tmp/ipykernel_419914/3806732606.py\u001b[0m in \u001b[0;36m<module>\u001b[0;34m\u001b[0m\n\u001b[0;32m----> 1\u001b[0;31m \u001b[0mconta1\u001b[0m\u001b[0;34m.\u001b[0m\u001b[0mnome\u001b[0m \u001b[0;34m=\u001b[0m \u001b[0;34m\"Joao\"\u001b[0m\u001b[0;34m\u001b[0m\u001b[0;34m\u001b[0m\u001b[0m\n\u001b[0m",
      "\u001b[0;31mAttributeError\u001b[0m: 'Conta' object has no attribute 'nome'"
     ]
    }
   ],
   "source": [
    "conta1.nome = \"Joao\""
   ]
  },
  {
   "cell_type": "code",
   "execution_count": 146,
   "metadata": {},
   "outputs": [
    {
     "ename": "TypeError",
     "evalue": "vars() argument must have __dict__ attribute",
     "output_type": "error",
     "traceback": [
      "\u001b[0;31m---------------------------------------------------------------------------\u001b[0m",
      "\u001b[0;31mTypeError\u001b[0m                                 Traceback (most recent call last)",
      "\u001b[0;32m/tmp/ipykernel_419914/2096340516.py\u001b[0m in \u001b[0;36m<module>\u001b[0;34m\u001b[0m\n\u001b[0;32m----> 1\u001b[0;31m \u001b[0mvars\u001b[0m\u001b[0;34m(\u001b[0m\u001b[0mconta1\u001b[0m\u001b[0;34m)\u001b[0m\u001b[0;34m\u001b[0m\u001b[0;34m\u001b[0m\u001b[0m\n\u001b[0m",
      "\u001b[0;31mTypeError\u001b[0m: vars() argument must have __dict__ attribute"
     ]
    }
   ],
   "source": [
    "vars(conta1)"
   ]
  },
  {
   "cell_type": "code",
   "execution_count": null,
   "metadata": {},
   "outputs": [],
   "source": []
  }
 ],
 "metadata": {
  "kernelspec": {
   "display_name": "Python 3",
   "language": "python",
   "name": "python3"
  },
  "language_info": {
   "codemirror_mode": {
    "name": "ipython",
    "version": 3
   },
   "file_extension": ".py",
   "mimetype": "text/x-python",
   "name": "python",
   "nbconvert_exporter": "python",
   "pygments_lexer": "ipython3",
   "version": "3.10.12"
  }
 },
 "nbformat": 4,
 "nbformat_minor": 2
}
