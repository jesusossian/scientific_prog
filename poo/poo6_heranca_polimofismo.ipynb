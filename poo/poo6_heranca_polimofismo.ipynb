{
 "cells": [
  {
   "cell_type": "markdown",
   "metadata": {},
   "source": [
    "## Herança e polimorfismo\n",
    "\n",
    "**Herança** é uma relação entre classe 'mãe' e classe 'filha'.\n",
    "\n",
    "**Polimorfismo** é a capacidade de um objeto poder ser referenciado de várias formas."
   ]
  },
  {
   "cell_type": "markdown",
   "metadata": {},
   "source": [
    "### Repetição de código"
   ]
  },
  {
   "cell_type": "markdown",
   "metadata": {},
   "source": [
    "Considere a classe `Funcionario` com os atributos nome, cpf e salário."
   ]
  },
  {
   "cell_type": "code",
   "execution_count": null,
   "metadata": {},
   "outputs": [],
   "source": [
    "class Funcionario:\n",
    "\n",
    "    def __init__(self, nome, cpf, salario):\n",
    "        self._nome = nome\n",
    "        self._cpf = cpf\n",
    "        self._salario = salario"
   ]
  },
  {
   "cell_type": "code",
   "execution_count": null,
   "metadata": {},
   "outputs": [],
   "source": [
    "func1 = Funcionario(\"Joao\", \"123456\", 5000)"
   ]
  },
  {
   "cell_type": "code",
   "execution_count": null,
   "metadata": {},
   "outputs": [],
   "source": [
    "print(f\"nome: {func1._nome}, cpf: {func1._cpf}, salario: {func1._salario}\")"
   ]
  },
  {
   "cell_type": "markdown",
   "metadata": {},
   "source": [
    "Suponha a classe `Gerente` com as caracteristicas da classe `Funcionario`, e com funcionalidades um pouco diferentes. \n",
    "\n",
    "Por exemplo, um gerente possui uma senha numérica que permite o acesso ao sistema interno do banco, e o número de funcionários que ele gerencia."
   ]
  },
  {
   "cell_type": "code",
   "execution_count": null,
   "metadata": {},
   "outputs": [],
   "source": [
    "class Gerente:\n",
    "\n",
    "    def __init__(self, nome, cpf, salario, senha, qtd_gerenciados):\n",
    "        self._nome = nome\n",
    "        self._cpf = cpf\n",
    "        self._salario = salario\n",
    "        self._senha = senha\n",
    "        self._qtd_gerenciados = qtd_gerenciados\n",
    "\n",
    "    def autentica(self, senha):\n",
    "        if self._senha == senha:\n",
    "            print(\"acesso permitido\")\n",
    "            return True\n",
    "        else:\n",
    "           print(\"acesso negado\")\n",
    "           return False"
   ]
  },
  {
   "cell_type": "code",
   "execution_count": null,
   "metadata": {},
   "outputs": [],
   "source": [
    "ger1 = Gerente(\"Paulo\", \"13456\", 8000, \"g4321\", 8)\n",
    "print(f\"nome: {ger1._nome}, cpf: {ger1._cpf}, salario: {ger1._salario}, #gerenciados: {ger1._qtd_gerenciados}\")"
   ]
  },
  {
   "cell_type": "markdown",
   "metadata": {},
   "source": [
    "Se tivéssemos um outro tipo de funcionário com características diferentes do funcionário comum, precisaríamos criar uma outra classe e copiar o código novamente.\n",
    "\n",
    "Se um dia precisarmos adicionar uma nova informação para todos os funcionários, precisaremos passar por todas as classes de funcionário e adicionar esse atributo. \n",
    "\n",
    "Podemos relacionar uma classe de tal maneira que uma delas herda tudo que o outra tem.\n",
    "\n",
    "Isto é uma relação de herança, uma relação entre classe 'mãe' e classe 'filha'."
   ]
  },
  {
   "cell_type": "markdown",
   "metadata": {},
   "source": [
    "Quando criarmos um objeto da classe `Gerente` queremos que este objeto também herde os atributos definidos na classe `Funcionario`.\n",
    "\n",
    "No Python podemos chamar o método `__init__()` da classe mãe utilizando um método chamado `super()`.\n",
    "\n",
    "O método `super()` é usado para fazer referência a superclasse, a classe mãe."
   ]
  },
  {
   "cell_type": "code",
   "execution_count": null,
   "metadata": {},
   "outputs": [],
   "source": [
    "class Gerente(Funcionario):\n",
    "\n",
    "    def __init__(self, nome, cpf, salario, senha, qtd_funcionarios):\n",
    "        super().__init__(nome, cpf, salario)\n",
    "        self._senha = senha\n",
    "        self._qtd_funcionarios = qtd_funcionarios\n",
    "\n",
    "    def autentica(self, senha):\n",
    "        if self._senha == senha:\n",
    "            print(\"acesso permitido\")\n",
    "            return True\n",
    "        else:\n",
    "            print(\"acesso negado\")              \n",
    "            return False"
   ]
  },
  {
   "cell_type": "code",
   "execution_count": null,
   "metadata": {},
   "outputs": [],
   "source": [
    "ger3 = Gerente(\"Francisco\", \"13479\", 8500, \"g7521\", 12)\n",
    "print(f\"nome: {ger3._nome}, cpf: {ger3._cpf}, salario: {ger3._salario}, #gerenciados: {ger3._qtd_funcionarios}\")"
   ]
  },
  {
   "cell_type": "markdown",
   "metadata": {},
   "source": [
    "### Reescrita de métodos"
   ]
  },
  {
   "cell_type": "markdown",
   "metadata": {},
   "source": [
    "Suponha que todo fim de ano, os funcionários recebem uma bonificação. \n",
    "\n",
    "Os funcionários comuns recebem 10% do valor do salário e os gerentes, 15%."
   ]
  },
  {
   "cell_type": "code",
   "execution_count": null,
   "metadata": {},
   "outputs": [],
   "source": [
    "class Funcionario:\n",
    "\n",
    "    def __init__(self, nome, cpf, salario):\n",
    "        self._nome = nome\n",
    "        self._cpf = cpf\n",
    "        self._salario = salario\n",
    "\n",
    "    def get_bonificacao(self):\n",
    "        return self._salario * 0.10    "
   ]
  },
  {
   "cell_type": "code",
   "execution_count": null,
   "metadata": {},
   "outputs": [],
   "source": [
    "class Gerente(Funcionario):\n",
    "\n",
    "    def __init__(self, nome, cpf, salario, senha, qtd_funcionarios):\n",
    "        super().__init__(nome, cpf, salario)\n",
    "        self._senha = senha\n",
    "        self._qtd_funcionarios = qtd_funcionarios\n",
    "\n",
    "    def autentica(self, senha):\n",
    "        if self._senha == senha:\n",
    "            print(\"acesso permitido\")\n",
    "            return True\n",
    "        else:\n",
    "            print(\"acesso negado\")              \n",
    "            return False"
   ]
  },
  {
   "cell_type": "code",
   "execution_count": null,
   "metadata": {},
   "outputs": [],
   "source": [
    "ger4 = Gerente('José', '222222222-22', 5000.0, '1234', 0)\n",
    "print(ger4.get_bonificacao())"
   ]
  },
  {
   "cell_type": "markdown",
   "metadata": {},
   "source": [
    "No Python, quando herdamos um método, podemos alterar seu comportamento. \n",
    "\n",
    "Podemos reescrever (sobrescrever, override) este método, assim como fizemos com o `__init__()`.\n"
   ]
  },
  {
   "cell_type": "code",
   "execution_count": null,
   "metadata": {},
   "outputs": [],
   "source": [
    "class Gerente(Funcionario):\n",
    "\n",
    "    def __init__(self, nome, cpf, salario, senha, qtd_funcionarios):\n",
    "        super().__init__(nome, cpf, salario)\n",
    "        self._senha = senha\n",
    "        self._qtd_funcionarios = qtd_funcionarios\n",
    "\n",
    "    def autentica(self, senha):\n",
    "        if self._senha == senha:\n",
    "            print(\"acesso permitido\")\n",
    "            return True\n",
    "        else:\n",
    "            print(\"acesso negado\")              \n",
    "            return False\n",
    "        \n",
    "    def get_bonificacao(self):\n",
    "        return self._salario * 0.15"
   ]
  },
  {
   "cell_type": "code",
   "execution_count": null,
   "metadata": {},
   "outputs": [],
   "source": [
    "ger4 = Gerente('José', '222222222-22', 5000.0, '1234', 0)\n",
    "print(ger4.get_bonificacao())"
   ]
  },
  {
   "cell_type": "markdown",
   "metadata": {},
   "source": [
    "### Invocando o método reescrito"
   ]
  },
  {
   "cell_type": "markdown",
   "metadata": {},
   "source": [
    "Depois de reescrito, não podemos mais chamar o método antigo que fora herdado da classe mãe. \n",
    "\n",
    "Podemos invocá o método da classe mãe no caso de estarmos dentro da classe.\n",
    "\n",
    "**Exemplo:** O calculo da bonificação de um gerente, deve ser igual ao cálculo de um funcionario, adicionando R$ 1000."
   ]
  },
  {
   "cell_type": "code",
   "execution_count": null,
   "metadata": {},
   "outputs": [],
   "source": [
    "class Gerente(Funcionario):\n",
    "\n",
    "    def __init__(self, nome, cpf, salario, senha, qtd_funcionarios):\n",
    "        super().__init__(nome, cpf, salario)\n",
    "        self._senha = senha\n",
    "        self._qtd_funcionarios = qtd_funcionarios\n",
    "\n",
    "    def autentica(self, senha):\n",
    "        if self._senha == senha:\n",
    "            print(\"acesso permitido\")\n",
    "            return True\n",
    "        else:\n",
    "            print(\"acesso negado\")              \n",
    "            return False\n",
    "\n",
    "    def get_bonificacao(self):\n",
    "        return self._salario * 0.10 + 1000.0"
   ]
  },
  {
   "cell_type": "code",
   "execution_count": null,
   "metadata": {},
   "outputs": [],
   "source": [
    "ger4 = Gerente('José', '222222222-22', 5000.0, '1234', 0)\n",
    "print(ger4.get_bonificacao())"
   ]
  },
  {
   "cell_type": "markdown",
   "metadata": {},
   "source": [
    "Se o método  `get_bonificacao()` da classe `Funcionario` mudar, precisaremos mudar o método da classe `Gerente`. \n",
    "\n",
    "**Solução:** Fazer o método `get_bonificacao()` da classe `Gerente` chamar o método `get_bonificacao()` da classe `Funcionario` utilizando o método `super()`."
   ]
  },
  {
   "cell_type": "code",
   "execution_count": null,
   "metadata": {},
   "outputs": [],
   "source": [
    "class Gerente(Funcionario):\n",
    "\n",
    "    def __init__(self, nome, cpf, salario, senha, qtd_funcionarios):\n",
    "        super().__init__(nome, cpf, salario)\n",
    "        self._senha = senha\n",
    "        self._qtd_funcionarios = qtd_funcionarios\n",
    "\n",
    "    def autentica(self, senha):\n",
    "        if self._senha == senha:\n",
    "            print(\"acesso permitido\")\n",
    "            return True\n",
    "        else:\n",
    "            print(\"acesso negado\")              \n",
    "            return False\n",
    "\n",
    "    def get_bonificacao(self):\n",
    "        return super().get_bonificacao() + 1000.0"
   ]
  },
  {
   "cell_type": "code",
   "execution_count": null,
   "metadata": {},
   "outputs": [],
   "source": [
    "ger4 = Gerente('José', '222222222-22', 5000.0, '1234', 0)\n",
    "print(ger4.get_bonificacao())"
   ]
  },
  {
   "cell_type": "markdown",
   "metadata": {},
   "source": [
    "### Polimorfismo"
   ]
  },
  {
   "cell_type": "markdown",
   "metadata": {},
   "source": [
    "O que guarda uma variável do tipo Funcionario é uma referência para um Funcionario, nunca o objeto em si.\n",
    "\n",
    "Na **herança**, vimos que todo gerente é um funcionario, pois é uma extensão deste. Podemos nos referir a um gerente como sendo um funcionario.\n",
    "\n",
    "**Polimorfismo** é a capacidade de um objeto poder ser referenciado de várias formas.\n",
    "\n",
    "Suponha uma classe referente ao controle de bonificação de funcionários."
   ]
  },
  {
   "cell_type": "code",
   "execution_count": null,
   "metadata": {},
   "outputs": [],
   "source": [
    "class ControleDeBonificacoes:\n",
    "\n",
    "    def __init__(self, total_bonificacoes=0):\n",
    "        self._total_bonificacoes = total_bonificacoes\n",
    "\n",
    "    def registra(self, funcionario):\n",
    "        self._total_bonificacoes += funcionario.get_bonificacao()\n",
    "\n",
    "    @property\n",
    "    def total_bonificacoes(self):\n",
    "        return self._total_bonificacoes"
   ]
  },
  {
   "cell_type": "code",
   "execution_count": null,
   "metadata": {},
   "outputs": [],
   "source": [
    "func1 = Funcionario('João', '111111111-11', 2000.0)\n",
    "print(f\"bonificacao do funcionário {func1._nome}: {func1.get_bonificacao()}\")"
   ]
  },
  {
   "cell_type": "code",
   "execution_count": null,
   "metadata": {},
   "outputs": [],
   "source": [
    "ger1 = Gerente(\"José\", \"222222222-22\", 5000, \"1234\", 0)\n",
    "print(f\"bonificacao gerente {ger1._nome}: {ger1.get_bonificacao()}\")"
   ]
  },
  {
   "cell_type": "code",
   "execution_count": null,
   "metadata": {},
   "outputs": [],
   "source": [
    "controle = ControleDeBonificacoes()\n",
    "controle.registra(func1)\n",
    "controle.registra(ger1)\n",
    "\n",
    "print(f\"total: {controle.total_bonificacoes}\")"
   ]
  },
  {
   "cell_type": "markdown",
   "metadata": {},
   "source": [
    "Observe que conseguimos passar um Gerente para um método que recebe um funcionario como argumento.\n",
    "\n",
    "Não importa que dentro do método `registra()` do `ControleDeBonificacoes` receba funcionario. \n",
    "Quando ele receber um objeto que realmente é um gerente, o seu método reescrito será invocado. \n",
    "\n",
    "Não importa como nos referenciamos a um objeto, o método que será invocado é sempre o que é dele.\n",
    "\n",
    "Considere uma classe para representar os clientes do banco:"
   ]
  },
  {
   "cell_type": "code",
   "execution_count": null,
   "metadata": {},
   "outputs": [],
   "source": [
    "class Cliente:\n",
    "\n",
    "    def __init__(self, nome, cpf, senha):\n",
    "        self._nome = nome\n",
    "        self._cpf = cpf\n",
    "        self._senha = senha"
   ]
  },
  {
   "cell_type": "code",
   "execution_count": null,
   "metadata": {},
   "outputs": [],
   "source": [
    "cliente = ('Maria', '333333333-33', '1234')"
   ]
  },
  {
   "cell_type": "markdown",
   "metadata": {},
   "source": [
    "Use o método de controle de bonificações com a classe Cliente"
   ]
  },
  {
   "cell_type": "code",
   "execution_count": null,
   "metadata": {},
   "outputs": [],
   "source": [
    "controle = ControleDeBonificacoes()"
   ]
  },
  {
   "cell_type": "code",
   "execution_count": null,
   "metadata": {},
   "outputs": [],
   "source": [
    "controle.registra(cliente)"
   ]
  },
  {
   "cell_type": "markdown",
   "metadata": {},
   "source": [
    "Um **AttibuteError** lança uma mensagem dizendo que Cliente não possui o atributo `get_bonificacao`. \n",
    "\n",
    "No código acima não importa se o objeto recebido no método `registra()` é um funcionario, mas se ele possui o método `get_bonificacao()`.\n",
    "\n",
    "O método `registra()` utiliza um método da classe `Funcionario` e, portanto, funcionará com qualquer instância de uma subclasse de Funcionario ou qualquer instância de uma classe que implemente o método `get_bonificacao()`.\n",
    "\n",
    "Esse tipo de erro pode ser evitado através da função `hasattr()` que verifica se o objeto passado possui ou não um atributo `get_bonificacao()`."
   ]
  },
  {
   "cell_type": "code",
   "execution_count": null,
   "metadata": {},
   "outputs": [],
   "source": [
    "class ControleDeBonificacoes:\n",
    "\n",
    "    def __init__(self, total_bonificacoes=0):\n",
    "        self._total_bonificacoes = total_bonificacoes\n",
    "\n",
    "    def registra(self, obj):\n",
    "        if(hasattr(obj, 'get_bonificacao')):\n",
    "            self._total_bonificacoes += obj.get_bonificacao()\n",
    "        else:\n",
    "            print(f\"instância de {self.__class__.__name__} não implementa o método get_bonificacao()\") "
   ]
  },
  {
   "cell_type": "code",
   "execution_count": null,
   "metadata": {},
   "outputs": [],
   "source": [
    "controle = ControleDeBonificacoes()"
   ]
  },
  {
   "cell_type": "code",
   "execution_count": null,
   "metadata": {},
   "outputs": [],
   "source": [
    "controle.registra(cliente)"
   ]
  },
  {
   "cell_type": "markdown",
   "metadata": {},
   "source": [
    "A função `hasattr()` recebe dois parâmetros, o objeto e o atributo, e verifica se o objeto possui aquele atributo. \n",
    "\n",
    "O tipo passado para o método `registra()` não importa aqui, e sim se o objeto passado implementa ou não o método `get_bonificacao()`. "
   ]
  },
  {
   "cell_type": "markdown",
   "metadata": {},
   "source": [
    "### Classe abstrata"
   ]
  },
  {
   "cell_type": "markdown",
   "metadata": {},
   "source": [
    "Considere a classe `Funcionario` e a classe `ControleDeBonificacoes`"
   ]
  },
  {
   "cell_type": "code",
   "execution_count": null,
   "metadata": {},
   "outputs": [],
   "source": [
    "class Funcionario:\n",
    "\n",
    "    def __init__(self, nome, cpf, salario):\n",
    "        self._nome = nome\n",
    "        self._cpf = cpf\n",
    "        self._salario = salario\n",
    "\n",
    "    def get_bonificacao(self):\n",
    "        return self._salario * 0.10    "
   ]
  },
  {
   "cell_type": "code",
   "execution_count": null,
   "metadata": {},
   "outputs": [],
   "source": [
    "class ControleDeBonificacoes:\n",
    "\n",
    "    def __init__(self, total_bonificacoes=0):\n",
    "        self.__total_bonificacoes = total_bonificacoes\n",
    "\n",
    "    def registra(self, obj):\n",
    "        if(hasattr(obj, 'get_bonificacao')):\n",
    "            self.__total_bonificacoes += obj.get_bonificacao()\n",
    "        else:\n",
    "            print(f\"instância de {self.__class__.__name__} não implementa o método get_bonificacao()\")"
   ]
  },
  {
   "cell_type": "markdown",
   "metadata": {},
   "source": [
    "O método `registra()` recebe um objeto de qualquer tipo, mas estamos esperando que seja um funcionario já que este implementa o método `get_bonificacao()`. \n",
    "\n",
    "Qualquer subclasse da classe `Funcionario` que eventualmente venha ser escrita, sem prévio conhecimento do autor da `ControleDeBonificacao` podem ser implementadas.\n",
    "\n",
    "A classe `Funcionario` aqui é usada apenas com intuitos de economizar um código e ganhar polimorfismo para criar métodos mais genéricos, que se encaixem a diversos objetos.\n",
    "\n",
    "**Pergunta:** Faz sentido ter um objeto do tipo Funcionario? Não.\n",
    "\n",
    "No Python existe o módulo chamado `abc` que permite definirmos classes abstratas, uma classe que não pode ser instanciada e deve conter pelo menos um método abstrato.\n",
    "\n",
    "Uma classe abstrata deve herdar de **ABC (Abstract Base Classes)**, que é a superclasse para classes abstratas."
   ]
  },
  {
   "cell_type": "code",
   "execution_count": null,
   "metadata": {},
   "outputs": [],
   "source": [
    "import abc\n",
    "\n",
    "class Funcionario(abc.ABC):\n",
    "\n",
    "    def __init__(self, nome, cpf, salario):\n",
    "        self._nome = nome\n",
    "        self._cpf = cpf\n",
    "        self._salario = salario\n",
    "\n",
    "\n",
    "    @abc.abstractmethod\n",
    "    def get_bonificacao(self):\n",
    "        pass"
   ]
  },
  {
   "cell_type": "code",
   "execution_count": null,
   "metadata": {},
   "outputs": [],
   "source": [
    "func1 = Funcionario()"
   ]
  },
  {
   "cell_type": "markdown",
   "metadata": {},
   "source": [
    "Definimos nossa classe `Funcionario` como abstrata. \n",
    "\n",
    "O método `get_bonificacao()` foi tornado abstrato, sem implementação, através do decorador `@abstractmethod`.\n",
    "\n",
    "Ao tentarmos instanciar um objeto do tipo Funcionario um erro foi retornado."
   ]
  },
  {
   "cell_type": "code",
   "execution_count": null,
   "metadata": {},
   "outputs": [],
   "source": [
    "class Gerente(Funcionario):\n",
    "\n",
    "    def __init__(self, nome, cpf, salario, senha, qtd_funcionarios):\n",
    "        super().__init__(nome, cpf, salario)\n",
    "        self._senha = senha\n",
    "        self._qtd_funcionarios = qtd_funcionarios\n",
    "\n",
    "    def autentica(self, senha):\n",
    "        if self._senha == senha:\n",
    "            print(\"acesso permitido\")\n",
    "            return True\n",
    "        else:\n",
    "            print(\"acesso negado\")              \n",
    "            return False\n",
    "\n",
    "    def get_bonificacao(self):\n",
    "        return self._salario * 0.15"
   ]
  },
  {
   "cell_type": "code",
   "execution_count": null,
   "metadata": {},
   "outputs": [],
   "source": [
    "ger1 = Gerente('jose', '222222222-22', 5000.0, '1234', 0)\n",
    "print(ger1.get_bonificacao())"
   ]
  },
  {
   "cell_type": "markdown",
   "metadata": {},
   "source": [
    "Vamos criar uma subclasse de Funcionario sem implementar o método abstrato `get_bonificacao()`"
   ]
  },
  {
   "cell_type": "code",
   "execution_count": null,
   "metadata": {},
   "outputs": [],
   "source": [
    "class Diretor(Funcionario):\n",
    "    def __init__(self, nome, cpf, salario):\n",
    "        super().__init__(nome, cpf, salario)"
   ]
  },
  {
   "cell_type": "code",
   "execution_count": null,
   "metadata": {},
   "outputs": [],
   "source": [
    "dir1 = Diretor('joao', '111111111-11', 4000.0) "
   ]
  },
  {
   "cell_type": "markdown",
   "metadata": {},
   "source": [
    "Não conseguimos instanciar uma subclasse de Funcionario sem implementar o método abstrato `get_bonificacao()`. \n",
    "\n",
    "Tornamos o método `get_bonificacao()` obrigatório para todo objeto que é subclasse de Funcionario. "
   ]
  },
  {
   "cell_type": "code",
   "execution_count": null,
   "metadata": {},
   "outputs": [],
   "source": [
    "class Diretor(Funcionario):\n",
    "    def __init__(self, nome, cpf, salario):\n",
    "        super().__init__(nome, cpf, salario)\n",
    "\n",
    "    def get_bonificacao(self):\n",
    "        return self._salario * 0.20"
   ]
  },
  {
   "cell_type": "code",
   "execution_count": null,
   "metadata": {},
   "outputs": [],
   "source": [
    "dir1 = Diretor('joao', '111111111-11', 4000.0) \n",
    "print(dir1.get_bonificacao())"
   ]
  }
 ],
 "metadata": {
  "kernelspec": {
   "display_name": "Python 3",
   "language": "python",
   "name": "python3"
  },
  "language_info": {
   "codemirror_mode": {
    "name": "ipython",
    "version": 3
   },
   "file_extension": ".py",
   "mimetype": "text/x-python",
   "name": "python",
   "nbconvert_exporter": "python",
   "pygments_lexer": "ipython3",
   "version": "3.10.12"
  }
 },
 "nbformat": 4,
 "nbformat_minor": 2
}
