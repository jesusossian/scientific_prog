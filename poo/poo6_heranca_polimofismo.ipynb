{
 "cells": [
  {
   "cell_type": "markdown",
   "metadata": {},
   "source": [
    "## Herança e polimorfismo\n",
    "\n",
    "**Herança** é uma relação entre classe 'mãe' e classe 'filha'.\n",
    "\n",
    "**Polimorfismo** é a capacidade de um objeto poder ser referenciado de várias formas."
   ]
  },
  {
   "cell_type": "markdown",
   "metadata": {},
   "source": [
    "### Repetição de código"
   ]
  },
  {
   "cell_type": "markdown",
   "metadata": {},
   "source": [
    "Considere a classe `Funcionario`, a qual possui um nome, um cpf e um salário."
   ]
  },
  {
   "cell_type": "code",
   "execution_count": 44,
   "metadata": {},
   "outputs": [],
   "source": [
    "class Funcionario:\n",
    "\n",
    "    def __init__(self, nome, cpf, salario):\n",
    "        self._nome = nome\n",
    "        self._cpf = cpf\n",
    "        self._salario = salario"
   ]
  },
  {
   "cell_type": "code",
   "execution_count": 45,
   "metadata": {},
   "outputs": [],
   "source": [
    "func1 = Funcionario(\"Joao\", \"123456\", 5000)"
   ]
  },
  {
   "cell_type": "code",
   "execution_count": 46,
   "metadata": {},
   "outputs": [
    {
     "name": "stdout",
     "output_type": "stream",
     "text": [
      "nome: Joao, cpf: 123456, salario: 5000\n"
     ]
    }
   ],
   "source": [
    "print(f\"nome: {func1._nome}, cpf: {func1._cpf}, salario: {func1._salario}\")"
   ]
  },
  {
   "cell_type": "markdown",
   "metadata": {},
   "source": [
    "Suponha a classe `Gerente` com as caracteristicas da classe `Funcionario`, e outras, e com funcionalidades um pouco diferentes. \n",
    "\n",
    "Um gerente no nosso banco possui também uma senha numérica que permite o acesso ao sistema interno do banco, além do número de funcionários que ele gerencia."
   ]
  },
  {
   "cell_type": "code",
   "execution_count": 47,
   "metadata": {},
   "outputs": [],
   "source": [
    "class Gerente:\n",
    "\n",
    "    def __init__(self, nome, cpf, salario, senha, qtd_gerenciados):\n",
    "        self._nome = nome\n",
    "        self._cpf = cpf\n",
    "        self._salario = salario\n",
    "        self._senha = senha\n",
    "        self._qtd_gerenciados = qtd_gerenciados\n",
    "\n",
    "    def autentica(self, senha):\n",
    "        if self._senha == senha:\n",
    "            print(\"acesso permitido\")\n",
    "            return True\n",
    "        else:\n",
    "           print(\"acesso negado\")\n",
    "           return False"
   ]
  },
  {
   "cell_type": "code",
   "execution_count": 48,
   "metadata": {},
   "outputs": [
    {
     "name": "stdout",
     "output_type": "stream",
     "text": [
      "nome: Paulo, cpf: 13456, salario: 8000, #gerenciados: 8\n"
     ]
    }
   ],
   "source": [
    "ger1 = Gerente(\"Paulo\", \"13456\", 8000, \"g4321\", 8)\n",
    "print(f\"nome: {ger1._nome}, cpf: {ger1._cpf}, salario: {ger1._salario}, #gerenciados: {ger1._qtd_gerenciados}\")"
   ]
  },
  {
   "cell_type": "markdown",
   "metadata": {},
   "source": [
    "Se tivéssemos um outro tipo de funcionário com características diferentes do funcionário comum, precisaríamos criar uma outra classe e copiar o código novamente.\n",
    "\n",
    "Se um dia precisarmos adicionar uma nova informação para todos os funcionários, precisaremos passar por todas as classes de funcionário e adicionar esse atributo. \n",
    "\n",
    "Podemos relacionar uma classe de tal maneira que uma delas herda tudo que o outra tem.\n",
    "\n",
    "Isto é uma relação de herança, uma relação entre classe 'mãe' e classe 'filha'."
   ]
  },
  {
   "cell_type": "markdown",
   "metadata": {},
   "source": [
    "Quando criarmos um objeto da classe Gerente queremos que este objeto também herde os atributos definidos na classe Funcionario.\n",
    "\n",
    "Se queremos incluir os mesmos atributos de instância de Funcionario em um Gerente, devemos chamar o método `__init__()` de Funcionario dentro do método `__init__()` de Gerente.\n",
    "\n",
    "No Python podemos chamar o método `__init__()` da classe mãe utilizando um método chamado `super()`.\n",
    "\n",
    "O método `super()` é usado para fazer referência a superclasse, a classe mãe."
   ]
  },
  {
   "cell_type": "code",
   "execution_count": 49,
   "metadata": {},
   "outputs": [],
   "source": [
    "class Gerente(Funcionario):\n",
    "\n",
    "    def __init__(self, nome, cpf, salario, senha, qtd_funcionarios):\n",
    "        super().__init__(nome, cpf, salario)\n",
    "        self._senha = senha\n",
    "        self._qtd_funcionarios = qtd_funcionarios\n",
    "\n",
    "    def autentica(self, senha):\n",
    "        if self._senha == senha:\n",
    "            print(\"acesso permitido\")\n",
    "            return True\n",
    "        else:\n",
    "            print(\"acesso negado\")              \n",
    "            return False"
   ]
  },
  {
   "cell_type": "code",
   "execution_count": 50,
   "metadata": {},
   "outputs": [
    {
     "name": "stdout",
     "output_type": "stream",
     "text": [
      "nome: Francisco, cpf: 13479, salario: 8500, #gerenciados: 12\n"
     ]
    }
   ],
   "source": [
    "ger3 = Gerente(\"Francisco\", \"13479\", 8500, \"g7521\", 12)\n",
    "print(f\"nome: {ger3._nome}, cpf: {ger3._cpf}, salario: {ger3._salario}, #gerenciados: {ger3._qtd_funcionarios}\")"
   ]
  },
  {
   "cell_type": "markdown",
   "metadata": {},
   "source": [
    "### Reescrita de métodos"
   ]
  },
  {
   "cell_type": "markdown",
   "metadata": {},
   "source": [
    "Suponha que todo fim de ano, os funcionários recebem uma bonificação. \n",
    "\n",
    "Os funcionários comuns recebem 10% do valor do salário e os gerentes, 15%."
   ]
  },
  {
   "cell_type": "code",
   "execution_count": 51,
   "metadata": {},
   "outputs": [],
   "source": [
    "class Funcionario:\n",
    "\n",
    "    def __init__(self, nome, cpf, salario):\n",
    "        self._nome = nome\n",
    "        self._cpf = cpf\n",
    "        self._salario = salario\n",
    "\n",
    "    def get_bonificacao(self):\n",
    "        return self._salario * 0.10    "
   ]
  },
  {
   "cell_type": "code",
   "execution_count": 52,
   "metadata": {},
   "outputs": [],
   "source": [
    "class Gerente(Funcionario):\n",
    "\n",
    "    def __init__(self, nome, cpf, salario, senha, qtd_funcionarios):\n",
    "        super().__init__(nome, cpf, salario)\n",
    "        self._senha = senha\n",
    "        self._qtd_funcionarios = qtd_funcionarios\n",
    "\n",
    "    def autentica(self, senha):\n",
    "        if self._senha == senha:\n",
    "            print(\"acesso permitido\")\n",
    "            return True\n",
    "        else:\n",
    "            print(\"acesso negado\")              \n",
    "            return False"
   ]
  },
  {
   "cell_type": "code",
   "execution_count": 53,
   "metadata": {},
   "outputs": [
    {
     "name": "stdout",
     "output_type": "stream",
     "text": [
      "500.0\n"
     ]
    }
   ],
   "source": [
    "ger4 = Gerente('José', '222222222-22', 5000.0, '1234', 0)\n",
    "print(ger4.get_bonificacao())"
   ]
  },
  {
   "cell_type": "markdown",
   "metadata": {},
   "source": [
    "No Python, quando herdamos um método, podemos alterar seu comportamento. \n",
    "\n",
    "Podemos reescrever (sobrescrever, override) este método, assim como fizemos com o `__init__()`.\n"
   ]
  },
  {
   "cell_type": "code",
   "execution_count": 54,
   "metadata": {},
   "outputs": [],
   "source": [
    "class Gerente(Funcionario):\n",
    "\n",
    "    def __init__(self, nome, cpf, salario, senha, qtd_funcionarios):\n",
    "        super().__init__(nome, cpf, salario)\n",
    "        self._senha = senha\n",
    "        self._qtd_funcionarios = qtd_funcionarios\n",
    "\n",
    "    def autentica(self, senha):\n",
    "        if self._senha == senha:\n",
    "            print(\"acesso permitido\")\n",
    "            return True\n",
    "        else:\n",
    "            print(\"acesso negado\")              \n",
    "            return False\n",
    "        \n",
    "    def get_bonificacao(self):\n",
    "        return self._salario * 0.15"
   ]
  },
  {
   "cell_type": "code",
   "execution_count": 55,
   "metadata": {},
   "outputs": [
    {
     "name": "stdout",
     "output_type": "stream",
     "text": [
      "750.0\n"
     ]
    }
   ],
   "source": [
    "ger4 = Gerente('José', '222222222-22', 5000.0, '1234', 0)\n",
    "print(ger4.get_bonificacao())"
   ]
  },
  {
   "cell_type": "markdown",
   "metadata": {},
   "source": [
    "### Invocando o método reescrito"
   ]
  },
  {
   "cell_type": "markdown",
   "metadata": {},
   "source": [
    "Depois de reescrito, não podemos mais chamar o método antigo que fora herdado da classe mãe, pois realmente alteramos o seu comportamento. \n",
    "\n",
    "Podemos invocá o método da classe mãe no caso de estarmos dentro da classe.\n",
    "\n",
    "**Exemplo:** O calculo da bonificação de um Gerente, deve ser igual ao cálculo de um Funcionario, adicionando R$ 1000."
   ]
  },
  {
   "cell_type": "code",
   "execution_count": 56,
   "metadata": {},
   "outputs": [],
   "source": [
    "class Gerente(Funcionario):\n",
    "\n",
    "    def __init__(self, nome, cpf, salario, senha, qtd_funcionarios):\n",
    "        super().__init__(nome, cpf, salario)\n",
    "        self._senha = senha\n",
    "        self._qtd_funcionarios = qtd_funcionarios\n",
    "\n",
    "    def autentica(self, senha):\n",
    "        if self._senha == senha:\n",
    "            print(\"acesso permitido\")\n",
    "            return True\n",
    "        else:\n",
    "            print(\"acesso negado\")              \n",
    "            return False\n",
    "\n",
    "    def get_bonificacao(self):\n",
    "        return self._salario * 0.10 + 1000.0"
   ]
  },
  {
   "cell_type": "code",
   "execution_count": 57,
   "metadata": {},
   "outputs": [
    {
     "name": "stdout",
     "output_type": "stream",
     "text": [
      "1500.0\n"
     ]
    }
   ],
   "source": [
    "ger4 = Gerente('José', '222222222-22', 5000.0, '1234', 0)\n",
    "print(ger4.get_bonificacao())"
   ]
  },
  {
   "cell_type": "markdown",
   "metadata": {},
   "source": [
    "Se o método  `get_bonificacao()` da classe `Funcionario` mudar, precisaremos mudar o método da classe `Gerente`. \n",
    "\n",
    "**Solução:** O método `get_bonificacao()` da classe `Gerente` chama o da classe `Funcionario` utilizando o método `super()`."
   ]
  },
  {
   "cell_type": "code",
   "execution_count": 58,
   "metadata": {},
   "outputs": [],
   "source": [
    "class Gerente(Funcionario):\n",
    "\n",
    "    def __init__(self, nome, cpf, salario, senha, qtd_funcionarios):\n",
    "        super().__init__(nome, cpf, salario)\n",
    "        self._senha = senha\n",
    "        self._qtd_funcionarios = qtd_funcionarios\n",
    "\n",
    "    def autentica(self, senha):\n",
    "        if self._senha == senha:\n",
    "            print(\"acesso permitido\")\n",
    "            return True\n",
    "        else:\n",
    "            print(\"acesso negado\")              \n",
    "            return False\n",
    "\n",
    "    def get_bonificacao(self):\n",
    "        return super().get_bonificacao() + 1000.0"
   ]
  },
  {
   "cell_type": "code",
   "execution_count": 59,
   "metadata": {},
   "outputs": [
    {
     "name": "stdout",
     "output_type": "stream",
     "text": [
      "1500.0\n"
     ]
    }
   ],
   "source": [
    "ger4 = Gerente('José', '222222222-22', 5000.0, '1234', 0)\n",
    "print(ger4.get_bonificacao())"
   ]
  },
  {
   "cell_type": "markdown",
   "metadata": {},
   "source": [
    "### Polimorfismo"
   ]
  },
  {
   "cell_type": "markdown",
   "metadata": {},
   "source": [
    "O que guarda uma variável do tipo Funcionario é uma referência para um Funcionario, nunca o objeto em si.\n",
    "\n",
    "Na herança, vimos que todo Gerente é um Funcionario, pois é uma extensão deste. \n",
    "\n",
    "Podemos nos referir a um Gerente como sendo um Funcionario.\n",
    "\n",
    "**Polimorfismo** é a capacidade de um objeto poder ser referenciado de várias formas.\n",
    "\n",
    "Suponha uma classe referente ao controle de bonificação de funcionários."
   ]
  },
  {
   "cell_type": "code",
   "execution_count": 60,
   "metadata": {},
   "outputs": [],
   "source": [
    "class ControleDeBonificacoes:\n",
    "\n",
    "    def __init__(self, total_bonificacoes=0):\n",
    "        self._total_bonificacoes = total_bonificacoes\n",
    "\n",
    "    def registra(self, funcionario):\n",
    "        self._total_bonificacoes += funcionario.get_bonificacao()\n",
    "\n",
    "    @property\n",
    "    def total_bonificacoes(self):\n",
    "        return self._total_bonificacoes"
   ]
  },
  {
   "cell_type": "code",
   "execution_count": 61,
   "metadata": {},
   "outputs": [
    {
     "name": "stdout",
     "output_type": "stream",
     "text": [
      "bonificacao do funcionário João: 200.0\n"
     ]
    }
   ],
   "source": [
    "func1 = Funcionario('João', '111111111-11', 2000.0)\n",
    "print(f\"bonificacao do funcionário {func1._nome}: {func1.get_bonificacao()}\")"
   ]
  },
  {
   "cell_type": "code",
   "execution_count": 62,
   "metadata": {},
   "outputs": [
    {
     "name": "stdout",
     "output_type": "stream",
     "text": [
      "bonificacao gerente José: 1500.0\n"
     ]
    }
   ],
   "source": [
    "ger1 = Gerente(\"José\", \"222222222-22\", 5000, \"1234\", 0)\n",
    "print(f\"bonificacao gerente {ger1._nome}: {ger1.get_bonificacao()}\")"
   ]
  },
  {
   "cell_type": "code",
   "execution_count": 63,
   "metadata": {},
   "outputs": [
    {
     "name": "stdout",
     "output_type": "stream",
     "text": [
      "total: 1700.0\n"
     ]
    }
   ],
   "source": [
    "controle = ControleDeBonificacoes()\n",
    "controle.registra(func1)\n",
    "controle.registra(ger1)\n",
    "\n",
    "print(f\"total: {controle.total_bonificacoes}\")"
   ]
  },
  {
   "cell_type": "markdown",
   "metadata": {},
   "source": [
    "Observe que conseguimos passar um Gerente para um método que \"recebe\" um Funcionario como argumento.\n",
    "\n",
    "Não importa que dentro do método `registra()` do ControleDeBonificacoes receba Funcionario. Quando ele receber um objeto que realmente é um Gerente, o seu método reescrito será invocado. \n",
    "\n",
    "Não importa como nos referenciamos a um objeto, o método que será invocado é sempre o que é dele."
   ]
  },
  {
   "cell_type": "markdown",
   "metadata": {},
   "source": [
    "Considere uma classe para representar os clientes do banco:"
   ]
  },
  {
   "cell_type": "code",
   "execution_count": 64,
   "metadata": {},
   "outputs": [],
   "source": [
    "class Cliente:\n",
    "\n",
    "    def __init__(self, nome, cpf, senha):\n",
    "        self._nome = nome\n",
    "        self._cpf = cpf\n",
    "        self._senha = senha"
   ]
  },
  {
   "cell_type": "code",
   "execution_count": 65,
   "metadata": {},
   "outputs": [],
   "source": [
    "cliente = ('Maria', '333333333-33', '1234')"
   ]
  },
  {
   "cell_type": "markdown",
   "metadata": {},
   "source": [
    "Use o método de controle de bonificações com a classe Cliente"
   ]
  },
  {
   "cell_type": "code",
   "execution_count": 66,
   "metadata": {},
   "outputs": [],
   "source": [
    "controle = ControleDeBonificacoes()"
   ]
  },
  {
   "cell_type": "code",
   "execution_count": 67,
   "metadata": {},
   "outputs": [
    {
     "ename": "AttributeError",
     "evalue": "'tuple' object has no attribute 'get_bonificacao'",
     "output_type": "error",
     "traceback": [
      "\u001b[0;31m---------------------------------------------------------------------------\u001b[0m",
      "\u001b[0;31mAttributeError\u001b[0m                            Traceback (most recent call last)",
      "\u001b[0;32m/tmp/ipykernel_821769/2629981577.py\u001b[0m in \u001b[0;36m<module>\u001b[0;34m\u001b[0m\n\u001b[0;32m----> 1\u001b[0;31m \u001b[0mcontrole\u001b[0m\u001b[0;34m.\u001b[0m\u001b[0mregistra\u001b[0m\u001b[0;34m(\u001b[0m\u001b[0mcliente\u001b[0m\u001b[0;34m)\u001b[0m\u001b[0;34m\u001b[0m\u001b[0;34m\u001b[0m\u001b[0m\n\u001b[0m",
      "\u001b[0;32m/tmp/ipykernel_821769/3339532775.py\u001b[0m in \u001b[0;36mregistra\u001b[0;34m(self, funcionario)\u001b[0m\n\u001b[1;32m      5\u001b[0m \u001b[0;34m\u001b[0m\u001b[0m\n\u001b[1;32m      6\u001b[0m     \u001b[0;32mdef\u001b[0m \u001b[0mregistra\u001b[0m\u001b[0;34m(\u001b[0m\u001b[0mself\u001b[0m\u001b[0;34m,\u001b[0m \u001b[0mfuncionario\u001b[0m\u001b[0;34m)\u001b[0m\u001b[0;34m:\u001b[0m\u001b[0;34m\u001b[0m\u001b[0;34m\u001b[0m\u001b[0m\n\u001b[0;32m----> 7\u001b[0;31m         \u001b[0mself\u001b[0m\u001b[0;34m.\u001b[0m\u001b[0m_total_bonificacoes\u001b[0m \u001b[0;34m+=\u001b[0m \u001b[0mfuncionario\u001b[0m\u001b[0;34m.\u001b[0m\u001b[0mget_bonificacao\u001b[0m\u001b[0;34m(\u001b[0m\u001b[0;34m)\u001b[0m\u001b[0;34m\u001b[0m\u001b[0;34m\u001b[0m\u001b[0m\n\u001b[0m\u001b[1;32m      8\u001b[0m \u001b[0;34m\u001b[0m\u001b[0m\n\u001b[1;32m      9\u001b[0m     \u001b[0;34m@\u001b[0m\u001b[0mproperty\u001b[0m\u001b[0;34m\u001b[0m\u001b[0;34m\u001b[0m\u001b[0m\n",
      "\u001b[0;31mAttributeError\u001b[0m: 'tuple' object has no attribute 'get_bonificacao'"
     ]
    }
   ],
   "source": [
    "controle.registra(cliente)"
   ]
  },
  {
   "cell_type": "markdown",
   "metadata": {},
   "source": [
    "Um **AttibuteError** lança uma mensagem dizendo que Cliente não possui o atributo `get_bonificacao`. \n",
    "\n",
    "Portanto, aqui não importa se o objeto recebido no método `registra()` é um Funcionario, mas se ele possui o método `get_bonificacao()`.\n",
    "\n",
    "O método `registra()` utiliza um método da classe Funcionario e, portanto, funcionará com qualquer instância de uma subclasse de Funcionario ou qualquer instância de uma classe que implemente o método `get_bonificacao()`.\n",
    "\n",
    "Podemos evitar este tipo de erro verificando se o objeto passado possui ou não um atributo `get_bonificacao()` através da função `hasattr()`."
   ]
  },
  {
   "cell_type": "code",
   "execution_count": 68,
   "metadata": {},
   "outputs": [],
   "source": [
    "class ControleDeBonificacoes:\n",
    "\n",
    "    def __init__(self, total_bonificacoes=0):\n",
    "        self._total_bonificacoes = total_bonificacoes\n",
    "\n",
    "    def registra(self, obj):\n",
    "        if(hasattr(obj, 'get_bonificacao')):\n",
    "            self._total_bonificacoes += obj.get_bonificacao()\n",
    "        else:\n",
    "            print(f\"instância de {self.__class__.__name__} não implementa o método get_bonificacao()\") "
   ]
  },
  {
   "cell_type": "code",
   "execution_count": 69,
   "metadata": {},
   "outputs": [],
   "source": [
    "controle = ControleDeBonificacoes()"
   ]
  },
  {
   "cell_type": "code",
   "execution_count": 70,
   "metadata": {},
   "outputs": [
    {
     "name": "stdout",
     "output_type": "stream",
     "text": [
      "instância de ControleDeBonificacoes não implementa o método get_bonificacao()\n"
     ]
    }
   ],
   "source": [
    "controle.registra(cliente)"
   ]
  },
  {
   "cell_type": "markdown",
   "metadata": {},
   "source": [
    "A função `hasattr()` recebe dois parâmetros, o objeto e o atributo e verifica se o objeto possui aquele atributo, ou seja, se o atributo está contido no `__dict__()` do objeto. \n",
    "\n",
    "O tipo passado para o método `registra()` não importa aqui, e sim se o objeto passado implementa ou não o método `get_bonificacao()`. "
   ]
  },
  {
   "cell_type": "markdown",
   "metadata": {},
   "source": [
    "### Classe abstrata"
   ]
  },
  {
   "cell_type": "markdown",
   "metadata": {},
   "source": [
    "Considere a classe `Funcionario` e a classe `ControleDeBonificacoes`"
   ]
  },
  {
   "cell_type": "code",
   "execution_count": 71,
   "metadata": {},
   "outputs": [],
   "source": [
    "class Funcionario:\n",
    "\n",
    "    def __init__(self, nome, cpf, salario):\n",
    "        self._nome = nome\n",
    "        self._cpf = cpf\n",
    "        self._salario = salario\n",
    "\n",
    "    def get_bonificacao(self):\n",
    "        return self._salario * 0.10    "
   ]
  },
  {
   "cell_type": "code",
   "execution_count": 72,
   "metadata": {},
   "outputs": [],
   "source": [
    "class ControleDeBonificacoes:\n",
    "\n",
    "    def __init__(self, total_bonificacoes=0):\n",
    "        self.__total_bonificacoes = total_bonificacoes\n",
    "\n",
    "    def registra(self, obj):\n",
    "        if(hasattr(obj, 'get_bonificacao')):\n",
    "            self.__total_bonificacoes += obj.get_bonificacao()\n",
    "        else:\n",
    "            print(f\"instância de {self.__class__.__name__} não implementa o método get_bonificacao()\")"
   ]
  },
  {
   "cell_type": "markdown",
   "metadata": {},
   "source": [
    "O método `registra()` recebe um objeto de qualquer tipo.\n",
    "\n",
    "Todavia, estamos esperando que seja um Funcionario já que este implementa o método `get_bonificacao()`. \n",
    "\n",
    "Dessa forma, qualquer subclasse que eventualmente venha ser escrita, sem prévio conhecimento do autor da ControleDeBonificacao podem ser implementadas.\n",
    "\n",
    "A classe Funcionario é usada apenas com intuitos de economizar um código e ganhar polimorfismo para criar métodos mais genéricos, que se encaixem a diversos objetos.\n",
    "\n",
    "Faz sentido ter um objeto do tipo Funcionario? Não.\n",
    "\n",
    "No Python existe o módulo chamado `abc` que permite definirmos classes abstratas, uma classe que não pode ser instanciada e deve conter pelo menos um método abstrato.\n",
    "\n",
    "Uma classe abstrata deve herdar de **ABC (Abstract Base Classes)**, que é a superclasse para classes abstratas."
   ]
  },
  {
   "cell_type": "code",
   "execution_count": 73,
   "metadata": {},
   "outputs": [],
   "source": [
    "import abc\n",
    "\n",
    "class Funcionario(abc.ABC):\n",
    "\n",
    "    def __init__(self, nome, cpf, salario):\n",
    "        self._nome = nome\n",
    "        self._cpf = cpf\n",
    "        self._salario = salario\n",
    "\n",
    "\n",
    "    @abc.abstractmethod\n",
    "    def get_bonificacao(self):\n",
    "        pass"
   ]
  },
  {
   "cell_type": "code",
   "execution_count": 74,
   "metadata": {},
   "outputs": [
    {
     "ename": "TypeError",
     "evalue": "Can't instantiate abstract class Funcionario with abstract method get_bonificacao",
     "output_type": "error",
     "traceback": [
      "\u001b[0;31m---------------------------------------------------------------------------\u001b[0m",
      "\u001b[0;31mTypeError\u001b[0m                                 Traceback (most recent call last)",
      "\u001b[0;32m/tmp/ipykernel_821769/434097269.py\u001b[0m in \u001b[0;36m<module>\u001b[0;34m\u001b[0m\n\u001b[0;32m----> 1\u001b[0;31m \u001b[0mfunc1\u001b[0m \u001b[0;34m=\u001b[0m \u001b[0mFuncionario\u001b[0m\u001b[0;34m(\u001b[0m\u001b[0;34m)\u001b[0m\u001b[0;34m\u001b[0m\u001b[0;34m\u001b[0m\u001b[0m\n\u001b[0m",
      "\u001b[0;31mTypeError\u001b[0m: Can't instantiate abstract class Funcionario with abstract method get_bonificacao"
     ]
    }
   ],
   "source": [
    "func1 = Funcionario()"
   ]
  },
  {
   "cell_type": "markdown",
   "metadata": {},
   "source": [
    "Definimos nossa classe Funcionario como abstrata. \n",
    "\n",
    "O método `get_bonificacao()` foi tornado abstrato, sem implementação, através do decorador `@abstractmethod`.\n",
    "\n",
    "Ao tentarmos instanciar um objeto do tipo Funcionario um erro foi retornado."
   ]
  },
  {
   "cell_type": "code",
   "execution_count": 75,
   "metadata": {},
   "outputs": [],
   "source": [
    "class Gerente(Funcionario):\n",
    "\n",
    "    def __init__(self, nome, cpf, salario, senha, qtd_funcionarios):\n",
    "        super().__init__(nome, cpf, salario)\n",
    "        self._senha = senha\n",
    "        self._qtd_funcionarios = qtd_funcionarios\n",
    "\n",
    "    def autentica(self, senha):\n",
    "        if self._senha == senha:\n",
    "            print(\"acesso permitido\")\n",
    "            return True\n",
    "        else:\n",
    "            print(\"acesso negado\")              \n",
    "            return False\n",
    "\n",
    "    def get_bonificacao(self):\n",
    "        return self._salario * 0.15"
   ]
  },
  {
   "cell_type": "code",
   "execution_count": 76,
   "metadata": {},
   "outputs": [
    {
     "name": "stdout",
     "output_type": "stream",
     "text": [
      "750.0\n"
     ]
    }
   ],
   "source": [
    "ger1 = Gerente('jose', '222222222-22', 5000.0, '1234', 0)\n",
    "print(ger1.get_bonificacao())"
   ]
  },
  {
   "cell_type": "code",
   "execution_count": 77,
   "metadata": {},
   "outputs": [],
   "source": [
    "class Diretor(Funcionario):\n",
    "    def __init__(self, nome, cpf, salario):\n",
    "        super().__init__(nome, cpf, salario)"
   ]
  },
  {
   "cell_type": "code",
   "execution_count": 78,
   "metadata": {},
   "outputs": [
    {
     "ename": "TypeError",
     "evalue": "Can't instantiate abstract class Diretor with abstract method get_bonificacao",
     "output_type": "error",
     "traceback": [
      "\u001b[0;31m---------------------------------------------------------------------------\u001b[0m",
      "\u001b[0;31mTypeError\u001b[0m                                 Traceback (most recent call last)",
      "\u001b[0;32m/tmp/ipykernel_821769/583321540.py\u001b[0m in \u001b[0;36m<module>\u001b[0;34m\u001b[0m\n\u001b[0;32m----> 1\u001b[0;31m \u001b[0mdir1\u001b[0m \u001b[0;34m=\u001b[0m \u001b[0mDiretor\u001b[0m\u001b[0;34m(\u001b[0m\u001b[0;34m'joao'\u001b[0m\u001b[0;34m,\u001b[0m \u001b[0;34m'111111111-11'\u001b[0m\u001b[0;34m,\u001b[0m \u001b[0;36m4000.0\u001b[0m\u001b[0;34m)\u001b[0m\u001b[0;34m\u001b[0m\u001b[0;34m\u001b[0m\u001b[0m\n\u001b[0m",
      "\u001b[0;31mTypeError\u001b[0m: Can't instantiate abstract class Diretor with abstract method get_bonificacao"
     ]
    }
   ],
   "source": [
    "dir1 = Diretor('joao', '111111111-11', 4000.0) "
   ]
  },
  {
   "cell_type": "markdown",
   "metadata": {},
   "source": [
    "Não conseguimos instanciar uma subclasse de Funcionario sem implementar o método abstrato `get_bonificacao()`. \n",
    "\n",
    "Tornamos o método `get_bonificacao()` obrigatório para todo objeto que é subclasse de Funcionario. "
   ]
  },
  {
   "cell_type": "code",
   "execution_count": 79,
   "metadata": {},
   "outputs": [],
   "source": [
    "class Diretor(Funcionario):\n",
    "    def __init__(self, nome, cpf, salario):\n",
    "        super().__init__(nome, cpf, salario)\n",
    "\n",
    "    def get_bonificacao(self):\n",
    "        return self._salario * 0.20"
   ]
  },
  {
   "cell_type": "code",
   "execution_count": 80,
   "metadata": {},
   "outputs": [
    {
     "name": "stdout",
     "output_type": "stream",
     "text": [
      "800.0\n"
     ]
    }
   ],
   "source": [
    "dir1 = Diretor('joao', '111111111-11', 4000.0) \n",
    "print(dir1.get_bonificacao())"
   ]
  },
  {
   "cell_type": "code",
   "execution_count": null,
   "metadata": {},
   "outputs": [],
   "source": [
    "\n"
   ]
  }
 ],
 "metadata": {
  "kernelspec": {
   "display_name": "Python 3",
   "language": "python",
   "name": "python3"
  },
  "language_info": {
   "codemirror_mode": {
    "name": "ipython",
    "version": 3
   },
   "file_extension": ".py",
   "mimetype": "text/x-python",
   "name": "python",
   "nbconvert_exporter": "python",
   "pygments_lexer": "ipython3",
   "version": "3.10.12"
  }
 },
 "nbformat": 4,
 "nbformat_minor": 2
}
