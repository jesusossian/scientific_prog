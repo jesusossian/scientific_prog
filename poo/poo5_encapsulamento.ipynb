{
 "cells": [
  {
   "cell_type": "markdown",
   "metadata": {},
   "source": [
    "### Modificadores de acesso"
   ]
  },
  {
   "cell_type": "markdown",
   "metadata": {},
   "source": [
    "Um problema: no nosso sistema de contas o método `saque()` permite sacar mesmo que o saldo seja insuficiente."
   ]
  },
  {
   "cell_type": "code",
   "execution_count": 46,
   "metadata": {},
   "outputs": [],
   "source": [
    "class Conta:\n",
    "    def __init__(self, numero, titular, saldo, limite=1000.0):\n",
    "        self.numero = numero\n",
    "        self.titular = titular  \n",
    "        self.saldo = saldo\n",
    "        self.limite = limite\n",
    "    \n",
    "    def resumo(self):\n",
    "        print(f\"extrato\")\n",
    "        print(f\"cc {self.numero} saldo: {self.saldo}\")\n",
    "\n",
    "    def saque(self, valor):\n",
    "        self.saldo -=valor\n",
    "\n",
    "    def deposito(self, valor):\n",
    "        self.saldo += valor"
   ]
  },
  {
   "cell_type": "code",
   "execution_count": 47,
   "metadata": {},
   "outputs": [],
   "source": [
    "conta1 = Conta('1', 'João', 1000.0, 2000.0)\n",
    "conta1.saque(500000)"
   ]
  },
  {
   "cell_type": "code",
   "execution_count": 48,
   "metadata": {},
   "outputs": [
    {
     "data": {
      "text/plain": [
       "-499000.0"
      ]
     },
     "execution_count": 48,
     "metadata": {},
     "output_type": "execute_result"
    }
   ],
   "source": [
    "conta1.saldo"
   ]
  },
  {
   "cell_type": "code",
   "execution_count": 49,
   "metadata": {},
   "outputs": [
    {
     "name": "stdout",
     "output_type": "stream",
     "text": [
      "-499000.0\n"
     ]
    }
   ],
   "source": [
    "print(conta1.saldo)"
   ]
  },
  {
   "cell_type": "markdown",
   "metadata": {},
   "source": [
    "Um `if` dentro do método `saque()` evita a situação que resultaria em uma conta com seu saldo menor do que zero."
   ]
  },
  {
   "cell_type": "code",
   "execution_count": 50,
   "metadata": {},
   "outputs": [],
   "source": [
    "class Conta:\n",
    "    def __init__(self, numero, titular, saldo, limite=1000.0):\n",
    "        self.numero = numero\n",
    "        self.titular = titular  \n",
    "        self.saldo = saldo\n",
    "        self.limite = limite\n",
    "    \n",
    "    def resumo(self):\n",
    "        print(f\"extrato\")\n",
    "        print(f\"cc {self.numero} saldo: {self.saldo}\")\n",
    "\n",
    "    def saque(self, valor):\n",
    "        if valor <= self.saldo:\n",
    "            self.saldo -= valor\n",
    "        else:\n",
    "            print(\"saldo insuficiente!\")\n",
    "\n",
    "    def deposito(self, valor):\n",
    "        self.saldo += valor"
   ]
  },
  {
   "cell_type": "code",
   "execution_count": 51,
   "metadata": {},
   "outputs": [
    {
     "name": "stdout",
     "output_type": "stream",
     "text": [
      "saldo insuficiente!\n"
     ]
    }
   ],
   "source": [
    "conta1 = Conta('1', 'João', 1000.0)\n",
    "conta1.saque(500000)"
   ]
  },
  {
   "cell_type": "markdown",
   "metadata": {},
   "source": [
    "Não é possível se garantir que o usuário da classe vai sempre utilizar o método `saque()` para alterar o saldo da conta"
   ]
  },
  {
   "cell_type": "code",
   "execution_count": 52,
   "metadata": {},
   "outputs": [],
   "source": [
    "conta1.saldo = -200"
   ]
  },
  {
   "cell_type": "code",
   "execution_count": 53,
   "metadata": {},
   "outputs": [
    {
     "name": "stdout",
     "output_type": "stream",
     "text": [
      "-200\n"
     ]
    }
   ],
   "source": [
    "print(conta1.saldo)"
   ]
  },
  {
   "cell_type": "markdown",
   "metadata": {},
   "source": [
    "Uma forma de se resolver isso seria forçar quem usa a classe `Conta` a invocar o método `saque()`, para assim não permitir o acesso direto ao atributo.\n",
    "\n",
    "Em orientação a objetos, é prática quase que obrigatória proteger seus atributos com `private`. \n",
    "\n",
    "Cada classe é responsável por controlar seus atributos, portanto ela deve julgar se aquele novo valor é válido ou não. \n",
    "\n",
    "Esta validação não deve ser controlada por quem está usando a classe, e sim por ela mesma, centralizando essa responsabilidade e facilitando futuras mudanças no sistema.\n",
    "\n",
    "O Python não utiliza o termo `private`, que é um modificador de acesso e também chamado de modificador de visibilidade. \n",
    "\n",
    "No Python, inserimos dois underscores (`__`) ao atributo para adicionarmos esta característica."
   ]
  },
  {
   "cell_type": "code",
   "execution_count": 54,
   "metadata": {},
   "outputs": [],
   "source": [
    "class Pessoa:\n",
    "\n",
    "    def __init__(self, idade):\n",
    "        self.__idade = idade"
   ]
  },
  {
   "cell_type": "code",
   "execution_count": 55,
   "metadata": {},
   "outputs": [],
   "source": [
    "pessoa = Pessoa(20)"
   ]
  },
  {
   "cell_type": "code",
   "execution_count": 56,
   "metadata": {},
   "outputs": [
    {
     "ename": "AttributeError",
     "evalue": "'Pessoa' object has no attribute '__idade'",
     "output_type": "error",
     "traceback": [
      "\u001b[0;31m---------------------------------------------------------------------------\u001b[0m",
      "\u001b[0;31mAttributeError\u001b[0m                            Traceback (most recent call last)",
      "\u001b[0;32m/tmp/ipykernel_586569/840100050.py\u001b[0m in \u001b[0;36m<module>\u001b[0;34m\u001b[0m\n\u001b[0;32m----> 1\u001b[0;31m \u001b[0mpessoa\u001b[0m\u001b[0;34m.\u001b[0m\u001b[0m__idade\u001b[0m\u001b[0;34m\u001b[0m\u001b[0;34m\u001b[0m\u001b[0m\n\u001b[0m",
      "\u001b[0;31mAttributeError\u001b[0m: 'Pessoa' object has no attribute '__idade'"
     ]
    }
   ],
   "source": [
    "pessoa.__idade"
   ]
  },
  {
   "cell_type": "markdown",
   "metadata": {},
   "source": [
    "O interpretador acusa que o atributo idade não existe na classe `Pessoa`, mas isso não garante que ninguém possa acessá-lo. \n",
    "\n",
    "No Python, não existem atributos realmente privados, ele apenas alerta que você não deveria tentar acessar este atributo, ou modificá-lo."
   ]
  },
  {
   "cell_type": "code",
   "execution_count": 57,
   "metadata": {},
   "outputs": [
    {
     "data": {
      "text/plain": [
       "20"
      ]
     },
     "execution_count": 57,
     "metadata": {},
     "output_type": "execute_result"
    }
   ],
   "source": [
    "pessoa._Pessoa__idade"
   ]
  },
  {
   "cell_type": "markdown",
   "metadata": {},
   "source": [
    "Podemos utilizar a função `dir` para ver que os atributos do objeto."
   ]
  },
  {
   "cell_type": "code",
   "execution_count": 58,
   "metadata": {},
   "outputs": [
    {
     "data": {
      "text/plain": [
       "['_Pessoa__idade',\n",
       " '__class__',\n",
       " '__delattr__',\n",
       " '__dict__',\n",
       " '__dir__',\n",
       " '__doc__',\n",
       " '__eq__',\n",
       " '__format__',\n",
       " '__ge__',\n",
       " '__getattribute__',\n",
       " '__gt__',\n",
       " '__hash__',\n",
       " '__init__',\n",
       " '__init_subclass__',\n",
       " '__le__',\n",
       " '__lt__',\n",
       " '__module__',\n",
       " '__ne__',\n",
       " '__new__',\n",
       " '__reduce__',\n",
       " '__reduce_ex__',\n",
       " '__repr__',\n",
       " '__setattr__',\n",
       " '__sizeof__',\n",
       " '__str__',\n",
       " '__subclasshook__',\n",
       " '__weakref__']"
      ]
     },
     "execution_count": 58,
     "metadata": {},
     "output_type": "execute_result"
    }
   ],
   "source": [
    "dir(pessoa)"
   ]
  },
  {
   "cell_type": "markdown",
   "metadata": {},
   "source": [
    "Muitos programadores Python não gostam dessa sintaxe e preferem usar apenas um underscore (`_`) para indicar quando um atributo deve ser protegido.\n",
    "\n",
    "O prefixo com `_` não tem significado para o interpretador quando usado em nome de atributos, mas entre programadores Python é uma convenção que deve ser respeitada. \n",
    "\n",
    "O programador alerta que esse atributo não deve ser acessado diretamente.\n",
    "\n",
    "Um atributo com `_` é chamado de protegido, mas quando usado sinaliza que deve ser tratado como um atributo **privado**, fazendo com que acessá-lo diretamente possa ser perigoso."
   ]
  },
  {
   "cell_type": "markdown",
   "metadata": {},
   "source": [
    "### Encapsulamento"
   ]
  },
  {
   "cell_type": "markdown",
   "metadata": {},
   "source": [
    "Encapsular é esconder todos os membros de uma classe, além de esconder como funcionam os métodos do sistema.\n",
    "\n",
    "Encapsular é fundamental para que o sistema seja suscetível a mudanças: não precisamos mudar uma regra de negócio em vários lugares, mas sim em apenas um único lugar, já que essa regra está encapsulada. \n",
    "\n",
    "O conjunto de métodos públicos de uma classe é também chamado de interface da classe, pois esta é a única maneira a qual você se comunica com objetos dessa classe.\n",
    "\n",
    "O `_` alerta que ninguém deve modificar, nem mesmo ler, o atributo em questão. \n",
    "\n",
    "Para permitir o acesso aos atributos de uma maneira controlada, a prática mais comum é criar dois métodos, um que retorna o valor e outro que muda o valor. \n",
    "\n",
    "A convenção para esses métodos em muitas linguagens orientadas a objetos é colocar a palavra **get** ou **set** antes do nome do atributo."
   ]
  },
  {
   "cell_type": "code",
   "execution_count": 59,
   "metadata": {},
   "outputs": [],
   "source": [
    "class Conta:\n",
    "    def __init__(self, numero, titular, saldo, limite=1000.0):\n",
    "        self.numero = numero\n",
    "        self._titular = titular  \n",
    "        self._saldo = saldo\n",
    "        self.limite = limite\n",
    "\n",
    "    def resumo(self):\n",
    "        print(f\"cc {self.numero} saldo: {self.__saldo}\")\n",
    "\n",
    "    def saque(self, valor):\n",
    "        self._saldo -=valor\n",
    "\n",
    "    def deposito(self, valor):\n",
    "        self._saldo += valor\n",
    "\n",
    "    def get_saldo(self):\n",
    "        return self._saldo\n",
    "    \n",
    "    def set_saldo(self, saldo):\n",
    "        self._saldo = saldo     \n",
    "\n",
    "    def get_titular(self):\n",
    "        return self._titular\n",
    "\n",
    "    def set_titular(self, titular):\n",
    "        self._titular = titular"
   ]
  },
  {
   "cell_type": "code",
   "execution_count": 60,
   "metadata": {},
   "outputs": [],
   "source": [
    "conta1 = Conta('1', 'João', 1000.0)\n",
    "conta2 = Conta('2', 'Maria', 10.0)\n",
    "conta3 = Conta('3', 'Pedro', -50.0)"
   ]
  },
  {
   "cell_type": "code",
   "execution_count": 61,
   "metadata": {},
   "outputs": [
    {
     "data": {
      "text/plain": [
       "1000.0"
      ]
     },
     "execution_count": 61,
     "metadata": {},
     "output_type": "execute_result"
    }
   ],
   "source": [
    "conta1.get_saldo()"
   ]
  },
  {
   "cell_type": "code",
   "execution_count": 62,
   "metadata": {},
   "outputs": [
    {
     "data": {
      "text/plain": [
       "10.0"
      ]
     },
     "execution_count": 62,
     "metadata": {},
     "output_type": "execute_result"
    }
   ],
   "source": [
    "conta2.get_saldo()"
   ]
  },
  {
   "cell_type": "code",
   "execution_count": 63,
   "metadata": {},
   "outputs": [
    {
     "data": {
      "text/plain": [
       "-50.0"
      ]
     },
     "execution_count": 63,
     "metadata": {},
     "output_type": "execute_result"
    }
   ],
   "source": [
    "conta3.get_saldo()"
   ]
  },
  {
   "cell_type": "code",
   "execution_count": 64,
   "metadata": {},
   "outputs": [
    {
     "data": {
      "text/plain": [
       "1010.0"
      ]
     },
     "execution_count": 64,
     "metadata": {},
     "output_type": "execute_result"
    }
   ],
   "source": [
    "conta3.set_saldo(conta1.get_saldo() + conta2.get_saldo())\n",
    "conta3.get_saldo()"
   ]
  },
  {
   "cell_type": "markdown",
   "metadata": {},
   "source": [
    "**Getters** e **setters** são usados ​​em muitas linguagens de programação orientada a objetos para garantir o princípio do encapsulamento de dados. \n",
    "\n",
    "O encapsulamento de dados é visto como o agrupamento de dados com os métodos que operam nesses dados. \n",
    "\n",
    "Esses métodos são, obviamente, o **getter** para recuperar os dados e o **setter** para alterar os dados. \n",
    "\n",
    "De acordo com esse princípio, os atributos de uma classe são tornados privados para ocultá-los e protegê-los de outro código."
   ]
  },
  {
   "cell_type": "markdown",
   "metadata": {},
   "source": [
    "Em Java recomenda-se que as pessoas usem somente atributos privados com getters e setters, para que seja possível alterar a implementação sem precisar alterar a interface. \n",
    "\n",
    "O Python oferece uma solução bastante parecida para este problema, chamada de `properties`. \n",
    "\n",
    "Mantemos nossos atributos protegidos e decoramos nossos métodos com um decorator chamado `property`."
   ]
  },
  {
   "cell_type": "code",
   "execution_count": 20,
   "metadata": {},
   "outputs": [],
   "source": [
    "class Conta:\n",
    "    def __init__(self, numero, titular, saldo, limite=1000.0):\n",
    "        self.numero = numero\n",
    "        self._titular = titular  \n",
    "        self._saldo = saldo\n",
    "        self._limite = limite\n",
    "\n",
    "    def resumo(self):\n",
    "        print(f\"cc {self.numero} saldo: {self._saldo}\")\n",
    "\n",
    "    def saque(self, valor):\n",
    "        self._saldo -= valor\n",
    "\n",
    "    def deposito(self, valor):\n",
    "        self._saldo += valor\n",
    "    \n",
    "    @property\n",
    "    def saldo(self):\n",
    "        return self._saldo      \n",
    "\n",
    "    @saldo.setter\n",
    "    def saldo(self, saldo):\n",
    "        if(saldo < 0):\n",
    "            print(\"saldo não pode ser negativo\")\n",
    "        else:\n",
    "            self._saldo = saldo\n",
    "    \n",
    "    def get_titular(self):\n",
    "        return self._titular\n",
    "\n",
    "    def set_titular(self, titular):\n",
    "        self._titular = titular"
   ]
  },
  {
   "cell_type": "markdown",
   "metadata": {},
   "source": [
    "Um método que é usado para obter um valor (o getter) é decorado com @property.\n",
    "\n",
    "O método que tem que funcionar como setter é decorado com @saldo.\n",
    "\n",
    "Um decorador(decorator) é um padrão de projeto de software que permite adicionar um comportamento a um objeto já existente em tempo de execução.\n",
    "\n",
    "Esta solução traz uma flexibilidade maior, em que podemos adicionar ou remover responsabilidades sem que seja necessário editar o código-fonte.\n",
    "\n",
    "Um decorador é um objeto invocável, uma função que aceita outra função como parâmetro (a função decorada). \n",
    "\n",
    "O decorador pode realizar algum processamento com a função decorada e devolvê-la ou substituí-la por outra função. \n",
    "\n",
    "O `property` é um decorador que possui métodos extras, como um **getter** e um **setter**, e ao ser aplicado a um objeto retorna uma cópia dele com essas funcionalidades."
   ]
  },
  {
   "cell_type": "code",
   "execution_count": 21,
   "metadata": {},
   "outputs": [],
   "source": [
    "conta1 = Conta('1', 'João', 1000)\n",
    "conta2 = Conta('2', 'Maria', 10)\n",
    "conta3 = Conta('3', 'Pedro', -50)"
   ]
  },
  {
   "cell_type": "code",
   "execution_count": 22,
   "metadata": {},
   "outputs": [
    {
     "name": "stdout",
     "output_type": "stream",
     "text": [
      "saldo não pode ser negativo\n"
     ]
    }
   ],
   "source": [
    "conta3.saldo = -100"
   ]
  },
  {
   "cell_type": "markdown",
   "metadata": {},
   "source": [
    "### Atributo de classe"
   ]
  },
  {
   "cell_type": "markdown",
   "metadata": {},
   "source": [
    "Suponha que o banco quer controlar a quantidade de contas existentes no sistema.\n",
    "\n",
    "Uma solução é criar uma variável de classe e chamar ela através da classe no método `__init__`."
   ]
  },
  {
   "cell_type": "code",
   "execution_count": 65,
   "metadata": {},
   "outputs": [],
   "source": [
    "class Conta:\n",
    "\n",
    "    total_contas = 0\n",
    "    \n",
    "    def __init__(self, numero, titular, saldo, limite=1000.0):\n",
    "        self.numero = numero\n",
    "        self._titular = titular  \n",
    "        self._saldo = saldo\n",
    "        self._limite = limite\n",
    "        Conta.total_contas += 1\n",
    "\n",
    "    def resumo(self):\n",
    "        print(f\"cc {self.numero} saldo: {self._saldo}\")\n",
    "\n",
    "    def saque(self, valor):\n",
    "        self._saldo -= valor\n",
    "\n",
    "    def deposito(self, valor):\n",
    "        self._saldo += valor\n",
    "    \n",
    "    @property\n",
    "    def saldo(self):\n",
    "        return self._saldo\n",
    "    \n",
    "    @property\n",
    "    def titular(self):\n",
    "        return self._titular"
   ]
  },
  {
   "cell_type": "code",
   "execution_count": 66,
   "metadata": {},
   "outputs": [],
   "source": [
    "conta1 = Conta('1', 'João', 1000)\n",
    "conta2 = Conta('2', 'Maria', 10)\n",
    "conta3 = Conta('3', 'Pedro', -50)"
   ]
  },
  {
   "cell_type": "code",
   "execution_count": 67,
   "metadata": {},
   "outputs": [
    {
     "name": "stdout",
     "output_type": "stream",
     "text": [
      "3\n"
     ]
    }
   ],
   "source": [
    "print(conta1.total_contas)"
   ]
  },
  {
   "cell_type": "code",
   "execution_count": 68,
   "metadata": {},
   "outputs": [
    {
     "name": "stdout",
     "output_type": "stream",
     "text": [
      "3\n"
     ]
    }
   ],
   "source": [
    "print(conta2.total_contas)"
   ]
  },
  {
   "cell_type": "markdown",
   "metadata": {},
   "source": [
    "Vamos criar o método `get_total_contas` para acessar o atributo."
   ]
  },
  {
   "cell_type": "code",
   "execution_count": 72,
   "metadata": {},
   "outputs": [],
   "source": [
    "class Conta:\n",
    "    _total_contas = 0\n",
    "    def __init__(self, numero, titular, saldo, limite=1000.0):\n",
    "        self.numero = numero\n",
    "        self._titular = titular  \n",
    "        self._saldo = saldo\n",
    "        self._limite = limite\n",
    "        Conta._total_contas += 1\n",
    "\n",
    "    def resumo(self):\n",
    "        print(f\"cc {self.numero} saldo: {self._saldo}\")\n",
    "\n",
    "    def saque(self, valor):\n",
    "        self._saldo -= valor\n",
    "\n",
    "    def deposito(self, valor):\n",
    "        self._saldo += valor\n",
    "    \n",
    "    @property\n",
    "    def saldo(self):\n",
    "        return self._saldo      \n",
    "\n",
    "    @property    \n",
    "    def get_titular(self):\n",
    "        return self._titular\n",
    "    \n",
    "    def get_total_contas(self):\n",
    "        return Conta._total_contas"
   ]
  },
  {
   "cell_type": "code",
   "execution_count": 73,
   "metadata": {},
   "outputs": [],
   "source": [
    "conta1 = Conta('1', 'João', 1000)"
   ]
  },
  {
   "cell_type": "code",
   "execution_count": 74,
   "metadata": {},
   "outputs": [
    {
     "name": "stdout",
     "output_type": "stream",
     "text": [
      "1\n"
     ]
    }
   ],
   "source": [
    "print(conta1.get_total_contas())"
   ]
  },
  {
   "cell_type": "markdown",
   "metadata": {},
   "source": [
    "O método `get_total_contas()` funciona quando chamado por uma instância, mas quando fazemos `Conta.get_total_contas()` o interpretador reclama."
   ]
  },
  {
   "cell_type": "code",
   "execution_count": 75,
   "metadata": {},
   "outputs": [
    {
     "ename": "TypeError",
     "evalue": "Conta.get_total_contas() missing 1 required positional argument: 'self'",
     "output_type": "error",
     "traceback": [
      "\u001b[0;31m---------------------------------------------------------------------------\u001b[0m",
      "\u001b[0;31mTypeError\u001b[0m                                 Traceback (most recent call last)",
      "\u001b[0;32m/tmp/ipykernel_586569/812677533.py\u001b[0m in \u001b[0;36m<module>\u001b[0;34m\u001b[0m\n\u001b[0;32m----> 1\u001b[0;31m \u001b[0mConta\u001b[0m\u001b[0;34m.\u001b[0m\u001b[0mget_total_contas\u001b[0m\u001b[0;34m(\u001b[0m\u001b[0;34m)\u001b[0m\u001b[0;34m\u001b[0m\u001b[0;34m\u001b[0m\u001b[0m\n\u001b[0m",
      "\u001b[0;31mTypeError\u001b[0m: Conta.get_total_contas() missing 1 required positional argument: 'self'"
     ]
    }
   ],
   "source": [
    "Conta.get_total_contas()"
   ]
  },
  {
   "cell_type": "markdown",
   "metadata": {},
   "source": [
    "Se for passado o argumento `self` o método funciona, mas o objeto associado ao `self` não está vinculado a qualquer instância de `Conta`."
   ]
  },
  {
   "cell_type": "code",
   "execution_count": 76,
   "metadata": {},
   "outputs": [
    {
     "data": {
      "text/plain": [
       "1"
      ]
     },
     "execution_count": 76,
     "metadata": {},
     "output_type": "execute_result"
    }
   ],
   "source": [
    "Conta.get_total_contas(conta1)"
   ]
  },
  {
   "cell_type": "markdown",
   "metadata": {},
   "source": [
    "Suponha que queremos um método que seja chamado via classe e via instância sem a necessidade de passar a referência deste objeto. \n",
    "\n",
    "O Python resolve isso usando métodos estáticos.\n",
    "\n",
    "Métodos estáticos não precisam de uma referência. \n",
    "\n",
    "É como uma função simples que, por acaso, reside no corpo de uma classe em vez de ser definida no nível do módulo.\n",
    "\n",
    "Para que um método seja considerado estático devemos usar o decorador `@staticmethod`."
   ]
  },
  {
   "cell_type": "code",
   "execution_count": 77,
   "metadata": {},
   "outputs": [],
   "source": [
    "class Conta:\n",
    "\n",
    "    _total_contas = 0\n",
    "    \n",
    "    def __init__(self, numero, titular, saldo, limite=1000.0):\n",
    "        self.numero = numero\n",
    "        self._titular = titular  \n",
    "        self._saldo = saldo\n",
    "        self._limite = limite\n",
    "        Conta._total_contas += 1\n",
    "\n",
    "    def resumo(self):\n",
    "        print(f\"cc {self.numero} saldo: {self._saldo}\")\n",
    "\n",
    "    def saque(self, valor):\n",
    "        self._saldo -= valor\n",
    "\n",
    "    def deposito(self, valor):\n",
    "        self._saldo += valor\n",
    "    \n",
    "    @property\n",
    "    def saldo(self):\n",
    "        return self._saldo      \n",
    "\n",
    "    def get_titular(self):\n",
    "        return self._titular\n",
    "\n",
    "    @staticmethod\n",
    "    def get_total_contas():\n",
    "        return Conta._total_contas"
   ]
  },
  {
   "cell_type": "code",
   "execution_count": 78,
   "metadata": {},
   "outputs": [],
   "source": [
    "conta1 = Conta('1', 'João', 1000)"
   ]
  },
  {
   "cell_type": "code",
   "execution_count": 79,
   "metadata": {},
   "outputs": [
    {
     "data": {
      "text/plain": [
       "1"
      ]
     },
     "execution_count": 79,
     "metadata": {},
     "output_type": "execute_result"
    }
   ],
   "source": [
    "conta1.get_total_contas()"
   ]
  },
  {
   "cell_type": "markdown",
   "metadata": {},
   "source": [
    "### Métodos de classe"
   ]
  },
  {
   "cell_type": "markdown",
   "metadata": {},
   "source": [
    "Métodos de classe não são ligados às instâncias, mas sim a classe. \n",
    "\n",
    "O primeiro parâmetro de um método de classe é uma referência para a classe, isto é, um objeto do tipo `class`. \n",
    "\n",
    "Eles podem ser chamados via instância ou pela classe e utilizam um outro decorador, o `@classmethod`."
   ]
  },
  {
   "cell_type": "code",
   "execution_count": 80,
   "metadata": {},
   "outputs": [],
   "source": [
    "class Conta:\n",
    "\n",
    "    _total_contas = 0\n",
    "\n",
    "    def __init__(self):\n",
    "        type(self)._total_contas += 1\n",
    "\n",
    "    @classmethod\n",
    "    def get_total_contas(cls):\n",
    "        return cls._total_contas"
   ]
  },
  {
   "cell_type": "code",
   "execution_count": 81,
   "metadata": {},
   "outputs": [
    {
     "data": {
      "text/plain": [
       "1"
      ]
     },
     "execution_count": 81,
     "metadata": {},
     "output_type": "execute_result"
    }
   ],
   "source": [
    "conta1 = Conta()\n",
    "conta1.get_total_contas()"
   ]
  },
  {
   "cell_type": "code",
   "execution_count": 82,
   "metadata": {},
   "outputs": [
    {
     "data": {
      "text/plain": [
       "2"
      ]
     },
     "execution_count": 82,
     "metadata": {},
     "output_type": "execute_result"
    }
   ],
   "source": [
    "conta2 = Conta()\n",
    "conta2.get_total_contas()"
   ]
  },
  {
   "cell_type": "code",
   "execution_count": 83,
   "metadata": {},
   "outputs": [
    {
     "data": {
      "text/plain": [
       "2"
      ]
     },
     "execution_count": 83,
     "metadata": {},
     "output_type": "execute_result"
    }
   ],
   "source": [
    "Conta.get_total_contas()"
   ]
  },
  {
   "cell_type": "markdown",
   "metadata": {},
   "source": [
    "### Slots"
   ]
  },
  {
   "cell_type": "markdown",
   "metadata": {},
   "source": [
    "Python é uma linguagem dinâmica, nada impede que se criem atributos de uma classe em tempo de execução."
   ]
  },
  {
   "cell_type": "code",
   "execution_count": 84,
   "metadata": {},
   "outputs": [],
   "source": [
    "class Conta:\n",
    "\n",
    "    def __init__(self, numero, titular, saldo, limite=1000.0):\n",
    "        self._numero = numero\n",
    "        self._titular = titular  \n",
    "        self._saldo = saldo\n",
    "        self._limite = limite"
   ]
  },
  {
   "cell_type": "code",
   "execution_count": 85,
   "metadata": {},
   "outputs": [],
   "source": [
    "conta1 = Conta(1,\"Pedro\", 500)"
   ]
  },
  {
   "cell_type": "code",
   "execution_count": 86,
   "metadata": {},
   "outputs": [],
   "source": [
    "conta1.nome = \"Joao\""
   ]
  },
  {
   "cell_type": "markdown",
   "metadata": {},
   "source": [
    "Esse código não acusa erro e a conta fica aberta a modificações ferindo a segurança da classe. \n",
    "\n",
    "Para evitar isso, podemos utilizar uma variável embutida no Python chamada `__slots__`, que pode guardar uma lista de atributos da classe já definidos."
   ]
  },
  {
   "cell_type": "code",
   "execution_count": 87,
   "metadata": {},
   "outputs": [],
   "source": [
    "class Conta:\n",
    "\n",
    "    __slots__ = ['_numero', '_titular', '_saldo', '_limite']\n",
    "    \n",
    "    def __init__(self, numero, titular, saldo, limite=1000.0):\n",
    "        self._numero = numero\n",
    "        self._titular = titular  \n",
    "        self._saldo = saldo\n",
    "        self._limite = limite"
   ]
  },
  {
   "cell_type": "code",
   "execution_count": 88,
   "metadata": {},
   "outputs": [],
   "source": [
    "conta1 = Conta(1,\"Pedro\", 500)"
   ]
  },
  {
   "cell_type": "markdown",
   "metadata": {},
   "source": [
    "Ai se tentar adicionar um atributo na classe um erro é retornado."
   ]
  },
  {
   "cell_type": "code",
   "execution_count": 89,
   "metadata": {},
   "outputs": [
    {
     "ename": "AttributeError",
     "evalue": "'Conta' object has no attribute 'nome'",
     "output_type": "error",
     "traceback": [
      "\u001b[0;31m---------------------------------------------------------------------------\u001b[0m",
      "\u001b[0;31mAttributeError\u001b[0m                            Traceback (most recent call last)",
      "\u001b[0;32m/tmp/ipykernel_586569/3806732606.py\u001b[0m in \u001b[0;36m<module>\u001b[0;34m\u001b[0m\n\u001b[0;32m----> 1\u001b[0;31m \u001b[0mconta1\u001b[0m\u001b[0;34m.\u001b[0m\u001b[0mnome\u001b[0m \u001b[0;34m=\u001b[0m \u001b[0;34m\"Joao\"\u001b[0m\u001b[0;34m\u001b[0m\u001b[0;34m\u001b[0m\u001b[0m\n\u001b[0m",
      "\u001b[0;31mAttributeError\u001b[0m: 'Conta' object has no attribute 'nome'"
     ]
    }
   ],
   "source": [
    "conta1.nome = \"Joao\""
   ]
  },
  {
   "cell_type": "markdown",
   "metadata": {},
   "source": [
    "O erro acusa que a classe `Conta` não possui o atributo `__dict__`. \n",
    "\n",
    "Ao atribuir um valor para `__slots__`, o interpretador do Python vai entender que queremos excluir o `__dict__` da classe `Conta` não sendo possível criar atributos.\n",
    "\n",
    "Se tentamos chamar `vars(conta)` um erro é retornado."
   ]
  },
  {
   "cell_type": "code",
   "execution_count": 90,
   "metadata": {},
   "outputs": [
    {
     "ename": "TypeError",
     "evalue": "vars() argument must have __dict__ attribute",
     "output_type": "error",
     "traceback": [
      "\u001b[0;31m---------------------------------------------------------------------------\u001b[0m",
      "\u001b[0;31mTypeError\u001b[0m                                 Traceback (most recent call last)",
      "\u001b[0;32m/tmp/ipykernel_586569/2096340516.py\u001b[0m in \u001b[0;36m<module>\u001b[0;34m\u001b[0m\n\u001b[0;32m----> 1\u001b[0;31m \u001b[0mvars\u001b[0m\u001b[0;34m(\u001b[0m\u001b[0mconta1\u001b[0m\u001b[0;34m)\u001b[0m\u001b[0;34m\u001b[0m\u001b[0;34m\u001b[0m\u001b[0m\n\u001b[0m",
      "\u001b[0;31mTypeError\u001b[0m: vars() argument must have __dict__ attribute"
     ]
    }
   ],
   "source": [
    "vars(conta1)"
   ]
  },
  {
   "cell_type": "markdown",
   "metadata": {},
   "source": [
    "O `__slots__` são muito utilizados para não permitir que se criem outros atributos de classe, mas essa não é sua principal função nem o motivo de sua existência. \n",
    "\n",
    "O `__dict__` desperdiça muita memória e o Python não pode simplesmente alocar uma quantidade estática de memória na criação de objetos para armazenar todos os atributos. \n",
    "\n",
    "Uma quantidade alta de memória RAM é consumida quando se cria muitos objetos.\n",
    "\n",
    "Para contornar este problema se usa o `__slots__`, que avisa ao Python para não usar um dicionário e apenas alocar espaço para um conjunto fixo de atributos."
   ]
  },
  {
   "cell_type": "code",
   "execution_count": null,
   "metadata": {},
   "outputs": [],
   "source": []
  }
 ],
 "metadata": {
  "kernelspec": {
   "display_name": "Python 3",
   "language": "python",
   "name": "python3"
  },
  "language_info": {
   "codemirror_mode": {
    "name": "ipython",
    "version": 3
   },
   "file_extension": ".py",
   "mimetype": "text/x-python",
   "name": "python",
   "nbconvert_exporter": "python",
   "pygments_lexer": "ipython3",
   "version": "3.10.12"
  }
 },
 "nbformat": 4,
 "nbformat_minor": 2
}
