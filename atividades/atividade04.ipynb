{
 "cells": [
  {
   "cell_type": "markdown",
   "metadata": {},
   "source": [
    "## Lista 04"
   ]
  },
  {
   "cell_type": "markdown",
   "metadata": {},
   "source": [
    "**Questão 1:**\n",
    "\n",
    "Dados três lados de um triângulo qualquer, fazer um programa para descobrir ser o triângulo é equilátero, isósceles ou escaleno.\n",
    "Entrar como os valores com **input()**."
   ]
  },
  {
   "cell_type": "markdown",
   "metadata": {},
   "source": [
    "**Questão 2:**\n",
    "\n",
    "Considere uma equação do segundo grau:\n",
    "\n",
    "$$\n",
    "a x^2 + b x + c = 0\n",
    "$$\n",
    "\n",
    "Utilizando-se de $\\delta = b^2 - 4 a c $, escreva um programa quem calcule as raízes da equação tal que:\n",
    "\n",
    "1. Se $\\delta < 0$, o programa retorna a mensagem \"não existem raízes reais\".\n",
    "2. Se $\\delta = 0$, o programa imprime o valor da raiz $x = \\frac{-b}{2a}$.\n",
    "3. Se $\\delta > 0$, o programa imprime o valor das duas raízes, $\\frac{-b + \\sqrt{\\delta}}{2a}$ e $\\frac{-b-\\sqrt{\\delta}}{2a}$"
   ]
  },
  {
   "cell_type": "markdown",
   "metadata": {},
   "source": [
    "**Questão 3:**\n",
    "\n",
    "O financiamento de um automóvel foi contratado respeitando a série matemática a seguir para 70 meses.\n",
    "Implemente um programa para calcular a soma seguinte até o $n$ temos que o usuário desejar, seguindo a lógia a seguir:\n",
    "\n",
    "$$\n",
    "S = \\frac{70}{7} + \\frac{69}{14} + \\frac{68}{21} + \\frac{67}{28} + \\ldots \n",
    "$$"
   ]
  },
  {
   "cell_type": "markdown",
   "metadata": {},
   "source": [
    "**Questão 4**\n",
    "\n",
    "O valor de $\\pi$ pode ser encontrado com a seguinte série matemática\n",
    "$$\n",
    "S = \\frac{4}{1} - \\frac{4}{3} + \\frac{4}{5} - \\frac{4}{7} + \\frac{4}{9} - \\frac{4}{11} + \\ldots\n",
    "$$\n",
    "\n",
    "Implemente um programa que some a série até que a precisão da soma seja de 0,0001, informando quantos termos da série foram utilizados.\n",
    "\n",
    "Utilize **math.pi** no cálculo da precisão.\n"
   ]
  },
  {
   "cell_type": "markdown",
   "metadata": {},
   "source": [
    "**Questão 5**\n",
    "\n",
    "Implemente um algoritmo que tome uma lista de listas, e forme uma nova lista usando **for** e **append**.\n",
    "\n",
    "Imprima as seguintes informações referente a nova lista.\n",
    "1. A nova lista\n",
    "2. A soma dos elementos da nova lista\n",
    "3. O maior elemento da nova lista\n",
    "4. O menor elemento da nova lista\n",
    "5. A moda da nova lista\n",
    "6. O desvio padrão populacional da nova lista"
   ]
  },
  {
   "cell_type": "markdown",
   "metadata": {},
   "source": [
    "**Questão 6**\n",
    "\n",
    "Implemente um algoritmo que receba uma lista com elementos repetidos e gere uma nova lista sem elementos repetidos."
   ]
  }
 ],
 "metadata": {
  "language_info": {
   "name": "python"
  }
 },
 "nbformat": 4,
 "nbformat_minor": 2
}
