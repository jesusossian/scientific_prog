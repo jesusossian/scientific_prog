{
 "cells": [
  {
   "cell_type": "markdown",
   "metadata": {},
   "source": [
    "## Lista 02\n",
    "## Comandos: Implemente os programas a seguir."
   ]
  },
  {
   "cell_type": "markdown",
   "metadata": {},
   "source": [
    "1. Escreva um programa que leia um valor em metros e o exiba convertido em milímetros."
   ]
  },
  {
   "cell_type": "markdown",
   "metadata": {},
   "source": [
    "2. Escreva um programa que leia a quantidade de dias, horas, minutos e segundos do usuário. Calcule o total em segundos."
   ]
  },
  {
   "cell_type": "markdown",
   "metadata": {},
   "source": [
    "3. Faça um programa que calcule o aumento de um salário. \n",
    "Ele deve solicitar o valor do salário e a porcentagem do aumento. \n",
    "Exiba o valor do aumento e do novo salário."
   ]
  },
  {
   "cell_type": "markdown",
   "metadata": {},
   "source": [
    "4. Faça um programa que solicite o preço de uma mercadoria e o percentual de desconto. \n",
    "Exiba o valor do desconto e o preço a pagar."
   ]
  },
  {
   "cell_type": "markdown",
   "metadata": {},
   "source": [
    "5. Escreva um programa que calcule o tempo de uma viagem de carro. \n",
    "Pergunte a distância a percorrer e a velocidade média esperada para a viagem."
   ]
  },
  {
   "cell_type": "markdown",
   "metadata": {},
   "source": [
    "6. Escreva um programa que converta uma temperatura digitada em Celsiu em Fahrenheit. \n",
    "A fórmula para essa conversão é:\n",
    "$\n",
    "F = \\dfrac{9 \\times C}{5} + 32\n",
    "$"
   ]
  },
  {
   "cell_type": "markdown",
   "metadata": {},
   "source": [
    "7. Escreva um programa que pergunte a quantidade de km percorridos por um carro alugado pelo usuário, assim como a quantidade de dias pelos quais o carro foi alugado. \n",
    "Calcule o preço a pagar, sabendo que o carro custa R$ 60 por dia e R$ 0,15 por km rodado."
   ]
  },
  {
   "cell_type": "markdown",
   "metadata": {},
   "source": [
    "8. Escreva um programa para calcular a redução do tempo de vida de um fumante. \n",
    "Pergunte a quantidade de cigarros fumados por dia e quantos anos ele já fumou. \n",
    "Considere que um fumante perde 10 minutos de vida a cada cigarro, e calcule quantos dias de vida um fumante perderá. \n",
    "Exiba o total em dias."
   ]
  },
  {
   "cell_type": "markdown",
   "metadata": {},
   "source": [
    "9. Escreva um programa que pergunte a velocidade do carro de um usuário. \n",
    "Caso ultrapasse 80 km/h, exiba uma mensagem dizendo que o usuário foi multado. \n",
    "Nesse caso, exiba o valor da multa, cobrando R$ 5 por km acima de 80 km/h."
   ]
  },
  {
   "cell_type": "markdown",
   "metadata": {},
   "source": [
    "10. Escreva um programa que leia três números e que imprima o maior e o menor."
   ]
  },
  {
   "cell_type": "markdown",
   "metadata": {},
   "source": [
    "11. Escreva um programa que pergunte o salário do funcionário e calcule o valor do aumento. \n",
    "Para salários superiores a R$ 1.250,00, calcule um aumento de 10%. \n",
    "Para os inferiores ou iguais, de 15%."
   ]
  },
  {
   "cell_type": "markdown",
   "metadata": {},
   "source": [
    "12. Escreva um programa que pergunte a distância que um passageiro deseja percorrer em km. \n",
    "Calcule o preço da passagem, cobrando R$ 0,50 por km para viagens de até de 200 km, e R$ 0,45 para viagens mais longas."
   ]
  },
  {
   "cell_type": "markdown",
   "metadata": {},
   "source": [
    "13. Escreva um programa que leia dois números e que pergunte qual operação você deseja realizar. \n",
    "Você deve poder calcular soma (+), subtração (-), multiplicação (*) e divisão (/). \n",
    "Exiba o resultado da operação solicitada."
   ]
  },
  {
   "cell_type": "markdown",
   "metadata": {},
   "source": [
    "14. Escreva um programa para aprovar o empréstimo bancário para compra de uma casa. \n",
    "O programa deve perguntar o valor da casa a comprar, o salário e a quantidade de anos a pagar. \n",
    "O valor da prestação mensal não pode ser superior a 30% do salário. \n",
    "Calcule o valor da prestação como sendo o valor da casa a comprar dividido pelo número de meses a pagar."
   ]
  },
  {
   "cell_type": "markdown",
   "metadata": {},
   "source": [
    "15. Faça um programa para escrever a contagem regressiva do lançamento de um foguete. \n",
    "O programa deve imprimir $10, 9, 8, \\ldots, 1, 0$ e Fogo! na tela."
   ]
  },
  {
   "cell_type": "markdown",
   "metadata": {},
   "source": [
    "16. Escreva um programa que leia dois números. \n",
    "Imprima o resultado da multiplicação do primeiro pelo segundo. \n",
    "Utilize apenas os operadores de soma e subtração para calcular o resultado. \n",
    "Lembre-se de que podemos entender a multiplicação de dois números como somas sucessivas de um deles. \n",
    "Assim, \n",
    "$$4 × 5 = 5 + 5 + 5 + 5 = 4 + 4 + 4 + 4 + 4$$"
   ]
  },
  {
   "cell_type": "markdown",
   "metadata": {},
   "source": [
    "17. Escreva um programa que leia dois números. \n",
    "Imprima a divisão inteira do primeiro pelo segundo, assim como o resto da divisão. \n",
    "Utilize apenas os operadores de soma e subtração para calcular o resultado.\n",
    "Lembre-se de que podemos entender o quociente da divisão de dois números como a quantidade de vezes que podemos retirar o divisor do dividendo. \n",
    "Logo, $20 ÷ 4 = 5$, uma vez que podemos subtrair 4 cinco vezes de 20."
   ]
  },
  {
   "cell_type": "markdown",
   "metadata": {},
   "source": [
    "18. Escreva um programa que pergunte o depósito inicial e a taxa de juros de uma poupança. \n",
    "Exiba os valores mês a mês para os 24 primeiros meses. \n",
    "Escreva o total ganho com juros no período."
   ]
  },
  {
   "cell_type": "markdown",
   "metadata": {},
   "source": [
    "19. Escreva um programa que pergunte o valor inicial de uma dívida e o juro mensal. \n",
    "Pergunte também o valor mensal que será pago. \n",
    "Imprima o número de meses para que a dívida seja paga, o total pago e o total de juros pago."
   ]
  },
  {
   "cell_type": "markdown",
   "metadata": {},
   "source": [
    "20. Escreva um programa que exiba uma lista de opções (menu): adição, subtração, divisão, multiplicação e sair. \n",
    "Imprima a tabuada da operação escolhida. \n",
    "Repita até que a opção saída seja escolhida."
   ]
  },
  {
   "cell_type": "markdown",
   "metadata": {},
   "source": [
    "21. Escreva um programa que leia um número e verifique se é ou não um número primo. \n",
    "Para fazer essa verificação, calcule o resto da divisão do número por 2 e depois por todos os números ímpares até o número lido. \n",
    "Se o resto de uma dessas divisões for igual a zero, o número não é primo. \n",
    "Observe que 0 e 1 não são primos e que 2 é o único número primo que é par."
   ]
  },
  {
   "cell_type": "markdown",
   "metadata": {},
   "source": []
  },
  {
   "cell_type": "markdown",
   "metadata": {},
   "source": [
    "23. Escreva um programa que verifique se um número é palíndromo. Um número é palíndromo se continua o mesmo caso seus dígitos sejam invertidos. \n",
    "Exemplos: 454, 10501"
   ]
  },
  {
   "cell_type": "markdown",
   "metadata": {},
   "source": []
  }
 ],
 "metadata": {
  "language_info": {
   "name": "python"
  }
 },
 "nbformat": 4,
 "nbformat_minor": 2
}
