{
 "cells": [
  {
   "cell_type": "markdown",
   "metadata": {},
   "source": [
    "## Atividade 01"
   ]
  },
  {
   "cell_type": "markdown",
   "metadata": {},
   "source": [
    "1. Dada a **lista = [12, -2, 4, 8, 29, 45, 78, 36, -17, 2, 12, 8, 3, 3, -52]** faça um programa que:\n",
    "\n",
    "a) imprima o maior elemento\n",
    "\n",
    "b) imprima o menor elemento\n",
    "\n",
    "c) imprima os números pares\n",
    "\n",
    "d) imprima o número de ocorrências do primeiro elemento da lista\n",
    "\n",
    "e) imprima a média dos elementos\n",
    "\n",
    "f) imprima a soma dos elementos de valor negativo"
   ]
  },
  {
   "cell_type": "markdown",
   "metadata": {},
   "source": [
    "2. Faça um programa que leia dados do usuário (nome, sobrenome, idade) adicione em uma lista e imprima seus elementos na tela."
   ]
  },
  {
   "cell_type": "markdown",
   "metadata": {},
   "source": [
    "3. Faça um programa que leia 4 notas, mostre as notas e a média na tela."
   ]
  },
  {
   "cell_type": "markdown",
   "metadata": {},
   "source": [
    "4. Faça um programa utilizando um **dict** que leia dados de entrada do usuário. \n",
    "O usuário deve entrar com os dados de uma pessoa como nome, idade e cidade onde mora (fique livre para acrescentar outros). \n",
    "Após isso, você deve imprimir os dados como o exemplo abaixo:\n",
    "\n",
    "nome: João\n",
    "\n",
    "idade: 20\n",
    "\n",
    "cidade: São Paulo"
   ]
  },
  {
   "cell_type": "markdown",
   "metadata": {},
   "source": [
    "5. Utilize o exercício anterior e adicione a pessoa em uma lista. \n",
    "Pergunte ao usuário se ele deseja adicionar uma nova pessoa. \n",
    "Após adicionar dados de algumas pessoas, você deve imprimir todos os dados de cada pessoa de forma organizada."
   ]
  },
  {
   "cell_type": "markdown",
   "metadata": {},
   "source": []
  }
 ],
 "metadata": {
  "language_info": {
   "name": "python"
  }
 },
 "nbformat": 4,
 "nbformat_minor": 2
}
