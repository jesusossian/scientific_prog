{
 "cells": [
  {
   "cell_type": "markdown",
   "metadata": {},
   "source": [
    "**Questão 1**\n",
    "\n",
    "Implementar uma função que receba dois parâmetros $a$ e $b$ e calcule o valor da expressão\n",
    "$$\n",
    "y = \\sqrt(a^2 + b^2) - \\sin(a) + \\cos(a+b)\n",
    "$$\n",
    "O programa principal deve imprimir o valor de $y$."
   ]
  },
  {
   "cell_type": "markdown",
   "metadata": {},
   "source": [
    "**Questão 2**\n",
    "\n",
    "Implemente um função que receba dois parâmetros $x$ e $y$ e calcule e retorne o valor de $z$\n",
    "\n",
    "$\n",
    "z = \n",
    "\\begin{cases}\n",
    "x+y & \\text{se } \\ x>=y \\\\\n",
    "x-y & \\text{se } \\ x<y \n",
    "\\end{cases}\n",
    "$\n",
    "\n",
    "O programa principal deve imprimir o valor retornado pela função."
   ]
  },
  {
   "cell_type": "markdown",
   "metadata": {},
   "source": [
    "**Questão 3**\n",
    "\n",
    "Considere duas listas\n",
    "\n",
    "petr4 = [9.72, 10.69, 11.82, 12.93, 12.92, 12.82, 13.64, 13.79, 13.78, 13.08, 12.67, 12.83]\n",
    "\n",
    "petrf42 = [0.2, 0.46, 0.82, 1.38, 1.46, 1.24, 1.69, 1.75, 1., 1.02, 0.64, 0.58]\n",
    "\n",
    "Implemente uma biblioteca de funções para serem importadas por um programa. A seguir a descrição de cada função.\n",
    "\n",
    "1. Implemente uma função que receba as duas listas e retorne a média de cada uma dessas listas.\n",
    "2. Implemente uma função que receba as duas listas e retorne o desvio padrão populacional de cada uma dessas listas.\n",
    "3. Implemente uma função que receba as duas listas e retorne o valor máximo de cada uma dessas listas.\n",
    "4. Importe a biblioteca implementada para o programa principal e execute as funções implementadas imprimindo seus retornos."
   ]
  },
  {
   "cell_type": "markdown",
   "metadata": {},
   "source": [
    "**Questão 4**\n",
    "\n",
    "Considere uma lista de números inteiros.\n",
    "\n",
    "Implemente uma função que recebe um número dessa lista e retorna e frequência desse número na lista.\n",
    "\n",
    "Execute a função implementada no programa principal e imprima o retorno da função."
   ]
  },
  {
   "cell_type": "markdown",
   "metadata": {},
   "source": []
  }
 ],
 "metadata": {
  "language_info": {
   "name": "python"
  }
 },
 "nbformat": 4,
 "nbformat_minor": 2
}
