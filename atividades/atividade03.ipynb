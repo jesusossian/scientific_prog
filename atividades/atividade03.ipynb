{
 "cells": [
  {
   "cell_type": "markdown",
   "metadata": {},
   "source": [
    "## Lista 03"
   ]
  },
  {
   "cell_type": "markdown",
   "metadata": {},
   "source": [
    "1. Implemente um programa que receba via teclhado uma string e crie um dicionário associado a essa string onde os caracteres sejam as chaves e o número desse caractere na string seja o valor."
   ]
  },
  {
   "cell_type": "markdown",
   "metadata": {},
   "source": [
    "2. Implemente um programa que receba e compare duas listas. Utilizando operações de conjuntos, imprima:\n",
    "    1. os valores comuns às duas listas.\n",
    "    2. os valores que só existem na primeira lista.\n",
    "    3. os valores que existem apenas na segunda lista.\n",
    "    4. uma lista com os elementos não repetidos das duas listas.\n",
    "    5. a primeira lista sem os elementos repetidos na segunda."
   ]
  },
  {
   "cell_type": "markdown",
   "metadata": {},
   "source": [
    "3. Resolva as seguintes expressões e imprimir o resultado:\n",
    "    1. $y = 4^3 - 2^2$\n",
    "    2. $x = \\sin(2) - cos(4.2)$\n",
    "    3. $z = \\cos(\\sin(3.7)) - \\tan(1.3)$\n",
    "    4. resto da divisão de 26 por 4\n",
    "    5. converter $x = 46.2^{o}$ para radianos\n",
    "    6. converter $y = 3.1$ rad para graus\n"
   ]
  },
  {
   "cell_type": "markdown",
   "metadata": {},
   "source": [
    "4. Considere $x = 3$ e $y = 6$. Calcule e imprima as seguintes expressões:\n",
    "    1. $w = e^{x} - \\ln(y)$\n",
    "    2. $z = x \\times y^{2} + y \\times \\cos(x)$\n",
    "    3. $\\sqrt(\\frac{x}{y} + \\ln(x+y) + \\tan(x))$"
   ]
  },
  {
   "cell_type": "markdown",
   "metadata": {},
   "source": [
    "5. Considere a lista $list = [3,3,4,1,2,1,1,2,3,4,4,1,1,5,2]$. Implemente um programa que execute as seguintes tarefas.\n",
    "    1. Fatiar do elemento de índice 2 ao índice 3.\n",
    "    2. Fatiar do quinto elemento ao nono elemento.\n",
    "    3. Fatiar do elemento de índice 1 ao último.\n",
    "    4. Fatiar do primeiro elemento ao último.\n",
    "    5. Selecionar os três últimos elementos da lista.\n",
    "    6. Contar o número de elementos da lista.\n",
    "    7. Quantas vezes aparece o número 1 na lista."
   ]
  },
  {
   "cell_type": "markdown",
   "metadata": {},
   "source": [
    "6. Implemente as seguintes tarefas:\n",
    "    1. Abrir um arquivo chamado bov.txt e salvar os dados das siglas de ações e seus valores na seguinte ordem: 'petr4','vale3','ggbr4',28.4,31.3,15.76.\n",
    "    2. Abrir o arquivo bov.txt e imprimir o elementos existentes nele."
   ]
  },
  {
   "cell_type": "markdown",
   "metadata": {},
   "source": [
    "7. Considere a lista $list = [2,2,3,3,3,-1,-1,-2,0,0,0,0,2,4,5,1,2,2,0,0,2,1,5,5,7,6,5,0,0]$. Implemente um programa para calcular as seguintes medidas estatísticas.\n",
    "    1. Soma de todos os elementos\n",
    "    2. Máximo elemento da lista\n",
    "    3. Mínimo elemento da lista\n",
    "    4. Média dos elementos da lista\n",
    "    5. Mediana dos elementos da lista\n",
    "    6. Moda dos elementos da lista\n",
    "    7. Desvio padrão amostral\n",
    "    8. Desvio padrão populacional\n",
    "    9. Contar quantas vezes que aparece o número 0\n",
    "    10. Ordenar a lista em ordem crescente\n",
    "    11. Ordenar a lista em ordem descrescente"
   ]
  },
  {
   "cell_type": "markdown",
   "metadata": {},
   "source": [
    "8. Considere a planilha Plan1 no arquivo \"vale_gerdau.xlsx\" salvo em \"data\" que representam os preços diários de fechamento no pregão da Bovespa durante um periodo. A coluna A se refere a VALE3(Vale do Rio Doce) e a coluna B se refere a GGBR4(Gerdau). Implemente um programa que execute as seguintes tarefas.\n",
    "    1. Importe os dados da planilha para um dataframe.\n",
    "    2. Elebore uma figura com dois gráficos, um referente aos preços da Vale e o outro referente aos preços da Gerdau.\n",
    "    3. Considere o retorno financeiro definido pela expressão $ret = \\frac{preco(i) - preco(i-1)}{preco(i-1)}$. Calcule o retorne financeiro das Vale e da Gerdau. Elabore 4 gráficos no formato 2 \\times 2 elementos com os preços e os retornos."
   ]
  },
  {
   "cell_type": "markdown",
   "metadata": {},
   "source": []
  }
 ],
 "metadata": {
  "language_info": {
   "name": "python"
  }
 },
 "nbformat": 4,
 "nbformat_minor": 2
}
