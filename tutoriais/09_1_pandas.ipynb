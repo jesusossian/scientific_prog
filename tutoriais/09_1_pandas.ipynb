{
 "cells": [
  {
   "cell_type": "markdown",
   "metadata": {},
   "source": [
    "## Pandas"
   ]
  },
  {
   "cell_type": "markdown",
   "metadata": {},
   "source": [
    "### Importação e exportação planilhas\n",
    "\n",
    "Duas formas de se importar dados usando o pandas\n",
    "- `pandas.read_csv`: para importar arquivos .csv. (já apresentado)\n",
    "- `pandas.read_excel`: para importar arquivos .xlsx.\n",
    "\n",
    "Para exportação \n",
    "- `pandas.to_csv`: para exportar arquivos .csv. (já apresentado)\n",
    "- `pandas.to_excel`: para exportar arquivos .xlsx.\n"
   ]
  },
  {
   "cell_type": "code",
   "execution_count": null,
   "metadata": {},
   "outputs": [],
   "source": [
    "import pandas as pd"
   ]
  },
  {
   "cell_type": "code",
   "execution_count": null,
   "metadata": {},
   "outputs": [],
   "source": [
    "dados = pd.read_excel('../data/books.xlsx',sheet_name='Planilha1')"
   ]
  },
  {
   "cell_type": "code",
   "execution_count": null,
   "metadata": {},
   "outputs": [],
   "source": [
    "type(dados)"
   ]
  },
  {
   "cell_type": "code",
   "execution_count": null,
   "metadata": {},
   "outputs": [],
   "source": [
    "print(dados)"
   ]
  },
  {
   "cell_type": "code",
   "execution_count": null,
   "metadata": {},
   "outputs": [],
   "source": [
    "df = pd.DataFrame(dados)"
   ]
  },
  {
   "cell_type": "code",
   "execution_count": null,
   "metadata": {},
   "outputs": [],
   "source": [
    "type(df)"
   ]
  },
  {
   "cell_type": "code",
   "execution_count": null,
   "metadata": {},
   "outputs": [],
   "source": [
    "print(df)"
   ]
  },
  {
   "cell_type": "code",
   "execution_count": null,
   "metadata": {},
   "outputs": [],
   "source": [
    "x = df['Ativo'].unique()\n",
    "print(x)"
   ]
  },
  {
   "cell_type": "code",
   "execution_count": null,
   "metadata": {},
   "outputs": [],
   "source": [
    "df[['Ativo','Preço_Atual']]"
   ]
  },
  {
   "cell_type": "code",
   "execution_count": null,
   "metadata": {},
   "outputs": [],
   "source": [
    "y = df['Ativo'].value_counts()\n",
    "print(y)"
   ]
  },
  {
   "cell_type": "code",
   "execution_count": null,
   "metadata": {},
   "outputs": [],
   "source": [
    "z = df['Ativo'].value_counts(normalize=True)\n",
    "print(z)"
   ]
  },
  {
   "cell_type": "code",
   "execution_count": null,
   "metadata": {},
   "outputs": [],
   "source": [
    "6/16"
   ]
  },
  {
   "cell_type": "code",
   "execution_count": null,
   "metadata": {},
   "outputs": [],
   "source": [
    "w = df.groupby('Ativo').mean()\n",
    "print(w)"
   ]
  },
  {
   "cell_type": "code",
   "execution_count": null,
   "metadata": {},
   "outputs": [],
   "source": [
    "type(w)"
   ]
  },
  {
   "cell_type": "code",
   "execution_count": null,
   "metadata": {},
   "outputs": [],
   "source": [
    "w1 = df.groupby('Ativo')[['Compras','Vendas']].mean()\n",
    "print(w1)"
   ]
  },
  {
   "cell_type": "code",
   "execution_count": null,
   "metadata": {},
   "outputs": [],
   "source": [
    "w = w.drop(['Cliente'],axis=1)"
   ]
  },
  {
   "cell_type": "code",
   "execution_count": null,
   "metadata": {},
   "outputs": [],
   "source": [
    "print(w)"
   ]
  },
  {
   "cell_type": "code",
   "execution_count": null,
   "metadata": {},
   "outputs": [],
   "source": [
    "w.to_excel('../data/grupos.xlsx')"
   ]
  },
  {
   "cell_type": "markdown",
   "metadata": {},
   "source": [
    "O pandas oferece boas opções de gráficos e medidas que advêm da manipulação de dados."
   ]
  },
  {
   "cell_type": "code",
   "execution_count": null,
   "metadata": {},
   "outputs": [],
   "source": [
    "# histograma com 5 classes e cor preta para as barras para a coluna Compras\n",
    "_ = df['Compras'].plot.hist(bins=5,color='k')"
   ]
  },
  {
   "cell_type": "code",
   "execution_count": null,
   "metadata": {},
   "outputs": [],
   "source": [
    "# grafico de barras\n",
    "y = df['Ativo'].value_counts() # frequencia dos ativos\n",
    "_ = y.plot.bar(color='k')"
   ]
  },
  {
   "cell_type": "code",
   "execution_count": null,
   "metadata": {},
   "outputs": [],
   "source": [
    "# grafico de barras horizontal\n",
    "y = df['Ativo'].value_counts()\n",
    "_ = y.plot.barh(color='k')"
   ]
  },
  {
   "cell_type": "code",
   "execution_count": null,
   "metadata": {},
   "outputs": [],
   "source": [
    "# grafico de espalhamento ou scatter plot\n",
    "_ = df.plot.scatter(x='Compras',y='Vendas',c=\"black\")"
   ]
  },
  {
   "cell_type": "code",
   "execution_count": null,
   "metadata": {},
   "outputs": [],
   "source": [
    "# grafico de setores\n",
    "# é necessario o uso do value_counts\n",
    "_ = df['Ativo'].value_counts().plot.pie()\n"
   ]
  },
  {
   "cell_type": "code",
   "execution_count": null,
   "metadata": {},
   "outputs": [],
   "source": [
    "# grafico de linhas\n",
    "_ = df['Preço_Atual'].plot.line(color='k')"
   ]
  },
  {
   "cell_type": "markdown",
   "metadata": {},
   "source": [
    "### Medidas de tendência central\n",
    "\n",
    "- média\n",
    "- mediana\n",
    "- moda\n"
   ]
  },
  {
   "cell_type": "code",
   "execution_count": null,
   "metadata": {},
   "outputs": [],
   "source": [
    "# média\n",
    "print(\"média:\", df['Preço_Atual'].mean()) #"
   ]
  },
  {
   "cell_type": "code",
   "execution_count": null,
   "metadata": {},
   "outputs": [],
   "source": [
    "# mediana\n",
    "print(\"mediana:\", df['Preço_Atual'].median()) # x ordenado, if n impar -> x[(n+1)/2], if n par -> \\frac{x[n/2] + x[n/2+1]}{2} "
   ]
  },
  {
   "cell_type": "code",
   "execution_count": null,
   "metadata": {},
   "outputs": [],
   "source": [
    "# moda\n",
    "print(\"moda: \", df['Preço_Atual'].mode().values) # maior frequência simples de valor de x"
   ]
  },
  {
   "cell_type": "markdown",
   "metadata": {},
   "source": [
    "### Medidas de variabilidade\n",
    "\n",
    "- amplitude\n",
    "- variância\n",
    "- desvio padrão"
   ]
  },
  {
   "cell_type": "code",
   "execution_count": null,
   "metadata": {},
   "outputs": [],
   "source": [
    "# amplitude\n",
    "print(\"amplitude:\", df['Preço_Atual'].max() - df['Preço_Atual'].min()) # max(x) - min(x)"
   ]
  },
  {
   "cell_type": "code",
   "execution_count": null,
   "metadata": {},
   "outputs": [],
   "source": [
    "# variância\n",
    "print(\"variância:\", df['Preço_Atual'].var()) # S^{2} = \\dfrac{\\sum_{i=1}{n} (x_i - \\overline{x})^{2}}{n-1}"
   ]
  },
  {
   "cell_type": "code",
   "execution_count": null,
   "metadata": {},
   "outputs": [],
   "source": [
    "# desvio padrão\n",
    "print(\"desvio padrão:\", df['Preço_Atual'].std()) # S = \\sqrt(S^2)"
   ]
  },
  {
   "cell_type": "markdown",
   "metadata": {},
   "source": [
    "### Bloxplot\n",
    "\n",
    "[Como interpretar um Boxplot?](https://icmcjunior.com.br/como-interpretar-um-grafico-boxplot/?gad_source=1&gclid=CjwKCAiA3ZC6BhBaEiwAeqfvykGQXNw0yLpCKa-vDflDoABDvfxd9qC1ntmgQWi3EL7P6x7Dt1J_exoCVaoQAvD_BwE)"
   ]
  },
  {
   "cell_type": "code",
   "execution_count": null,
   "metadata": {},
   "outputs": [],
   "source": [
    "# box plot\n",
    "boxplot = df.boxplot(column=['Compras','Vendas'], showmeans=True)"
   ]
  }
 ],
 "metadata": {
  "kernelspec": {
   "display_name": "Python 3",
   "language": "python",
   "name": "python3"
  },
  "language_info": {
   "codemirror_mode": {
    "name": "ipython",
    "version": 3
   },
   "file_extension": ".py",
   "mimetype": "text/x-python",
   "name": "python",
   "nbconvert_exporter": "python",
   "pygments_lexer": "ipython3",
   "version": "3.10.12"
  }
 },
 "nbformat": 4,
 "nbformat_minor": 2
}
