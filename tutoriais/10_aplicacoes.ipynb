{
 "cells": [
  {
   "cell_type": "markdown",
   "metadata": {},
   "source": [
    "### Biblioteca statistics\n",
    "\n",
    "- média\n",
    "- mediana\n",
    "- desvio-padrão amostral\n",
    "- desvio-padrão populacional\n"
   ]
  },
  {
   "cell_type": "code",
   "execution_count": null,
   "metadata": {},
   "outputs": [],
   "source": [
    "dados = [10,9,8,9,9,8,10,11,15,7,8,7,8,10,10,10,11,9,10,8]\n",
    "len(dados)"
   ]
  },
  {
   "cell_type": "code",
   "execution_count": null,
   "metadata": {},
   "outputs": [],
   "source": [
    "# import da biblioteca statistics\n",
    "import statistics as st"
   ]
  },
  {
   "cell_type": "code",
   "execution_count": null,
   "metadata": {},
   "outputs": [],
   "source": [
    "# media\n",
    "media = st.mean(dados)\n",
    "print(media)"
   ]
  },
  {
   "cell_type": "code",
   "execution_count": null,
   "metadata": {},
   "outputs": [],
   "source": [
    "# mediana\n",
    "mediana = st.median(dados)\n",
    "print(mediana)"
   ]
  },
  {
   "cell_type": "code",
   "execution_count": null,
   "metadata": {},
   "outputs": [],
   "source": [
    "# desvio padrao amostral \n",
    "# stda = \\sqrt(\\dfrac{\\sum_{i=1}{n} (x_i - \\overline{x})^{2}}{n-1})\n",
    "stda = st.stdev(dados) \n",
    "print(stda)"
   ]
  },
  {
   "cell_type": "code",
   "execution_count": null,
   "metadata": {},
   "outputs": [],
   "source": [
    "# desvio padrao populacional\n",
    "# stdp = \\sqrt(\\dfrac{\\sum_{i=1}{n} (x_i - \\overline{x})^{2}}{n})\n",
    "stdp = st.pstdev(dados)\n",
    "print(stdp)"
   ]
  },
  {
   "cell_type": "markdown",
   "metadata": {},
   "source": [
    "## Biblioteca random\n",
    "\n",
    "A geração de números aleatórios é fundamental para simulação aleatória ou simulação estocásticas.\n",
    "\n",
    "Essas simulações estudam eventos com probabilidade de pertubações.\n",
    "\n",
    "Para geração de números aleatórios usaremos a biblioteca do Python **random**.\n",
    "\n"
   ]
  },
  {
   "cell_type": "code",
   "execution_count": null,
   "metadata": {},
   "outputs": [],
   "source": [
    "import matplotlib.pyplot as plt\n",
    "import random"
   ]
  },
  {
   "cell_type": "markdown",
   "metadata": {},
   "source": [
    "O exemplo a seguir gera 100 números aleatórios inteiros entre 1 e 60 através da função **randomint(1,60)**"
   ]
  },
  {
   "cell_type": "code",
   "execution_count": null,
   "metadata": {},
   "outputs": [],
   "source": [
    "lint = []\n",
    "for i in range(100):\n",
    "    x = random.randint(1, 60)\n",
    "    lint.append(x)\n",
    "\n",
    "print(lint)"
   ]
  },
  {
   "cell_type": "markdown",
   "metadata": {},
   "source": [
    "Gráfico associado aos números aleatórios entre 1 e 60."
   ]
  },
  {
   "cell_type": "code",
   "execution_count": null,
   "metadata": {},
   "outputs": [],
   "source": [
    "plt.plot(lint)\n",
    "plt.xlabel(\"eixo x\")\n",
    "plt.ylabel(\"Números aleatórios entre 1 e 60\")\n",
    "plt.show()"
   ]
  },
  {
   "cell_type": "markdown",
   "metadata": {},
   "source": [
    "O próximo exemplo gera 100 números aleatórios reais entre 0 e 1 através da função **random()**."
   ]
  },
  {
   "cell_type": "code",
   "execution_count": null,
   "metadata": {},
   "outputs": [],
   "source": [
    "lreal = []\n",
    "for i in range(100):\n",
    "    x = random.random()\n",
    "    lreal.append(x)\n",
    "\n",
    "print(lreal)"
   ]
  },
  {
   "cell_type": "markdown",
   "metadata": {},
   "source": [
    "O gráfico associado aos números aleatórios entre $(0,1)$"
   ]
  },
  {
   "cell_type": "code",
   "execution_count": null,
   "metadata": {},
   "outputs": [],
   "source": [
    "plt.plot(lreal,color ='black')\n",
    "plt.xlabel(\"eixo x\")\n",
    "plt.ylabel(\"Números aleatórios entre 0 e 1\")\n",
    "plt.show()"
   ]
  },
  {
   "cell_type": "markdown",
   "metadata": {},
   "source": [
    "O próximo exemplo gera números aleatórios reais no intervalor $(-a,a)$, onde $a$ é um real através da função **rando.uniform(inicio,fim)**"
   ]
  },
  {
   "cell_type": "code",
   "execution_count": null,
   "metadata": {},
   "outputs": [],
   "source": [
    "lreal = []\n",
    "for i in range(100):\n",
    "    x = random.uniform(-1, 1)\n",
    "    lreal.append(x)"
   ]
  },
  {
   "cell_type": "code",
   "execution_count": null,
   "metadata": {},
   "outputs": [],
   "source": [
    "plt.plot(lreal,color ='black')\n",
    "plt.xlabel(\"eixo x\")\n",
    "plt.ylabel(\"Números aleatórios entre -1 e 1\")\n",
    "plt.show()"
   ]
  },
  {
   "cell_type": "markdown",
   "metadata": {},
   "source": [
    "### Uso de listas como filas\n",
    "\n",
    "- Em uma fila, a inclusão é sempre realizada no fim, e as remoções são feitas mo início.\n",
    "- Imagine uma fila de um banco.\n",
    "- FIFO - First In First Out"
   ]
  },
  {
   "cell_type": "code",
   "execution_count": null,
   "metadata": {},
   "outputs": [],
   "source": [
    "ultimo = 5\n",
    "fila = list(range(1, ultimo+1))\n",
    "while True:\n",
    "    print(f\"\\nExistem {len(fila)} clientes na fila\")\n",
    "    print(f\"Fila atual: {fila}\")\n",
    "    print(\"Digite F para adicionar um cliente ao fim da fila,\")\n",
    "    print(\"ou A para realizar o atendimento. S para sair.\")\n",
    "    operação = input(\"Operação (F, A ou S):\")\n",
    "    if operação == \"A\":\n",
    "        if len(fila) > 0:\n",
    "            atendido = fila.pop(0)\n",
    "            print(f\"Cliente {atendido} atendido\")\n",
    "        else:\n",
    "            print(\"Fila vazia! Ninguém para atender.\")\n",
    "    elif operação == \"F\":\n",
    "        ultimo += 1  # Incrementa o ticket do novo cliente\n",
    "        fila.append(ultimo)\n",
    "    elif operação == \"S\":\n",
    "        break\n",
    "    else:\n",
    "        print(\"Operação inválida! Digite apenas F, A ou S!\")"
   ]
  },
  {
   "cell_type": "markdown",
   "metadata": {},
   "source": [
    "### Uso de listas como pilhas\n",
    "\n",
    "- Em uma pilha novos elementos são adicionados ao topo e a retirada de elementos também é feita pelo topo.\n",
    "- Imagine uma pilha de pratos para lavar.\n",
    "- LIFO - Last In First Out"
   ]
  },
  {
   "cell_type": "code",
   "execution_count": null,
   "metadata": {},
   "outputs": [],
   "source": [
    "prato = 5\n",
    "pilha = list(range(1, prato + 1))\n",
    "while True:\n",
    "    print(f\"\\nExistem {len(pilha)} pratos na pilha\")\n",
    "    print(f\"Pilha atual: {pilha}\")\n",
    "    print(\"Digite E para empilhar um novo prato,\")\n",
    "    print(\"ou D para desempilhar. S para sair.\")\n",
    "    operação = input(\"Operação (E, D ou S):\")\n",
    "    if operação == \"D\":\n",
    "        if len(pilha) > 0:\n",
    "            lavado = pilha.pop(-1)\n",
    "            print(f\"Prato {lavado} lavado\")\n",
    "        else:\n",
    "            print(\"Pilha vazia! Nada para lavar.\")\n",
    "    elif operação == \"E\":\n",
    "        prato += 1  # Novo prato\n",
    "        pilha.append(prato)\n",
    "    elif operação == \"S\":\n",
    "        break\n",
    "    else:\n",
    "        print(\"Operação inválida! Digite apenas E, D ou S!\")"
   ]
  },
  {
   "cell_type": "markdown",
   "metadata": {},
   "source": [
    "## Enumerate (em listas)\n",
    "\n",
    "- A função **enumerate** pode ampliar as funcionalidades do **for** facilmente.\n",
    "- Observe o código a seguir:"
   ]
  },
  {
   "cell_type": "code",
   "execution_count": null,
   "metadata": {},
   "outputs": [],
   "source": [
    "lista = range(1,50,3)\n",
    "k = 0\n",
    "for e in lista:\n",
    "    print(f\"[{k}] {e}\")\n",
    "    k += 1"
   ]
  },
  {
   "cell_type": "markdown",
   "metadata": {},
   "source": [
    "- A seguir o mesmo código usando **enumerate**."
   ]
  },
  {
   "cell_type": "code",
   "execution_count": null,
   "metadata": {},
   "outputs": [],
   "source": [
    "lista = range(1,50,3)\n",
    "for k,e in enumerate(lista):\n",
    "    print(f\"[{k}] {e}\")"
   ]
  }
 ],
 "metadata": {
  "kernelspec": {
   "display_name": "Python 3",
   "language": "python",
   "name": "python3"
  },
  "language_info": {
   "codemirror_mode": {
    "name": "ipython",
    "version": 3
   },
   "file_extension": ".py",
   "mimetype": "text/x-python",
   "name": "python",
   "nbconvert_exporter": "python",
   "pygments_lexer": "ipython3",
   "version": "3.10.12"
  }
 },
 "nbformat": 4,
 "nbformat_minor": 2
}
