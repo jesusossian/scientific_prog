{
 "cells": [
  {
   "cell_type": "markdown",
   "metadata": {},
   "source": [
    "## Funções recursivas\n",
    "\n",
    "- Uma função recursiva é uma função que chama a si mesmo durante sua execução.\n",
    "\n",
    "Exemplos:\n",
    "\n",
    "- Cálculo do fatorial de um número\n",
    "$\n",
    "\\begin{align}\n",
    "fatorial(n) & =\n",
    "\\begin{cases}\n",
    "1 & 0 \\leq n \\leq 1 \\\\ \\nonumber\n",
    "x \\times fatorial(n-1) &\n",
    "\\end{cases}\n",
    "\\end{align}\n",
    "$\n",
    "\n",
    "- A sequência de Fibonacci\n",
    "$\n",
    "\\begin{align}\n",
    "fibonacci(n) & =\n",
    "\\begin{cases}\n",
    "n & n<=1 \\\\ \\nonumber\n",
    "fibonacci(n-1)+fibonacci(n-2) &  \n",
    "\\end{cases}\n",
    "\\end{align}\n",
    "$"
   ]
  },
  {
   "cell_type": "code",
   "execution_count": 1,
   "metadata": {},
   "outputs": [],
   "source": [
    "def fatorial(n):\n",
    "    print(f\"Calculando o fatorial de {n}\")\n",
    "    if n==0 or n==1:\n",
    "        print(f\"fatorial de {n} = 1\")\n",
    "        return 1\n",
    "    else:\n",
    "        fat = n * fatorial(n-1)\n",
    "        print(f\"fatorial de {n} = {fat}\")\n",
    "    return fat"
   ]
  },
  {
   "cell_type": "code",
   "execution_count": 2,
   "metadata": {},
   "outputs": [
    {
     "name": "stdout",
     "output_type": "stream",
     "text": [
      "Calculando o fatorial de 4\n",
      "Calculando o fatorial de 3\n",
      "Calculando o fatorial de 2\n",
      "Calculando o fatorial de 1\n",
      "fatorial de 1 = 1\n",
      "fatorial de 2 = 2\n",
      "fatorial de 3 = 6\n",
      "fatorial de 4 = 24\n"
     ]
    },
    {
     "data": {
      "text/plain": [
       "24"
      ]
     },
     "execution_count": 2,
     "metadata": {},
     "output_type": "execute_result"
    }
   ],
   "source": [
    "fatorial(4)"
   ]
  },
  {
   "cell_type": "code",
   "execution_count": 3,
   "metadata": {},
   "outputs": [],
   "source": [
    "def fibonacci(n):\n",
    "    if n<=1:\n",
    "        return n    \n",
    "    else:\n",
    "        return fibonacci(n-1) + fibonacci(n-2)\n"
   ]
  },
  {
   "cell_type": "code",
   "execution_count": 4,
   "metadata": {},
   "outputs": [
    {
     "data": {
      "text/plain": [
       "5"
      ]
     },
     "execution_count": 4,
     "metadata": {},
     "output_type": "execute_result"
    }
   ],
   "source": [
    "fibonacci(5)"
   ]
  },
  {
   "cell_type": "markdown",
   "metadata": {},
   "source": [
    "### Biblioteca statistics\n",
    "\n",
    "- média\n",
    "- mediana\n",
    "- desvio-padrão amostral\n",
    "- desvio-padrão populacional\n"
   ]
  },
  {
   "cell_type": "code",
   "execution_count": null,
   "metadata": {},
   "outputs": [],
   "source": [
    "dados = [10,9,8,9,9,8,10,11,15,7,8,7,8,10,10,10,11,9,10,8]\n",
    "len(dados)"
   ]
  },
  {
   "cell_type": "code",
   "execution_count": null,
   "metadata": {},
   "outputs": [],
   "source": [
    "# import da biblioteca statistics\n",
    "import statistics as st"
   ]
  },
  {
   "cell_type": "code",
   "execution_count": null,
   "metadata": {},
   "outputs": [],
   "source": [
    "# media\n",
    "media = st.mean(dados)\n",
    "print(media)"
   ]
  },
  {
   "cell_type": "code",
   "execution_count": null,
   "metadata": {},
   "outputs": [],
   "source": [
    "# mediana\n",
    "mediana = st.median(dados)\n",
    "print(mediana)"
   ]
  },
  {
   "cell_type": "code",
   "execution_count": null,
   "metadata": {},
   "outputs": [],
   "source": [
    "# desvio padrao amostral \n",
    "# stda = \\sqrt(\\dfrac{\\sum_{i=1}{n} (x_i - \\overline{x})^{2}}{n-1})\n",
    "stda = st.stdev(dados) \n",
    "print(stda)"
   ]
  },
  {
   "cell_type": "code",
   "execution_count": null,
   "metadata": {},
   "outputs": [],
   "source": [
    "# desvio padrao populacional\n",
    "# stdp = \\sqrt(\\dfrac{\\sum_{i=1}{n} (x_i - \\overline{x})^{2}}{n})\n",
    "stdp = st.pstdev(dados)\n",
    "print(stdp)"
   ]
  },
  {
   "cell_type": "markdown",
   "metadata": {},
   "source": [
    "## Biblioteca random\n",
    "\n",
    "A geração de números aleatórios é fundamental para simulação aleatória ou simulação estocásticas.\n",
    "\n",
    "Essas simulações estudam eventos com probabilidade de pertubações.\n",
    "\n",
    "Para geração de números aleatórios usaremos a biblioteca do Python **random**.\n",
    "\n"
   ]
  },
  {
   "cell_type": "code",
   "execution_count": 4,
   "metadata": {},
   "outputs": [],
   "source": [
    "import matplotlib.pyplot as plt\n",
    "import random"
   ]
  },
  {
   "cell_type": "markdown",
   "metadata": {},
   "source": [
    "O exemplo a seguir gera 100 números aleatórios inteiros entre 1 e 60 através da função **random.radint(1,60)**"
   ]
  },
  {
   "cell_type": "code",
   "execution_count": 6,
   "metadata": {},
   "outputs": [
    {
     "name": "stdout",
     "output_type": "stream",
     "text": [
      "iteracao 0 : [3]\n",
      "iteracao 1 : [3, 8]\n",
      "iteracao 2 : [3, 8, 1]\n",
      "iteracao 3 : [3, 8, 1, 39]\n",
      "iteracao 4 : [3, 8, 1, 39, 4]\n",
      "iteracao 5 : [3, 8, 1, 39, 4, 30]\n",
      "iteracao 6 : [3, 8, 1, 39, 4, 30, 33]\n",
      "iteracao 7 : [3, 8, 1, 39, 4, 30, 33, 31]\n",
      "iteracao 8 : [3, 8, 1, 39, 4, 30, 33, 31, 15]\n",
      "iteracao 9 : [3, 8, 1, 39, 4, 30, 33, 31, 15, 24]\n",
      "iteracao 10 : [3, 8, 1, 39, 4, 30, 33, 31, 15, 24, 34]\n",
      "iteracao 11 : [3, 8, 1, 39, 4, 30, 33, 31, 15, 24, 34, 32]\n",
      "iteracao 12 : [3, 8, 1, 39, 4, 30, 33, 31, 15, 24, 34, 32, 1]\n",
      "iteracao 13 : [3, 8, 1, 39, 4, 30, 33, 31, 15, 24, 34, 32, 1, 24]\n",
      "iteracao 14 : [3, 8, 1, 39, 4, 30, 33, 31, 15, 24, 34, 32, 1, 24, 43]\n",
      "iteracao 15 : [3, 8, 1, 39, 4, 30, 33, 31, 15, 24, 34, 32, 1, 24, 43, 36]\n",
      "iteracao 16 : [3, 8, 1, 39, 4, 30, 33, 31, 15, 24, 34, 32, 1, 24, 43, 36, 17]\n",
      "iteracao 17 : [3, 8, 1, 39, 4, 30, 33, 31, 15, 24, 34, 32, 1, 24, 43, 36, 17, 6]\n",
      "iteracao 18 : [3, 8, 1, 39, 4, 30, 33, 31, 15, 24, 34, 32, 1, 24, 43, 36, 17, 6, 13]\n",
      "iteracao 19 : [3, 8, 1, 39, 4, 30, 33, 31, 15, 24, 34, 32, 1, 24, 43, 36, 17, 6, 13, 26]\n",
      "iteracao 20 : [3, 8, 1, 39, 4, 30, 33, 31, 15, 24, 34, 32, 1, 24, 43, 36, 17, 6, 13, 26, 3]\n",
      "iteracao 21 : [3, 8, 1, 39, 4, 30, 33, 31, 15, 24, 34, 32, 1, 24, 43, 36, 17, 6, 13, 26, 3, 37]\n",
      "iteracao 22 : [3, 8, 1, 39, 4, 30, 33, 31, 15, 24, 34, 32, 1, 24, 43, 36, 17, 6, 13, 26, 3, 37, 45]\n",
      "iteracao 23 : [3, 8, 1, 39, 4, 30, 33, 31, 15, 24, 34, 32, 1, 24, 43, 36, 17, 6, 13, 26, 3, 37, 45, 49]\n",
      "iteracao 24 : [3, 8, 1, 39, 4, 30, 33, 31, 15, 24, 34, 32, 1, 24, 43, 36, 17, 6, 13, 26, 3, 37, 45, 49, 41]\n",
      "iteracao 25 : [3, 8, 1, 39, 4, 30, 33, 31, 15, 24, 34, 32, 1, 24, 43, 36, 17, 6, 13, 26, 3, 37, 45, 49, 41, 41]\n",
      "iteracao 26 : [3, 8, 1, 39, 4, 30, 33, 31, 15, 24, 34, 32, 1, 24, 43, 36, 17, 6, 13, 26, 3, 37, 45, 49, 41, 41, 45]\n",
      "iteracao 27 : [3, 8, 1, 39, 4, 30, 33, 31, 15, 24, 34, 32, 1, 24, 43, 36, 17, 6, 13, 26, 3, 37, 45, 49, 41, 41, 45, 1]\n",
      "iteracao 28 : [3, 8, 1, 39, 4, 30, 33, 31, 15, 24, 34, 32, 1, 24, 43, 36, 17, 6, 13, 26, 3, 37, 45, 49, 41, 41, 45, 1, 50]\n",
      "iteracao 29 : [3, 8, 1, 39, 4, 30, 33, 31, 15, 24, 34, 32, 1, 24, 43, 36, 17, 6, 13, 26, 3, 37, 45, 49, 41, 41, 45, 1, 50, 42]\n",
      "iteracao 30 : [3, 8, 1, 39, 4, 30, 33, 31, 15, 24, 34, 32, 1, 24, 43, 36, 17, 6, 13, 26, 3, 37, 45, 49, 41, 41, 45, 1, 50, 42, 45]\n",
      "iteracao 31 : [3, 8, 1, 39, 4, 30, 33, 31, 15, 24, 34, 32, 1, 24, 43, 36, 17, 6, 13, 26, 3, 37, 45, 49, 41, 41, 45, 1, 50, 42, 45, 10]\n",
      "iteracao 32 : [3, 8, 1, 39, 4, 30, 33, 31, 15, 24, 34, 32, 1, 24, 43, 36, 17, 6, 13, 26, 3, 37, 45, 49, 41, 41, 45, 1, 50, 42, 45, 10, 18]\n",
      "iteracao 33 : [3, 8, 1, 39, 4, 30, 33, 31, 15, 24, 34, 32, 1, 24, 43, 36, 17, 6, 13, 26, 3, 37, 45, 49, 41, 41, 45, 1, 50, 42, 45, 10, 18, 34]\n",
      "iteracao 34 : [3, 8, 1, 39, 4, 30, 33, 31, 15, 24, 34, 32, 1, 24, 43, 36, 17, 6, 13, 26, 3, 37, 45, 49, 41, 41, 45, 1, 50, 42, 45, 10, 18, 34, 15]\n",
      "iteracao 35 : [3, 8, 1, 39, 4, 30, 33, 31, 15, 24, 34, 32, 1, 24, 43, 36, 17, 6, 13, 26, 3, 37, 45, 49, 41, 41, 45, 1, 50, 42, 45, 10, 18, 34, 15, 48]\n",
      "iteracao 36 : [3, 8, 1, 39, 4, 30, 33, 31, 15, 24, 34, 32, 1, 24, 43, 36, 17, 6, 13, 26, 3, 37, 45, 49, 41, 41, 45, 1, 50, 42, 45, 10, 18, 34, 15, 48, 18]\n",
      "iteracao 37 : [3, 8, 1, 39, 4, 30, 33, 31, 15, 24, 34, 32, 1, 24, 43, 36, 17, 6, 13, 26, 3, 37, 45, 49, 41, 41, 45, 1, 50, 42, 45, 10, 18, 34, 15, 48, 18, 7]\n",
      "iteracao 38 : [3, 8, 1, 39, 4, 30, 33, 31, 15, 24, 34, 32, 1, 24, 43, 36, 17, 6, 13, 26, 3, 37, 45, 49, 41, 41, 45, 1, 50, 42, 45, 10, 18, 34, 15, 48, 18, 7, 52]\n",
      "iteracao 39 : [3, 8, 1, 39, 4, 30, 33, 31, 15, 24, 34, 32, 1, 24, 43, 36, 17, 6, 13, 26, 3, 37, 45, 49, 41, 41, 45, 1, 50, 42, 45, 10, 18, 34, 15, 48, 18, 7, 52, 5]\n",
      "iteracao 40 : [3, 8, 1, 39, 4, 30, 33, 31, 15, 24, 34, 32, 1, 24, 43, 36, 17, 6, 13, 26, 3, 37, 45, 49, 41, 41, 45, 1, 50, 42, 45, 10, 18, 34, 15, 48, 18, 7, 52, 5, 51]\n",
      "iteracao 41 : [3, 8, 1, 39, 4, 30, 33, 31, 15, 24, 34, 32, 1, 24, 43, 36, 17, 6, 13, 26, 3, 37, 45, 49, 41, 41, 45, 1, 50, 42, 45, 10, 18, 34, 15, 48, 18, 7, 52, 5, 51, 48]\n",
      "iteracao 42 : [3, 8, 1, 39, 4, 30, 33, 31, 15, 24, 34, 32, 1, 24, 43, 36, 17, 6, 13, 26, 3, 37, 45, 49, 41, 41, 45, 1, 50, 42, 45, 10, 18, 34, 15, 48, 18, 7, 52, 5, 51, 48, 59]\n",
      "iteracao 43 : [3, 8, 1, 39, 4, 30, 33, 31, 15, 24, 34, 32, 1, 24, 43, 36, 17, 6, 13, 26, 3, 37, 45, 49, 41, 41, 45, 1, 50, 42, 45, 10, 18, 34, 15, 48, 18, 7, 52, 5, 51, 48, 59, 30]\n",
      "iteracao 44 : [3, 8, 1, 39, 4, 30, 33, 31, 15, 24, 34, 32, 1, 24, 43, 36, 17, 6, 13, 26, 3, 37, 45, 49, 41, 41, 45, 1, 50, 42, 45, 10, 18, 34, 15, 48, 18, 7, 52, 5, 51, 48, 59, 30, 34]\n",
      "iteracao 45 : [3, 8, 1, 39, 4, 30, 33, 31, 15, 24, 34, 32, 1, 24, 43, 36, 17, 6, 13, 26, 3, 37, 45, 49, 41, 41, 45, 1, 50, 42, 45, 10, 18, 34, 15, 48, 18, 7, 52, 5, 51, 48, 59, 30, 34, 46]\n",
      "iteracao 46 : [3, 8, 1, 39, 4, 30, 33, 31, 15, 24, 34, 32, 1, 24, 43, 36, 17, 6, 13, 26, 3, 37, 45, 49, 41, 41, 45, 1, 50, 42, 45, 10, 18, 34, 15, 48, 18, 7, 52, 5, 51, 48, 59, 30, 34, 46, 7]\n",
      "iteracao 47 : [3, 8, 1, 39, 4, 30, 33, 31, 15, 24, 34, 32, 1, 24, 43, 36, 17, 6, 13, 26, 3, 37, 45, 49, 41, 41, 45, 1, 50, 42, 45, 10, 18, 34, 15, 48, 18, 7, 52, 5, 51, 48, 59, 30, 34, 46, 7, 21]\n",
      "iteracao 48 : [3, 8, 1, 39, 4, 30, 33, 31, 15, 24, 34, 32, 1, 24, 43, 36, 17, 6, 13, 26, 3, 37, 45, 49, 41, 41, 45, 1, 50, 42, 45, 10, 18, 34, 15, 48, 18, 7, 52, 5, 51, 48, 59, 30, 34, 46, 7, 21, 39]\n",
      "iteracao 49 : [3, 8, 1, 39, 4, 30, 33, 31, 15, 24, 34, 32, 1, 24, 43, 36, 17, 6, 13, 26, 3, 37, 45, 49, 41, 41, 45, 1, 50, 42, 45, 10, 18, 34, 15, 48, 18, 7, 52, 5, 51, 48, 59, 30, 34, 46, 7, 21, 39, 57]\n",
      "iteracao 50 : [3, 8, 1, 39, 4, 30, 33, 31, 15, 24, 34, 32, 1, 24, 43, 36, 17, 6, 13, 26, 3, 37, 45, 49, 41, 41, 45, 1, 50, 42, 45, 10, 18, 34, 15, 48, 18, 7, 52, 5, 51, 48, 59, 30, 34, 46, 7, 21, 39, 57, 55]\n",
      "iteracao 51 : [3, 8, 1, 39, 4, 30, 33, 31, 15, 24, 34, 32, 1, 24, 43, 36, 17, 6, 13, 26, 3, 37, 45, 49, 41, 41, 45, 1, 50, 42, 45, 10, 18, 34, 15, 48, 18, 7, 52, 5, 51, 48, 59, 30, 34, 46, 7, 21, 39, 57, 55, 13]\n",
      "iteracao 52 : [3, 8, 1, 39, 4, 30, 33, 31, 15, 24, 34, 32, 1, 24, 43, 36, 17, 6, 13, 26, 3, 37, 45, 49, 41, 41, 45, 1, 50, 42, 45, 10, 18, 34, 15, 48, 18, 7, 52, 5, 51, 48, 59, 30, 34, 46, 7, 21, 39, 57, 55, 13, 4]\n",
      "iteracao 53 : [3, 8, 1, 39, 4, 30, 33, 31, 15, 24, 34, 32, 1, 24, 43, 36, 17, 6, 13, 26, 3, 37, 45, 49, 41, 41, 45, 1, 50, 42, 45, 10, 18, 34, 15, 48, 18, 7, 52, 5, 51, 48, 59, 30, 34, 46, 7, 21, 39, 57, 55, 13, 4, 6]\n",
      "iteracao 54 : [3, 8, 1, 39, 4, 30, 33, 31, 15, 24, 34, 32, 1, 24, 43, 36, 17, 6, 13, 26, 3, 37, 45, 49, 41, 41, 45, 1, 50, 42, 45, 10, 18, 34, 15, 48, 18, 7, 52, 5, 51, 48, 59, 30, 34, 46, 7, 21, 39, 57, 55, 13, 4, 6, 29]\n",
      "iteracao 55 : [3, 8, 1, 39, 4, 30, 33, 31, 15, 24, 34, 32, 1, 24, 43, 36, 17, 6, 13, 26, 3, 37, 45, 49, 41, 41, 45, 1, 50, 42, 45, 10, 18, 34, 15, 48, 18, 7, 52, 5, 51, 48, 59, 30, 34, 46, 7, 21, 39, 57, 55, 13, 4, 6, 29, 51]\n",
      "iteracao 56 : [3, 8, 1, 39, 4, 30, 33, 31, 15, 24, 34, 32, 1, 24, 43, 36, 17, 6, 13, 26, 3, 37, 45, 49, 41, 41, 45, 1, 50, 42, 45, 10, 18, 34, 15, 48, 18, 7, 52, 5, 51, 48, 59, 30, 34, 46, 7, 21, 39, 57, 55, 13, 4, 6, 29, 51, 47]\n",
      "iteracao 57 : [3, 8, 1, 39, 4, 30, 33, 31, 15, 24, 34, 32, 1, 24, 43, 36, 17, 6, 13, 26, 3, 37, 45, 49, 41, 41, 45, 1, 50, 42, 45, 10, 18, 34, 15, 48, 18, 7, 52, 5, 51, 48, 59, 30, 34, 46, 7, 21, 39, 57, 55, 13, 4, 6, 29, 51, 47, 7]\n",
      "iteracao 58 : [3, 8, 1, 39, 4, 30, 33, 31, 15, 24, 34, 32, 1, 24, 43, 36, 17, 6, 13, 26, 3, 37, 45, 49, 41, 41, 45, 1, 50, 42, 45, 10, 18, 34, 15, 48, 18, 7, 52, 5, 51, 48, 59, 30, 34, 46, 7, 21, 39, 57, 55, 13, 4, 6, 29, 51, 47, 7, 26]\n",
      "iteracao 59 : [3, 8, 1, 39, 4, 30, 33, 31, 15, 24, 34, 32, 1, 24, 43, 36, 17, 6, 13, 26, 3, 37, 45, 49, 41, 41, 45, 1, 50, 42, 45, 10, 18, 34, 15, 48, 18, 7, 52, 5, 51, 48, 59, 30, 34, 46, 7, 21, 39, 57, 55, 13, 4, 6, 29, 51, 47, 7, 26, 20]\n",
      "iteracao 60 : [3, 8, 1, 39, 4, 30, 33, 31, 15, 24, 34, 32, 1, 24, 43, 36, 17, 6, 13, 26, 3, 37, 45, 49, 41, 41, 45, 1, 50, 42, 45, 10, 18, 34, 15, 48, 18, 7, 52, 5, 51, 48, 59, 30, 34, 46, 7, 21, 39, 57, 55, 13, 4, 6, 29, 51, 47, 7, 26, 20, 9]\n",
      "iteracao 61 : [3, 8, 1, 39, 4, 30, 33, 31, 15, 24, 34, 32, 1, 24, 43, 36, 17, 6, 13, 26, 3, 37, 45, 49, 41, 41, 45, 1, 50, 42, 45, 10, 18, 34, 15, 48, 18, 7, 52, 5, 51, 48, 59, 30, 34, 46, 7, 21, 39, 57, 55, 13, 4, 6, 29, 51, 47, 7, 26, 20, 9, 55]\n",
      "iteracao 62 : [3, 8, 1, 39, 4, 30, 33, 31, 15, 24, 34, 32, 1, 24, 43, 36, 17, 6, 13, 26, 3, 37, 45, 49, 41, 41, 45, 1, 50, 42, 45, 10, 18, 34, 15, 48, 18, 7, 52, 5, 51, 48, 59, 30, 34, 46, 7, 21, 39, 57, 55, 13, 4, 6, 29, 51, 47, 7, 26, 20, 9, 55, 35]\n",
      "iteracao 63 : [3, 8, 1, 39, 4, 30, 33, 31, 15, 24, 34, 32, 1, 24, 43, 36, 17, 6, 13, 26, 3, 37, 45, 49, 41, 41, 45, 1, 50, 42, 45, 10, 18, 34, 15, 48, 18, 7, 52, 5, 51, 48, 59, 30, 34, 46, 7, 21, 39, 57, 55, 13, 4, 6, 29, 51, 47, 7, 26, 20, 9, 55, 35, 56]\n",
      "iteracao 64 : [3, 8, 1, 39, 4, 30, 33, 31, 15, 24, 34, 32, 1, 24, 43, 36, 17, 6, 13, 26, 3, 37, 45, 49, 41, 41, 45, 1, 50, 42, 45, 10, 18, 34, 15, 48, 18, 7, 52, 5, 51, 48, 59, 30, 34, 46, 7, 21, 39, 57, 55, 13, 4, 6, 29, 51, 47, 7, 26, 20, 9, 55, 35, 56, 29]\n",
      "iteracao 65 : [3, 8, 1, 39, 4, 30, 33, 31, 15, 24, 34, 32, 1, 24, 43, 36, 17, 6, 13, 26, 3, 37, 45, 49, 41, 41, 45, 1, 50, 42, 45, 10, 18, 34, 15, 48, 18, 7, 52, 5, 51, 48, 59, 30, 34, 46, 7, 21, 39, 57, 55, 13, 4, 6, 29, 51, 47, 7, 26, 20, 9, 55, 35, 56, 29, 6]\n",
      "iteracao 66 : [3, 8, 1, 39, 4, 30, 33, 31, 15, 24, 34, 32, 1, 24, 43, 36, 17, 6, 13, 26, 3, 37, 45, 49, 41, 41, 45, 1, 50, 42, 45, 10, 18, 34, 15, 48, 18, 7, 52, 5, 51, 48, 59, 30, 34, 46, 7, 21, 39, 57, 55, 13, 4, 6, 29, 51, 47, 7, 26, 20, 9, 55, 35, 56, 29, 6, 25]\n",
      "iteracao 67 : [3, 8, 1, 39, 4, 30, 33, 31, 15, 24, 34, 32, 1, 24, 43, 36, 17, 6, 13, 26, 3, 37, 45, 49, 41, 41, 45, 1, 50, 42, 45, 10, 18, 34, 15, 48, 18, 7, 52, 5, 51, 48, 59, 30, 34, 46, 7, 21, 39, 57, 55, 13, 4, 6, 29, 51, 47, 7, 26, 20, 9, 55, 35, 56, 29, 6, 25, 1]\n",
      "iteracao 68 : [3, 8, 1, 39, 4, 30, 33, 31, 15, 24, 34, 32, 1, 24, 43, 36, 17, 6, 13, 26, 3, 37, 45, 49, 41, 41, 45, 1, 50, 42, 45, 10, 18, 34, 15, 48, 18, 7, 52, 5, 51, 48, 59, 30, 34, 46, 7, 21, 39, 57, 55, 13, 4, 6, 29, 51, 47, 7, 26, 20, 9, 55, 35, 56, 29, 6, 25, 1, 17]\n",
      "iteracao 69 : [3, 8, 1, 39, 4, 30, 33, 31, 15, 24, 34, 32, 1, 24, 43, 36, 17, 6, 13, 26, 3, 37, 45, 49, 41, 41, 45, 1, 50, 42, 45, 10, 18, 34, 15, 48, 18, 7, 52, 5, 51, 48, 59, 30, 34, 46, 7, 21, 39, 57, 55, 13, 4, 6, 29, 51, 47, 7, 26, 20, 9, 55, 35, 56, 29, 6, 25, 1, 17, 49]\n",
      "iteracao 70 : [3, 8, 1, 39, 4, 30, 33, 31, 15, 24, 34, 32, 1, 24, 43, 36, 17, 6, 13, 26, 3, 37, 45, 49, 41, 41, 45, 1, 50, 42, 45, 10, 18, 34, 15, 48, 18, 7, 52, 5, 51, 48, 59, 30, 34, 46, 7, 21, 39, 57, 55, 13, 4, 6, 29, 51, 47, 7, 26, 20, 9, 55, 35, 56, 29, 6, 25, 1, 17, 49, 1]\n",
      "iteracao 71 : [3, 8, 1, 39, 4, 30, 33, 31, 15, 24, 34, 32, 1, 24, 43, 36, 17, 6, 13, 26, 3, 37, 45, 49, 41, 41, 45, 1, 50, 42, 45, 10, 18, 34, 15, 48, 18, 7, 52, 5, 51, 48, 59, 30, 34, 46, 7, 21, 39, 57, 55, 13, 4, 6, 29, 51, 47, 7, 26, 20, 9, 55, 35, 56, 29, 6, 25, 1, 17, 49, 1, 28]\n",
      "iteracao 72 : [3, 8, 1, 39, 4, 30, 33, 31, 15, 24, 34, 32, 1, 24, 43, 36, 17, 6, 13, 26, 3, 37, 45, 49, 41, 41, 45, 1, 50, 42, 45, 10, 18, 34, 15, 48, 18, 7, 52, 5, 51, 48, 59, 30, 34, 46, 7, 21, 39, 57, 55, 13, 4, 6, 29, 51, 47, 7, 26, 20, 9, 55, 35, 56, 29, 6, 25, 1, 17, 49, 1, 28, 3]\n",
      "iteracao 73 : [3, 8, 1, 39, 4, 30, 33, 31, 15, 24, 34, 32, 1, 24, 43, 36, 17, 6, 13, 26, 3, 37, 45, 49, 41, 41, 45, 1, 50, 42, 45, 10, 18, 34, 15, 48, 18, 7, 52, 5, 51, 48, 59, 30, 34, 46, 7, 21, 39, 57, 55, 13, 4, 6, 29, 51, 47, 7, 26, 20, 9, 55, 35, 56, 29, 6, 25, 1, 17, 49, 1, 28, 3, 26]\n",
      "iteracao 74 : [3, 8, 1, 39, 4, 30, 33, 31, 15, 24, 34, 32, 1, 24, 43, 36, 17, 6, 13, 26, 3, 37, 45, 49, 41, 41, 45, 1, 50, 42, 45, 10, 18, 34, 15, 48, 18, 7, 52, 5, 51, 48, 59, 30, 34, 46, 7, 21, 39, 57, 55, 13, 4, 6, 29, 51, 47, 7, 26, 20, 9, 55, 35, 56, 29, 6, 25, 1, 17, 49, 1, 28, 3, 26, 23]\n",
      "iteracao 75 : [3, 8, 1, 39, 4, 30, 33, 31, 15, 24, 34, 32, 1, 24, 43, 36, 17, 6, 13, 26, 3, 37, 45, 49, 41, 41, 45, 1, 50, 42, 45, 10, 18, 34, 15, 48, 18, 7, 52, 5, 51, 48, 59, 30, 34, 46, 7, 21, 39, 57, 55, 13, 4, 6, 29, 51, 47, 7, 26, 20, 9, 55, 35, 56, 29, 6, 25, 1, 17, 49, 1, 28, 3, 26, 23, 4]\n",
      "iteracao 76 : [3, 8, 1, 39, 4, 30, 33, 31, 15, 24, 34, 32, 1, 24, 43, 36, 17, 6, 13, 26, 3, 37, 45, 49, 41, 41, 45, 1, 50, 42, 45, 10, 18, 34, 15, 48, 18, 7, 52, 5, 51, 48, 59, 30, 34, 46, 7, 21, 39, 57, 55, 13, 4, 6, 29, 51, 47, 7, 26, 20, 9, 55, 35, 56, 29, 6, 25, 1, 17, 49, 1, 28, 3, 26, 23, 4, 10]\n",
      "iteracao 77 : [3, 8, 1, 39, 4, 30, 33, 31, 15, 24, 34, 32, 1, 24, 43, 36, 17, 6, 13, 26, 3, 37, 45, 49, 41, 41, 45, 1, 50, 42, 45, 10, 18, 34, 15, 48, 18, 7, 52, 5, 51, 48, 59, 30, 34, 46, 7, 21, 39, 57, 55, 13, 4, 6, 29, 51, 47, 7, 26, 20, 9, 55, 35, 56, 29, 6, 25, 1, 17, 49, 1, 28, 3, 26, 23, 4, 10, 53]\n",
      "iteracao 78 : [3, 8, 1, 39, 4, 30, 33, 31, 15, 24, 34, 32, 1, 24, 43, 36, 17, 6, 13, 26, 3, 37, 45, 49, 41, 41, 45, 1, 50, 42, 45, 10, 18, 34, 15, 48, 18, 7, 52, 5, 51, 48, 59, 30, 34, 46, 7, 21, 39, 57, 55, 13, 4, 6, 29, 51, 47, 7, 26, 20, 9, 55, 35, 56, 29, 6, 25, 1, 17, 49, 1, 28, 3, 26, 23, 4, 10, 53, 19]\n",
      "iteracao 79 : [3, 8, 1, 39, 4, 30, 33, 31, 15, 24, 34, 32, 1, 24, 43, 36, 17, 6, 13, 26, 3, 37, 45, 49, 41, 41, 45, 1, 50, 42, 45, 10, 18, 34, 15, 48, 18, 7, 52, 5, 51, 48, 59, 30, 34, 46, 7, 21, 39, 57, 55, 13, 4, 6, 29, 51, 47, 7, 26, 20, 9, 55, 35, 56, 29, 6, 25, 1, 17, 49, 1, 28, 3, 26, 23, 4, 10, 53, 19, 52]\n",
      "iteracao 80 : [3, 8, 1, 39, 4, 30, 33, 31, 15, 24, 34, 32, 1, 24, 43, 36, 17, 6, 13, 26, 3, 37, 45, 49, 41, 41, 45, 1, 50, 42, 45, 10, 18, 34, 15, 48, 18, 7, 52, 5, 51, 48, 59, 30, 34, 46, 7, 21, 39, 57, 55, 13, 4, 6, 29, 51, 47, 7, 26, 20, 9, 55, 35, 56, 29, 6, 25, 1, 17, 49, 1, 28, 3, 26, 23, 4, 10, 53, 19, 52, 47]\n",
      "iteracao 81 : [3, 8, 1, 39, 4, 30, 33, 31, 15, 24, 34, 32, 1, 24, 43, 36, 17, 6, 13, 26, 3, 37, 45, 49, 41, 41, 45, 1, 50, 42, 45, 10, 18, 34, 15, 48, 18, 7, 52, 5, 51, 48, 59, 30, 34, 46, 7, 21, 39, 57, 55, 13, 4, 6, 29, 51, 47, 7, 26, 20, 9, 55, 35, 56, 29, 6, 25, 1, 17, 49, 1, 28, 3, 26, 23, 4, 10, 53, 19, 52, 47, 38]\n",
      "iteracao 82 : [3, 8, 1, 39, 4, 30, 33, 31, 15, 24, 34, 32, 1, 24, 43, 36, 17, 6, 13, 26, 3, 37, 45, 49, 41, 41, 45, 1, 50, 42, 45, 10, 18, 34, 15, 48, 18, 7, 52, 5, 51, 48, 59, 30, 34, 46, 7, 21, 39, 57, 55, 13, 4, 6, 29, 51, 47, 7, 26, 20, 9, 55, 35, 56, 29, 6, 25, 1, 17, 49, 1, 28, 3, 26, 23, 4, 10, 53, 19, 52, 47, 38, 22]\n",
      "iteracao 83 : [3, 8, 1, 39, 4, 30, 33, 31, 15, 24, 34, 32, 1, 24, 43, 36, 17, 6, 13, 26, 3, 37, 45, 49, 41, 41, 45, 1, 50, 42, 45, 10, 18, 34, 15, 48, 18, 7, 52, 5, 51, 48, 59, 30, 34, 46, 7, 21, 39, 57, 55, 13, 4, 6, 29, 51, 47, 7, 26, 20, 9, 55, 35, 56, 29, 6, 25, 1, 17, 49, 1, 28, 3, 26, 23, 4, 10, 53, 19, 52, 47, 38, 22, 30]\n",
      "iteracao 84 : [3, 8, 1, 39, 4, 30, 33, 31, 15, 24, 34, 32, 1, 24, 43, 36, 17, 6, 13, 26, 3, 37, 45, 49, 41, 41, 45, 1, 50, 42, 45, 10, 18, 34, 15, 48, 18, 7, 52, 5, 51, 48, 59, 30, 34, 46, 7, 21, 39, 57, 55, 13, 4, 6, 29, 51, 47, 7, 26, 20, 9, 55, 35, 56, 29, 6, 25, 1, 17, 49, 1, 28, 3, 26, 23, 4, 10, 53, 19, 52, 47, 38, 22, 30, 8]\n",
      "iteracao 85 : [3, 8, 1, 39, 4, 30, 33, 31, 15, 24, 34, 32, 1, 24, 43, 36, 17, 6, 13, 26, 3, 37, 45, 49, 41, 41, 45, 1, 50, 42, 45, 10, 18, 34, 15, 48, 18, 7, 52, 5, 51, 48, 59, 30, 34, 46, 7, 21, 39, 57, 55, 13, 4, 6, 29, 51, 47, 7, 26, 20, 9, 55, 35, 56, 29, 6, 25, 1, 17, 49, 1, 28, 3, 26, 23, 4, 10, 53, 19, 52, 47, 38, 22, 30, 8, 5]\n",
      "iteracao 86 : [3, 8, 1, 39, 4, 30, 33, 31, 15, 24, 34, 32, 1, 24, 43, 36, 17, 6, 13, 26, 3, 37, 45, 49, 41, 41, 45, 1, 50, 42, 45, 10, 18, 34, 15, 48, 18, 7, 52, 5, 51, 48, 59, 30, 34, 46, 7, 21, 39, 57, 55, 13, 4, 6, 29, 51, 47, 7, 26, 20, 9, 55, 35, 56, 29, 6, 25, 1, 17, 49, 1, 28, 3, 26, 23, 4, 10, 53, 19, 52, 47, 38, 22, 30, 8, 5, 36]\n",
      "iteracao 87 : [3, 8, 1, 39, 4, 30, 33, 31, 15, 24, 34, 32, 1, 24, 43, 36, 17, 6, 13, 26, 3, 37, 45, 49, 41, 41, 45, 1, 50, 42, 45, 10, 18, 34, 15, 48, 18, 7, 52, 5, 51, 48, 59, 30, 34, 46, 7, 21, 39, 57, 55, 13, 4, 6, 29, 51, 47, 7, 26, 20, 9, 55, 35, 56, 29, 6, 25, 1, 17, 49, 1, 28, 3, 26, 23, 4, 10, 53, 19, 52, 47, 38, 22, 30, 8, 5, 36, 30]\n",
      "iteracao 88 : [3, 8, 1, 39, 4, 30, 33, 31, 15, 24, 34, 32, 1, 24, 43, 36, 17, 6, 13, 26, 3, 37, 45, 49, 41, 41, 45, 1, 50, 42, 45, 10, 18, 34, 15, 48, 18, 7, 52, 5, 51, 48, 59, 30, 34, 46, 7, 21, 39, 57, 55, 13, 4, 6, 29, 51, 47, 7, 26, 20, 9, 55, 35, 56, 29, 6, 25, 1, 17, 49, 1, 28, 3, 26, 23, 4, 10, 53, 19, 52, 47, 38, 22, 30, 8, 5, 36, 30, 14]\n",
      "iteracao 89 : [3, 8, 1, 39, 4, 30, 33, 31, 15, 24, 34, 32, 1, 24, 43, 36, 17, 6, 13, 26, 3, 37, 45, 49, 41, 41, 45, 1, 50, 42, 45, 10, 18, 34, 15, 48, 18, 7, 52, 5, 51, 48, 59, 30, 34, 46, 7, 21, 39, 57, 55, 13, 4, 6, 29, 51, 47, 7, 26, 20, 9, 55, 35, 56, 29, 6, 25, 1, 17, 49, 1, 28, 3, 26, 23, 4, 10, 53, 19, 52, 47, 38, 22, 30, 8, 5, 36, 30, 14, 60]\n",
      "iteracao 90 : [3, 8, 1, 39, 4, 30, 33, 31, 15, 24, 34, 32, 1, 24, 43, 36, 17, 6, 13, 26, 3, 37, 45, 49, 41, 41, 45, 1, 50, 42, 45, 10, 18, 34, 15, 48, 18, 7, 52, 5, 51, 48, 59, 30, 34, 46, 7, 21, 39, 57, 55, 13, 4, 6, 29, 51, 47, 7, 26, 20, 9, 55, 35, 56, 29, 6, 25, 1, 17, 49, 1, 28, 3, 26, 23, 4, 10, 53, 19, 52, 47, 38, 22, 30, 8, 5, 36, 30, 14, 60, 32]\n",
      "iteracao 91 : [3, 8, 1, 39, 4, 30, 33, 31, 15, 24, 34, 32, 1, 24, 43, 36, 17, 6, 13, 26, 3, 37, 45, 49, 41, 41, 45, 1, 50, 42, 45, 10, 18, 34, 15, 48, 18, 7, 52, 5, 51, 48, 59, 30, 34, 46, 7, 21, 39, 57, 55, 13, 4, 6, 29, 51, 47, 7, 26, 20, 9, 55, 35, 56, 29, 6, 25, 1, 17, 49, 1, 28, 3, 26, 23, 4, 10, 53, 19, 52, 47, 38, 22, 30, 8, 5, 36, 30, 14, 60, 32, 12]\n",
      "iteracao 92 : [3, 8, 1, 39, 4, 30, 33, 31, 15, 24, 34, 32, 1, 24, 43, 36, 17, 6, 13, 26, 3, 37, 45, 49, 41, 41, 45, 1, 50, 42, 45, 10, 18, 34, 15, 48, 18, 7, 52, 5, 51, 48, 59, 30, 34, 46, 7, 21, 39, 57, 55, 13, 4, 6, 29, 51, 47, 7, 26, 20, 9, 55, 35, 56, 29, 6, 25, 1, 17, 49, 1, 28, 3, 26, 23, 4, 10, 53, 19, 52, 47, 38, 22, 30, 8, 5, 36, 30, 14, 60, 32, 12, 11]\n",
      "iteracao 93 : [3, 8, 1, 39, 4, 30, 33, 31, 15, 24, 34, 32, 1, 24, 43, 36, 17, 6, 13, 26, 3, 37, 45, 49, 41, 41, 45, 1, 50, 42, 45, 10, 18, 34, 15, 48, 18, 7, 52, 5, 51, 48, 59, 30, 34, 46, 7, 21, 39, 57, 55, 13, 4, 6, 29, 51, 47, 7, 26, 20, 9, 55, 35, 56, 29, 6, 25, 1, 17, 49, 1, 28, 3, 26, 23, 4, 10, 53, 19, 52, 47, 38, 22, 30, 8, 5, 36, 30, 14, 60, 32, 12, 11, 22]\n",
      "iteracao 94 : [3, 8, 1, 39, 4, 30, 33, 31, 15, 24, 34, 32, 1, 24, 43, 36, 17, 6, 13, 26, 3, 37, 45, 49, 41, 41, 45, 1, 50, 42, 45, 10, 18, 34, 15, 48, 18, 7, 52, 5, 51, 48, 59, 30, 34, 46, 7, 21, 39, 57, 55, 13, 4, 6, 29, 51, 47, 7, 26, 20, 9, 55, 35, 56, 29, 6, 25, 1, 17, 49, 1, 28, 3, 26, 23, 4, 10, 53, 19, 52, 47, 38, 22, 30, 8, 5, 36, 30, 14, 60, 32, 12, 11, 22, 48]\n",
      "iteracao 95 : [3, 8, 1, 39, 4, 30, 33, 31, 15, 24, 34, 32, 1, 24, 43, 36, 17, 6, 13, 26, 3, 37, 45, 49, 41, 41, 45, 1, 50, 42, 45, 10, 18, 34, 15, 48, 18, 7, 52, 5, 51, 48, 59, 30, 34, 46, 7, 21, 39, 57, 55, 13, 4, 6, 29, 51, 47, 7, 26, 20, 9, 55, 35, 56, 29, 6, 25, 1, 17, 49, 1, 28, 3, 26, 23, 4, 10, 53, 19, 52, 47, 38, 22, 30, 8, 5, 36, 30, 14, 60, 32, 12, 11, 22, 48, 10]\n",
      "iteracao 96 : [3, 8, 1, 39, 4, 30, 33, 31, 15, 24, 34, 32, 1, 24, 43, 36, 17, 6, 13, 26, 3, 37, 45, 49, 41, 41, 45, 1, 50, 42, 45, 10, 18, 34, 15, 48, 18, 7, 52, 5, 51, 48, 59, 30, 34, 46, 7, 21, 39, 57, 55, 13, 4, 6, 29, 51, 47, 7, 26, 20, 9, 55, 35, 56, 29, 6, 25, 1, 17, 49, 1, 28, 3, 26, 23, 4, 10, 53, 19, 52, 47, 38, 22, 30, 8, 5, 36, 30, 14, 60, 32, 12, 11, 22, 48, 10, 22]\n",
      "iteracao 97 : [3, 8, 1, 39, 4, 30, 33, 31, 15, 24, 34, 32, 1, 24, 43, 36, 17, 6, 13, 26, 3, 37, 45, 49, 41, 41, 45, 1, 50, 42, 45, 10, 18, 34, 15, 48, 18, 7, 52, 5, 51, 48, 59, 30, 34, 46, 7, 21, 39, 57, 55, 13, 4, 6, 29, 51, 47, 7, 26, 20, 9, 55, 35, 56, 29, 6, 25, 1, 17, 49, 1, 28, 3, 26, 23, 4, 10, 53, 19, 52, 47, 38, 22, 30, 8, 5, 36, 30, 14, 60, 32, 12, 11, 22, 48, 10, 22, 57]\n",
      "iteracao 98 : [3, 8, 1, 39, 4, 30, 33, 31, 15, 24, 34, 32, 1, 24, 43, 36, 17, 6, 13, 26, 3, 37, 45, 49, 41, 41, 45, 1, 50, 42, 45, 10, 18, 34, 15, 48, 18, 7, 52, 5, 51, 48, 59, 30, 34, 46, 7, 21, 39, 57, 55, 13, 4, 6, 29, 51, 47, 7, 26, 20, 9, 55, 35, 56, 29, 6, 25, 1, 17, 49, 1, 28, 3, 26, 23, 4, 10, 53, 19, 52, 47, 38, 22, 30, 8, 5, 36, 30, 14, 60, 32, 12, 11, 22, 48, 10, 22, 57, 58]\n",
      "iteracao 99 : [3, 8, 1, 39, 4, 30, 33, 31, 15, 24, 34, 32, 1, 24, 43, 36, 17, 6, 13, 26, 3, 37, 45, 49, 41, 41, 45, 1, 50, 42, 45, 10, 18, 34, 15, 48, 18, 7, 52, 5, 51, 48, 59, 30, 34, 46, 7, 21, 39, 57, 55, 13, 4, 6, 29, 51, 47, 7, 26, 20, 9, 55, 35, 56, 29, 6, 25, 1, 17, 49, 1, 28, 3, 26, 23, 4, 10, 53, 19, 52, 47, 38, 22, 30, 8, 5, 36, 30, 14, 60, 32, 12, 11, 22, 48, 10, 22, 57, 58, 21]\n"
     ]
    }
   ],
   "source": [
    "lint = []\n",
    "for i in range(100):\n",
    "    x = random.randint(1, 60)\n",
    "    lint.append(x)\n",
    "    print(f\"iteracao {i} : {lint}\")\n",
    "\n",
    "#print(lint)"
   ]
  },
  {
   "cell_type": "code",
   "execution_count": 7,
   "metadata": {},
   "outputs": [
    {
     "name": "stdout",
     "output_type": "stream",
     "text": [
      "[3, 8, 1, 39, 4, 30, 33, 31, 15, 24, 34, 32, 1, 24, 43, 36, 17, 6, 13, 26, 3, 37, 45, 49, 41, 41, 45, 1, 50, 42, 45, 10, 18, 34, 15, 48, 18, 7, 52, 5, 51, 48, 59, 30, 34, 46, 7, 21, 39, 57, 55, 13, 4, 6, 29, 51, 47, 7, 26, 20, 9, 55, 35, 56, 29, 6, 25, 1, 17, 49, 1, 28, 3, 26, 23, 4, 10, 53, 19, 52, 47, 38, 22, 30, 8, 5, 36, 30, 14, 60, 32, 12, 11, 22, 48, 10, 22, 57, 58, 21]\n"
     ]
    }
   ],
   "source": [
    "print(lint)"
   ]
  },
  {
   "cell_type": "markdown",
   "metadata": {},
   "source": [
    "Gráfico associado aos números aleatórios entre 1 e 60."
   ]
  },
  {
   "cell_type": "code",
   "execution_count": 9,
   "metadata": {},
   "outputs": [
    {
     "data": {
      "image/png": "[encoded data removed]",
      "text/plain": [
       "<Figure size 432x288 with 1 Axes>"
      ]
     },
     "metadata": {
      "needs_background": "light"
     },
     "output_type": "display_data"
    }
   ],
   "source": [
    "plt.plot(lint)\n",
    "plt.xlabel(\"eixo x\")\n",
    "plt.ylabel(\"Números aleatórios entre 1 e 60\")\n",
    "plt.show()"
   ]
  },
  {
   "cell_type": "markdown",
   "metadata": {},
   "source": [
    "O próximo exemplo gera 100 números aleatórios reais entre 0 e 1 através da função **random()**."
   ]
  },
  {
   "cell_type": "code",
   "execution_count": 10,
   "metadata": {},
   "outputs": [
    {
     "name": "stdout",
     "output_type": "stream",
     "text": [
      "iteracao 0 : [0.1431613655911299]\n",
      "iteracao 1 : [0.1431613655911299, 0.6018821492337835]\n",
      "iteracao 2 : [0.1431613655911299, 0.6018821492337835, 0.7543259490253448]\n",
      "iteracao 3 : [0.1431613655911299, 0.6018821492337835, 0.7543259490253448, 0.7345170541248702]\n",
      "iteracao 4 : [0.1431613655911299, 0.6018821492337835, 0.7543259490253448, 0.7345170541248702, 0.6632963408554978]\n",
      "iteracao 5 : [0.1431613655911299, 0.6018821492337835, 0.7543259490253448, 0.7345170541248702, 0.6632963408554978, 0.37006181363360224]\n",
      "iteracao 6 : [0.1431613655911299, 0.6018821492337835, 0.7543259490253448, 0.7345170541248702, 0.6632963408554978, 0.37006181363360224, 0.7949395724560964]\n",
      "iteracao 7 : [0.1431613655911299, 0.6018821492337835, 0.7543259490253448, 0.7345170541248702, 0.6632963408554978, 0.37006181363360224, 0.7949395724560964, 0.49760849534509544]\n",
      "iteracao 8 : [0.1431613655911299, 0.6018821492337835, 0.7543259490253448, 0.7345170541248702, 0.6632963408554978, 0.37006181363360224, 0.7949395724560964, 0.49760849534509544, 0.343297453698595]\n",
      "iteracao 9 : [0.1431613655911299, 0.6018821492337835, 0.7543259490253448, 0.7345170541248702, 0.6632963408554978, 0.37006181363360224, 0.7949395724560964, 0.49760849534509544, 0.343297453698595, 0.9921146414760356]\n",
      "iteracao 10 : [0.1431613655911299, 0.6018821492337835, 0.7543259490253448, 0.7345170541248702, 0.6632963408554978, 0.37006181363360224, 0.7949395724560964, 0.49760849534509544, 0.343297453698595, 0.9921146414760356, 0.5112514148426325]\n",
      "iteracao 11 : [0.1431613655911299, 0.6018821492337835, 0.7543259490253448, 0.7345170541248702, 0.6632963408554978, 0.37006181363360224, 0.7949395724560964, 0.49760849534509544, 0.343297453698595, 0.9921146414760356, 0.5112514148426325, 0.32427183894824685]\n",
      "iteracao 12 : [0.1431613655911299, 0.6018821492337835, 0.7543259490253448, 0.7345170541248702, 0.6632963408554978, 0.37006181363360224, 0.7949395724560964, 0.49760849534509544, 0.343297453698595, 0.9921146414760356, 0.5112514148426325, 0.32427183894824685, 0.9004819576411511]\n",
      "iteracao 13 : [0.1431613655911299, 0.6018821492337835, 0.7543259490253448, 0.7345170541248702, 0.6632963408554978, 0.37006181363360224, 0.7949395724560964, 0.49760849534509544, 0.343297453698595, 0.9921146414760356, 0.5112514148426325, 0.32427183894824685, 0.9004819576411511, 0.5088950874730636]\n",
      "iteracao 14 : [0.1431613655911299, 0.6018821492337835, 0.7543259490253448, 0.7345170541248702, 0.6632963408554978, 0.37006181363360224, 0.7949395724560964, 0.49760849534509544, 0.343297453698595, 0.9921146414760356, 0.5112514148426325, 0.32427183894824685, 0.9004819576411511, 0.5088950874730636, 0.2781153174941935]\n",
      "iteracao 15 : [0.1431613655911299, 0.6018821492337835, 0.7543259490253448, 0.7345170541248702, 0.6632963408554978, 0.37006181363360224, 0.7949395724560964, 0.49760849534509544, 0.343297453698595, 0.9921146414760356, 0.5112514148426325, 0.32427183894824685, 0.9004819576411511, 0.5088950874730636, 0.2781153174941935, 0.6000721248113046]\n",
      "iteracao 16 : [0.1431613655911299, 0.6018821492337835, 0.7543259490253448, 0.7345170541248702, 0.6632963408554978, 0.37006181363360224, 0.7949395724560964, 0.49760849534509544, 0.343297453698595, 0.9921146414760356, 0.5112514148426325, 0.32427183894824685, 0.9004819576411511, 0.5088950874730636, 0.2781153174941935, 0.6000721248113046, 0.5776320659956454]\n",
      "iteracao 17 : [0.1431613655911299, 0.6018821492337835, 0.7543259490253448, 0.7345170541248702, 0.6632963408554978, 0.37006181363360224, 0.7949395724560964, 0.49760849534509544, 0.343297453698595, 0.9921146414760356, 0.5112514148426325, 0.32427183894824685, 0.9004819576411511, 0.5088950874730636, 0.2781153174941935, 0.6000721248113046, 0.5776320659956454, 0.4064154738346649]\n",
      "iteracao 18 : [0.1431613655911299, 0.6018821492337835, 0.7543259490253448, 0.7345170541248702, 0.6632963408554978, 0.37006181363360224, 0.7949395724560964, 0.49760849534509544, 0.343297453698595, 0.9921146414760356, 0.5112514148426325, 0.32427183894824685, 0.9004819576411511, 0.5088950874730636, 0.2781153174941935, 0.6000721248113046, 0.5776320659956454, 0.4064154738346649, 0.5157541357244263]\n",
      "iteracao 19 : [0.1431613655911299, 0.6018821492337835, 0.7543259490253448, 0.7345170541248702, 0.6632963408554978, 0.37006181363360224, 0.7949395724560964, 0.49760849534509544, 0.343297453698595, 0.9921146414760356, 0.5112514148426325, 0.32427183894824685, 0.9004819576411511, 0.5088950874730636, 0.2781153174941935, 0.6000721248113046, 0.5776320659956454, 0.4064154738346649, 0.5157541357244263, 0.19657530464745687]\n",
      "iteracao 20 : [0.1431613655911299, 0.6018821492337835, 0.7543259490253448, 0.7345170541248702, 0.6632963408554978, 0.37006181363360224, 0.7949395724560964, 0.49760849534509544, 0.343297453698595, 0.9921146414760356, 0.5112514148426325, 0.32427183894824685, 0.9004819576411511, 0.5088950874730636, 0.2781153174941935, 0.6000721248113046, 0.5776320659956454, 0.4064154738346649, 0.5157541357244263, 0.19657530464745687, 0.3427461801493722]\n",
      "iteracao 21 : [0.1431613655911299, 0.6018821492337835, 0.7543259490253448, 0.7345170541248702, 0.6632963408554978, 0.37006181363360224, 0.7949395724560964, 0.49760849534509544, 0.343297453698595, 0.9921146414760356, 0.5112514148426325, 0.32427183894824685, 0.9004819576411511, 0.5088950874730636, 0.2781153174941935, 0.6000721248113046, 0.5776320659956454, 0.4064154738346649, 0.5157541357244263, 0.19657530464745687, 0.3427461801493722, 0.6908838864406411]\n",
      "iteracao 22 : [0.1431613655911299, 0.6018821492337835, 0.7543259490253448, 0.7345170541248702, 0.6632963408554978, 0.37006181363360224, 0.7949395724560964, 0.49760849534509544, 0.343297453698595, 0.9921146414760356, 0.5112514148426325, 0.32427183894824685, 0.9004819576411511, 0.5088950874730636, 0.2781153174941935, 0.6000721248113046, 0.5776320659956454, 0.4064154738346649, 0.5157541357244263, 0.19657530464745687, 0.3427461801493722, 0.6908838864406411, 0.1419336281057062]\n",
      "iteracao 23 : [0.1431613655911299, 0.6018821492337835, 0.7543259490253448, 0.7345170541248702, 0.6632963408554978, 0.37006181363360224, 0.7949395724560964, 0.49760849534509544, 0.343297453698595, 0.9921146414760356, 0.5112514148426325, 0.32427183894824685, 0.9004819576411511, 0.5088950874730636, 0.2781153174941935, 0.6000721248113046, 0.5776320659956454, 0.4064154738346649, 0.5157541357244263, 0.19657530464745687, 0.3427461801493722, 0.6908838864406411, 0.1419336281057062, 0.4597506763003406]\n",
      "iteracao 24 : [0.1431613655911299, 0.6018821492337835, 0.7543259490253448, 0.7345170541248702, 0.6632963408554978, 0.37006181363360224, 0.7949395724560964, 0.49760849534509544, 0.343297453698595, 0.9921146414760356, 0.5112514148426325, 0.32427183894824685, 0.9004819576411511, 0.5088950874730636, 0.2781153174941935, 0.6000721248113046, 0.5776320659956454, 0.4064154738346649, 0.5157541357244263, 0.19657530464745687, 0.3427461801493722, 0.6908838864406411, 0.1419336281057062, 0.4597506763003406, 0.5321404106459042]\n",
      "iteracao 25 : [0.1431613655911299, 0.6018821492337835, 0.7543259490253448, 0.7345170541248702, 0.6632963408554978, 0.37006181363360224, 0.7949395724560964, 0.49760849534509544, 0.343297453698595, 0.9921146414760356, 0.5112514148426325, 0.32427183894824685, 0.9004819576411511, 0.5088950874730636, 0.2781153174941935, 0.6000721248113046, 0.5776320659956454, 0.4064154738346649, 0.5157541357244263, 0.19657530464745687, 0.3427461801493722, 0.6908838864406411, 0.1419336281057062, 0.4597506763003406, 0.5321404106459042, 0.020288954965090422]\n",
      "iteracao 26 : [0.1431613655911299, 0.6018821492337835, 0.7543259490253448, 0.7345170541248702, 0.6632963408554978, 0.37006181363360224, 0.7949395724560964, 0.49760849534509544, 0.343297453698595, 0.9921146414760356, 0.5112514148426325, 0.32427183894824685, 0.9004819576411511, 0.5088950874730636, 0.2781153174941935, 0.6000721248113046, 0.5776320659956454, 0.4064154738346649, 0.5157541357244263, 0.19657530464745687, 0.3427461801493722, 0.6908838864406411, 0.1419336281057062, 0.4597506763003406, 0.5321404106459042, 0.020288954965090422, 0.7664898659335112]\n",
      "iteracao 27 : [0.1431613655911299, 0.6018821492337835, 0.7543259490253448, 0.7345170541248702, 0.6632963408554978, 0.37006181363360224, 0.7949395724560964, 0.49760849534509544, 0.343297453698595, 0.9921146414760356, 0.5112514148426325, 0.32427183894824685, 0.9004819576411511, 0.5088950874730636, 0.2781153174941935, 0.6000721248113046, 0.5776320659956454, 0.4064154738346649, 0.5157541357244263, 0.19657530464745687, 0.3427461801493722, 0.6908838864406411, 0.1419336281057062, 0.4597506763003406, 0.5321404106459042, 0.020288954965090422, 0.7664898659335112, 0.9316143267203703]\n",
      "iteracao 28 : [0.1431613655911299, 0.6018821492337835, 0.7543259490253448, 0.7345170541248702, 0.6632963408554978, 0.37006181363360224, 0.7949395724560964, 0.49760849534509544, 0.343297453698595, 0.9921146414760356, 0.5112514148426325, 0.32427183894824685, 0.9004819576411511, 0.5088950874730636, 0.2781153174941935, 0.6000721248113046, 0.5776320659956454, 0.4064154738346649, 0.5157541357244263, 0.19657530464745687, 0.3427461801493722, 0.6908838864406411, 0.1419336281057062, 0.4597506763003406, 0.5321404106459042, 0.020288954965090422, 0.7664898659335112, 0.9316143267203703, 0.6855187723248526]\n",
      "iteracao 29 : [0.1431613655911299, 0.6018821492337835, 0.7543259490253448, 0.7345170541248702, 0.6632963408554978, 0.37006181363360224, 0.7949395724560964, 0.49760849534509544, 0.343297453698595, 0.9921146414760356, 0.5112514148426325, 0.32427183894824685, 0.9004819576411511, 0.5088950874730636, 0.2781153174941935, 0.6000721248113046, 0.5776320659956454, 0.4064154738346649, 0.5157541357244263, 0.19657530464745687, 0.3427461801493722, 0.6908838864406411, 0.1419336281057062, 0.4597506763003406, 0.5321404106459042, 0.020288954965090422, 0.7664898659335112, 0.9316143267203703, 0.6855187723248526, 0.015351739366211703]\n",
      "iteracao 30 : [0.1431613655911299, 0.6018821492337835, 0.7543259490253448, 0.7345170541248702, 0.6632963408554978, 0.37006181363360224, 0.7949395724560964, 0.49760849534509544, 0.343297453698595, 0.9921146414760356, 0.5112514148426325, 0.32427183894824685, 0.9004819576411511, 0.5088950874730636, 0.2781153174941935, 0.6000721248113046, 0.5776320659956454, 0.4064154738346649, 0.5157541357244263, 0.19657530464745687, 0.3427461801493722, 0.6908838864406411, 0.1419336281057062, 0.4597506763003406, 0.5321404106459042, 0.020288954965090422, 0.7664898659335112, 0.9316143267203703, 0.6855187723248526, 0.015351739366211703, 0.3481664798553763]\n",
      "iteracao 31 : [0.1431613655911299, 0.6018821492337835, 0.7543259490253448, 0.7345170541248702, 0.6632963408554978, 0.37006181363360224, 0.7949395724560964, 0.49760849534509544, 0.343297453698595, 0.9921146414760356, 0.5112514148426325, 0.32427183894824685, 0.9004819576411511, 0.5088950874730636, 0.2781153174941935, 0.6000721248113046, 0.5776320659956454, 0.4064154738346649, 0.5157541357244263, 0.19657530464745687, 0.3427461801493722, 0.6908838864406411, 0.1419336281057062, 0.4597506763003406, 0.5321404106459042, 0.020288954965090422, 0.7664898659335112, 0.9316143267203703, 0.6855187723248526, 0.015351739366211703, 0.3481664798553763, 0.5462127508648685]\n",
      "iteracao 32 : [0.1431613655911299, 0.6018821492337835, 0.7543259490253448, 0.7345170541248702, 0.6632963408554978, 0.37006181363360224, 0.7949395724560964, 0.49760849534509544, 0.343297453698595, 0.9921146414760356, 0.5112514148426325, 0.32427183894824685, 0.9004819576411511, 0.5088950874730636, 0.2781153174941935, 0.6000721248113046, 0.5776320659956454, 0.4064154738346649, 0.5157541357244263, 0.19657530464745687, 0.3427461801493722, 0.6908838864406411, 0.1419336281057062, 0.4597506763003406, 0.5321404106459042, 0.020288954965090422, 0.7664898659335112, 0.9316143267203703, 0.6855187723248526, 0.015351739366211703, 0.3481664798553763, 0.5462127508648685, 0.9329773854312409]\n",
      "iteracao 33 : [0.1431613655911299, 0.6018821492337835, 0.7543259490253448, 0.7345170541248702, 0.6632963408554978, 0.37006181363360224, 0.7949395724560964, 0.49760849534509544, 0.343297453698595, 0.9921146414760356, 0.5112514148426325, 0.32427183894824685, 0.9004819576411511, 0.5088950874730636, 0.2781153174941935, 0.6000721248113046, 0.5776320659956454, 0.4064154738346649, 0.5157541357244263, 0.19657530464745687, 0.3427461801493722, 0.6908838864406411, 0.1419336281057062, 0.4597506763003406, 0.5321404106459042, 0.020288954965090422, 0.7664898659335112, 0.9316143267203703, 0.6855187723248526, 0.015351739366211703, 0.3481664798553763, 0.5462127508648685, 0.9329773854312409, 0.4229491512016762]\n",
      "iteracao 34 : [0.1431613655911299, 0.6018821492337835, 0.7543259490253448, 0.7345170541248702, 0.6632963408554978, 0.37006181363360224, 0.7949395724560964, 0.49760849534509544, 0.343297453698595, 0.9921146414760356, 0.5112514148426325, 0.32427183894824685, 0.9004819576411511, 0.5088950874730636, 0.2781153174941935, 0.6000721248113046, 0.5776320659956454, 0.4064154738346649, 0.5157541357244263, 0.19657530464745687, 0.3427461801493722, 0.6908838864406411, 0.1419336281057062, 0.4597506763003406, 0.5321404106459042, 0.020288954965090422, 0.7664898659335112, 0.9316143267203703, 0.6855187723248526, 0.015351739366211703, 0.3481664798553763, 0.5462127508648685, 0.9329773854312409, 0.4229491512016762, 0.532447878614197]\n",
      "iteracao 35 : [0.1431613655911299, 0.6018821492337835, 0.7543259490253448, 0.7345170541248702, 0.6632963408554978, 0.37006181363360224, 0.7949395724560964, 0.49760849534509544, 0.343297453698595, 0.9921146414760356, 0.5112514148426325, 0.32427183894824685, 0.9004819576411511, 0.5088950874730636, 0.2781153174941935, 0.6000721248113046, 0.5776320659956454, 0.4064154738346649, 0.5157541357244263, 0.19657530464745687, 0.3427461801493722, 0.6908838864406411, 0.1419336281057062, 0.4597506763003406, 0.5321404106459042, 0.020288954965090422, 0.7664898659335112, 0.9316143267203703, 0.6855187723248526, 0.015351739366211703, 0.3481664798553763, 0.5462127508648685, 0.9329773854312409, 0.4229491512016762, 0.532447878614197, 0.6512596485846777]\n",
      "iteracao 36 : [0.1431613655911299, 0.6018821492337835, 0.7543259490253448, 0.7345170541248702, 0.6632963408554978, 0.37006181363360224, 0.7949395724560964, 0.49760849534509544, 0.343297453698595, 0.9921146414760356, 0.5112514148426325, 0.32427183894824685, 0.9004819576411511, 0.5088950874730636, 0.2781153174941935, 0.6000721248113046, 0.5776320659956454, 0.4064154738346649, 0.5157541357244263, 0.19657530464745687, 0.3427461801493722, 0.6908838864406411, 0.1419336281057062, 0.4597506763003406, 0.5321404106459042, 0.020288954965090422, 0.7664898659335112, 0.9316143267203703, 0.6855187723248526, 0.015351739366211703, 0.3481664798553763, 0.5462127508648685, 0.9329773854312409, 0.4229491512016762, 0.532447878614197, 0.6512596485846777, 0.03770629582758933]\n",
      "iteracao 37 : [0.1431613655911299, 0.6018821492337835, 0.7543259490253448, 0.7345170541248702, 0.6632963408554978, 0.37006181363360224, 0.7949395724560964, 0.49760849534509544, 0.343297453698595, 0.9921146414760356, 0.5112514148426325, 0.32427183894824685, 0.9004819576411511, 0.5088950874730636, 0.2781153174941935, 0.6000721248113046, 0.5776320659956454, 0.4064154738346649, 0.5157541357244263, 0.19657530464745687, 0.3427461801493722, 0.6908838864406411, 0.1419336281057062, 0.4597506763003406, 0.5321404106459042, 0.020288954965090422, 0.7664898659335112, 0.9316143267203703, 0.6855187723248526, 0.015351739366211703, 0.3481664798553763, 0.5462127508648685, 0.9329773854312409, 0.4229491512016762, 0.532447878614197, 0.6512596485846777, 0.03770629582758933, 0.4894008699558864]\n",
      "iteracao 38 : [0.1431613655911299, 0.6018821492337835, 0.7543259490253448, 0.7345170541248702, 0.6632963408554978, 0.37006181363360224, 0.7949395724560964, 0.49760849534509544, 0.343297453698595, 0.9921146414760356, 0.5112514148426325, 0.32427183894824685, 0.9004819576411511, 0.5088950874730636, 0.2781153174941935, 0.6000721248113046, 0.5776320659956454, 0.4064154738346649, 0.5157541357244263, 0.19657530464745687, 0.3427461801493722, 0.6908838864406411, 0.1419336281057062, 0.4597506763003406, 0.5321404106459042, 0.020288954965090422, 0.7664898659335112, 0.9316143267203703, 0.6855187723248526, 0.015351739366211703, 0.3481664798553763, 0.5462127508648685, 0.9329773854312409, 0.4229491512016762, 0.532447878614197, 0.6512596485846777, 0.03770629582758933, 0.4894008699558864, 0.4412219808880269]\n",
      "iteracao 39 : [0.1431613655911299, 0.6018821492337835, 0.7543259490253448, 0.7345170541248702, 0.6632963408554978, 0.37006181363360224, 0.7949395724560964, 0.49760849534509544, 0.343297453698595, 0.9921146414760356, 0.5112514148426325, 0.32427183894824685, 0.9004819576411511, 0.5088950874730636, 0.2781153174941935, 0.6000721248113046, 0.5776320659956454, 0.4064154738346649, 0.5157541357244263, 0.19657530464745687, 0.3427461801493722, 0.6908838864406411, 0.1419336281057062, 0.4597506763003406, 0.5321404106459042, 0.020288954965090422, 0.7664898659335112, 0.9316143267203703, 0.6855187723248526, 0.015351739366211703, 0.3481664798553763, 0.5462127508648685, 0.9329773854312409, 0.4229491512016762, 0.532447878614197, 0.6512596485846777, 0.03770629582758933, 0.4894008699558864, 0.4412219808880269, 0.4164423315051976]\n",
      "iteracao 40 : [0.1431613655911299, 0.6018821492337835, 0.7543259490253448, 0.7345170541248702, 0.6632963408554978, 0.37006181363360224, 0.7949395724560964, 0.49760849534509544, 0.343297453698595, 0.9921146414760356, 0.5112514148426325, 0.32427183894824685, 0.9004819576411511, 0.5088950874730636, 0.2781153174941935, 0.6000721248113046, 0.5776320659956454, 0.4064154738346649, 0.5157541357244263, 0.19657530464745687, 0.3427461801493722, 0.6908838864406411, 0.1419336281057062, 0.4597506763003406, 0.5321404106459042, 0.020288954965090422, 0.7664898659335112, 0.9316143267203703, 0.6855187723248526, 0.015351739366211703, 0.3481664798553763, 0.5462127508648685, 0.9329773854312409, 0.4229491512016762, 0.532447878614197, 0.6512596485846777, 0.03770629582758933, 0.4894008699558864, 0.4412219808880269, 0.4164423315051976, 0.03939300215288699]\n",
      "iteracao 41 : [0.1431613655911299, 0.6018821492337835, 0.7543259490253448, 0.7345170541248702, 0.6632963408554978, 0.37006181363360224, 0.7949395724560964, 0.49760849534509544, 0.343297453698595, 0.9921146414760356, 0.5112514148426325, 0.32427183894824685, 0.9004819576411511, 0.5088950874730636, 0.2781153174941935, 0.6000721248113046, 0.5776320659956454, 0.4064154738346649, 0.5157541357244263, 0.19657530464745687, 0.3427461801493722, 0.6908838864406411, 0.1419336281057062, 0.4597506763003406, 0.5321404106459042, 0.020288954965090422, 0.7664898659335112, 0.9316143267203703, 0.6855187723248526, 0.015351739366211703, 0.3481664798553763, 0.5462127508648685, 0.9329773854312409, 0.4229491512016762, 0.532447878614197, 0.6512596485846777, 0.03770629582758933, 0.4894008699558864, 0.4412219808880269, 0.4164423315051976, 0.03939300215288699, 0.6211697151162868]\n",
      "iteracao 42 : [0.1431613655911299, 0.6018821492337835, 0.7543259490253448, 0.7345170541248702, 0.6632963408554978, 0.37006181363360224, 0.7949395724560964, 0.49760849534509544, 0.343297453698595, 0.9921146414760356, 0.5112514148426325, 0.32427183894824685, 0.9004819576411511, 0.5088950874730636, 0.2781153174941935, 0.6000721248113046, 0.5776320659956454, 0.4064154738346649, 0.5157541357244263, 0.19657530464745687, 0.3427461801493722, 0.6908838864406411, 0.1419336281057062, 0.4597506763003406, 0.5321404106459042, 0.020288954965090422, 0.7664898659335112, 0.9316143267203703, 0.6855187723248526, 0.015351739366211703, 0.3481664798553763, 0.5462127508648685, 0.9329773854312409, 0.4229491512016762, 0.532447878614197, 0.6512596485846777, 0.03770629582758933, 0.4894008699558864, 0.4412219808880269, 0.4164423315051976, 0.03939300215288699, 0.6211697151162868, 0.8980372695839278]\n",
      "iteracao 43 : [0.1431613655911299, 0.6018821492337835, 0.7543259490253448, 0.7345170541248702, 0.6632963408554978, 0.37006181363360224, 0.7949395724560964, 0.49760849534509544, 0.343297453698595, 0.9921146414760356, 0.5112514148426325, 0.32427183894824685, 0.9004819576411511, 0.5088950874730636, 0.2781153174941935, 0.6000721248113046, 0.5776320659956454, 0.4064154738346649, 0.5157541357244263, 0.19657530464745687, 0.3427461801493722, 0.6908838864406411, 0.1419336281057062, 0.4597506763003406, 0.5321404106459042, 0.020288954965090422, 0.7664898659335112, 0.9316143267203703, 0.6855187723248526, 0.015351739366211703, 0.3481664798553763, 0.5462127508648685, 0.9329773854312409, 0.4229491512016762, 0.532447878614197, 0.6512596485846777, 0.03770629582758933, 0.4894008699558864, 0.4412219808880269, 0.4164423315051976, 0.03939300215288699, 0.6211697151162868, 0.8980372695839278, 0.4357498470644029]\n",
      "iteracao 44 : [0.1431613655911299, 0.6018821492337835, 0.7543259490253448, 0.7345170541248702, 0.6632963408554978, 0.37006181363360224, 0.7949395724560964, 0.49760849534509544, 0.343297453698595, 0.9921146414760356, 0.5112514148426325, 0.32427183894824685, 0.9004819576411511, 0.5088950874730636, 0.2781153174941935, 0.6000721248113046, 0.5776320659956454, 0.4064154738346649, 0.5157541357244263, 0.19657530464745687, 0.3427461801493722, 0.6908838864406411, 0.1419336281057062, 0.4597506763003406, 0.5321404106459042, 0.020288954965090422, 0.7664898659335112, 0.9316143267203703, 0.6855187723248526, 0.015351739366211703, 0.3481664798553763, 0.5462127508648685, 0.9329773854312409, 0.4229491512016762, 0.532447878614197, 0.6512596485846777, 0.03770629582758933, 0.4894008699558864, 0.4412219808880269, 0.4164423315051976, 0.03939300215288699, 0.6211697151162868, 0.8980372695839278, 0.4357498470644029, 0.7177599609711778]\n",
      "iteracao 45 : [0.1431613655911299, 0.6018821492337835, 0.7543259490253448, 0.7345170541248702, 0.6632963408554978, 0.37006181363360224, 0.7949395724560964, 0.49760849534509544, 0.343297453698595, 0.9921146414760356, 0.5112514148426325, 0.32427183894824685, 0.9004819576411511, 0.5088950874730636, 0.2781153174941935, 0.6000721248113046, 0.5776320659956454, 0.4064154738346649, 0.5157541357244263, 0.19657530464745687, 0.3427461801493722, 0.6908838864406411, 0.1419336281057062, 0.4597506763003406, 0.5321404106459042, 0.020288954965090422, 0.7664898659335112, 0.9316143267203703, 0.6855187723248526, 0.015351739366211703, 0.3481664798553763, 0.5462127508648685, 0.9329773854312409, 0.4229491512016762, 0.532447878614197, 0.6512596485846777, 0.03770629582758933, 0.4894008699558864, 0.4412219808880269, 0.4164423315051976, 0.03939300215288699, 0.6211697151162868, 0.8980372695839278, 0.4357498470644029, 0.7177599609711778, 0.7895754653788606]\n",
      "iteracao 46 : [0.1431613655911299, 0.6018821492337835, 0.7543259490253448, 0.7345170541248702, 0.6632963408554978, 0.37006181363360224, 0.7949395724560964, 0.49760849534509544, 0.343297453698595, 0.9921146414760356, 0.5112514148426325, 0.32427183894824685, 0.9004819576411511, 0.5088950874730636, 0.2781153174941935, 0.6000721248113046, 0.5776320659956454, 0.4064154738346649, 0.5157541357244263, 0.19657530464745687, 0.3427461801493722, 0.6908838864406411, 0.1419336281057062, 0.4597506763003406, 0.5321404106459042, 0.020288954965090422, 0.7664898659335112, 0.9316143267203703, 0.6855187723248526, 0.015351739366211703, 0.3481664798553763, 0.5462127508648685, 0.9329773854312409, 0.4229491512016762, 0.532447878614197, 0.6512596485846777, 0.03770629582758933, 0.4894008699558864, 0.4412219808880269, 0.4164423315051976, 0.03939300215288699, 0.6211697151162868, 0.8980372695839278, 0.4357498470644029, 0.7177599609711778, 0.7895754653788606, 0.43056853755323277]\n",
      "iteracao 47 : [0.1431613655911299, 0.6018821492337835, 0.7543259490253448, 0.7345170541248702, 0.6632963408554978, 0.37006181363360224, 0.7949395724560964, 0.49760849534509544, 0.343297453698595, 0.9921146414760356, 0.5112514148426325, 0.32427183894824685, 0.9004819576411511, 0.5088950874730636, 0.2781153174941935, 0.6000721248113046, 0.5776320659956454, 0.4064154738346649, 0.5157541357244263, 0.19657530464745687, 0.3427461801493722, 0.6908838864406411, 0.1419336281057062, 0.4597506763003406, 0.5321404106459042, 0.020288954965090422, 0.7664898659335112, 0.9316143267203703, 0.6855187723248526, 0.015351739366211703, 0.3481664798553763, 0.5462127508648685, 0.9329773854312409, 0.4229491512016762, 0.532447878614197, 0.6512596485846777, 0.03770629582758933, 0.4894008699558864, 0.4412219808880269, 0.4164423315051976, 0.03939300215288699, 0.6211697151162868, 0.8980372695839278, 0.4357498470644029, 0.7177599609711778, 0.7895754653788606, 0.43056853755323277, 0.724985908604776]\n",
      "iteracao 48 : [0.1431613655911299, 0.6018821492337835, 0.7543259490253448, 0.7345170541248702, 0.6632963408554978, 0.37006181363360224, 0.7949395724560964, 0.49760849534509544, 0.343297453698595, 0.9921146414760356, 0.5112514148426325, 0.32427183894824685, 0.9004819576411511, 0.5088950874730636, 0.2781153174941935, 0.6000721248113046, 0.5776320659956454, 0.4064154738346649, 0.5157541357244263, 0.19657530464745687, 0.3427461801493722, 0.6908838864406411, 0.1419336281057062, 0.4597506763003406, 0.5321404106459042, 0.020288954965090422, 0.7664898659335112, 0.9316143267203703, 0.6855187723248526, 0.015351739366211703, 0.3481664798553763, 0.5462127508648685, 0.9329773854312409, 0.4229491512016762, 0.532447878614197, 0.6512596485846777, 0.03770629582758933, 0.4894008699558864, 0.4412219808880269, 0.4164423315051976, 0.03939300215288699, 0.6211697151162868, 0.8980372695839278, 0.4357498470644029, 0.7177599609711778, 0.7895754653788606, 0.43056853755323277, 0.724985908604776, 0.17122145774946929]\n",
      "iteracao 49 : [0.1431613655911299, 0.6018821492337835, 0.7543259490253448, 0.7345170541248702, 0.6632963408554978, 0.37006181363360224, 0.7949395724560964, 0.49760849534509544, 0.343297453698595, 0.9921146414760356, 0.5112514148426325, 0.32427183894824685, 0.9004819576411511, 0.5088950874730636, 0.2781153174941935, 0.6000721248113046, 0.5776320659956454, 0.4064154738346649, 0.5157541357244263, 0.19657530464745687, 0.3427461801493722, 0.6908838864406411, 0.1419336281057062, 0.4597506763003406, 0.5321404106459042, 0.020288954965090422, 0.7664898659335112, 0.9316143267203703, 0.6855187723248526, 0.015351739366211703, 0.3481664798553763, 0.5462127508648685, 0.9329773854312409, 0.4229491512016762, 0.532447878614197, 0.6512596485846777, 0.03770629582758933, 0.4894008699558864, 0.4412219808880269, 0.4164423315051976, 0.03939300215288699, 0.6211697151162868, 0.8980372695839278, 0.4357498470644029, 0.7177599609711778, 0.7895754653788606, 0.43056853755323277, 0.724985908604776, 0.17122145774946929, 0.947389036853141]\n"
     ]
    }
   ],
   "source": [
    "lreal = []\n",
    "for i in range(50):\n",
    "    x = random.random()\n",
    "    lreal.append(x)\n",
    "    print(f\"iteracao {i} : {lreal}\")\n",
    "\n",
    "#print(lreal)"
   ]
  },
  {
   "cell_type": "markdown",
   "metadata": {},
   "source": [
    "O gráfico associado aos números aleatórios entre $(0,1)$"
   ]
  },
  {
   "cell_type": "code",
   "execution_count": 11,
   "metadata": {},
   "outputs": [
    {
     "data": {
      "image/png": "[encoded data removed]",
      "text/plain": [
       "<Figure size 432x288 with 1 Axes>"
      ]
     },
     "metadata": {
      "needs_background": "light"
     },
     "output_type": "display_data"
    }
   ],
   "source": [
    "plt.plot(lreal,color ='black')\n",
    "plt.xlabel(\"eixo x\")\n",
    "plt.ylabel(\"Números aleatórios entre 0 e 1\")\n",
    "plt.show()"
   ]
  },
  {
   "cell_type": "markdown",
   "metadata": {},
   "source": [
    "O próximo exemplo gera números aleatórios reais no intervalor $(-a,a)$, onde $a$ é um real através da função **random.uniform(inicio,fim)**"
   ]
  },
  {
   "cell_type": "code",
   "execution_count": 12,
   "metadata": {},
   "outputs": [
    {
     "name": "stdout",
     "output_type": "stream",
     "text": [
      "iteracao 0: [0.9125752543799444]\n",
      "iteracao 1: [0.9125752543799444, -0.719184471058083]\n",
      "iteracao 2: [0.9125752543799444, -0.719184471058083, 0.24964510635258041]\n",
      "iteracao 3: [0.9125752543799444, -0.719184471058083, 0.24964510635258041, -0.9146789089045038]\n",
      "iteracao 4: [0.9125752543799444, -0.719184471058083, 0.24964510635258041, -0.9146789089045038, -0.13403750341929732]\n",
      "iteracao 5: [0.9125752543799444, -0.719184471058083, 0.24964510635258041, -0.9146789089045038, -0.13403750341929732, -0.46852342437698646]\n",
      "iteracao 6: [0.9125752543799444, -0.719184471058083, 0.24964510635258041, -0.9146789089045038, -0.13403750341929732, -0.46852342437698646, 0.7886702924904447]\n",
      "iteracao 7: [0.9125752543799444, -0.719184471058083, 0.24964510635258041, -0.9146789089045038, -0.13403750341929732, -0.46852342437698646, 0.7886702924904447, -0.46149994371584024]\n",
      "iteracao 8: [0.9125752543799444, -0.719184471058083, 0.24964510635258041, -0.9146789089045038, -0.13403750341929732, -0.46852342437698646, 0.7886702924904447, -0.46149994371584024, 0.4700892266429033]\n",
      "iteracao 9: [0.9125752543799444, -0.719184471058083, 0.24964510635258041, -0.9146789089045038, -0.13403750341929732, -0.46852342437698646, 0.7886702924904447, -0.46149994371584024, 0.4700892266429033, 0.8647707835075451]\n",
      "iteracao 10: [0.9125752543799444, -0.719184471058083, 0.24964510635258041, -0.9146789089045038, -0.13403750341929732, -0.46852342437698646, 0.7886702924904447, -0.46149994371584024, 0.4700892266429033, 0.8647707835075451, 0.4737751462713622]\n",
      "iteracao 11: [0.9125752543799444, -0.719184471058083, 0.24964510635258041, -0.9146789089045038, -0.13403750341929732, -0.46852342437698646, 0.7886702924904447, -0.46149994371584024, 0.4700892266429033, 0.8647707835075451, 0.4737751462713622, 0.7551610718163588]\n",
      "iteracao 12: [0.9125752543799444, -0.719184471058083, 0.24964510635258041, -0.9146789089045038, -0.13403750341929732, -0.46852342437698646, 0.7886702924904447, -0.46149994371584024, 0.4700892266429033, 0.8647707835075451, 0.4737751462713622, 0.7551610718163588, 0.2518299974682363]\n",
      "iteracao 13: [0.9125752543799444, -0.719184471058083, 0.24964510635258041, -0.9146789089045038, -0.13403750341929732, -0.46852342437698646, 0.7886702924904447, -0.46149994371584024, 0.4700892266429033, 0.8647707835075451, 0.4737751462713622, 0.7551610718163588, 0.2518299974682363, -0.8683157983846199]\n",
      "iteracao 14: [0.9125752543799444, -0.719184471058083, 0.24964510635258041, -0.9146789089045038, -0.13403750341929732, -0.46852342437698646, 0.7886702924904447, -0.46149994371584024, 0.4700892266429033, 0.8647707835075451, 0.4737751462713622, 0.7551610718163588, 0.2518299974682363, -0.8683157983846199, -0.13792175904345316]\n",
      "iteracao 15: [0.9125752543799444, -0.719184471058083, 0.24964510635258041, -0.9146789089045038, -0.13403750341929732, -0.46852342437698646, 0.7886702924904447, -0.46149994371584024, 0.4700892266429033, 0.8647707835075451, 0.4737751462713622, 0.7551610718163588, 0.2518299974682363, -0.8683157983846199, -0.13792175904345316, 0.4146647493954716]\n",
      "iteracao 16: [0.9125752543799444, -0.719184471058083, 0.24964510635258041, -0.9146789089045038, -0.13403750341929732, -0.46852342437698646, 0.7886702924904447, -0.46149994371584024, 0.4700892266429033, 0.8647707835075451, 0.4737751462713622, 0.7551610718163588, 0.2518299974682363, -0.8683157983846199, -0.13792175904345316, 0.4146647493954716, 0.2931968503268383]\n",
      "iteracao 17: [0.9125752543799444, -0.719184471058083, 0.24964510635258041, -0.9146789089045038, -0.13403750341929732, -0.46852342437698646, 0.7886702924904447, -0.46149994371584024, 0.4700892266429033, 0.8647707835075451, 0.4737751462713622, 0.7551610718163588, 0.2518299974682363, -0.8683157983846199, -0.13792175904345316, 0.4146647493954716, 0.2931968503268383, 0.5428317369480558]\n",
      "iteracao 18: [0.9125752543799444, -0.719184471058083, 0.24964510635258041, -0.9146789089045038, -0.13403750341929732, -0.46852342437698646, 0.7886702924904447, -0.46149994371584024, 0.4700892266429033, 0.8647707835075451, 0.4737751462713622, 0.7551610718163588, 0.2518299974682363, -0.8683157983846199, -0.13792175904345316, 0.4146647493954716, 0.2931968503268383, 0.5428317369480558, 0.30594649022540765]\n",
      "iteracao 19: [0.9125752543799444, -0.719184471058083, 0.24964510635258041, -0.9146789089045038, -0.13403750341929732, -0.46852342437698646, 0.7886702924904447, -0.46149994371584024, 0.4700892266429033, 0.8647707835075451, 0.4737751462713622, 0.7551610718163588, 0.2518299974682363, -0.8683157983846199, -0.13792175904345316, 0.4146647493954716, 0.2931968503268383, 0.5428317369480558, 0.30594649022540765, 0.6211737067011327]\n",
      "iteracao 20: [0.9125752543799444, -0.719184471058083, 0.24964510635258041, -0.9146789089045038, -0.13403750341929732, -0.46852342437698646, 0.7886702924904447, -0.46149994371584024, 0.4700892266429033, 0.8647707835075451, 0.4737751462713622, 0.7551610718163588, 0.2518299974682363, -0.8683157983846199, -0.13792175904345316, 0.4146647493954716, 0.2931968503268383, 0.5428317369480558, 0.30594649022540765, 0.6211737067011327, 0.4781206548053769]\n",
      "iteracao 21: [0.9125752543799444, -0.719184471058083, 0.24964510635258041, -0.9146789089045038, -0.13403750341929732, -0.46852342437698646, 0.7886702924904447, -0.46149994371584024, 0.4700892266429033, 0.8647707835075451, 0.4737751462713622, 0.7551610718163588, 0.2518299974682363, -0.8683157983846199, -0.13792175904345316, 0.4146647493954716, 0.2931968503268383, 0.5428317369480558, 0.30594649022540765, 0.6211737067011327, 0.4781206548053769, -0.23288155763030405]\n",
      "iteracao 22: [0.9125752543799444, -0.719184471058083, 0.24964510635258041, -0.9146789089045038, -0.13403750341929732, -0.46852342437698646, 0.7886702924904447, -0.46149994371584024, 0.4700892266429033, 0.8647707835075451, 0.4737751462713622, 0.7551610718163588, 0.2518299974682363, -0.8683157983846199, -0.13792175904345316, 0.4146647493954716, 0.2931968503268383, 0.5428317369480558, 0.30594649022540765, 0.6211737067011327, 0.4781206548053769, -0.23288155763030405, -0.15405989645867924]\n",
      "iteracao 23: [0.9125752543799444, -0.719184471058083, 0.24964510635258041, -0.9146789089045038, -0.13403750341929732, -0.46852342437698646, 0.7886702924904447, -0.46149994371584024, 0.4700892266429033, 0.8647707835075451, 0.4737751462713622, 0.7551610718163588, 0.2518299974682363, -0.8683157983846199, -0.13792175904345316, 0.4146647493954716, 0.2931968503268383, 0.5428317369480558, 0.30594649022540765, 0.6211737067011327, 0.4781206548053769, -0.23288155763030405, -0.15405989645867924, -0.22768263995100457]\n",
      "iteracao 24: [0.9125752543799444, -0.719184471058083, 0.24964510635258041, -0.9146789089045038, -0.13403750341929732, -0.46852342437698646, 0.7886702924904447, -0.46149994371584024, 0.4700892266429033, 0.8647707835075451, 0.4737751462713622, 0.7551610718163588, 0.2518299974682363, -0.8683157983846199, -0.13792175904345316, 0.4146647493954716, 0.2931968503268383, 0.5428317369480558, 0.30594649022540765, 0.6211737067011327, 0.4781206548053769, -0.23288155763030405, -0.15405989645867924, -0.22768263995100457, 0.9448148863173773]\n",
      "iteracao 25: [0.9125752543799444, -0.719184471058083, 0.24964510635258041, -0.9146789089045038, -0.13403750341929732, -0.46852342437698646, 0.7886702924904447, -0.46149994371584024, 0.4700892266429033, 0.8647707835075451, 0.4737751462713622, 0.7551610718163588, 0.2518299974682363, -0.8683157983846199, -0.13792175904345316, 0.4146647493954716, 0.2931968503268383, 0.5428317369480558, 0.30594649022540765, 0.6211737067011327, 0.4781206548053769, -0.23288155763030405, -0.15405989645867924, -0.22768263995100457, 0.9448148863173773, 0.3380275928410599]\n",
      "iteracao 26: [0.9125752543799444, -0.719184471058083, 0.24964510635258041, -0.9146789089045038, -0.13403750341929732, -0.46852342437698646, 0.7886702924904447, -0.46149994371584024, 0.4700892266429033, 0.8647707835075451, 0.4737751462713622, 0.7551610718163588, 0.2518299974682363, -0.8683157983846199, -0.13792175904345316, 0.4146647493954716, 0.2931968503268383, 0.5428317369480558, 0.30594649022540765, 0.6211737067011327, 0.4781206548053769, -0.23288155763030405, -0.15405989645867924, -0.22768263995100457, 0.9448148863173773, 0.3380275928410599, 0.3342853086887603]\n",
      "iteracao 27: [0.9125752543799444, -0.719184471058083, 0.24964510635258041, -0.9146789089045038, -0.13403750341929732, -0.46852342437698646, 0.7886702924904447, -0.46149994371584024, 0.4700892266429033, 0.8647707835075451, 0.4737751462713622, 0.7551610718163588, 0.2518299974682363, -0.8683157983846199, -0.13792175904345316, 0.4146647493954716, 0.2931968503268383, 0.5428317369480558, 0.30594649022540765, 0.6211737067011327, 0.4781206548053769, -0.23288155763030405, -0.15405989645867924, -0.22768263995100457, 0.9448148863173773, 0.3380275928410599, 0.3342853086887603, 0.21492079016585453]\n",
      "iteracao 28: [0.9125752543799444, -0.719184471058083, 0.24964510635258041, -0.9146789089045038, -0.13403750341929732, -0.46852342437698646, 0.7886702924904447, -0.46149994371584024, 0.4700892266429033, 0.8647707835075451, 0.4737751462713622, 0.7551610718163588, 0.2518299974682363, -0.8683157983846199, -0.13792175904345316, 0.4146647493954716, 0.2931968503268383, 0.5428317369480558, 0.30594649022540765, 0.6211737067011327, 0.4781206548053769, -0.23288155763030405, -0.15405989645867924, -0.22768263995100457, 0.9448148863173773, 0.3380275928410599, 0.3342853086887603, 0.21492079016585453, 0.4210093377179467]\n",
      "iteracao 29: [0.9125752543799444, -0.719184471058083, 0.24964510635258041, -0.9146789089045038, -0.13403750341929732, -0.46852342437698646, 0.7886702924904447, -0.46149994371584024, 0.4700892266429033, 0.8647707835075451, 0.4737751462713622, 0.7551610718163588, 0.2518299974682363, -0.8683157983846199, -0.13792175904345316, 0.4146647493954716, 0.2931968503268383, 0.5428317369480558, 0.30594649022540765, 0.6211737067011327, 0.4781206548053769, -0.23288155763030405, -0.15405989645867924, -0.22768263995100457, 0.9448148863173773, 0.3380275928410599, 0.3342853086887603, 0.21492079016585453, 0.4210093377179467, -0.17010629966204194]\n",
      "iteracao 30: [0.9125752543799444, -0.719184471058083, 0.24964510635258041, -0.9146789089045038, -0.13403750341929732, -0.46852342437698646, 0.7886702924904447, -0.46149994371584024, 0.4700892266429033, 0.8647707835075451, 0.4737751462713622, 0.7551610718163588, 0.2518299974682363, -0.8683157983846199, -0.13792175904345316, 0.4146647493954716, 0.2931968503268383, 0.5428317369480558, 0.30594649022540765, 0.6211737067011327, 0.4781206548053769, -0.23288155763030405, -0.15405989645867924, -0.22768263995100457, 0.9448148863173773, 0.3380275928410599, 0.3342853086887603, 0.21492079016585453, 0.4210093377179467, -0.17010629966204194, 0.9533199722044583]\n",
      "iteracao 31: [0.9125752543799444, -0.719184471058083, 0.24964510635258041, -0.9146789089045038, -0.13403750341929732, -0.46852342437698646, 0.7886702924904447, -0.46149994371584024, 0.4700892266429033, 0.8647707835075451, 0.4737751462713622, 0.7551610718163588, 0.2518299974682363, -0.8683157983846199, -0.13792175904345316, 0.4146647493954716, 0.2931968503268383, 0.5428317369480558, 0.30594649022540765, 0.6211737067011327, 0.4781206548053769, -0.23288155763030405, -0.15405989645867924, -0.22768263995100457, 0.9448148863173773, 0.3380275928410599, 0.3342853086887603, 0.21492079016585453, 0.4210093377179467, -0.17010629966204194, 0.9533199722044583, -0.7316827043250729]\n",
      "iteracao 32: [0.9125752543799444, -0.719184471058083, 0.24964510635258041, -0.9146789089045038, -0.13403750341929732, -0.46852342437698646, 0.7886702924904447, -0.46149994371584024, 0.4700892266429033, 0.8647707835075451, 0.4737751462713622, 0.7551610718163588, 0.2518299974682363, -0.8683157983846199, -0.13792175904345316, 0.4146647493954716, 0.2931968503268383, 0.5428317369480558, 0.30594649022540765, 0.6211737067011327, 0.4781206548053769, -0.23288155763030405, -0.15405989645867924, -0.22768263995100457, 0.9448148863173773, 0.3380275928410599, 0.3342853086887603, 0.21492079016585453, 0.4210093377179467, -0.17010629966204194, 0.9533199722044583, -0.7316827043250729, -0.4046520937573659]\n",
      "iteracao 33: [0.9125752543799444, -0.719184471058083, 0.24964510635258041, -0.9146789089045038, -0.13403750341929732, -0.46852342437698646, 0.7886702924904447, -0.46149994371584024, 0.4700892266429033, 0.8647707835075451, 0.4737751462713622, 0.7551610718163588, 0.2518299974682363, -0.8683157983846199, -0.13792175904345316, 0.4146647493954716, 0.2931968503268383, 0.5428317369480558, 0.30594649022540765, 0.6211737067011327, 0.4781206548053769, -0.23288155763030405, -0.15405989645867924, -0.22768263995100457, 0.9448148863173773, 0.3380275928410599, 0.3342853086887603, 0.21492079016585453, 0.4210093377179467, -0.17010629966204194, 0.9533199722044583, -0.7316827043250729, -0.4046520937573659, -0.4166843804974365]\n",
      "iteracao 34: [0.9125752543799444, -0.719184471058083, 0.24964510635258041, -0.9146789089045038, -0.13403750341929732, -0.46852342437698646, 0.7886702924904447, -0.46149994371584024, 0.4700892266429033, 0.8647707835075451, 0.4737751462713622, 0.7551610718163588, 0.2518299974682363, -0.8683157983846199, -0.13792175904345316, 0.4146647493954716, 0.2931968503268383, 0.5428317369480558, 0.30594649022540765, 0.6211737067011327, 0.4781206548053769, -0.23288155763030405, -0.15405989645867924, -0.22768263995100457, 0.9448148863173773, 0.3380275928410599, 0.3342853086887603, 0.21492079016585453, 0.4210093377179467, -0.17010629966204194, 0.9533199722044583, -0.7316827043250729, -0.4046520937573659, -0.4166843804974365, 0.3889821456666622]\n",
      "iteracao 35: [0.9125752543799444, -0.719184471058083, 0.24964510635258041, -0.9146789089045038, -0.13403750341929732, -0.46852342437698646, 0.7886702924904447, -0.46149994371584024, 0.4700892266429033, 0.8647707835075451, 0.4737751462713622, 0.7551610718163588, 0.2518299974682363, -0.8683157983846199, -0.13792175904345316, 0.4146647493954716, 0.2931968503268383, 0.5428317369480558, 0.30594649022540765, 0.6211737067011327, 0.4781206548053769, -0.23288155763030405, -0.15405989645867924, -0.22768263995100457, 0.9448148863173773, 0.3380275928410599, 0.3342853086887603, 0.21492079016585453, 0.4210093377179467, -0.17010629966204194, 0.9533199722044583, -0.7316827043250729, -0.4046520937573659, -0.4166843804974365, 0.3889821456666622, 0.5731425470186622]\n",
      "iteracao 36: [0.9125752543799444, -0.719184471058083, 0.24964510635258041, -0.9146789089045038, -0.13403750341929732, -0.46852342437698646, 0.7886702924904447, -0.46149994371584024, 0.4700892266429033, 0.8647707835075451, 0.4737751462713622, 0.7551610718163588, 0.2518299974682363, -0.8683157983846199, -0.13792175904345316, 0.4146647493954716, 0.2931968503268383, 0.5428317369480558, 0.30594649022540765, 0.6211737067011327, 0.4781206548053769, -0.23288155763030405, -0.15405989645867924, -0.22768263995100457, 0.9448148863173773, 0.3380275928410599, 0.3342853086887603, 0.21492079016585453, 0.4210093377179467, -0.17010629966204194, 0.9533199722044583, -0.7316827043250729, -0.4046520937573659, -0.4166843804974365, 0.3889821456666622, 0.5731425470186622, 0.752450868347585]\n",
      "iteracao 37: [0.9125752543799444, -0.719184471058083, 0.24964510635258041, -0.9146789089045038, -0.13403750341929732, -0.46852342437698646, 0.7886702924904447, -0.46149994371584024, 0.4700892266429033, 0.8647707835075451, 0.4737751462713622, 0.7551610718163588, 0.2518299974682363, -0.8683157983846199, -0.13792175904345316, 0.4146647493954716, 0.2931968503268383, 0.5428317369480558, 0.30594649022540765, 0.6211737067011327, 0.4781206548053769, -0.23288155763030405, -0.15405989645867924, -0.22768263995100457, 0.9448148863173773, 0.3380275928410599, 0.3342853086887603, 0.21492079016585453, 0.4210093377179467, -0.17010629966204194, 0.9533199722044583, -0.7316827043250729, -0.4046520937573659, -0.4166843804974365, 0.3889821456666622, 0.5731425470186622, 0.752450868347585, -0.1631823517358051]\n",
      "iteracao 38: [0.9125752543799444, -0.719184471058083, 0.24964510635258041, -0.9146789089045038, -0.13403750341929732, -0.46852342437698646, 0.7886702924904447, -0.46149994371584024, 0.4700892266429033, 0.8647707835075451, 0.4737751462713622, 0.7551610718163588, 0.2518299974682363, -0.8683157983846199, -0.13792175904345316, 0.4146647493954716, 0.2931968503268383, 0.5428317369480558, 0.30594649022540765, 0.6211737067011327, 0.4781206548053769, -0.23288155763030405, -0.15405989645867924, -0.22768263995100457, 0.9448148863173773, 0.3380275928410599, 0.3342853086887603, 0.21492079016585453, 0.4210093377179467, -0.17010629966204194, 0.9533199722044583, -0.7316827043250729, -0.4046520937573659, -0.4166843804974365, 0.3889821456666622, 0.5731425470186622, 0.752450868347585, -0.1631823517358051, -0.178292506872336]\n",
      "iteracao 39: [0.9125752543799444, -0.719184471058083, 0.24964510635258041, -0.9146789089045038, -0.13403750341929732, -0.46852342437698646, 0.7886702924904447, -0.46149994371584024, 0.4700892266429033, 0.8647707835075451, 0.4737751462713622, 0.7551610718163588, 0.2518299974682363, -0.8683157983846199, -0.13792175904345316, 0.4146647493954716, 0.2931968503268383, 0.5428317369480558, 0.30594649022540765, 0.6211737067011327, 0.4781206548053769, -0.23288155763030405, -0.15405989645867924, -0.22768263995100457, 0.9448148863173773, 0.3380275928410599, 0.3342853086887603, 0.21492079016585453, 0.4210093377179467, -0.17010629966204194, 0.9533199722044583, -0.7316827043250729, -0.4046520937573659, -0.4166843804974365, 0.3889821456666622, 0.5731425470186622, 0.752450868347585, -0.1631823517358051, -0.178292506872336, -0.7676286567969786]\n",
      "iteracao 40: [0.9125752543799444, -0.719184471058083, 0.24964510635258041, -0.9146789089045038, -0.13403750341929732, -0.46852342437698646, 0.7886702924904447, -0.46149994371584024, 0.4700892266429033, 0.8647707835075451, 0.4737751462713622, 0.7551610718163588, 0.2518299974682363, -0.8683157983846199, -0.13792175904345316, 0.4146647493954716, 0.2931968503268383, 0.5428317369480558, 0.30594649022540765, 0.6211737067011327, 0.4781206548053769, -0.23288155763030405, -0.15405989645867924, -0.22768263995100457, 0.9448148863173773, 0.3380275928410599, 0.3342853086887603, 0.21492079016585453, 0.4210093377179467, -0.17010629966204194, 0.9533199722044583, -0.7316827043250729, -0.4046520937573659, -0.4166843804974365, 0.3889821456666622, 0.5731425470186622, 0.752450868347585, -0.1631823517358051, -0.178292506872336, -0.7676286567969786, -0.5069777618338471]\n",
      "iteracao 41: [0.9125752543799444, -0.719184471058083, 0.24964510635258041, -0.9146789089045038, -0.13403750341929732, -0.46852342437698646, 0.7886702924904447, -0.46149994371584024, 0.4700892266429033, 0.8647707835075451, 0.4737751462713622, 0.7551610718163588, 0.2518299974682363, -0.8683157983846199, -0.13792175904345316, 0.4146647493954716, 0.2931968503268383, 0.5428317369480558, 0.30594649022540765, 0.6211737067011327, 0.4781206548053769, -0.23288155763030405, -0.15405989645867924, -0.22768263995100457, 0.9448148863173773, 0.3380275928410599, 0.3342853086887603, 0.21492079016585453, 0.4210093377179467, -0.17010629966204194, 0.9533199722044583, -0.7316827043250729, -0.4046520937573659, -0.4166843804974365, 0.3889821456666622, 0.5731425470186622, 0.752450868347585, -0.1631823517358051, -0.178292506872336, -0.7676286567969786, -0.5069777618338471, -0.9633793739633887]\n",
      "iteracao 42: [0.9125752543799444, -0.719184471058083, 0.24964510635258041, -0.9146789089045038, -0.13403750341929732, -0.46852342437698646, 0.7886702924904447, -0.46149994371584024, 0.4700892266429033, 0.8647707835075451, 0.4737751462713622, 0.7551610718163588, 0.2518299974682363, -0.8683157983846199, -0.13792175904345316, 0.4146647493954716, 0.2931968503268383, 0.5428317369480558, 0.30594649022540765, 0.6211737067011327, 0.4781206548053769, -0.23288155763030405, -0.15405989645867924, -0.22768263995100457, 0.9448148863173773, 0.3380275928410599, 0.3342853086887603, 0.21492079016585453, 0.4210093377179467, -0.17010629966204194, 0.9533199722044583, -0.7316827043250729, -0.4046520937573659, -0.4166843804974365, 0.3889821456666622, 0.5731425470186622, 0.752450868347585, -0.1631823517358051, -0.178292506872336, -0.7676286567969786, -0.5069777618338471, -0.9633793739633887, 0.8337881930856978]\n",
      "iteracao 43: [0.9125752543799444, -0.719184471058083, 0.24964510635258041, -0.9146789089045038, -0.13403750341929732, -0.46852342437698646, 0.7886702924904447, -0.46149994371584024, 0.4700892266429033, 0.8647707835075451, 0.4737751462713622, 0.7551610718163588, 0.2518299974682363, -0.8683157983846199, -0.13792175904345316, 0.4146647493954716, 0.2931968503268383, 0.5428317369480558, 0.30594649022540765, 0.6211737067011327, 0.4781206548053769, -0.23288155763030405, -0.15405989645867924, -0.22768263995100457, 0.9448148863173773, 0.3380275928410599, 0.3342853086887603, 0.21492079016585453, 0.4210093377179467, -0.17010629966204194, 0.9533199722044583, -0.7316827043250729, -0.4046520937573659, -0.4166843804974365, 0.3889821456666622, 0.5731425470186622, 0.752450868347585, -0.1631823517358051, -0.178292506872336, -0.7676286567969786, -0.5069777618338471, -0.9633793739633887, 0.8337881930856978, -0.6564532043159055]\n",
      "iteracao 44: [0.9125752543799444, -0.719184471058083, 0.24964510635258041, -0.9146789089045038, -0.13403750341929732, -0.46852342437698646, 0.7886702924904447, -0.46149994371584024, 0.4700892266429033, 0.8647707835075451, 0.4737751462713622, 0.7551610718163588, 0.2518299974682363, -0.8683157983846199, -0.13792175904345316, 0.4146647493954716, 0.2931968503268383, 0.5428317369480558, 0.30594649022540765, 0.6211737067011327, 0.4781206548053769, -0.23288155763030405, -0.15405989645867924, -0.22768263995100457, 0.9448148863173773, 0.3380275928410599, 0.3342853086887603, 0.21492079016585453, 0.4210093377179467, -0.17010629966204194, 0.9533199722044583, -0.7316827043250729, -0.4046520937573659, -0.4166843804974365, 0.3889821456666622, 0.5731425470186622, 0.752450868347585, -0.1631823517358051, -0.178292506872336, -0.7676286567969786, -0.5069777618338471, -0.9633793739633887, 0.8337881930856978, -0.6564532043159055, 0.36162513519684225]\n",
      "iteracao 45: [0.9125752543799444, -0.719184471058083, 0.24964510635258041, -0.9146789089045038, -0.13403750341929732, -0.46852342437698646, 0.7886702924904447, -0.46149994371584024, 0.4700892266429033, 0.8647707835075451, 0.4737751462713622, 0.7551610718163588, 0.2518299974682363, -0.8683157983846199, -0.13792175904345316, 0.4146647493954716, 0.2931968503268383, 0.5428317369480558, 0.30594649022540765, 0.6211737067011327, 0.4781206548053769, -0.23288155763030405, -0.15405989645867924, -0.22768263995100457, 0.9448148863173773, 0.3380275928410599, 0.3342853086887603, 0.21492079016585453, 0.4210093377179467, -0.17010629966204194, 0.9533199722044583, -0.7316827043250729, -0.4046520937573659, -0.4166843804974365, 0.3889821456666622, 0.5731425470186622, 0.752450868347585, -0.1631823517358051, -0.178292506872336, -0.7676286567969786, -0.5069777618338471, -0.9633793739633887, 0.8337881930856978, -0.6564532043159055, 0.36162513519684225, 0.622982422021173]\n",
      "iteracao 46: [0.9125752543799444, -0.719184471058083, 0.24964510635258041, -0.9146789089045038, -0.13403750341929732, -0.46852342437698646, 0.7886702924904447, -0.46149994371584024, 0.4700892266429033, 0.8647707835075451, 0.4737751462713622, 0.7551610718163588, 0.2518299974682363, -0.8683157983846199, -0.13792175904345316, 0.4146647493954716, 0.2931968503268383, 0.5428317369480558, 0.30594649022540765, 0.6211737067011327, 0.4781206548053769, -0.23288155763030405, -0.15405989645867924, -0.22768263995100457, 0.9448148863173773, 0.3380275928410599, 0.3342853086887603, 0.21492079016585453, 0.4210093377179467, -0.17010629966204194, 0.9533199722044583, -0.7316827043250729, -0.4046520937573659, -0.4166843804974365, 0.3889821456666622, 0.5731425470186622, 0.752450868347585, -0.1631823517358051, -0.178292506872336, -0.7676286567969786, -0.5069777618338471, -0.9633793739633887, 0.8337881930856978, -0.6564532043159055, 0.36162513519684225, 0.622982422021173, 0.15533246038486914]\n",
      "iteracao 47: [0.9125752543799444, -0.719184471058083, 0.24964510635258041, -0.9146789089045038, -0.13403750341929732, -0.46852342437698646, 0.7886702924904447, -0.46149994371584024, 0.4700892266429033, 0.8647707835075451, 0.4737751462713622, 0.7551610718163588, 0.2518299974682363, -0.8683157983846199, -0.13792175904345316, 0.4146647493954716, 0.2931968503268383, 0.5428317369480558, 0.30594649022540765, 0.6211737067011327, 0.4781206548053769, -0.23288155763030405, -0.15405989645867924, -0.22768263995100457, 0.9448148863173773, 0.3380275928410599, 0.3342853086887603, 0.21492079016585453, 0.4210093377179467, -0.17010629966204194, 0.9533199722044583, -0.7316827043250729, -0.4046520937573659, -0.4166843804974365, 0.3889821456666622, 0.5731425470186622, 0.752450868347585, -0.1631823517358051, -0.178292506872336, -0.7676286567969786, -0.5069777618338471, -0.9633793739633887, 0.8337881930856978, -0.6564532043159055, 0.36162513519684225, 0.622982422021173, 0.15533246038486914, 0.8584086624986957]\n",
      "iteracao 48: [0.9125752543799444, -0.719184471058083, 0.24964510635258041, -0.9146789089045038, -0.13403750341929732, -0.46852342437698646, 0.7886702924904447, -0.46149994371584024, 0.4700892266429033, 0.8647707835075451, 0.4737751462713622, 0.7551610718163588, 0.2518299974682363, -0.8683157983846199, -0.13792175904345316, 0.4146647493954716, 0.2931968503268383, 0.5428317369480558, 0.30594649022540765, 0.6211737067011327, 0.4781206548053769, -0.23288155763030405, -0.15405989645867924, -0.22768263995100457, 0.9448148863173773, 0.3380275928410599, 0.3342853086887603, 0.21492079016585453, 0.4210093377179467, -0.17010629966204194, 0.9533199722044583, -0.7316827043250729, -0.4046520937573659, -0.4166843804974365, 0.3889821456666622, 0.5731425470186622, 0.752450868347585, -0.1631823517358051, -0.178292506872336, -0.7676286567969786, -0.5069777618338471, -0.9633793739633887, 0.8337881930856978, -0.6564532043159055, 0.36162513519684225, 0.622982422021173, 0.15533246038486914, 0.8584086624986957, 0.17236784399975025]\n",
      "iteracao 49: [0.9125752543799444, -0.719184471058083, 0.24964510635258041, -0.9146789089045038, -0.13403750341929732, -0.46852342437698646, 0.7886702924904447, -0.46149994371584024, 0.4700892266429033, 0.8647707835075451, 0.4737751462713622, 0.7551610718163588, 0.2518299974682363, -0.8683157983846199, -0.13792175904345316, 0.4146647493954716, 0.2931968503268383, 0.5428317369480558, 0.30594649022540765, 0.6211737067011327, 0.4781206548053769, -0.23288155763030405, -0.15405989645867924, -0.22768263995100457, 0.9448148863173773, 0.3380275928410599, 0.3342853086887603, 0.21492079016585453, 0.4210093377179467, -0.17010629966204194, 0.9533199722044583, -0.7316827043250729, -0.4046520937573659, -0.4166843804974365, 0.3889821456666622, 0.5731425470186622, 0.752450868347585, -0.1631823517358051, -0.178292506872336, -0.7676286567969786, -0.5069777618338471, -0.9633793739633887, 0.8337881930856978, -0.6564532043159055, 0.36162513519684225, 0.622982422021173, 0.15533246038486914, 0.8584086624986957, 0.17236784399975025, -0.635307302548836]\n"
     ]
    }
   ],
   "source": [
    "lreal = []\n",
    "for i in range(50):\n",
    "    x = random.uniform(-1, 1)\n",
    "    lreal.append(x)\n",
    "    print(f\"iteracao {i}: {lreal}\")"
   ]
  },
  {
   "cell_type": "code",
   "execution_count": 13,
   "metadata": {},
   "outputs": [
    {
     "data": {
      "image/png": "[encoded data removed]",
      "text/plain": [
       "<Figure size 432x288 with 1 Axes>"
      ]
     },
     "metadata": {
      "needs_background": "light"
     },
     "output_type": "display_data"
    }
   ],
   "source": [
    "plt.plot(lreal,color ='black')\n",
    "plt.xlabel(\"eixo x\")\n",
    "plt.ylabel(\"Números aleatórios entre -1 e 1\")\n",
    "plt.show()"
   ]
  },
  {
   "cell_type": "markdown",
   "metadata": {},
   "source": [
    "### Uso de listas como filas\n",
    "\n",
    "- Em uma fila, a inclusão é sempre realizada no fim, e as remoções são feitas mo início.\n",
    "- Imagine uma fila de um banco.\n",
    "- FIFO - First In First Out"
   ]
  },
  {
   "cell_type": "code",
   "execution_count": 14,
   "metadata": {},
   "outputs": [
    {
     "name": "stdout",
     "output_type": "stream",
     "text": [
      "fila = [1, 2, 3, 4, 5]\n"
     ]
    }
   ],
   "source": [
    "ultimo = 5\n",
    "fila = list(range(1, ultimo+1))\n",
    "print(f\"fila = {fila}\")"
   ]
  },
  {
   "cell_type": "code",
   "execution_count": 15,
   "metadata": {},
   "outputs": [
    {
     "name": "stdout",
     "output_type": "stream",
     "text": [
      "\n",
      "Existem 5 clientes na fila\n",
      "Fila atual: [1, 2, 3, 4, 5]\n",
      "Digite F para adicionar um cliente ao fim da fila,\n",
      "ou A para realizar o atendimento. S para sair.\n",
      "Cliente 1 atendido\n",
      "\n",
      "Existem 4 clientes na fila\n",
      "Fila atual: [2, 3, 4, 5]\n",
      "Digite F para adicionar um cliente ao fim da fila,\n",
      "ou A para realizar o atendimento. S para sair.\n",
      "Cliente 2 atendido\n",
      "\n",
      "Existem 3 clientes na fila\n",
      "Fila atual: [3, 4, 5]\n",
      "Digite F para adicionar um cliente ao fim da fila,\n",
      "ou A para realizar o atendimento. S para sair.\n",
      "\n",
      "Existem 4 clientes na fila\n",
      "Fila atual: [3, 4, 5, 6]\n",
      "Digite F para adicionar um cliente ao fim da fila,\n",
      "ou A para realizar o atendimento. S para sair.\n",
      "Cliente 3 atendido\n",
      "\n",
      "Existem 3 clientes na fila\n",
      "Fila atual: [4, 5, 6]\n",
      "Digite F para adicionar um cliente ao fim da fila,\n",
      "ou A para realizar o atendimento. S para sair.\n",
      "Cliente 4 atendido\n",
      "\n",
      "Existem 2 clientes na fila\n",
      "Fila atual: [5, 6]\n",
      "Digite F para adicionar um cliente ao fim da fila,\n",
      "ou A para realizar o atendimento. S para sair.\n",
      "Operação inválida! Digite apenas F, A ou S!\n",
      "\n",
      "Existem 2 clientes na fila\n",
      "Fila atual: [5, 6]\n",
      "Digite F para adicionar um cliente ao fim da fila,\n",
      "ou A para realizar o atendimento. S para sair.\n",
      "Operação inválida! Digite apenas F, A ou S!\n",
      "\n",
      "Existem 2 clientes na fila\n",
      "Fila atual: [5, 6]\n",
      "Digite F para adicionar um cliente ao fim da fila,\n",
      "ou A para realizar o atendimento. S para sair.\n",
      "\n",
      "Existem 3 clientes na fila\n",
      "Fila atual: [5, 6, 7]\n",
      "Digite F para adicionar um cliente ao fim da fila,\n",
      "ou A para realizar o atendimento. S para sair.\n",
      "Cliente 5 atendido\n",
      "\n",
      "Existem 2 clientes na fila\n",
      "Fila atual: [6, 7]\n",
      "Digite F para adicionar um cliente ao fim da fila,\n",
      "ou A para realizar o atendimento. S para sair.\n",
      "Cliente 6 atendido\n",
      "\n",
      "Existem 1 clientes na fila\n",
      "Fila atual: [7]\n",
      "Digite F para adicionar um cliente ao fim da fila,\n",
      "ou A para realizar o atendimento. S para sair.\n",
      "Cliente 7 atendido\n",
      "\n",
      "Existem 0 clientes na fila\n",
      "Fila atual: []\n",
      "Digite F para adicionar um cliente ao fim da fila,\n",
      "ou A para realizar o atendimento. S para sair.\n",
      "Fila vazia! Ninguém para atender.\n",
      "\n",
      "Existem 0 clientes na fila\n",
      "Fila atual: []\n",
      "Digite F para adicionar um cliente ao fim da fila,\n",
      "ou A para realizar o atendimento. S para sair.\n",
      "Fila vazia! Ninguém para atender.\n",
      "\n",
      "Existem 0 clientes na fila\n",
      "Fila atual: []\n",
      "Digite F para adicionar um cliente ao fim da fila,\n",
      "ou A para realizar o atendimento. S para sair.\n",
      "Fila vazia! Ninguém para atender.\n",
      "\n",
      "Existem 0 clientes na fila\n",
      "Fila atual: []\n",
      "Digite F para adicionar um cliente ao fim da fila,\n",
      "ou A para realizar o atendimento. S para sair.\n"
     ]
    }
   ],
   "source": [
    "while True:\n",
    "    print(f\"\\nExistem {len(fila)} clientes na fila\")\n",
    "    print(f\"Fila atual: {fila}\")\n",
    "    print(\"Digite F para adicionar um cliente ao fim da fila,\")\n",
    "    print(\"ou A para realizar o atendimento. S para sair.\")\n",
    "    operação = input(\"Operação (F, A ou S):\")\n",
    "    if operação == \"A\":\n",
    "        if len(fila) > 0:\n",
    "            atendido = fila.pop(0)\n",
    "            print(f\"Cliente {atendido} atendido\")\n",
    "        else:\n",
    "            print(\"Fila vazia! Ninguém para atender.\")\n",
    "    elif operação == \"F\":\n",
    "        ultimo += 1  # Incrementa o ticket do novo cliente\n",
    "        fila.append(ultimo)\n",
    "    elif operação == \"S\":\n",
    "        break\n",
    "    else:\n",
    "        print(\"Operação inválida! Digite apenas F, A ou S!\")"
   ]
  },
  {
   "cell_type": "markdown",
   "metadata": {},
   "source": [
    "### Uso de listas como pilhas\n",
    "\n",
    "- Em uma pilha novos elementos são adicionados ao topo e a retirada de elementos também é feita pelo topo.\n",
    "- Imagine uma pilha de pratos para lavar.\n",
    "- LIFO - Last In First Out"
   ]
  },
  {
   "cell_type": "code",
   "execution_count": 16,
   "metadata": {},
   "outputs": [
    {
     "name": "stdout",
     "output_type": "stream",
     "text": [
      "pilha = [1, 2, 3, 4, 5]\n"
     ]
    }
   ],
   "source": [
    "prato = 5\n",
    "pilha = list(range(1, prato + 1))\n",
    "print(f\"pilha = {pilha}\")"
   ]
  },
  {
   "cell_type": "code",
   "execution_count": null,
   "metadata": {},
   "outputs": [],
   "source": [
    "\n",
    "while True:\n",
    "    print(f\"\\nExistem {len(pilha)} pratos na pilha\")\n",
    "    print(f\"Pilha atual: {pilha}\")\n",
    "    print(\"Digite E para empilhar um novo prato,\")\n",
    "    print(\"ou D para desempilhar. S para sair.\")\n",
    "    operação = input(\"Operação (E, D ou S):\")\n",
    "    if operação == \"D\":\n",
    "        if len(pilha) > 0:\n",
    "            lavado = pilha.pop(-1)\n",
    "            print(f\"Prato {lavado} lavado\")\n",
    "        else:\n",
    "            print(\"Pilha vazia! Nada para lavar.\")\n",
    "    elif operação == \"E\":\n",
    "        prato += 1  # Novo prato\n",
    "        pilha.append(prato)\n",
    "    elif operação == \"S\":\n",
    "        break\n",
    "    else:\n",
    "        print(\"Operação inválida! Digite apenas E, D ou S!\")"
   ]
  },
  {
   "cell_type": "markdown",
   "metadata": {},
   "source": [
    "## Enumerate (em listas)\n",
    "\n",
    "- A função **enumerate** pode ampliar as funcionalidades do **for** facilmente.\n",
    "- Observe o código a seguir:"
   ]
  },
  {
   "cell_type": "code",
   "execution_count": 20,
   "metadata": {},
   "outputs": [
    {
     "name": "stdout",
     "output_type": "stream",
     "text": [
      "1\n",
      "4\n",
      "7\n",
      "10\n",
      "13\n",
      "16\n",
      "19\n",
      "22\n",
      "25\n",
      "28\n",
      "31\n",
      "34\n",
      "37\n",
      "40\n",
      "43\n",
      "46\n",
      "49\n"
     ]
    },
    {
     "data": {
      "text/plain": [
       "[1, 4, 7, 10, 13, 16, 19, 22, 25, 28, 31, 34, 37, 40, 43, 46, 49]"
      ]
     },
     "execution_count": 20,
     "metadata": {},
     "output_type": "execute_result"
    }
   ],
   "source": [
    "lista = list(range(1,50,3))\n",
    "for e in lista:\n",
    "    print(f\"{e}\")\n",
    "\n",
    "lista"
   ]
  },
  {
   "cell_type": "code",
   "execution_count": 21,
   "metadata": {},
   "outputs": [
    {
     "name": "stdout",
     "output_type": "stream",
     "text": [
      "[0] 1\n",
      "[1] 4\n",
      "[2] 7\n",
      "[3] 10\n",
      "[4] 13\n",
      "[5] 16\n",
      "[6] 19\n",
      "[7] 22\n",
      "[8] 25\n",
      "[9] 28\n",
      "[10] 31\n",
      "[11] 34\n",
      "[12] 37\n",
      "[13] 40\n",
      "[14] 43\n",
      "[15] 46\n",
      "[16] 49\n"
     ]
    }
   ],
   "source": [
    "lista = range(1,50,3)\n",
    "k = 0\n",
    "for e in lista:\n",
    "    print(f\"[{k}] {e}\")\n",
    "    k += 1"
   ]
  },
  {
   "cell_type": "markdown",
   "metadata": {},
   "source": [
    "- A seguir o mesmo código usando **enumerate**."
   ]
  },
  {
   "cell_type": "code",
   "execution_count": 22,
   "metadata": {},
   "outputs": [
    {
     "name": "stdout",
     "output_type": "stream",
     "text": [
      "[0] 1\n",
      "[1] 4\n",
      "[2] 7\n",
      "[3] 10\n",
      "[4] 13\n",
      "[5] 16\n",
      "[6] 19\n",
      "[7] 22\n",
      "[8] 25\n",
      "[9] 28\n",
      "[10] 31\n",
      "[11] 34\n",
      "[12] 37\n",
      "[13] 40\n",
      "[14] 43\n",
      "[15] 46\n",
      "[16] 49\n"
     ]
    }
   ],
   "source": [
    "lista = range(1,50,3)\n",
    "for k,e in enumerate(lista):\n",
    "    print(f\"[{k}] {e}\")"
   ]
  },
  {
   "cell_type": "code",
   "execution_count": 23,
   "metadata": {},
   "outputs": [
    {
     "name": "stdout",
     "output_type": "stream",
     "text": [
      "720\n"
     ]
    }
   ],
   "source": [
    "import math \n",
    "\n",
    "print(math.factorial(6))"
   ]
  },
  {
   "cell_type": "code",
   "execution_count": null,
   "metadata": {},
   "outputs": [],
   "source": [
    "print(math.f)"
   ]
  }
 ],
 "metadata": {
  "kernelspec": {
   "display_name": "Python 3",
   "language": "python",
   "name": "python3"
  },
  "language_info": {
   "codemirror_mode": {
    "name": "ipython",
    "version": 3
   },
   "file_extension": ".py",
   "mimetype": "text/x-python",
   "name": "python",
   "nbconvert_exporter": "python",
   "pygments_lexer": "ipython3",
   "version": "3.10.12"
  }
 },
 "nbformat": 4,
 "nbformat_minor": 2
}
