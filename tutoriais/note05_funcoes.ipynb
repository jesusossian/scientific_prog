{
 "cells": [
  {
   "cell_type": "markdown",
   "metadata": {},
   "source": [
    "# Funções\n",
    "\n",
    "- uma sequência de instruções que computa um ou mais resultados\n",
    "- Parâmetros: lista com nenhum ou mais elementos que podem ser obrigatórios ou opcionais.\n",
    "- Um parâmetro pode ser opcional com um valor padrão."
   ]
  },
  {
   "cell_type": "code",
   "execution_count": null,
   "metadata": {},
   "outputs": [],
   "source": [
    "def velocidade(espaco, tempo):\n",
    "    v = espaco/tempo\n",
    "    print(f'velocidade: {v} m/s')"
   ]
  },
  {
   "cell_type": "code",
   "execution_count": null,
   "metadata": {},
   "outputs": [],
   "source": [
    "velocidade(100, 20)"
   ]
  },
  {
   "cell_type": "code",
   "execution_count": null,
   "metadata": {},
   "outputs": [],
   "source": [
    "def numeros(x, y=None):\n",
    "    print(f'x = {x}')\n",
    "    if(y is not None):\n",
    "        print(f'y = {y}')\n",
    "    else:\n",
    "        print(f'y = vazio')"
   ]
  },
  {
   "cell_type": "code",
   "execution_count": null,
   "metadata": {},
   "outputs": [],
   "source": [
    "numeros(2,3)"
   ]
  },
  {
   "cell_type": "code",
   "execution_count": null,
   "metadata": {},
   "outputs": [],
   "source": [
    "numeros(2)"
   ]
  },
  {
   "cell_type": "markdown",
   "metadata": {},
   "source": [
    "- Uma função pode retorna um valor através do comando ${\\bf return}$"
   ]
  },
  {
   "cell_type": "code",
   "execution_count": null,
   "metadata": {},
   "outputs": [],
   "source": [
    "def velocidade(espaco, tempo):\n",
    "    v = espaco/tempo\n",
    "    return v"
   ]
  },
  {
   "cell_type": "code",
   "execution_count": null,
   "metadata": {},
   "outputs": [],
   "source": [
    "resultado = velocidade(120, 20)\n",
    "print(resultado)"
   ]
  },
  {
   "cell_type": "markdown",
   "metadata": {},
   "source": [
    "- Uma função pode conter mais de um ${\\bf return}$"
   ]
  },
  {
   "cell_type": "code",
   "execution_count": null,
   "metadata": {},
   "outputs": [],
   "source": [
    "def calculadora0(x,y=None):\n",
    "    if(y is None):\n",
    "        return x\n",
    "    else:\n",
    "        return x**y"
   ]
  },
  {
   "cell_type": "code",
   "execution_count": null,
   "metadata": {},
   "outputs": [],
   "source": [
    "resultado = calculadora0(2)\n",
    "print(resultado)"
   ]
  },
  {
   "cell_type": "code",
   "execution_count": null,
   "metadata": {},
   "outputs": [],
   "source": [
    "resultado = calculadora0(2,4)\n",
    "print(resultado)"
   ]
  },
  {
   "cell_type": "markdown",
   "metadata": {},
   "source": [
    "- Uma função pode retornar múltiplos valores."
   ]
  },
  {
   "cell_type": "code",
   "execution_count": null,
   "metadata": {},
   "outputs": [],
   "source": [
    "def calculadora(x, y):\n",
    "    return x+y, x-y"
   ]
  },
  {
   "cell_type": "code",
   "execution_count": null,
   "metadata": {},
   "outputs": [],
   "source": [
    "resultado = calculadora(1, 2)\n",
    "print(resultado)"
   ]
  },
  {
   "cell_type": "markdown",
   "metadata": {},
   "source": [
    "- Uma função pode retornar um dicionário"
   ]
  },
  {
   "cell_type": "code",
   "execution_count": null,
   "metadata": {},
   "outputs": [],
   "source": [
    "def calculadora(x, y):\n",
    "    return {'soma':x+y, 'subtração':x-y}"
   ]
  },
  {
   "cell_type": "code",
   "execution_count": null,
   "metadata": {},
   "outputs": [],
   "source": [
    "resultados = calculadora(1, 2)\n",
    "resultados"
   ]
  },
  {
   "cell_type": "code",
   "execution_count": null,
   "metadata": {},
   "outputs": [],
   "source": [
    "for key in resultados:\n",
    "    print(f'{key}: {resultados[key]}')"
   ]
  },
  {
   "cell_type": "code",
   "execution_count": null,
   "metadata": {},
   "outputs": [],
   "source": [
    "vetor = [1,2,3,4,5]"
   ]
  },
  {
   "cell_type": "code",
   "execution_count": null,
   "metadata": {},
   "outputs": [],
   "source": [
    "for t in range(0,len(vetor)):\n",
    "    print(vetor[t])"
   ]
  },
  {
   "cell_type": "markdown",
   "metadata": {},
   "source": [
    "## Módulo\n",
    "\n",
    "- Um módulo é um arquivo contendo definições e instruções Python."
   ]
  },
  {
   "cell_type": "code",
   "execution_count": null,
   "metadata": {},
   "outputs": [],
   "source": [
    "import math as mat # importando o modulo math com apelido de mat"
   ]
  },
  {
   "cell_type": "code",
   "execution_count": null,
   "metadata": {},
   "outputs": [],
   "source": [
    "help(mat)"
   ]
  },
  {
   "cell_type": "code",
   "execution_count": null,
   "metadata": {},
   "outputs": [],
   "source": [
    "x= mat.pi"
   ]
  },
  {
   "cell_type": "code",
   "execution_count": null,
   "metadata": {},
   "outputs": [],
   "source": [
    "print(x)"
   ]
  },
  {
   "cell_type": "code",
   "execution_count": null,
   "metadata": {},
   "outputs": [],
   "source": [
    "mat.cos(mat.pi)"
   ]
  },
  {
   "cell_type": "code",
   "execution_count": null,
   "metadata": {},
   "outputs": [],
   "source": [
    "mat.exp(4)"
   ]
  },
  {
   "cell_type": "code",
   "execution_count": null,
   "metadata": {},
   "outputs": [],
   "source": [
    "mat.log10(8)"
   ]
  },
  {
   "cell_type": "code",
   "execution_count": null,
   "metadata": {},
   "outputs": [],
   "source": [
    "mat.sinh(1)"
   ]
  },
  {
   "cell_type": "code",
   "execution_count": null,
   "metadata": {},
   "outputs": [],
   "source": [
    "mat.factorial(6)"
   ]
  },
  {
   "cell_type": "markdown",
   "metadata": {},
   "source": [
    "## Empacotamento de parâmetros\n",
    "\n",
    "- Em Python podemos passar parêmtros empacotados em uma lista."
   ]
  },
  {
   "cell_type": "code",
   "execution_count": null,
   "metadata": {},
   "outputs": [],
   "source": [
    "def soma(a,b):\n",
    "    print(a+b)\n",
    "\n",
    "lista = [2,4]\n",
    "soma(*lista)"
   ]
  },
  {
   "cell_type": "code",
   "execution_count": null,
   "metadata": {},
   "outputs": [],
   "source": [
    "def barra(n=10, c=\"*\"):\n",
    "    print(c*n)\n",
    "\n",
    "lista = [[5,\"-\"],[10,\"*\"],[5],[6,\".\"]]\n",
    "\n",
    "for e in lista:\n",
    "    barra(*e)"
   ]
  },
  {
   "cell_type": "markdown",
   "metadata": {},
   "source": [
    "- No Python podemos criar funções que recebem um número indeterminado de parâmetros utilizando lista de parâmetros."
   ]
  },
  {
   "cell_type": "code",
   "execution_count": null,
   "metadata": {},
   "outputs": [],
   "source": [
    "def soma(*args):\n",
    "    s = 0\n",
    "    for x in args:\n",
    "        s += x\n",
    "    \n",
    "    return s\n",
    "\n",
    "print(soma(1,2))\n",
    "print(soma(4))\n",
    "print(soma(5,6,7,9,10))\n",
    "print(soma(1,2,3,5,6,7,8,9,11))"
   ]
  },
  {
   "cell_type": "markdown",
   "metadata": {},
   "source": [
    "- Podemos criar funções que combinem parâmetros obrigatórios e uma lista de parâmetros."
   ]
  },
  {
   "cell_type": "code",
   "execution_count": null,
   "metadata": {},
   "outputs": [],
   "source": [
    "def imprime_maior(mensagem, *numeros):\n",
    "    maior = None\n",
    "    for e in numeros:\n",
    "        if maior is None or maior < e:\n",
    "            maior = e\n",
    "    print(mensagem, maior)\n",
    "\n",
    "imprime_maior(\"maior:\" , 5, 4, 3, 2, 1)\n",
    "imprime_maior(\"max:\", *[5, 4, 3, 2, 1])\n"
   ]
  },
  {
   "cell_type": "code",
   "execution_count": null,
   "metadata": {},
   "outputs": [],
   "source": [
    "imprime_maior()"
   ]
  },
  {
   "cell_type": "code",
   "execution_count": null,
   "metadata": {},
   "outputs": [],
   "source": [
    "imprime_maior(\"max:\")"
   ]
  },
  {
   "cell_type": "markdown",
   "metadata": {},
   "source": [
    "## Função lambda\n",
    "\n",
    "- Podemos criar funçõe simples, sem nome, chamadas de funções lambda."
   ]
  },
  {
   "cell_type": "code",
   "execution_count": null,
   "metadata": {},
   "outputs": [],
   "source": [
    "prod = lambda x: x*2"
   ]
  },
  {
   "cell_type": "code",
   "execution_count": null,
   "metadata": {},
   "outputs": [],
   "source": [
    "print(prod(3))"
   ]
  },
  {
   "cell_type": "code",
   "execution_count": null,
   "metadata": {},
   "outputs": [],
   "source": [
    "var = lambda x, y: ( x * y / 100)"
   ]
  },
  {
   "cell_type": "code",
   "execution_count": null,
   "metadata": {},
   "outputs": [],
   "source": [
    "print(var(100,5))"
   ]
  },
  {
   "cell_type": "markdown",
   "metadata": {},
   "source": [
    "- Funções lambda são utilizadas quando o código da função é muito simples ou utilizado poucas vezes.\n",
    "\n",
    "- Algumas funções da biblioteca padraão do Python permitem que funções sejam passadas como parâmetro, por exemplo o método `sort()` de listas, que recebe um parâmetro `key`que recebe o elemento e deve retornar a chave a utilizar na ordenação."
   ]
  },
  {
   "cell_type": "code",
   "execution_count": null,
   "metadata": {},
   "outputs": [],
   "source": [
    "lista = [\"A\",\"b\",\"C\",\"d\",\"E\",\"f\"]"
   ]
  },
  {
   "cell_type": "code",
   "execution_count": null,
   "metadata": {},
   "outputs": [],
   "source": [
    "lista.sort()"
   ]
  },
  {
   "cell_type": "code",
   "execution_count": null,
   "metadata": {},
   "outputs": [],
   "source": [
    "print(lista)"
   ]
  },
  {
   "cell_type": "code",
   "execution_count": null,
   "metadata": {},
   "outputs": [],
   "source": [
    "lista.sort(key=lambda k: k.lower())"
   ]
  },
  {
   "cell_type": "code",
   "execution_count": null,
   "metadata": {},
   "outputs": [],
   "source": [
    "print(lista)"
   ]
  },
  {
   "cell_type": "markdown",
   "metadata": {},
   "source": [
    "## List Comprehensions\n",
    "\n",
    "- Um forma simples de criar uma lista em Python é utilizando **list comprehensions* uma sintaxe capaz de especificar como os elementos de uma lista devem ser gerados."
   ]
  },
  {
   "cell_type": "code",
   "execution_count": null,
   "metadata": {},
   "outputs": [],
   "source": [
    "lista = [x for x in range(10)]\n",
    "print(lista)"
   ]
  },
  {
   "cell_type": "code",
   "execution_count": null,
   "metadata": {},
   "outputs": [],
   "source": [
    "lista = []\n",
    "for x in range(10):\n",
    "    lista.append(x)\n",
    "\n",
    "print(lista)"
   ]
  },
  {
   "cell_type": "code",
   "execution_count": null,
   "metadata": {},
   "outputs": [],
   "source": [
    "lista2 = [x * 2 for x in lista]\n",
    "print(lista2)"
   ]
  },
  {
   "cell_type": "code",
   "execution_count": null,
   "metadata": {},
   "outputs": [],
   "source": [
    "listat = [(x, x*2) for x in lista]\n",
    "print(listat)"
   ]
  },
  {
   "cell_type": "code",
   "execution_count": null,
   "metadata": {},
   "outputs": [],
   "source": [
    "# transforma string em string uppercase\n",
    "listas = [s.upper() for s in \"abcdefg\"]\n",
    "print(listas)"
   ]
  },
  {
   "cell_type": "code",
   "execution_count": null,
   "metadata": {},
   "outputs": [],
   "source": [
    "# cria lista com os elementos divisiveis por 2 de lista\n",
    "listar = [x for x in lista if x % 2 == 0]\n",
    "print(listar)"
   ]
  },
  {
   "cell_type": "code",
   "execution_count": null,
   "metadata": {},
   "outputs": [],
   "source": [
    "# inverte os elementos de tuplas pertecentes de lista\n",
    "listati = [(y,x) for x, y in listat]\n",
    "print(listati)"
   ]
  },
  {
   "cell_type": "markdown",
   "metadata": {},
   "source": [
    "## Exeções\n",
    "\n",
    "- Execeções são situações inesperadas em que acontecem no código ou algo que não foi tratado diretamente no programa.\n",
    "- O código a seguir trata exceções, mas podemos criar nossas próprias exceções.\n",
    "- O código a seguir trata das exceções **ValueError** e **IndexError**."
   ]
  },
  {
   "cell_type": "code",
   "execution_count": null,
   "metadata": {},
   "outputs": [],
   "source": [
    "lista = [\"Ana\",\"Carlos\",\"Marta\"]\n",
    "for k in range(3):\n",
    "    try:\n",
    "        i = int(input(\"Digite o indice que quer imprimir:\"))\n",
    "        print(lista[i])\n",
    "    except ValueError:\n",
    "        print(\"Digite um numero!\")\n",
    "    except IndexError:\n",
    "        print(\"Valor invalido, digite entre -3 e 3!\")"
   ]
  },
  {
   "cell_type": "markdown",
   "metadata": {},
   "source": [
    "O tipo **Exception** cobre todos os erros comuns do Python."
   ]
  },
  {
   "cell_type": "code",
   "execution_count": null,
   "metadata": {},
   "outputs": [],
   "source": [
    "lista = [\"Ana\",\"Carlos\",\"Marta\"]\n",
    "for k in range(3):\n",
    "    try:\n",
    "        i = int(input(\"Digite o indice que quer imprimir:\"))\n",
    "        print(lista[i])\n",
    "    except Exception as e:\n",
    "        print(f\"Algo de errado aconteceu: {e}\")"
   ]
  },
  {
   "cell_type": "markdown",
   "metadata": {},
   "source": [
    "- Outro tipo de tratamento de erros é o uso da declaração **finally**.\n",
    "- A declaração **finally** diz, execute esse bloco, mesmo que aconteça uma exceção, com ou sem tratamento."
   ]
  },
  {
   "cell_type": "code",
   "execution_count": null,
   "metadata": {},
   "outputs": [],
   "source": [
    "lista = [\"Ana\", \"Carlos\", \"Maria\"]\n",
    "for tentativa in range(3):\n",
    "    try:\n",
    "        i = int(input(\"Digite o índice que quer imprimir:\"))\n",
    "        print(lista[i])\n",
    "    except ValueError as e:\n",
    "        print(\"Digite um número!\")\n",
    "    finally:\n",
    "        print(f\"Tentativa {tentativa + 1}\")"
   ]
  },
  {
   "cell_type": "markdown",
   "metadata": {},
   "source": [
    "- A declaração **raise** trata a exceção dentro do **except** e passa ela adiante."
   ]
  },
  {
   "cell_type": "code",
   "execution_count": 51,
   "metadata": {},
   "outputs": [
    {
     "name": "stdout",
     "output_type": "stream",
     "text": [
      "Digite um número!\n",
      "Sempre o finally é executado\n"
     ]
    },
    {
     "ename": "ValueError",
     "evalue": "invalid literal for int() with base 10: 'a'",
     "output_type": "error",
     "traceback": [
      "\u001b[0;31m---------------------------------------------------------------------------\u001b[0m",
      "\u001b[0;31mValueError\u001b[0m                                Traceback (most recent call last)",
      "\u001b[0;32m/tmp/ipykernel_364982/133937465.py\u001b[0m in \u001b[0;36m<module>\u001b[0;34m\u001b[0m\n\u001b[1;32m      2\u001b[0m \u001b[0;32mfor\u001b[0m \u001b[0mtentativa\u001b[0m \u001b[0;32min\u001b[0m \u001b[0mrange\u001b[0m\u001b[0;34m(\u001b[0m\u001b[0;36m3\u001b[0m\u001b[0;34m)\u001b[0m\u001b[0;34m:\u001b[0m\u001b[0;34m\u001b[0m\u001b[0;34m\u001b[0m\u001b[0m\n\u001b[1;32m      3\u001b[0m     \u001b[0;32mtry\u001b[0m\u001b[0;34m:\u001b[0m\u001b[0;34m\u001b[0m\u001b[0;34m\u001b[0m\u001b[0m\n\u001b[0;32m----> 4\u001b[0;31m         \u001b[0mi\u001b[0m \u001b[0;34m=\u001b[0m \u001b[0mint\u001b[0m\u001b[0;34m(\u001b[0m\u001b[0minput\u001b[0m\u001b[0;34m(\u001b[0m\u001b[0;34m\"Digite o índice que quer imprimir:\"\u001b[0m\u001b[0;34m)\u001b[0m\u001b[0;34m)\u001b[0m\u001b[0;34m\u001b[0m\u001b[0;34m\u001b[0m\u001b[0m\n\u001b[0m\u001b[1;32m      5\u001b[0m         \u001b[0mprint\u001b[0m\u001b[0;34m(\u001b[0m\u001b[0mlista\u001b[0m\u001b[0;34m[\u001b[0m\u001b[0mi\u001b[0m\u001b[0;34m]\u001b[0m\u001b[0;34m)\u001b[0m\u001b[0;34m\u001b[0m\u001b[0;34m\u001b[0m\u001b[0m\n\u001b[1;32m      6\u001b[0m     \u001b[0;32mexcept\u001b[0m \u001b[0mValueError\u001b[0m \u001b[0;32mas\u001b[0m \u001b[0me\u001b[0m\u001b[0;34m:\u001b[0m\u001b[0;34m\u001b[0m\u001b[0;34m\u001b[0m\u001b[0m\n",
      "\u001b[0;31mValueError\u001b[0m: invalid literal for int() with base 10: 'a'"
     ]
    }
   ],
   "source": [
    "lista = [\"Ana\", \"Carlos\", \"Maria\"]\n",
    "for tentativa in range(3):\n",
    "    try:\n",
    "        i = int(input(\"Digite o índice que quer imprimir:\"))\n",
    "        print(lista[i])\n",
    "    except ValueError as e:\n",
    "        print(\"Digite um número!\")\n",
    "        raise\n",
    "    finally:\n",
    "        print(f\"Sempre o finally é executado\")"
   ]
  },
  {
   "cell_type": "markdown",
   "metadata": {},
   "source": [
    "- O bloco **try** possui um declaração **else**, assim como **while** e **for**.\n",
    "- A declaração **else** é executada apenas se não houver exceção no **try** e pode ser combinada com **except** e **finally**, assim como usada separadamente."
   ]
  },
  {
   "cell_type": "code",
   "execution_count": null,
   "metadata": {},
   "outputs": [],
   "source": [
    "while True:\n",
    "    try:\n",
    "        v = int(input(\"Digite um número inteiro (0 sai):\"))\n",
    "        if v == 0:\n",
    "            break\n",
    "    except Exception:\n",
    "        print(\"Valor inválido! Redigite\")\n",
    "    else:\n",
    "        print(\"Parabéns, nenhuma exceção\")\n",
    "    finally:\n",
    "        print(\"Executado sempre, mesmo com break\")"
   ]
  },
  {
   "cell_type": "markdown",
   "metadata": {},
   "source": [
    "## Módulos\n",
    "\n",
    "- Após criamos várias funçĩes os programs podem ficar muito grande. Um alternativa é armazenar as funções em outros arquivos e importar essas funções para a função principal.\n",
    "\n",
    "- A solução para esse problema é o uso de **módulos**. Todo arquivo .py é um módulo, o qual pode ser importado como o comando `import`.\n",
    "\n",
    "- Veja o exemplo com os arquivos `entrada.py`e `soma.py`."
   ]
  },
  {
   "cell_type": "code",
   "execution_count": null,
   "metadata": {},
   "outputs": [],
   "source": [
    "import entrada\n",
    "\n",
    "L = []\n",
    "for x in range(6):\n",
    "    L.append(entrada.valida_inteiro(\"Digite um número:\", 0, 20))\n",
    "print(f\"Soma: {sum(L)}\")"
   ]
  },
  {
   "cell_type": "code",
   "execution_count": null,
   "metadata": {},
   "outputs": [],
   "source": [
    "from entrada import valida_inteiro\n",
    "\n",
    "L = []\n",
    "for x in range(6):\n",
    "    L.append(valida_inteiro(\"Digite um número:\", 0, 20))\n",
    "print(f\"Soma: {sum(L)}\")"
   ]
  }
 ],
 "metadata": {
  "kernelspec": {
   "display_name": "Python 3",
   "language": "python",
   "name": "python3"
  },
  "language_info": {
   "codemirror_mode": {
    "name": "ipython",
    "version": 3
   },
   "file_extension": ".py",
   "mimetype": "text/x-python",
   "name": "python",
   "nbconvert_exporter": "python",
   "pygments_lexer": "ipython3",
   "version": "3.10.12"
  }
 },
 "nbformat": 4,
 "nbformat_minor": 2
}
