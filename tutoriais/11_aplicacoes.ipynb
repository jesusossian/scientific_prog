{
 "cells": [
  {
   "cell_type": "markdown",
   "metadata": {},
   "source": [
    "## `__main__` : Ambiente de código principal"
   ]
  },
  {
   "cell_type": "markdown",
   "metadata": {},
   "source": [
    "`__main__` é o nome do ambiente principal no qual o código é executado. \n",
    "\n",
    "**Ambiente de código principal** é o primeiro módulo Python definido pelo usuário que começa a ser executado. \n",
    "\n",
    "Esse ambiente é considerado principal porque ele importa todos os outros módulos que o programa precisa. \n",
    "\n",
    "Em Python, o código é executado sequencialmente de cima para baixo.\n",
    "Costuma se definir uma função main() para melhor organizar o código. \n",
    "\n",
    "Para que a função main() seja executada, você precisa chamá-la no final do seu script. \n",
    "Normalmente, isso é feito com a seguinte estrutura:"
   ]
  },
  {
   "cell_type": "code",
   "execution_count": 4,
   "metadata": {},
   "outputs": [
    {
     "name": "stdout",
     "output_type": "stream",
     "text": [
      "__main__\n",
      "executando main()\n"
     ]
    }
   ],
   "source": [
    "def main():\n",
    "    print(\"executando main()\")\n",
    "\n",
    "if __name__ == \"__main__\":\n",
    "    print(__name__)\n",
    "    main()"
   ]
  },
  {
   "cell_type": "code",
   "execution_count": 8,
   "metadata": {},
   "outputs": [
    {
     "name": "stdout",
     "output_type": "stream",
     "text": [
      "0! = 1\n",
      "1! = 1\n",
      "5! = 120\n",
      "17! = 355687428096000\n"
     ]
    }
   ],
   "source": [
    "def main():\n",
    "    ''' testes da função fatorial '''\n",
    "    print(\"0! =\", fatorial(0))\n",
    "    print(\"1! =\", fatorial(1))\n",
    "    print(\"5! =\", fatorial(5))\n",
    "    print(\"17! =\", fatorial(17))\n",
    "\n",
    "def fatorial(n):\n",
    "    if n==0 or n==1:\n",
    "        return 1\n",
    "    else:\n",
    "        fat = n * fatorial(n-1)\n",
    "    return fat\n",
    "\n",
    "if __name__ == '__main__': # chamada da funcao principal\n",
    "    main() # chamada da função main"
   ]
  },
  {
   "cell_type": "code",
   "execution_count": 9,
   "metadata": {},
   "outputs": [
    {
     "name": "stdout",
     "output_type": "stream",
     "text": [
      "Combinacao(4,2) = 6.0\n",
      "Combinacao(5,2) = 10.0\n",
      "Combinacao(10,4) = 210.0\n"
     ]
    }
   ],
   "source": [
    "def main():\n",
    "    ''' Testes da função combincao '''\n",
    "    print(\"Combinacao(4,2) =\", combinacao(4,2))\n",
    "    print(\"Combinacao(5,2) =\", combinacao(5,2))\n",
    "    print(\"Combinacao(10,4) =\", combinacao(10,4))\n",
    "\n",
    "\n",
    "# O número de combinações possíveis de m elementos em grupos de n elementos (n<=m) é dada pela fórmula de combinação m!/((m-n)!n!)!\n",
    "def combinacao(m, n):\n",
    "    '''\n",
    "    Recebe dois inteiros m e n, m>=n, e retorna o valor de m!/((m-n)! n!)\n",
    "    '''\n",
    "    combi = (fatorial(m))/(fatorial(m-n)*fatorial(n))\n",
    "\n",
    "    return combi\n",
    "\n",
    "\n",
    "if __name__ == '__main__': # chamada da funcao principal\n",
    "    main()"
   ]
  },
  {
   "cell_type": "code",
   "execution_count": null,
   "metadata": {},
   "outputs": [],
   "source": []
  }
 ],
 "metadata": {
  "kernelspec": {
   "display_name": "Python 3",
   "language": "python",
   "name": "python3"
  },
  "language_info": {
   "codemirror_mode": {
    "name": "ipython",
    "version": 3
   },
   "file_extension": ".py",
   "mimetype": "text/x-python",
   "name": "python",
   "nbconvert_exporter": "python",
   "pygments_lexer": "ipython3",
   "version": "3.10.12"
  }
 },
 "nbformat": 4,
 "nbformat_minor": 2
}
