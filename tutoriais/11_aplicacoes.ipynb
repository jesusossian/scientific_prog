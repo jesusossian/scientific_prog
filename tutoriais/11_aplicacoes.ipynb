{
 "cells": [
  {
   "cell_type": "markdown",
   "metadata": {},
   "source": [
    "## `__main__` : Ambiente de código principal"
   ]
  },
  {
   "cell_type": "markdown",
   "metadata": {},
   "source": [
    "`__main__` é o nome do ambiente principal no qual o código é executado. \n",
    "\n",
    "**Ambiente de código principal** é o primeiro módulo Python definido pelo usuário que começa a ser executado. \n",
    "\n",
    "Esse ambiente é considerado principal porque ele importa todos os outros módulos que o programa precisa. \n",
    "\n",
    "Em Python, o código é executado sequencialmente de cima para baixo.\n",
    "Costuma se definir uma função main() para melhor organizar o código. \n",
    "\n",
    "Para que a função main() seja executada, você precisa chamá-la no final do seu script. \n",
    "Normalmente, isso é feito com a seguinte estrutura:"
   ]
  },
  {
   "cell_type": "code",
   "execution_count": 4,
   "metadata": {},
   "outputs": [
    {
     "name": "stdout",
     "output_type": "stream",
     "text": [
      "__main__\n",
      "executando main()\n"
     ]
    }
   ],
   "source": [
    "def main():\n",
    "    print(\"executando main()\")\n",
    "\n",
    "if __name__ == \"__main__\":\n",
    "    print(__name__)\n",
    "    main()"
   ]
  },
  {
   "cell_type": "code",
   "execution_count": 8,
   "metadata": {},
   "outputs": [
    {
     "name": "stdout",
     "output_type": "stream",
     "text": [
      "0! = 1\n",
      "1! = 1\n",
      "5! = 120\n",
      "17! = 355687428096000\n"
     ]
    }
   ],
   "source": [
    "def main():\n",
    "    ''' testes da função fatorial '''\n",
    "    print(\"0! =\", fatorial(0))\n",
    "    print(\"1! =\", fatorial(1))\n",
    "    print(\"5! =\", fatorial(5))\n",
    "    print(\"17! =\", fatorial(17))\n",
    "\n",
    "def fatorial(n):\n",
    "    if n==0 or n==1:\n",
    "        return 1\n",
    "    else:\n",
    "        fat = n * fatorial(n-1)\n",
    "    return fat\n",
    "\n",
    "if __name__ == '__main__': # chamada da funcao principal\n",
    "    main() # chamada da função main"
   ]
  },
  {
   "cell_type": "code",
   "execution_count": 9,
   "metadata": {},
   "outputs": [
    {
     "name": "stdout",
     "output_type": "stream",
     "text": [
      "Combinacao(4,2) = 6.0\n",
      "Combinacao(5,2) = 10.0\n",
      "Combinacao(10,4) = 210.0\n"
     ]
    }
   ],
   "source": [
    "def main():\n",
    "    ''' Testes da função combincao '''\n",
    "    print(\"Combinacao(4,2) =\", combinacao(4,2))\n",
    "    print(\"Combinacao(5,2) =\", combinacao(5,2))\n",
    "    print(\"Combinacao(10,4) =\", combinacao(10,4))\n",
    "\n",
    "\n",
    "# O número de combinações possíveis de m elementos em grupos de n elementos (n<=m) é dada pela fórmula de combinação m!/((m-n)!n!)!\n",
    "def combinacao(m, n):\n",
    "    '''\n",
    "    Recebe dois inteiros m e n, m>=n, e retorna o valor de m!/((m-n)! n!)\n",
    "    '''\n",
    "    combi = (fatorial(m))/(fatorial(m-n)*fatorial(n))\n",
    "\n",
    "    return combi\n",
    "\n",
    "\n",
    "if __name__ == '__main__': # chamada da funcao principal\n",
    "    main()"
   ]
  },
  {
   "cell_type": "markdown",
   "metadata": {},
   "source": [
    "## Importando datasets do kaggle\n",
    "\n",
    "[https://ravi-chan.medium.com/how-to-download-any-data-set-from-kaggle-7e2adc152d7f]\n",
    "\n",
    "Python possui o módulo `os` com métodos para interar como o sistema operacional, como  \n",
    "- criar arquivos e diretórios, \n",
    "- gerenciar arquivos e diretórios, \n",
    "- gerenciar entrada, saída, ambiente de variáveis, processos, etc.\n",
    "\n",
    "\n",
    "opendatasets é uma biblioteca Python para downloading de datasets da internete como Kaggle e Google Drive usando um simples comando Python.\n",
    "[https://pypi.org/project/opendatasets/]"
   ]
  },
  {
   "cell_type": "code",
   "execution_count": 6,
   "metadata": {},
   "outputs": [],
   "source": [
    "import pandas as pd\n",
    "import os\n",
    "import opendatasets as od"
   ]
  },
  {
   "cell_type": "code",
   "execution_count": 8,
   "metadata": {},
   "outputs": [
    {
     "name": "stdout",
     "output_type": "stream",
     "text": [
      "Please provide your Kaggle credentials to download this dataset. Learn more: http://bit.ly/kaggle-creds\n",
      "Your Kaggle username:Your Kaggle Key:Dataset URL: https://www.kaggle.com/datasets/steve1215rogg/student-lifestyle-dataset\n"
     ]
    },
    {
     "name": "stderr",
     "output_type": "stream",
     "text": [
      "100%|██████████| 21.6k/21.6k [00:00<00:00, 309kB/s]"
     ]
    },
    {
     "name": "stdout",
     "output_type": "stream",
     "text": [
      "Downloading student-lifestyle-dataset.zip to ./student-lifestyle-dataset\n",
      "\n"
     ]
    },
    {
     "name": "stderr",
     "output_type": "stream",
     "text": [
      "\n"
     ]
    }
   ],
   "source": [
    "# Assign the Kaggle data set URL into variable\n",
    "#dataset = 'https://www.kaggle.com/ryanholbrook/dl-course-data'\n",
    "dataset = 'https://www.kaggle.com/datasets/steve1215rogg/student-lifestyle-dataset'\n",
    "# Using opendatasets let's download the data sets\n",
    "od.download(dataset)"
   ]
  },
  {
   "cell_type": "code",
   "execution_count": null,
   "metadata": {},
   "outputs": [],
   "source": [
    "import numpy as np # linear algebra\n",
    "import pandas as pd # data processing, CSV file I/O (e.g. pd.read_csv)"
   ]
  },
  {
   "cell_type": "code",
   "execution_count": 10,
   "metadata": {},
   "outputs": [],
   "source": [
    "# Load the dataset from the file path\n",
    "data = pd.read_csv('student-lifestyle-dataset/student_lifestyle_dataset.csv')"
   ]
  },
  {
   "cell_type": "code",
   "execution_count": 11,
   "metadata": {},
   "outputs": [
    {
     "data": {
      "text/html": [
       "<div>\n",
       "<style scoped>\n",
       "    .dataframe tbody tr th:only-of-type {\n",
       "        vertical-align: middle;\n",
       "    }\n",
       "\n",
       "    .dataframe tbody tr th {\n",
       "        vertical-align: top;\n",
       "    }\n",
       "\n",
       "    .dataframe thead th {\n",
       "        text-align: right;\n",
       "    }\n",
       "</style>\n",
       "<table border=\"1\" class=\"dataframe\">\n",
       "  <thead>\n",
       "    <tr style=\"text-align: right;\">\n",
       "      <th></th>\n",
       "      <th>Student_ID</th>\n",
       "      <th>Study_Hours_Per_Day</th>\n",
       "      <th>Extracurricular_Hours_Per_Day</th>\n",
       "      <th>Sleep_Hours_Per_Day</th>\n",
       "      <th>Social_Hours_Per_Day</th>\n",
       "      <th>Physical_Activity_Hours_Per_Day</th>\n",
       "      <th>GPA</th>\n",
       "      <th>Stress_Level</th>\n",
       "    </tr>\n",
       "  </thead>\n",
       "  <tbody>\n",
       "    <tr>\n",
       "      <th>0</th>\n",
       "      <td>1</td>\n",
       "      <td>6.9</td>\n",
       "      <td>3.8</td>\n",
       "      <td>8.7</td>\n",
       "      <td>2.8</td>\n",
       "      <td>1.8</td>\n",
       "      <td>2.99</td>\n",
       "      <td>Moderate</td>\n",
       "    </tr>\n",
       "    <tr>\n",
       "      <th>1</th>\n",
       "      <td>2</td>\n",
       "      <td>5.3</td>\n",
       "      <td>3.5</td>\n",
       "      <td>8.0</td>\n",
       "      <td>4.2</td>\n",
       "      <td>3.0</td>\n",
       "      <td>2.75</td>\n",
       "      <td>Low</td>\n",
       "    </tr>\n",
       "    <tr>\n",
       "      <th>2</th>\n",
       "      <td>3</td>\n",
       "      <td>5.1</td>\n",
       "      <td>3.9</td>\n",
       "      <td>9.2</td>\n",
       "      <td>1.2</td>\n",
       "      <td>4.6</td>\n",
       "      <td>2.67</td>\n",
       "      <td>Low</td>\n",
       "    </tr>\n",
       "    <tr>\n",
       "      <th>3</th>\n",
       "      <td>4</td>\n",
       "      <td>6.5</td>\n",
       "      <td>2.1</td>\n",
       "      <td>7.2</td>\n",
       "      <td>1.7</td>\n",
       "      <td>6.5</td>\n",
       "      <td>2.88</td>\n",
       "      <td>Moderate</td>\n",
       "    </tr>\n",
       "    <tr>\n",
       "      <th>4</th>\n",
       "      <td>5</td>\n",
       "      <td>8.1</td>\n",
       "      <td>0.6</td>\n",
       "      <td>6.5</td>\n",
       "      <td>2.2</td>\n",
       "      <td>6.6</td>\n",
       "      <td>3.51</td>\n",
       "      <td>High</td>\n",
       "    </tr>\n",
       "  </tbody>\n",
       "</table>\n",
       "</div>"
      ],
      "text/plain": [
       "   Student_ID  Study_Hours_Per_Day  Extracurricular_Hours_Per_Day  \\\n",
       "0           1                  6.9                            3.8   \n",
       "1           2                  5.3                            3.5   \n",
       "2           3                  5.1                            3.9   \n",
       "3           4                  6.5                            2.1   \n",
       "4           5                  8.1                            0.6   \n",
       "\n",
       "   Sleep_Hours_Per_Day  Social_Hours_Per_Day  Physical_Activity_Hours_Per_Day  \\\n",
       "0                  8.7                   2.8                              1.8   \n",
       "1                  8.0                   4.2                              3.0   \n",
       "2                  9.2                   1.2                              4.6   \n",
       "3                  7.2                   1.7                              6.5   \n",
       "4                  6.5                   2.2                              6.6   \n",
       "\n",
       "    GPA Stress_Level  \n",
       "0  2.99     Moderate  \n",
       "1  2.75          Low  \n",
       "2  2.67          Low  \n",
       "3  2.88     Moderate  \n",
       "4  3.51         High  "
      ]
     },
     "execution_count": 11,
     "metadata": {},
     "output_type": "execute_result"
    }
   ],
   "source": [
    "# Display the first few rows to check the data\n",
    "data.head()"
   ]
  },
  {
   "cell_type": "code",
   "execution_count": 12,
   "metadata": {},
   "outputs": [
    {
     "name": "stdout",
     "output_type": "stream",
     "text": [
      "<class 'pandas.core.frame.DataFrame'>\n",
      "RangeIndex: 2000 entries, 0 to 1999\n",
      "Data columns (total 8 columns):\n",
      " #   Column                           Non-Null Count  Dtype  \n",
      "---  ------                           --------------  -----  \n",
      " 0   Student_ID                       2000 non-null   int64  \n",
      " 1   Study_Hours_Per_Day              2000 non-null   float64\n",
      " 2   Extracurricular_Hours_Per_Day    2000 non-null   float64\n",
      " 3   Sleep_Hours_Per_Day              2000 non-null   float64\n",
      " 4   Social_Hours_Per_Day             2000 non-null   float64\n",
      " 5   Physical_Activity_Hours_Per_Day  2000 non-null   float64\n",
      " 6   GPA                              2000 non-null   float64\n",
      " 7   Stress_Level                     2000 non-null   object \n",
      "dtypes: float64(6), int64(1), object(1)\n",
      "memory usage: 125.1+ KB\n",
      "None\n"
     ]
    }
   ],
   "source": [
    "# Get general information about the dataset\n",
    "print(data.info())"
   ]
  },
  {
   "cell_type": "code",
   "execution_count": 13,
   "metadata": {},
   "outputs": [
    {
     "name": "stdout",
     "output_type": "stream",
     "text": [
      "        Student_ID  Study_Hours_Per_Day  Extracurricular_Hours_Per_Day  \\\n",
      "count  2000.000000          2000.000000                    2000.000000   \n",
      "mean   1000.500000             7.475800                       1.990100   \n",
      "std     577.494589             1.423888                       1.155855   \n",
      "min       1.000000             5.000000                       0.000000   \n",
      "25%     500.750000             6.300000                       1.000000   \n",
      "50%    1000.500000             7.400000                       2.000000   \n",
      "75%    1500.250000             8.700000                       3.000000   \n",
      "max    2000.000000            10.000000                       4.000000   \n",
      "\n",
      "       Sleep_Hours_Per_Day  Social_Hours_Per_Day  \\\n",
      "count          2000.000000           2000.000000   \n",
      "mean              7.501250              2.704550   \n",
      "std               1.460949              1.688514   \n",
      "min               5.000000              0.000000   \n",
      "25%               6.200000              1.200000   \n",
      "50%               7.500000              2.600000   \n",
      "75%               8.800000              4.100000   \n",
      "max              10.000000              6.000000   \n",
      "\n",
      "       Physical_Activity_Hours_Per_Day          GPA  \n",
      "count                       2000.00000  2000.000000  \n",
      "mean                           4.32830     3.115960  \n",
      "std                            2.51411     0.298674  \n",
      "min                            0.00000     2.240000  \n",
      "25%                            2.40000     2.900000  \n",
      "50%                            4.10000     3.110000  \n",
      "75%                            6.10000     3.330000  \n",
      "max                           13.00000     4.000000  \n"
     ]
    }
   ],
   "source": [
    "# Get a statistical summary of the dataset\n",
    "print(data.describe())"
   ]
  },
  {
   "cell_type": "code",
   "execution_count": 14,
   "metadata": {},
   "outputs": [
    {
     "name": "stdout",
     "output_type": "stream",
     "text": [
      "Student_ID                         0\n",
      "Study_Hours_Per_Day                0\n",
      "Extracurricular_Hours_Per_Day      0\n",
      "Sleep_Hours_Per_Day                0\n",
      "Social_Hours_Per_Day               0\n",
      "Physical_Activity_Hours_Per_Day    0\n",
      "GPA                                0\n",
      "Stress_Level                       0\n",
      "dtype: int64\n"
     ]
    }
   ],
   "source": [
    "# Check for any missing values\n",
    "print(data.isnull().sum())"
   ]
  },
  {
   "cell_type": "code",
   "execution_count": 15,
   "metadata": {},
   "outputs": [
    {
     "name": "stdout",
     "output_type": "stream",
     "text": [
      "Index(['Student_ID', 'Study_Hours_Per_Day', 'Extracurricular_Hours_Per_Day',\n",
      "       'Sleep_Hours_Per_Day', 'Social_Hours_Per_Day',\n",
      "       'Physical_Activity_Hours_Per_Day', 'GPA', 'Stress_Level'],\n",
      "      dtype='object')\n"
     ]
    }
   ],
   "source": [
    "# Display the column names to see if there are any discrepancies\n",
    "print(data.columns)"
   ]
  },
  {
   "cell_type": "code",
   "execution_count": 16,
   "metadata": {},
   "outputs": [
    {
     "data": {
      "image/png": "[encoded data removed]",
      "text/plain": [
       "<Figure size 432x288 with 1 Axes>"
      ]
     },
     "metadata": {
      "needs_background": "light"
     },
     "output_type": "display_data"
    }
   ],
   "source": [
    "import matplotlib.pyplot as plt\n",
    "\n",
    "# Example: Study Hours vs GPA\n",
    "plt.scatter(data['Study_Hours_Per_Day'], data['GPA'], color='blue')\n",
    "plt.title('Study Hours vs GPA')\n",
    "plt.xlabel('Study Hours')\n",
    "plt.ylabel('GPA')\n",
    "plt.show()"
   ]
  },
  {
   "cell_type": "code",
   "execution_count": 30,
   "metadata": {},
   "outputs": [
    {
     "name": "stdout",
     "output_type": "stream",
     "text": [
      "Downloading from https://www.kaggle.com/api/v1/datasets/download/steve1215rogg/e-commerce-dataset?dataset_version_number=1...\n"
     ]
    },
    {
     "name": "stderr",
     "output_type": "stream",
     "text": [
      "100%|██████████| 89.8k/89.8k [00:00<00:00, 378kB/s]"
     ]
    },
    {
     "name": "stdout",
     "output_type": "stream",
     "text": [
      "Extracting files...\n",
      "Path to dataset files: /home/jossian/.cache/kagglehub/datasets/steve1215rogg/e-commerce-dataset/versions/1\n"
     ]
    },
    {
     "name": "stderr",
     "output_type": "stream",
     "text": [
      "\n"
     ]
    }
   ],
   "source": [
    "import kagglehub # instal with pip\n",
    "\n",
    "# Download latest version\n",
    "path = kagglehub.dataset_download(\"steve1215rogg/e-commerce-dataset\")\n",
    "\n",
    "print(\"Path to dataset files:\", path)"
   ]
  },
  {
   "cell_type": "code",
   "execution_count": 34,
   "metadata": {},
   "outputs": [],
   "source": [
    "data = pd.read_csv(f'{path}/ecommerce_dataset_updated.csv')"
   ]
  },
  {
   "cell_type": "code",
   "execution_count": 35,
   "metadata": {},
   "outputs": [
    {
     "name": "stdout",
     "output_type": "stream",
     "text": [
      "       User_ID  Product_ID        Category  Price (Rs.)  Discount (%)  \\\n",
      "0     337c166f  f414122f-e          Sports        36.53            15   \n",
      "1     d38a19bf  fde50f9c-5        Clothing       232.79            20   \n",
      "2     d7f5f0b0  0d96fc90-3          Sports       317.02            25   \n",
      "3     395d4994  964fc44b-d            Toys       173.19            25   \n",
      "4     a83c145c  d70e2fc6-e          Beauty       244.80            20   \n",
      "...        ...         ...             ...          ...           ...   \n",
      "3655  67abda0a  28714133-6          Beauty       486.79             0   \n",
      "3656  34ebc1a0  08838c2c-9            Toys       212.87            15   \n",
      "3657  1defd3b1  c39a4f16-6  Home & Kitchen       389.76             0   \n",
      "3658  0611293d  b4f67f96-9     Electronics       447.66            30   \n",
      "3659  e73ad07c  a5d07442-d  Home & Kitchen       235.77            30   \n",
      "\n",
      "      Final_Price(Rs.)    Payment_Method Purchase_Date  \n",
      "0                31.05       Net Banking    12-11-2024  \n",
      "1               186.23       Net Banking    09-02-2024  \n",
      "2               237.76       Credit Card    01-09-2024  \n",
      "3               129.89               UPI    01-04-2024  \n",
      "4               195.84       Net Banking    27-09-2024  \n",
      "...                ...               ...           ...  \n",
      "3655            486.79               UPI    14-05-2024  \n",
      "3656            180.94  Cash on Delivery    19-11-2024  \n",
      "3657            389.76       Net Banking    07-08-2024  \n",
      "3658            313.36               UPI    21-05-2024  \n",
      "3659            165.04               UPI    14-04-2024  \n",
      "\n",
      "[3660 rows x 8 columns]\n"
     ]
    }
   ],
   "source": [
    "print(data)"
   ]
  },
  {
   "cell_type": "markdown",
   "metadata": {},
   "source": []
  },
  {
   "cell_type": "markdown",
   "metadata": {},
   "source": [
    "## Função lambda do dataframe\n",
    "\n",
    "- O método **apply**\n",
    "- A função **lambda**\n",
    "\n",
    "Considere a tabela\n",
    "\n",
    "x  | y\n",
    "---| ---\n",
    "2  | 3\n",
    "-1 | 3\n",
    "5  | 2\n",
    "\n",
    "Suponha que se deseja criar uma nova coluna z que seja a coluna x adicionada a 1.\n",
    "\n",
    "Implemente um programa que faça isso usando **apply** e **lambda**."
   ]
  },
  {
   "cell_type": "code",
   "execution_count": 17,
   "metadata": {},
   "outputs": [
    {
     "data": {
      "text/html": [
       "<div>\n",
       "<style scoped>\n",
       "    .dataframe tbody tr th:only-of-type {\n",
       "        vertical-align: middle;\n",
       "    }\n",
       "\n",
       "    .dataframe tbody tr th {\n",
       "        vertical-align: top;\n",
       "    }\n",
       "\n",
       "    .dataframe thead th {\n",
       "        text-align: right;\n",
       "    }\n",
       "</style>\n",
       "<table border=\"1\" class=\"dataframe\">\n",
       "  <thead>\n",
       "    <tr style=\"text-align: right;\">\n",
       "      <th></th>\n",
       "      <th>x</th>\n",
       "      <th>y</th>\n",
       "    </tr>\n",
       "  </thead>\n",
       "  <tbody>\n",
       "    <tr>\n",
       "      <th>0</th>\n",
       "      <td>2</td>\n",
       "      <td>3</td>\n",
       "    </tr>\n",
       "    <tr>\n",
       "      <th>1</th>\n",
       "      <td>-1</td>\n",
       "      <td>3</td>\n",
       "    </tr>\n",
       "    <tr>\n",
       "      <th>2</th>\n",
       "      <td>5</td>\n",
       "      <td>2</td>\n",
       "    </tr>\n",
       "  </tbody>\n",
       "</table>\n",
       "</div>"
      ],
      "text/plain": [
       "   x  y\n",
       "0  2  3\n",
       "1 -1  3\n",
       "2  5  2"
      ]
     },
     "execution_count": 17,
     "metadata": {},
     "output_type": "execute_result"
    }
   ],
   "source": [
    "df = pd.DataFrame([[2,3],[-1,3],[5,2]], columns=['x','y'])\n",
    "df"
   ]
  },
  {
   "cell_type": "code",
   "execution_count": 18,
   "metadata": {},
   "outputs": [
    {
     "name": "stdout",
     "output_type": "stream",
     "text": [
      "   x  y  z\n",
      "0  2  3  3\n",
      "1 -1  3  0\n",
      "2  5  2  6\n"
     ]
    }
   ],
   "source": [
    "df['z'] = df['x'].apply(lambda x:x+1)\n",
    "print(df)"
   ]
  },
  {
   "cell_type": "markdown",
   "metadata": {},
   "source": [
    "Suponha que se queira criar uma modifica toda a tabela, aplicando a função lambda a todas as colunas."
   ]
  },
  {
   "cell_type": "code",
   "execution_count": 19,
   "metadata": {},
   "outputs": [
    {
     "name": "stdout",
     "output_type": "stream",
     "text": [
      "   x  y  z\n",
      "0  3  4  4\n",
      "1  0  4  1\n",
      "2  6  3  7\n"
     ]
    }
   ],
   "source": [
    "df = df.apply(lambda x:x+1)\n",
    "print(df)"
   ]
  },
  {
   "cell_type": "markdown",
   "metadata": {},
   "source": [
    "Considere a seguinte tabela\n",
    "\n",
    "x   | y\n",
    "----| ---\n",
    "20  | -3\n",
    "-10 | 23\n",
    "15  | 22\n",
    "\n",
    "Suponha que se queira normalizar os dados da tabela usando-se a normalização\n",
    "\n",
    "$$\n",
    "z = \\frac{x - média}{desvio-padrão}\n",
    "$$"
   ]
  },
  {
   "cell_type": "code",
   "execution_count": 20,
   "metadata": {},
   "outputs": [
    {
     "data": {
      "text/html": [
       "<div>\n",
       "<style scoped>\n",
       "    .dataframe tbody tr th:only-of-type {\n",
       "        vertical-align: middle;\n",
       "    }\n",
       "\n",
       "    .dataframe tbody tr th {\n",
       "        vertical-align: top;\n",
       "    }\n",
       "\n",
       "    .dataframe thead th {\n",
       "        text-align: right;\n",
       "    }\n",
       "</style>\n",
       "<table border=\"1\" class=\"dataframe\">\n",
       "  <thead>\n",
       "    <tr style=\"text-align: right;\">\n",
       "      <th></th>\n",
       "      <th>x</th>\n",
       "      <th>y</th>\n",
       "    </tr>\n",
       "  </thead>\n",
       "  <tbody>\n",
       "    <tr>\n",
       "      <th>0</th>\n",
       "      <td>20</td>\n",
       "      <td>-3</td>\n",
       "    </tr>\n",
       "    <tr>\n",
       "      <th>1</th>\n",
       "      <td>-10</td>\n",
       "      <td>23</td>\n",
       "    </tr>\n",
       "    <tr>\n",
       "      <th>2</th>\n",
       "      <td>15</td>\n",
       "      <td>22</td>\n",
       "    </tr>\n",
       "  </tbody>\n",
       "</table>\n",
       "</div>"
      ],
      "text/plain": [
       "    x   y\n",
       "0  20  -3\n",
       "1 -10  23\n",
       "2  15  22"
      ]
     },
     "execution_count": 20,
     "metadata": {},
     "output_type": "execute_result"
    }
   ],
   "source": [
    "df = pd.DataFrame([[20,-3],[-10,23],[15,22]], columns=['x','y'])\n",
    "df"
   ]
  },
  {
   "cell_type": "code",
   "execution_count": 25,
   "metadata": {},
   "outputs": [],
   "source": [
    "znormal = lambda x:(x-x.mean())/x.std()"
   ]
  },
  {
   "cell_type": "code",
   "execution_count": 26,
   "metadata": {},
   "outputs": [
    {
     "name": "stdout",
     "output_type": "stream",
     "text": [
      "<function <lambda> at 0x7fad24310310>\n"
     ]
    }
   ],
   "source": [
    "print(znormal)"
   ]
  },
  {
   "cell_type": "code",
   "execution_count": 27,
   "metadata": {},
   "outputs": [
    {
     "data": {
      "text/html": [
       "<div>\n",
       "<style scoped>\n",
       "    .dataframe tbody tr th:only-of-type {\n",
       "        vertical-align: middle;\n",
       "    }\n",
       "\n",
       "    .dataframe tbody tr th {\n",
       "        vertical-align: top;\n",
       "    }\n",
       "\n",
       "    .dataframe thead th {\n",
       "        text-align: right;\n",
       "    }\n",
       "</style>\n",
       "<table border=\"1\" class=\"dataframe\">\n",
       "  <thead>\n",
       "    <tr style=\"text-align: right;\">\n",
       "      <th></th>\n",
       "      <th>x</th>\n",
       "      <th>y</th>\n",
       "    </tr>\n",
       "  </thead>\n",
       "  <tbody>\n",
       "    <tr>\n",
       "      <th>0</th>\n",
       "      <td>0.725866</td>\n",
       "      <td>-1.154035</td>\n",
       "    </tr>\n",
       "    <tr>\n",
       "      <th>1</th>\n",
       "      <td>-1.140647</td>\n",
       "      <td>0.610960</td>\n",
       "    </tr>\n",
       "    <tr>\n",
       "      <th>2</th>\n",
       "      <td>0.414781</td>\n",
       "      <td>0.543075</td>\n",
       "    </tr>\n",
       "  </tbody>\n",
       "</table>\n",
       "</div>"
      ],
      "text/plain": [
       "          x         y\n",
       "0  0.725866 -1.154035\n",
       "1 -1.140647  0.610960\n",
       "2  0.414781  0.543075"
      ]
     },
     "execution_count": 27,
     "metadata": {},
     "output_type": "execute_result"
    }
   ],
   "source": [
    "df = df.apply(znormal)\n",
    "df"
   ]
  },
  {
   "cell_type": "code",
   "execution_count": null,
   "metadata": {},
   "outputs": [],
   "source": []
  }
 ],
 "metadata": {
  "kernelspec": {
   "display_name": "Python 3",
   "language": "python",
   "name": "python3"
  },
  "language_info": {
   "codemirror_mode": {
    "name": "ipython",
    "version": 3
   },
   "file_extension": ".py",
   "mimetype": "text/x-python",
   "name": "python",
   "nbconvert_exporter": "python",
   "pygments_lexer": "ipython3",
   "version": "3.10.12"
  }
 },
 "nbformat": 4,
 "nbformat_minor": 2
}
