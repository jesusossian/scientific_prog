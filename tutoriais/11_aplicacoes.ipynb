{
 "cells": [
  {
   "cell_type": "markdown",
   "metadata": {},
   "source": [
    "## `__main__` : Ambiente de código principal"
   ]
  },
  {
   "cell_type": "markdown",
   "metadata": {},
   "source": [
    "`__main__` é o nome do ambiente principal no qual o código é executado. \n",
    "\n",
    "**Ambiente de código principal** é o primeiro módulo Python definido pelo usuário que começa a ser executado. \n",
    "\n",
    "Esse ambiente é considerado principal porque ele importa todos os outros módulos que o programa precisa. \n",
    "\n",
    "Em Python, o código é executado sequencialmente de cima para baixo.\n",
    "Costuma se definir uma função main() para melhor organizar o código. \n",
    "\n",
    "Para que a função main() seja executada, você precisa chamá-la no final do seu script. \n",
    "Normalmente, isso é feito com a seguinte estrutura:"
   ]
  },
  {
   "cell_type": "code",
   "execution_count": null,
   "metadata": {},
   "outputs": [],
   "source": [
    "def carro():\n",
    "    print(\"executando carro\")\n",
    "\n",
    "def bike():\n",
    "    print(\"executando bike\")\n",
    "\n",
    "def moto():\n",
    "    print(\"executando moto\")"
   ]
  },
  {
   "cell_type": "code",
   "execution_count": null,
   "metadata": {},
   "outputs": [],
   "source": [
    "if __name__ == \"__main__\":\n",
    "    bike()\n",
    "    carro()\n",
    "    carro()\n",
    "    moto()\n",
    "    bike()"
   ]
  },
  {
   "cell_type": "code",
   "execution_count": null,
   "metadata": {},
   "outputs": [],
   "source": [
    "bike()\n",
    "carro()\n",
    "carro()\n",
    "moto()\n",
    "bike()"
   ]
  },
  {
   "cell_type": "code",
   "execution_count": null,
   "metadata": {},
   "outputs": [],
   "source": [
    "def fatorial(n):\n",
    "    if n==0 or n==1:\n",
    "        return 1\n",
    "    else:\n",
    "        fat = n * fatorial(n-1)\n",
    "    \n",
    "    return fat"
   ]
  },
  {
   "cell_type": "code",
   "execution_count": null,
   "metadata": {},
   "outputs": [],
   "source": [
    "def main():\n",
    "    ''' testes da função fatorial '''\n",
    "    print(\"0! =\", fatorial(0))\n",
    "    print(\"1! =\", fatorial(1))\n",
    "    print(\"5! =\", fatorial(5))\n",
    "    print(\"17! =\", fatorial(17))"
   ]
  },
  {
   "cell_type": "code",
   "execution_count": null,
   "metadata": {},
   "outputs": [],
   "source": [
    "if __name__ == '__main__': # chamada da funcao principal\n",
    "    main() # chamada da função main"
   ]
  },
  {
   "cell_type": "code",
   "execution_count": null,
   "metadata": {},
   "outputs": [],
   "source": [
    "# O número de combinações possíveis de m elementos em grupos de n elementos (n<=m) é dada pela fórmula de combinação m!/((m-n)!n!)!\n",
    "def combinacao(m, n):\n",
    "    combi = (fatorial(m))/(fatorial(m-n)*fatorial(n))\n",
    "\n",
    "    return combi\n"
   ]
  },
  {
   "cell_type": "code",
   "execution_count": null,
   "metadata": {},
   "outputs": [],
   "source": [
    "def main():\n",
    "    ''' Testes da função combincao '''\n",
    "    print(\"Combinacao(4,2) =\", combinacao(4,2))\n",
    "    print(\"Combinacao(5,2) =\", combinacao(5,2))\n",
    "    print(\"Combinacao(10,4) =\", combinacao(10,4))\n",
    "\n",
    "\n",
    "if __name__ == '__main__': # chamada da funcao principal\n",
    "    main()"
   ]
  },
  {
   "cell_type": "markdown",
   "metadata": {},
   "source": [
    "## Importando datasets do kaggle\n",
    "\n",
    "[https://ravi-chan.medium.com/how-to-download-any-data-set-from-kaggle-7e2adc152d7f]\n",
    "\n",
    "Python possui o módulo `os` com métodos para interar como o sistema operacional, como  \n",
    "- criar arquivos e diretórios, \n",
    "- gerenciar arquivos e diretórios, \n",
    "- gerenciar entrada, saída, ambiente de variáveis, processos, etc.\n",
    "\n",
    "\n",
    "opendatasets é uma biblioteca Python para downloading de datasets da internet como Kaggle e Google Drive usando um simples comando Python.\n",
    "[https://pypi.org/project/opendatasets/]"
   ]
  },
  {
   "cell_type": "code",
   "execution_count": null,
   "metadata": {},
   "outputs": [],
   "source": [
    "import os\n",
    "import opendatasets as od\n",
    "import numpy as np # linear algebra\n",
    "import pandas as pd # data processing, CSV file I/O (e.g. pd.read_csv)"
   ]
  },
  {
   "cell_type": "code",
   "execution_count": null,
   "metadata": {},
   "outputs": [],
   "source": [
    "# Assign the Kaggle data set URL into variable\n",
    "#dataset = 'https://www.kaggle.com/ryanholbrook/dl-course-data'\n",
    "dataset = 'https://www.kaggle.com/datasets/steve1215rogg/student-lifestyle-dataset'\n",
    "# Using opendatasets let's download the data sets\n",
    "od.download(dataset)"
   ]
  },
  {
   "cell_type": "code",
   "execution_count": null,
   "metadata": {},
   "outputs": [],
   "source": []
  },
  {
   "cell_type": "code",
   "execution_count": null,
   "metadata": {},
   "outputs": [],
   "source": [
    "# Load the dataset from the file path\n",
    "data = pd.read_csv('student-lifestyle-dataset/student_lifestyle_dataset.csv')"
   ]
  },
  {
   "cell_type": "code",
   "execution_count": null,
   "metadata": {},
   "outputs": [],
   "source": [
    "# Display the first few rows to check the data\n",
    "data.head()"
   ]
  },
  {
   "cell_type": "code",
   "execution_count": null,
   "metadata": {},
   "outputs": [],
   "source": [
    "# Get general information about the dataset\n",
    "print(data.info())"
   ]
  },
  {
   "cell_type": "code",
   "execution_count": null,
   "metadata": {},
   "outputs": [],
   "source": [
    "# Get a statistical summary of the dataset\n",
    "print(data.describe())"
   ]
  },
  {
   "cell_type": "code",
   "execution_count": null,
   "metadata": {},
   "outputs": [],
   "source": [
    "# Check for any missing values\n",
    "print(data.isnull().sum())"
   ]
  },
  {
   "cell_type": "code",
   "execution_count": null,
   "metadata": {},
   "outputs": [],
   "source": [
    "# Display the column names to see if there are any discrepancies\n",
    "print(data.columns)"
   ]
  },
  {
   "cell_type": "code",
   "execution_count": null,
   "metadata": {},
   "outputs": [],
   "source": [
    "import matplotlib.pyplot as plt\n",
    "\n",
    "# Example: Study Hours vs GPA\n",
    "plt.scatter(data['Study_Hours_Per_Day'], data['GPA'], color='blue')\n",
    "plt.title('Study Hours vs GPA')\n",
    "plt.xlabel('Study Hours')\n",
    "plt.ylabel('GPA')\n",
    "plt.show()"
   ]
  },
  {
   "cell_type": "code",
   "execution_count": null,
   "metadata": {},
   "outputs": [],
   "source": [
    "import kagglehub # instal with pip\n",
    "\n",
    "# Download latest version\n",
    "path = kagglehub.dataset_download(\"steve1215rogg/e-commerce-dataset\")\n",
    "\n",
    "print(\"Path to dataset files:\", path)"
   ]
  },
  {
   "cell_type": "code",
   "execution_count": null,
   "metadata": {},
   "outputs": [],
   "source": [
    "data = pd.read_csv(f'{path}/ecommerce_dataset_updated.csv')"
   ]
  },
  {
   "cell_type": "code",
   "execution_count": null,
   "metadata": {},
   "outputs": [],
   "source": [
    "data"
   ]
  },
  {
   "cell_type": "markdown",
   "metadata": {},
   "source": []
  },
  {
   "cell_type": "markdown",
   "metadata": {},
   "source": [
    "## Função lambda do dataframe\n",
    "\n",
    "- O método **apply**\n",
    "- A função **lambda**\n",
    "\n",
    "Considere a tabela\n",
    "\n",
    "x  | y\n",
    "---| ---\n",
    "2  | 3\n",
    "-1 | 3\n",
    "5  | 2\n",
    "\n",
    "Suponha que se deseja criar uma nova coluna z que seja a coluna x adicionada a 1.\n",
    "\n",
    "Implemente um programa que faça isso usando **apply** e **lambda**."
   ]
  },
  {
   "cell_type": "code",
   "execution_count": null,
   "metadata": {},
   "outputs": [],
   "source": [
    "df = pd.DataFrame([[2,3],[-1,3],[5,2]], columns=['x','y'])\n",
    "df"
   ]
  },
  {
   "cell_type": "code",
   "execution_count": null,
   "metadata": {},
   "outputs": [],
   "source": [
    "df['z'] = df['x'].apply(lambda x:x+1)\n",
    "df"
   ]
  },
  {
   "cell_type": "markdown",
   "metadata": {},
   "source": [
    "Suponha que se queira criar uma modifica toda a tabela, aplicando a função lambda a todas as colunas."
   ]
  },
  {
   "cell_type": "code",
   "execution_count": null,
   "metadata": {},
   "outputs": [],
   "source": [
    "df = df.apply(lambda x:x+1)\n",
    "df"
   ]
  },
  {
   "cell_type": "markdown",
   "metadata": {},
   "source": [
    "Considere a seguinte tabela\n",
    "\n",
    "x   | y\n",
    "----| ---\n",
    "20  | -3\n",
    "-10 | 23\n",
    "15  | 22\n",
    "\n",
    "Suponha que se queira normalizar os dados da tabela usando-se a normalização\n",
    "\n",
    "$$\n",
    "z = \\frac{x - média}{desvio \\ padrão}\n",
    "$$"
   ]
  },
  {
   "cell_type": "code",
   "execution_count": null,
   "metadata": {},
   "outputs": [],
   "source": [
    "df = pd.DataFrame([[20,-3],[-10,23],[15,22]], columns=['x','y'])\n",
    "df"
   ]
  },
  {
   "cell_type": "code",
   "execution_count": null,
   "metadata": {},
   "outputs": [],
   "source": [
    "znormal = lambda x:(x-x.mean())/x.std()\n",
    "type(znormal)"
   ]
  },
  {
   "cell_type": "code",
   "execution_count": null,
   "metadata": {},
   "outputs": [],
   "source": [
    "print(znormal)"
   ]
  },
  {
   "cell_type": "code",
   "execution_count": null,
   "metadata": {},
   "outputs": [],
   "source": [
    "df = df.apply(znormal)\n",
    "df"
   ]
  },
  {
   "cell_type": "code",
   "execution_count": null,
   "metadata": {},
   "outputs": [],
   "source": []
  }
 ],
 "metadata": {
  "kernelspec": {
   "display_name": "Python 3",
   "language": "python",
   "name": "python3"
  },
  "language_info": {
   "codemirror_mode": {
    "name": "ipython",
    "version": 3
   },
   "file_extension": ".py",
   "mimetype": "text/x-python",
   "name": "python",
   "nbconvert_exporter": "python",
   "pygments_lexer": "ipython3",
   "version": "3.10.12"
  }
 },
 "nbformat": 4,
 "nbformat_minor": 2
}
