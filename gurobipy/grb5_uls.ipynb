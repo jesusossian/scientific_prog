{
 "cells": [
  {
   "cell_type": "code",
   "execution_count": null,
   "metadata": {},
   "outputs": [],
   "source": [
    "import numpy as np\n",
    "import gurobipy as gp\n",
    "from gurobipy import GRB"
   ]
  },
  {
   "cell_type": "code",
   "execution_count": null,
   "metadata": {},
   "outputs": [],
   "source": [
    "def readdata(datafile):\n",
    "  \n",
    "    with open(datafile, 'r') as file: linhas = file.readlines()\n",
    "\n",
    "    # remove linha vazia inicial e elimina os \"\\n\" de cada linha\n",
    "    linhas = [a.strip() for a in linhas] \n",
    "\n",
    "    # lendo o tamanho da instancia\n",
    "    aux = 0\n",
    "    N = int(linhas[aux])\n",
    "  \n",
    "    # definindo vetores\n",
    "    H = np.zeros(N)\n",
    "    P = np.zeros(N)\n",
    "    F = np.zeros(N)\n",
    "    D = np.zeros(N)\n",
    "  \n",
    "    # lendo e armazenando dados\n",
    "    aux = aux+1\n",
    "    F[0] = float(linhas[aux])\n",
    "    for i in range(1,N):\n",
    "        F[i] = F[0]\n",
    "\n",
    "    aux = aux+1\n",
    "    H[0] = float(linhas[aux])\n",
    "    for i in range(1,N):\n",
    "        H[i] = H[0]\n",
    "\n",
    "    aux = aux+1\n",
    "    P[0] = float(linhas[aux])\n",
    "    for i in range(1,N):\n",
    "        P[i] = P[0]\n",
    "\n",
    "    aux = aux+1\n",
    "    D = np.fromstring(linhas[aux], dtype=float, sep = ' ')\n",
    " \n",
    "    return N, H, P, F, D"
   ]
  },
  {
   "cell_type": "code",
   "execution_count": null,
   "metadata": {},
   "outputs": [],
   "source": [
    "def modelo(N, H, P, F, D, model):\n",
    "\n",
    "    # adicionando variaveis\n",
    "    x = model.addVars(N, name='x') \n",
    "    s = model.addVars(N, name='s')  \n",
    "    y = model.addVars(N, vtype=GRB.BINARY, name='y') \n",
    "\n",
    "    # definindo funcao objetivo\n",
    "    obj = 0\n",
    "    for i in range(0, N):\n",
    "        obj += P[i] * x[i]\n",
    "        obj += H[i] * s[i]\n",
    "        obj += F[i] * y[i]\n",
    "\n",
    "    model.setObjective(obj, GRB.MINIMIZE)\n",
    "  \n",
    "    # definindo restrições\n",
    "    model.addConstr(x[0] - s[0] == D[0])\n",
    "    for i in range(1, N):\n",
    "        model.addConstr(s[i-1] + x[i] - s[i] == D[i])\n",
    "  \n",
    "    for i in range(0, N):\n",
    "        model.addConstr(x[i] - (D[i:N].sum())*y[i] <= 0)\n",
    "\n",
    "    model.addConstr(s[N-1] == 0)\n",
    "\n",
    "    # exportando modelo\n",
    "    model.write(\"uls.lp\")\n",
    "\n",
    "    return model"
   ]
  },
  {
   "cell_type": "code",
   "execution_count": null,
   "metadata": {},
   "outputs": [],
   "source": [
    "def solve(model):\n",
    "    # resolvendo o problema\n",
    "    model.optimize()"
   ]
  },
  {
   "cell_type": "code",
   "execution_count": null,
   "metadata": {},
   "outputs": [],
   "source": [
    "if __name__ == \"__main__\":\n",
    "    \n",
    "    datafile = \"../data/uls/52_2.txt\"\n",
    "\n",
    "    # lendo os dados\n",
    "    N, H, P, F, D = readdata(datafile)\n",
    "\n",
    "    # criando o modelo\n",
    "    model = gp.Model(\"uls\")\n",
    "\n",
    "    # configurando parametros\n",
    "    #model.Params.IterationLimit = 1000 # define o número de iterações do simplex\n",
    "    model.Params.TimeLimit = 120 # define tempo limite\n",
    "    model.Params.method = 0 #-1=automatic, 0=primal, 1=dual , 2=barrier\n",
    "    #model.Params.NodeMethod = -1 #-1=automatic, 0=primal, 1=dual , 2=barrier\n",
    "    model.Params.Threads = 1\n",
    "\n",
    "    # modelando o problema\n",
    "    modelo(N, H, P, F, D, model)\n",
    "\n",
    "    # resolvendo o problema\n",
    "    solve(model)\n",
    "    "
   ]
  },
  {
   "cell_type": "code",
   "execution_count": null,
   "metadata": {},
   "outputs": [],
   "source": [
    "# imprimindo solucao\n",
    "for var in model.getVars():\n",
    "    print(f\"{var.varName} = {var.x}\")"
   ]
  },
  {
   "cell_type": "code",
   "execution_count": null,
   "metadata": {},
   "outputs": [],
   "source": [
    "# imprimindo o valor otimo\n",
    "print(f\"objval = {model.objVal}\")"
   ]
  },
  {
   "cell_type": "code",
   "execution_count": null,
   "metadata": {},
   "outputs": [],
   "source": []
  },
  {
   "cell_type": "code",
   "execution_count": null,
   "metadata": {},
   "outputs": [],
   "source": []
  }
 ],
 "metadata": {
  "kernelspec": {
   "display_name": "Python 3",
   "language": "python",
   "name": "python3"
  },
  "language_info": {
   "codemirror_mode": {
    "name": "ipython",
    "version": 3
   },
   "file_extension": ".py",
   "mimetype": "text/x-python",
   "name": "python",
   "nbconvert_exporter": "python",
   "pygments_lexer": "ipython3",
   "version": "3.10.12"
  }
 },
 "nbformat": 4,
 "nbformat_minor": 2
}
