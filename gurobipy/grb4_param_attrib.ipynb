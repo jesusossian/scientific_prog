{
 "cells": [
  {
   "cell_type": "markdown",
   "id": "14d9e274",
   "metadata": {},
   "source": [
    "# MIPLIB\n",
    "\n",
    "https://miplib.zib.de/index.html\n",
    "\n",
    "\n",
    "# MPS format\n",
    "https://www.gurobi.com/documentation/10.0/refman/mps_format.html\n",
    "\n",
    "\n",
    "# Parameters\n",
    "\n",
    "https://www.gurobi.com/documentation/10.0/refman/parameters.html\n",
    "\n",
    "https://www.gurobi.com/documentation/10.0/refman/parameter_descriptions.html\n",
    "\n",
    "- IterationLimit\n",
    "- MIPGap\n",
    "- NodeLimit\n",
    "- NodeMethod\n",
    "- Method\n",
    "- Presolve\n",
    "- Threads\n",
    "- TimeLimit\n",
    "- Cuts\n",
    "\n",
    "\n",
    "# Attributes\n",
    "\n",
    "https://www.gurobi.com/documentation/10.0/refman/python_attribute_examples.html\n",
    "\n",
    "https://www.gurobi.com/documentation/10.0/refman/model_attributes.html\n",
    "\n",
    "https://www.gurobi.com/documentation/10.0/refman/attributes.html\n",
    "\n",
    "- ObjVal\n",
    "- ObjBound\n",
    "- Runtime\n",
    "- MIPGap\n",
    "- Status\n",
    "- NodeCount\n",
    "- IsMIP\n",
    "- IterCount"
   ]
  },
  {
   "cell_type": "code",
   "execution_count": null,
   "id": "38500090",
   "metadata": {},
   "outputs": [],
   "source": [
    "import gurobipy as gp\n",
    "from gurobipy import GRB"
   ]
  },
  {
   "cell_type": "code",
   "execution_count": null,
   "id": "d64d3f1b",
   "metadata": {},
   "outputs": [],
   "source": [
    "# Read model\n",
    "model = gp.read(f\"../data/mps/30n20b8.mps\")"
   ]
  },
  {
   "cell_type": "code",
   "execution_count": null,
   "id": "3c83828b",
   "metadata": {},
   "outputs": [],
   "source": [
    "print(model)"
   ]
  },
  {
   "cell_type": "code",
   "execution_count": null,
   "id": "235dfe66",
   "metadata": {},
   "outputs": [],
   "source": [
    "if model.isMIP == 1:\n",
    "    print(\"O modelo é um mip\")\n",
    "else:\n",
    "    print('modelo nao eh mip')"
   ]
  },
  {
   "cell_type": "code",
   "execution_count": null,
   "id": "a343e3f0",
   "metadata": {},
   "outputs": [],
   "source": [
    "# configurando parametros\n",
    "#model.Params.IterationLimit = 1000 # define o número de iterações do simplex\n",
    "model.Params.TimeLimit = 30 # define tempo limite\n",
    "model.Params.MIPGap = 0.001 # define valor do gap\n",
    "model.Params.method = 1\n",
    "model.Params.NodeMethod = 1 # -1=automatic,0=primal simplex,1=dual simplex,2=barrier\n",
    "model.Params.Threads = 1\n",
    "model.Params.Presolve = 0"
   ]
  },
  {
   "cell_type": "code",
   "execution_count": null,
   "id": "caee1880",
   "metadata": {},
   "outputs": [],
   "source": [
    "# resolvendo o problema\n",
    "model.optimize()"
   ]
  },
  {
   "cell_type": "code",
   "execution_count": null,
   "id": "cb73f7ab",
   "metadata": {},
   "outputs": [],
   "source": [
    "print(f\"Otimização finalizou com status {model.status}\")"
   ]
  },
  {
   "cell_type": "code",
   "execution_count": null,
   "id": "d6dc1e47",
   "metadata": {},
   "outputs": [],
   "source": [
    "# imprimindo solução\n",
    "if model.status == GRB.OPTIMAL:\n",
    "    print(f\"objval: {model.objVal}\")\n",
    "    for v in model.getVars():\n",
    "        print(f\"{v.varName}: {v.x}\")\n",
    "else:\n",
    "    print(f\"Otimização finalizou com status {model.status}\")"
   ]
  },
  {
   "cell_type": "code",
   "execution_count": null,
   "id": "7b4ab134",
   "metadata": {},
   "outputs": [],
   "source": [
    "print(f\"objval: {round(model.objVal,2)}\")\n",
    "print(f\"objbound: {round(model.objBound,2)}\")\n",
    "print(f\"runtime: {round(model.Runtime,2)}\")\n",
    "print(f\"mipgap: {round(model.MIPGap,2)}\")\n",
    "print(f\"itercount: {round(model.IterCount,2)}\")\n",
    "print(f\"nodecount: {round(model.NodeCount,2)}\")"
   ]
  }
 ],
 "metadata": {
  "kernelspec": {
   "display_name": "Python 3 (ipykernel)",
   "language": "python",
   "name": "python3"
  },
  "language_info": {
   "codemirror_mode": {
    "name": "ipython",
    "version": 3
   },
   "file_extension": ".py",
   "mimetype": "text/x-python",
   "name": "python",
   "nbconvert_exporter": "python",
   "pygments_lexer": "ipython3",
   "version": "3.10.12"
  }
 },
 "nbformat": 4,
 "nbformat_minor": 5
}
