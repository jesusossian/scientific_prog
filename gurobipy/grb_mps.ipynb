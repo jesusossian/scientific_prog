{
 "cells": [
  {
   "cell_type": "markdown",
   "id": "14d9e274",
   "metadata": {},
   "source": [
    "# MIPLIB\n",
    "\n",
    "https://miplib.zib.de/index.html\n",
    "\n",
    "\n",
    "# MPS format\n",
    "https://www.gurobi.com/documentation/10.0/refman/mps_format.html\n",
    "\n",
    "\n",
    "# Parameters\n",
    "\n",
    "https://www.gurobi.com/documentation/10.0/refman/parameters.html\n",
    "\n",
    "https://www.gurobi.com/documentation/10.0/refman/parameter_descriptions.html\n",
    "\n",
    "- IterationLimit\n",
    "- MIPGap\n",
    "- NodeLimit\n",
    "- NodeMethod\n",
    "- Method\n",
    "- Presolve\n",
    "- Threads\n",
    "- TimeLimit\n",
    "- Cuts\n",
    "\n",
    "\n",
    "# Attributes\n",
    "\n",
    "https://www.gurobi.com/documentation/10.0/refman/python_attribute_examples.html\n",
    "\n",
    "https://www.gurobi.com/documentation/10.0/refman/model_attributes.html\n",
    "\n",
    "https://www.gurobi.com/documentation/10.0/refman/attributes.html\n",
    "\n",
    "- ObjVal\n",
    "- ObjBound\n",
    "- Runtime\n",
    "- MIPGap\n",
    "- Status\n",
    "- NodeCount\n",
    "- IsMIP\n",
    "- IterCount"
   ]
  },
  {
   "cell_type": "code",
   "execution_count": 8,
   "id": "38500090",
   "metadata": {},
   "outputs": [],
   "source": [
    "import sys\n",
    "import gurobipy as gp\n",
    "from gurobipy import GRB"
   ]
  },
  {
   "cell_type": "code",
   "execution_count": 15,
   "id": "d64d3f1b",
   "metadata": {},
   "outputs": [
    {
     "name": "stdout",
     "output_type": "stream",
     "text": [
      "Read MPS format model from file ../data/mps/data1.mps\n",
      "Reading time = 0.00 seconds\n",
      "EXAMPLE: 5 rows, 10 columns, 16 nonzeros\n"
     ]
    }
   ],
   "source": [
    "# Read model\n",
    "model = gp.read(f\"../data/mps/data1.mps\")"
   ]
  },
  {
   "cell_type": "code",
   "execution_count": 16,
   "id": "3c83828b",
   "metadata": {},
   "outputs": [
    {
     "name": "stdout",
     "output_type": "stream",
     "text": [
      "<gurobi.Model Continuous instance EXAMPLE: 5 constrs, 10 vars, Parameter changes: Username=(user-defined)>\n"
     ]
    }
   ],
   "source": [
    "print(model)"
   ]
  },
  {
   "cell_type": "code",
   "execution_count": 18,
   "id": "235dfe66",
   "metadata": {},
   "outputs": [
    {
     "name": "stdout",
     "output_type": "stream",
     "text": [
      "modelo nao eh mip\n"
     ]
    }
   ],
   "source": [
    "if model.isMIP == 1:\n",
    "    print('O modelo é um mip')\n",
    "else:\n",
    "    print('modelo nao eh mip')"
   ]
  },
  {
   "cell_type": "code",
   "execution_count": 19,
   "id": "a343e3f0",
   "metadata": {},
   "outputs": [
    {
     "name": "stdout",
     "output_type": "stream",
     "text": [
      "Set parameter TimeLimit to value 30\n",
      "Set parameter Method to value 1\n",
      "Set parameter Threads to value 1\n"
     ]
    }
   ],
   "source": [
    "# configurando parametros\n",
    "#model.Params.IterationLimit = 1000 # define o número de iterações do simplex\n",
    "model.Params.TimeLimit = 30 # define tempo limite\n",
    "model.Params.method = 1\n",
    "#model.Params.NodeMethod = 1 #  -1=automatic, 0=primal simplex, \n",
    "#1=dual simplex, and 2=barrier\n",
    "model.Params.Threads = 1"
   ]
  },
  {
   "cell_type": "code",
   "execution_count": 20,
   "id": "caee1880",
   "metadata": {},
   "outputs": [
    {
     "name": "stdout",
     "output_type": "stream",
     "text": [
      "Gurobi Optimizer version 10.0.0 build v10.0.0rc2 (linux64)\n",
      "\n",
      "CPU model: Intel(R) Core(TM) i5-1035G1 CPU @ 1.00GHz, instruction set [SSE2|AVX|AVX2|AVX512]\n",
      "Thread count: 4 physical cores, 8 logical processors, using up to 1 threads\n",
      "\n",
      "Optimize a model with 5 rows, 10 columns and 16 nonzeros\n",
      "Model fingerprint: 0x0a8abdb9\n",
      "Coefficient statistics:\n",
      "  Matrix range     [1e+00, 6e+00]\n",
      "  Objective range  [1e+00, 2e+00]\n",
      "  Bounds range     [5e-01, 1e+01]\n",
      "  RHS range        [2e+00, 2e+01]\n",
      "Presolve removed 5 rows and 10 columns\n",
      "Presolve time: 0.00s\n",
      "Presolve: All rows and columns removed\n",
      "Iteration    Objective       Primal Inf.    Dual Inf.      Time\n",
      "       0    3.2368421e+00   0.000000e+00   0.000000e+00      0s\n",
      "\n",
      "Solved in 0 iterations and 0.01 seconds (0.00 work units)\n",
      "Optimal objective  3.236842105e+00\n"
     ]
    }
   ],
   "source": [
    "# resolvendo o problema\n",
    "model.optimize()"
   ]
  },
  {
   "cell_type": "code",
   "execution_count": 21,
   "id": "cb73f7ab",
   "metadata": {},
   "outputs": [
    {
     "name": "stdout",
     "output_type": "stream",
     "text": [
      "Otimização finalizou com status 2\n"
     ]
    }
   ],
   "source": [
    "print(f\"Otimização finalizou com status {model.status}\")"
   ]
  },
  {
   "cell_type": "code",
   "execution_count": 22,
   "id": "d6dc1e47",
   "metadata": {},
   "outputs": [
    {
     "name": "stdout",
     "output_type": "stream",
     "text": [
      "Valor ótimo: 3.236842105263158\n",
      "COL01 = 2.5\n",
      "COL02 = 1.05\n",
      "COL03 = 0.0\n",
      "COL04 = 0.6428571428571429\n",
      "COL05 = 0.5\n",
      "COL06 = 4.0\n",
      "COL07 = 0.0\n",
      "COL08 = 0.2631578947368421\n",
      "MPS_RgROW04 = 0.0\n",
      "MPS_RgROW05 = 0.0\n"
     ]
    }
   ],
   "source": [
    "# imprimindo solução\n",
    "if model.status == GRB.OPTIMAL:\n",
    "    print(f\"Valor ótimo: {model.objVal}\")\n",
    "    for v in model.getVars():\n",
    "        print(f\"{v.varName} = {v.x}\")\n",
    "else:\n",
    "    print(f\"Otimização finalizou com status {model.status}\")"
   ]
  },
  {
   "cell_type": "code",
   "execution_count": 22,
   "id": "7b4ab134",
   "metadata": {},
   "outputs": [
    {
     "name": "stdout",
     "output_type": "stream",
     "text": [
      "solução viável: 3.24\n",
      "tempo: 0.01\n"
     ]
    }
   ],
   "source": [
    "print(f\"solução viável: {round(model.objVal,2)}\")\n",
    "#print(f\"bound: {round(model.objBound,2)}\")\n",
    "print(f\"tempo: {round(model.Runtime,2)}\")\n",
    "#print(f\"gap: {round(model.MIPGap,2)}\")\n",
    "#print(f\"iterações: {round(model.IterCount,2)}\")\n",
    "#print(f\"Número de vértices: {round(model.NodeCount,2)}\")"
   ]
  },
  {
   "cell_type": "code",
   "execution_count": null,
   "id": "611d7f16",
   "metadata": {},
   "outputs": [],
   "source": []
  }
 ],
 "metadata": {
  "kernelspec": {
   "display_name": "Python 3 (ipykernel)",
   "language": "python",
   "name": "python3"
  },
  "language_info": {
   "codemirror_mode": {
    "name": "ipython",
    "version": 3
   },
   "file_extension": ".py",
   "mimetype": "text/x-python",
   "name": "python",
   "nbconvert_exporter": "python",
   "pygments_lexer": "ipython3",
   "version": "3.10.12"
  }
 },
 "nbformat": 4,
 "nbformat_minor": 5
}
