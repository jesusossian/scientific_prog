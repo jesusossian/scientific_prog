{
 "cells": [
  {
   "cell_type": "markdown",
   "metadata": {},
   "source": [
    "# Resource Assignment Problem"
   ]
  },
  {
   "cell_type": "markdown",
   "metadata": {},
   "source": [
    "### Problem statement\n",
    "\n",
    "Consider three job positions: Tester, Java-Developer, and Architect.\n",
    "\n",
    "Consider three resources: Carlos, Joe, and Monika.\n",
    "\n",
    "Determine an assignment that ensures that each job is fulfilled and each resource is assigned to at most one job in order to maximize the total matching scores of the assignments."
   ]
  },
  {
   "cell_type": "markdown",
   "metadata": {},
   "source": [
    "### Data\n",
    "\n",
    "The ability to perform each of the jobs by each of the resources is illustrated by the following matching scores table:\n",
    "\n",
    "![Resource Allocation Problem Data Image](figs/rap_data.png)\n",
    "\n",
    "\n",
    "**Assumption**: Only one resource can be assigned to a job, and at most one job can be assigned to a resource."
   ]
  },
  {
   "cell_type": "markdown",
   "metadata": {},
   "source": [
    "### Decision variables\n",
    "\n",
    "The decision variable $x_{r,j} = 1$ represents that resource $r$ is assigned to job $j$, and 0 otherwise, for  $r=1,2,3$ and $j=1,2,3$."
   ]
  },
  {
   "cell_type": "markdown",
   "metadata": {},
   "source": [
    "### Constraints: jobs and resources\n",
    "\n",
    "**Jobs constraints**\n",
    "\n",
    "For each job $j=1,2,3$, exactly one resource from $r=1,2,3$ must be assigned.\n",
    "\n",
    "Constraint (Tester=1): $x_{1,1} + x_{2,1} + x_{3,1} = 1$\n",
    "\n",
    "Constraint (Java-Developer=2): $x_{1,2} + x_{2,2} + x_{3,2} = 1$\n",
    "\n",
    "Constraint (Architect=3): $x_{1,3} + x_{2,3} + x_{3,3} = 1$\n",
    "\n",
    "**Resources constraints**\n",
    "\n",
    "For each resource = $r=1,2,3$, at most one job from $r=1,2,3$ can be assigned.\n",
    "\n",
    "Constraint (Carlos=1): $x_{1,1} + x_{1,2} + x_{1,3}  \\leq 1$\n",
    "\n",
    "Constraint (Joe=2): $x_{2,1} + x_{2,2} + x_{2,3}  \\leq 1$\n",
    "\n",
    "Constraint (Monika=3): $x_{2,1} + x_{2,2} + x_{2,3}  \\leq 1$"
   ]
  },
  {
   "cell_type": "markdown",
   "metadata": {},
   "source": [
    "### Objective function\n",
    "\n",
    "The objective function is to maximize the total matching score of the assignments while satisfying the jobs and resources constraints.\n",
    "\n",
    "$$\n",
    "\\max \\; \n",
    "(53x_{1,1} + 80x_{2,1} + 53x_{3,1}) \n",
    "+ (27x_{1,2} + 47x_{2,2} + 73x_{3,2})\n",
    "+ (13x_{1,3} + 67x_{2,3} + 47x_{3,3})\n",
    "$$"
   ]
  },
  {
   "cell_type": "markdown",
   "metadata": {},
   "source": [
    "### Importing the Gurobi functions and classes"
   ]
  },
  {
   "cell_type": "code",
   "execution_count": null,
   "metadata": {},
   "outputs": [],
   "source": [
    "# import gurobi library\n",
    "import gurobipy as gp\n",
    "from gurobipy import GRB"
   ]
  },
  {
   "cell_type": "markdown",
   "metadata": {},
   "source": [
    "### Data\n",
    "\n",
    "The list R contains the names of the three resources: Carlos, Joe, and Monika. \n",
    "\n",
    "The list J contains the names of the job positions: tester, java-developer, and architect"
   ]
  },
  {
   "cell_type": "code",
   "execution_count": null,
   "metadata": {},
   "outputs": [],
   "source": [
    "# resources and jobs sets\n",
    "R = ['Carlos', 'Joe', 'Monika']\n",
    "J = ['Tester', 'JavaDeveloper', 'Architect']"
   ]
  },
  {
   "cell_type": "markdown",
   "metadata": {},
   "source": [
    "$r \\in R$ index and set of resources.\n",
    "\n",
    "$j \\in J$ index and set of Jobs."
   ]
  },
  {
   "cell_type": "markdown",
   "metadata": {},
   "source": [
    "The following “multidict” function describes the matching score associated with each possible combination of a resource and job"
   ]
  },
  {
   "cell_type": "code",
   "execution_count": null,
   "metadata": {},
   "outputs": [],
   "source": [
    "# matching score data\n",
    "combinations, ms = gp.multidict({\n",
    "    ('Carlos', 'Tester'): 53,\n",
    "    ('Carlos', 'JavaDeveloper'): 27,\n",
    "    ('Carlos', 'Architect'): 13,\n",
    "    ('Joe', 'Tester'): 80,\n",
    "    ('Joe', 'JavaDeveloper'): 47,\n",
    "    ('Joe', 'Architect'): 67,\n",
    "    ('Monika', 'Tester'): 53,\n",
    "    ('Monika', 'JavaDeveloper'): 73,\n",
    "    ('Monika', 'Architect'): 47\n",
    "})"
   ]
  },
  {
   "cell_type": "markdown",
   "metadata": {},
   "source": [
    "### Creating the model\n",
    "\n",
    "The following function generates an empty model object “model” and takes the string “RAP” model name as its argument."
   ]
  },
  {
   "cell_type": "code",
   "execution_count": null,
   "metadata": {},
   "outputs": [],
   "source": [
    "# Declare and initialize model\n",
    "model = gp.Model(\"rap\")"
   ]
  },
  {
   "cell_type": "markdown",
   "metadata": {},
   "source": [
    "### Adding variables to the model\n",
    "\n",
    "The decision variable $x_{r,j} = 1$ represents that resource $r$ is assigned to job $j$, and 0 otherwise, for $r \\in R$ and $j \\in J $.\n",
    "\n",
    "The “addVars()” method defines the decision variables of the model object “model”.  "
   ]
  },
  {
   "cell_type": "code",
   "execution_count": null,
   "metadata": {},
   "outputs": [],
   "source": [
    "# Create decision variables for the RAP model\n",
    "x = model.addVars(combinations, vtype=GRB.BINARY, name=\"x\")"
   ]
  },
  {
   "cell_type": "markdown",
   "metadata": {},
   "source": [
    "### Adding constraints to the model: job and resource\n",
    "\n",
    "**Job constraints**\n",
    "\n",
    "For each job $j=1,2,3$, exactly one resource from $r=1,2,3$ must be assigned.\n",
    "\n",
    "Constraint (Tester=1): $x_{1,1} + x_{2,1} + x_{3,1} = 1$\n",
    "\n",
    "Constraint (Java-Developer=2): $x_{1,2} + x_{2,2} + x_{3,2} = 1$\n",
    "\n",
    "Constraint (Architect=3): $x_{1,3} + x_{2,3} + x_{3,3} = 1$\n",
    "\n",
    "The “addConstrs()” method defines the constraints of the model object “model”. \n"
   ]
  },
  {
   "cell_type": "code",
   "execution_count": null,
   "metadata": {},
   "outputs": [],
   "source": [
    "# create jobs  constraints\n",
    "job = model.addConstrs((x.sum('*',j) == 1 for j in J), 'job')"
   ]
  },
  {
   "cell_type": "markdown",
   "metadata": {},
   "source": [
    "$$\n",
    "\\sum_{r \\: \\in \\: R} x_{r,j} = 1 \\; \\; \\; \\forall \\; j \\in J\n",
    "$$"
   ]
  },
  {
   "cell_type": "markdown",
   "metadata": {},
   "source": [
    "**Resource constraints**\n",
    "\n",
    "For each resource $r=1,2,3$, at most one job from $r=1,2,3$ can be assigned.\n",
    "\n",
    "Constraint (Carlos=1): $x_{1,1} + x_{1,2} + x_{1,3}  \\leq 1$\n",
    "\n",
    "Constraint (Joe=2): $x_{2,1} + x_{2,2} + x_{2,3}  \\leq 1$\n",
    "\n",
    "Constraint (Monika=3): $x_{3,1} + x_{3,2} + x_{3,3}  \\leq 1$\n",
    "\n",
    "The “addConstrs()” method defines the constraints of the model object “model”. "
   ]
  },
  {
   "cell_type": "code",
   "execution_count": null,
   "metadata": {},
   "outputs": [],
   "source": [
    "# create resources constraints\n",
    "resource = model.addConstrs((x.sum(r,'*') <= 1 for r in R), 'resource')"
   ]
  },
  {
   "cell_type": "markdown",
   "metadata": {},
   "source": [
    "$$\n",
    "\\sum_{j \\: \\in \\: J} x_{r,j} \\leq 1 \\; \\; \\; \\forall \\; r \\in R\n",
    "$$"
   ]
  },
  {
   "cell_type": "markdown",
   "metadata": {},
   "source": [
    "### Setting the objective function\n",
    "\n",
    "The objective function is to maximize the total matching score of the assignments.\n",
    "\n",
    "$$\n",
    "\\max \\; (53x_{1,1} + 80x_{2,1} + 53x_{3,1})\n",
    " + (27x_{1,2} + 47x_{2,2} + 73x_{3,2})\n",
    " + (13x_{1,3} + 67x_{2,3} + 47x_{3,3})\n",
    "$$\n",
    "\n",
    "The “setObjective()” method defines the objective function of the model object “model”. "
   ]
  },
  {
   "cell_type": "code",
   "execution_count": null,
   "metadata": {},
   "outputs": [],
   "source": [
    "# The objective is to maximize total matching score of the assignments\n",
    "model.setObjective(x.prod(ms), GRB.MAXIMIZE)"
   ]
  },
  {
   "cell_type": "markdown",
   "metadata": {},
   "source": [
    "Notice that \n",
    "$$\n",
    "(53x_{1,1} + 80x_{2,1} + 53x_{3,1}) = \\sum_{r \\; \\in \\; R} ms_{r,1}x_{r,1} \\\\\n",
    "(27x_{1,2} + 47x_{2,2} + 73x_{3,2}) = \\sum_{r \\; \\in \\; R} ms_{r,2}x_{r,2} \\\\\n",
    "(13x_{1,3} + 67x_{2,3} + 47x_{3,3})  = \\sum_{r \\; \\in \\; R} ms_{r,3}x_{r,3}\n",
    "$$\n",
    "\n",
    "Hence, the objective function can be expressed as follows\n",
    "\n",
    "$$\n",
    "\\max \\; \\sum_{j \\; \\in \\; J} \\sum_{r \\; \\in \\; R} ms_{r,j}x_{r,j}\n",
    "$$"
   ]
  },
  {
   "cell_type": "markdown",
   "metadata": {},
   "source": [
    "### Save model (.lp or .mps)"
   ]
  },
  {
   "cell_type": "code",
   "execution_count": null,
   "metadata": {},
   "outputs": [],
   "source": [
    "# save model for inspection\n",
    "model.write(\"rap.lp\")\n",
    "model.write(\"rap.mps\")"
   ]
  },
  {
   "cell_type": "markdown",
   "metadata": {},
   "source": [
    "### Optimizing the model"
   ]
  },
  {
   "cell_type": "code",
   "execution_count": null,
   "metadata": {
    "scrolled": true
   },
   "outputs": [],
   "source": [
    "# run optimization engine\n",
    "model.optimize()"
   ]
  },
  {
   "cell_type": "markdown",
   "metadata": {},
   "source": [
    "### Reporting the results"
   ]
  },
  {
   "cell_type": "code",
   "execution_count": null,
   "metadata": {},
   "outputs": [],
   "source": [
    "def print_solution(model):\n",
    "    for var in model.getVars():\n",
    "        if abs(var.x) > 1e-6:\n",
    "            print(f\"{var.varName} = {var.x}\")\n",
    "\n",
    "    print(f\"Total matching score: {model.objVal}\")\n",
    "    print(f\"Runtime: {model.Runtime}\")\n",
    "    return None\n",
    "\n"
   ]
  },
  {
   "cell_type": "code",
   "execution_count": null,
   "metadata": {},
   "outputs": [],
   "source": [
    "# display optimal values of decision variables\n",
    "print_solution(model)   "
   ]
  },
  {
   "cell_type": "markdown",
   "metadata": {},
   "source": [
    "## Refererences:\n",
    "\n",
    "https://pypi.org/project/gurobipy/\n",
    "\n",
    "https://support.gurobi.com/hc/en-us/categories/360000840931-Getting-Started-with-Gurobi\n",
    "\n",
    "https://support.gurobi.com/hc/en-us/articles/360044290292-How-do-I-install-Gurobi-for-Python-\n",
    "\n",
    "https://support.gurobi.com/hc/en-us/articles/17278438215313-Tutorial-Getting-Started-with-the-Gurobi-Python-API\n"
   ]
  }
 ],
 "metadata": {
  "kernelspec": {
   "display_name": "Python 3",
   "language": "python",
   "name": "python3"
  },
  "language_info": {
   "codemirror_mode": {
    "name": "ipython",
    "version": 3
   },
   "file_extension": ".py",
   "mimetype": "text/x-python",
   "name": "python",
   "nbconvert_exporter": "python",
   "pygments_lexer": "ipython3",
   "version": "3.10.12"
  }
 },
 "nbformat": 4,
 "nbformat_minor": 2
}
